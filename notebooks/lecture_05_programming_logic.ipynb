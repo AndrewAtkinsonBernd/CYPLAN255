{
 "cells": [
  {
   "cell_type": "markdown",
   "id": "c37a8f5c",
   "metadata": {
    "toc": true
   },
   "source": [
    "<h1>Table of Contents<span class=\"tocSkip\"></span></h1>\n",
    "<div class=\"toc\"><ul class=\"toc-item\"><li><ul class=\"toc-item\"><li><span><a href=\"#Urban-Informatics-and-Visualization\" data-toc-modified-id=\"Urban-Informatics-and-Visualization-0.1\">Urban Informatics and Visualization</a></span></li></ul></li><li><span><a href=\"#Flow-Control-in-Python\" data-toc-modified-id=\"Flow-Control-in-Python-1\">Flow Control in Python</a></span></li><li><span><a href=\"#Agenda\" data-toc-modified-id=\"Agenda-2\">Agenda</a></span></li><li><span><a href=\"#Booleans\" data-toc-modified-id=\"Booleans-3\">Booleans</a></span></li><li><span><a href=\"#Boolean-arithmetic\" data-toc-modified-id=\"Boolean-arithmetic-4\">Boolean arithmetic</a></span></li><li><span><a href=\"#Logical-Operators\" data-toc-modified-id=\"Logical-Operators-5\">Logical Operators</a></span><ul class=\"toc-item\"><li><span><a href=\"#Question\" data-toc-modified-id=\"Question-5.1\">Question</a></span><ul class=\"toc-item\"><li><span><a href=\"#What-is-happening-here?\" data-toc-modified-id=\"What-is-happening-here?-5.1.1\">What is happening here?</a></span></li></ul></li><li><span><a href=\"#A-few-more-operators-you'll-find-in-Boolean-expressions:\" data-toc-modified-id=\"A-few-more-operators-you'll-find-in-Boolean-expressions:-5.2\">A few more operators you'll find in Boolean expressions:</a></span></li><li><span><a href=\"#is-vs.-==\" data-toc-modified-id=\"is-vs.-==-5.3\"><code>is</code> vs. <code>==</code></a></span></li><li><span><a href=\"#The-in-operator\" data-toc-modified-id=\"The-in-operator-5.4\">The <code>in</code> operator</a></span></li></ul></li><li><span><a href=\"#Conditionals\" data-toc-modified-id=\"Conditionals-6\">Conditionals</a></span><ul class=\"toc-item\"><li><span><a href=\"#Controlling-the-flow-of-program-execution\" data-toc-modified-id=\"Controlling-the-flow-of-program-execution-6.1\">Controlling the flow of program execution</a></span></li><li><span><a href=\"#The-if-statement\" data-toc-modified-id=\"The-if-statement-6.2\">The <code>if</code> statement</a></span><ul class=\"toc-item\"><li><span><a href=\"#Some-examples\" data-toc-modified-id=\"Some-examples-6.2.1\">Some examples</a></span></li><li><span><a href=\"#A-more-complicated-example\" data-toc-modified-id=\"A-more-complicated-example-6.2.2\">A more complicated example</a></span></li></ul></li><li><span><a href=\"#The-if-else-statement\" data-toc-modified-id=\"The-if-else-statement-6.3\">The <code>if else</code> statement</a></span><ul class=\"toc-item\"><li><span><a href=\"#An-example\" data-toc-modified-id=\"An-example-6.3.1\">An example</a></span></li></ul></li><li><span><a href=\"#Chained-conditionals\" data-toc-modified-id=\"Chained-conditionals-6.4\">Chained conditionals</a></span></li><li><span><a href=\"#Example\" data-toc-modified-id=\"Example-6.5\">Example</a></span></li></ul></li><li><span><a href=\"#Your-Turn\" data-toc-modified-id=\"Your-Turn-7\">Your Turn</a></span></li><li><span><a href=\"#Iteration\" data-toc-modified-id=\"Iteration-8\">Iteration</a></span><ul class=\"toc-item\"><li><span><a href=\"#The-for-loop\" data-toc-modified-id=\"The-for-loop-8.1\">The <code>for</code> loop</a></span><ul class=\"toc-item\"><li><span><a href=\"#An-example\" data-toc-modified-id=\"An-example-8.1.1\">An example</a></span></li><li><span><a href=\"#More-examples\" data-toc-modified-id=\"More-examples-8.1.2\">More examples</a></span></li></ul></li><li><span><a href=\"#The-while-loop\" data-toc-modified-id=\"The-while-loop-8.2\">The <code>while</code> loop</a></span><ul class=\"toc-item\"><li><span><a href=\"#An-example\" data-toc-modified-id=\"An-example-8.2.1\">An example</a></span></li><li><span><a href=\"#Beware-of-infite-loops\" data-toc-modified-id=\"Beware-of-infite-loops-8.2.2\">Beware of infite loops</a></span></li><li><span><a href=\"#More-uses-of-while-loops:\" data-toc-modified-id=\"More-uses-of-while-loops:-8.2.3\">More uses of <code>while</code> loops:</a></span></li></ul></li><li><span><a href=\"#More-Ways-to-Use-Loops\" data-toc-modified-id=\"More-Ways-to-Use-Loops-8.3\">More Ways to Use Loops</a></span><ul class=\"toc-item\"><li><span><a href=\"#Loop-through-items-in-an-dict:\" data-toc-modified-id=\"Loop-through-items-in-an-dict:-8.3.1\">Loop through items in an <code>dict</code>:</a></span></li><li><span><a href=\"#Or-two-lists-at-once!\" data-toc-modified-id=\"Or-two-lists-at-once!-8.3.2\">Or two lists at once!</a></span></li><li><span><a href=\"#Enumeration\" data-toc-modified-id=\"Enumeration-8.3.3\">Enumeration</a></span></li></ul></li><li><span><a href=\"#The-break-statement\" data-toc-modified-id=\"The-break-statement-8.4\">The <code>break</code> statement</a></span></li><li><span><a href=\"#The-continue-statement\" data-toc-modified-id=\"The-continue-statement-8.5\">The <code>continue</code> statement</a></span></li><li><span><a href=\"#The-range()-function\" data-toc-modified-id=\"The-range()-function-8.6\">The <code>range()</code> function</a></span></li><li><span><a href=\"#List-Comprehension\" data-toc-modified-id=\"List-Comprehension-8.7\">List Comprehension</a></span></li></ul></li></ul></div>"
   ]
  },
  {
   "cell_type": "markdown",
   "id": "d307746f",
   "metadata": {
    "slideshow": {
     "slide_type": "slide"
    }
   },
   "source": [
    "# CYPLAN255\n",
    "### Urban Informatics and Visualization"
   ]
  },
  {
   "cell_type": "markdown",
   "id": "203d63df",
   "metadata": {
    "slideshow": {
     "slide_type": "slide"
    }
   },
   "source": [
    "HIT RECORD and TRANSCRIBE"
   ]
  },
  {
   "cell_type": "markdown",
   "id": "d8297602",
   "metadata": {
    "slideshow": {
     "slide_type": "slide"
    }
   },
   "source": [
    "# Lecture 05 -- Programming Logic\n",
    "## Flow Control in Python\n",
    "*******\n",
    "February 7, 2022"
   ]
  },
  {
   "cell_type": "markdown",
   "id": "73c1a82f",
   "metadata": {
    "slideshow": {
     "slide_type": "slide"
    }
   },
   "source": [
    "## Agenda\n",
    "1. Announcements\n",
    "2. Programming Logic - Notebook \"demo\"\n",
    "3. For next time\n",
    "4. Questions\n"
   ]
  },
  {
   "cell_type": "markdown",
   "id": "97eabd08",
   "metadata": {
    "slideshow": {
     "slide_type": "slide"
    }
   },
   "source": [
    "# 1. Announcements"
   ]
  },
  {
   "cell_type": "markdown",
   "id": "e4ba946c",
   "metadata": {
    "slideshow": {
     "slide_type": "fragment"
    }
   },
   "source": [
    "1. Updated GitHub cheat sheet\n",
    "2. Assignment 1: Extra credit or extra time?\n",
    "3. Office hours melee begins today at 3pm in 410b Bauer Wurster"
   ]
  },
  {
   "cell_type": "markdown",
   "id": "6361c9dc",
   "metadata": {
    "slideshow": {
     "slide_type": "slide"
    }
   },
   "source": [
    "# 2. Programming Logic"
   ]
  },
  {
   "cell_type": "markdown",
   "id": "31e7e4d2",
   "metadata": {
    "slideshow": {
     "slide_type": "slide"
    }
   },
   "source": [
    "# Programming Logic and Flow Control  in Python\n",
    "\n",
    "So far we have learned about Python data types and some of the methods available to operate on them.  We managed to do a bit of functional programming to reorganize the contents of a string to change it into a different string. But real programming requires more tools.  This session will focus on the following tools:\n",
    "\n",
    "* **Booleans** - test whether a condition is met or not\n",
    "* **Conditionals** - do something based on whether a condition is met or not\n",
    "* **Iterables** - automate\n",
    "\n",
    "With these tools, we can begin to do some real programming."
   ]
  },
  {
   "cell_type": "markdown",
   "id": "332bd675",
   "metadata": {
    "slideshow": {
     "slide_type": "slide"
    }
   },
   "source": [
    "## Booleans"
   ]
  },
  {
   "cell_type": "markdown",
   "id": "db33348a",
   "metadata": {
    "slideshow": {
     "slide_type": "fragment"
    }
   },
   "source": [
    "Python has four \"atomic\" built-in data types (things like lists and dictionaries are not atomic because they are comprised of other Python objects of various types). We've already seen three: `int`, `float`, and `str`. The 4th is `bool`, short for boolean.\n",
    "\n",
    "`bool` objects in Python can only have one of two values: `True` or `False`. These might look like strings, but they are not:"
   ]
  },
  {
   "cell_type": "code",
   "execution_count": null,
   "id": "5cc019b6",
   "metadata": {
    "slideshow": {
     "slide_type": "fragment"
    }
   },
   "outputs": [],
   "source": [
    "type(True)"
   ]
  },
  {
   "cell_type": "code",
   "execution_count": null,
   "id": "e2fa8f8b",
   "metadata": {
    "slideshow": {
     "slide_type": "fragment"
    }
   },
   "outputs": [],
   "source": [
    "type(\"True\")"
   ]
  },
  {
   "cell_type": "markdown",
   "id": "4db6f37f",
   "metadata": {
    "slideshow": {
     "slide_type": "slide"
    }
   },
   "source": [
    "A Boolean **expression** is one that when evaluated returns a `bool`, either `True` or `False`. You can think of it as making an assertion, and having Python tell you if you are right or not in making that assertion. A fact checker, in a sense. \n",
    "\n",
    "It does not pass moral judgments. It will only tell you if your assertion is correct or incorrect. Programming logic is very literal, and Boolean tests are either True or False. No room for ambiguity or grey areas when working with Booleans.    "
   ]
  },
  {
   "cell_type": "markdown",
   "id": "08584975",
   "metadata": {
    "slideshow": {
     "slide_type": "slide"
    }
   },
   "source": [
    "We often use (in)equality operators to construct Boolean expressions. The `==` operator is an assertion that what is on the left of the operator it is equivalent to what is on its right.  The `>=` operator is greater than or equal to, and `!=` asserts that two objects are not the same. \n",
    "\n",
    "Don't be confused by the similarity of these two operators `=` and `==`: one is an assignment of a value to a variable, and the other is a comparison operator.  \n",
    "\n",
    "Booleans are a pre-requisite for writing a program that can follow conditional logic. All tests of conditional logic are based on a Boolean expression.  Some examples:"
   ]
  },
  {
   "cell_type": "markdown",
   "id": "e531e2dc",
   "metadata": {
    "slideshow": {
     "slide_type": "slide"
    }
   },
   "source": [
    "Use `==` to evaluate whether two expression are equivalent"
   ]
  },
  {
   "cell_type": "code",
   "execution_count": null,
   "id": "c46a3461",
   "metadata": {
    "slideshow": {
     "slide_type": "fragment"
    }
   },
   "outputs": [],
   "source": [
    "2 + 2 == 4"
   ]
  },
  {
   "cell_type": "markdown",
   "id": "6428dc4c",
   "metadata": {
    "slideshow": {
     "slide_type": "fragment"
    }
   },
   "source": [
    "Or evaluate whether two _variables_ are equivalent"
   ]
  },
  {
   "cell_type": "code",
   "execution_count": null,
   "id": "a7769531",
   "metadata": {
    "slideshow": {
     "slide_type": "fragment"
    }
   },
   "outputs": [],
   "source": [
    "a = 11\n",
    "b = 1\n",
    "a == b"
   ]
  },
  {
   "cell_type": "markdown",
   "id": "e2fd6632",
   "metadata": {
    "slideshow": {
     "slide_type": "slide"
    }
   },
   "source": [
    "You can also evaluate inequalities"
   ]
  },
  {
   "cell_type": "code",
   "execution_count": null,
   "id": "3c685f87",
   "metadata": {
    "slideshow": {
     "slide_type": "fragment"
    }
   },
   "outputs": [],
   "source": [
    "a > 11"
   ]
  },
  {
   "cell_type": "code",
   "execution_count": null,
   "id": "414b60cb",
   "metadata": {
    "slideshow": {
     "slide_type": "fragment"
    }
   },
   "outputs": [],
   "source": [
    "a >= 11"
   ]
  },
  {
   "cell_type": "code",
   "execution_count": null,
   "id": "6941a871",
   "metadata": {
    "slideshow": {
     "slide_type": "fragment"
    }
   },
   "outputs": [],
   "source": [
    "a != b"
   ]
  },
  {
   "cell_type": "markdown",
   "id": "39f3bf44",
   "metadata": {
    "slideshow": {
     "slide_type": "slide"
    }
   },
   "source": [
    "## Boolean arithmetic"
   ]
  },
  {
   "cell_type": "markdown",
   "id": "f278d87e",
   "metadata": {
    "slideshow": {
     "slide_type": "slide"
    }
   },
   "source": [
    "Remember, even though you can read them like strings, Booleans are not string objects. In practice they behave a lot more like integers than strings. In Python, like many (most? all?) programming languages, Booleans also have the following integer representations: "
   ]
  },
  {
   "cell_type": "code",
   "execution_count": null,
   "id": "2cc33344",
   "metadata": {
    "slideshow": {
     "slide_type": "fragment"
    }
   },
   "outputs": [],
   "source": [
    "True == 1"
   ]
  },
  {
   "cell_type": "code",
   "execution_count": null,
   "id": "8f172d03",
   "metadata": {
    "slideshow": {
     "slide_type": "fragment"
    }
   },
   "outputs": [],
   "source": [
    "False == 0"
   ]
  },
  {
   "cell_type": "markdown",
   "id": "13d7ba04",
   "metadata": {
    "slideshow": {
     "slide_type": "slide"
    }
   },
   "source": [
    "This means you can use `bool` type objects to perform arithmetic operations"
   ]
  },
  {
   "cell_type": "code",
   "execution_count": null,
   "id": "81162820",
   "metadata": {
    "slideshow": {
     "slide_type": "fragment"
    }
   },
   "outputs": [],
   "source": [
    "True * 5"
   ]
  },
  {
   "cell_type": "code",
   "execution_count": null,
   "id": "6437115d",
   "metadata": {
    "slideshow": {
     "slide_type": "fragment"
    }
   },
   "outputs": [],
   "source": [
    "False * 5"
   ]
  },
  {
   "cell_type": "code",
   "execution_count": null,
   "id": "fcd01c11",
   "metadata": {
    "slideshow": {
     "slide_type": "fragment"
    }
   },
   "outputs": [],
   "source": [
    "True * False"
   ]
  },
  {
   "cell_type": "code",
   "execution_count": null,
   "id": "8b5d5b97",
   "metadata": {
    "slideshow": {
     "slide_type": "fragment"
    }
   },
   "outputs": [],
   "source": [
    "False * False"
   ]
  },
  {
   "cell_type": "markdown",
   "id": "5596fee7",
   "metadata": {
    "slideshow": {
     "slide_type": "slide"
    }
   },
   "source": [
    "## Logical Operators"
   ]
  },
  {
   "cell_type": "markdown",
   "id": "9618dd32",
   "metadata": {
    "slideshow": {
     "slide_type": "fragment"
    }
   },
   "source": [
    "Python also has built-in **logical operators** that are very useful when combined with Booleans. These include:\n",
    "- `and`\n",
    "- `or`\n",
    "- `not`"
   ]
  },
  {
   "cell_type": "markdown",
   "id": "271b9ce5",
   "metadata": {
    "slideshow": {
     "slide_type": "slide"
    }
   },
   "source": [
    "The `and` and `or` operators allow you to combine multiple Boolean expressions"
   ]
  },
  {
   "cell_type": "code",
   "execution_count": null,
   "id": "09319084",
   "metadata": {
    "slideshow": {
     "slide_type": "fragment"
    }
   },
   "outputs": [],
   "source": [
    "c = 5\n",
    "(c > 2) and (c < 5)"
   ]
  },
  {
   "cell_type": "code",
   "execution_count": null,
   "id": "f4f932d2",
   "metadata": {
    "slideshow": {
     "slide_type": "fragment"
    }
   },
   "outputs": [],
   "source": [
    "(c > 2) or (c < 5)"
   ]
  },
  {
   "cell_type": "markdown",
   "id": "fa1413dc",
   "metadata": {
    "slideshow": {
     "slide_type": "slide"
    }
   },
   "source": [
    "The `not` operator acts to invert the value of a Boolean such that `True` becomes `False` and vice versa"
   ]
  },
  {
   "cell_type": "code",
   "execution_count": null,
   "id": "63008916",
   "metadata": {
    "slideshow": {
     "slide_type": "fragment"
    }
   },
   "outputs": [],
   "source": [
    "c == 5"
   ]
  },
  {
   "cell_type": "code",
   "execution_count": null,
   "id": "d890318e",
   "metadata": {
    "slideshow": {
     "slide_type": "fragment"
    }
   },
   "outputs": [],
   "source": [
    "not (c == 5)"
   ]
  },
  {
   "cell_type": "markdown",
   "id": "0a5027ea",
   "metadata": {
    "slideshow": {
     "slide_type": "slide"
    }
   },
   "source": [
    "### Question\n",
    "#### What is happening here?"
   ]
  },
  {
   "cell_type": "code",
   "execution_count": null,
   "id": "e9d93575",
   "metadata": {
    "slideshow": {
     "slide_type": "fragment"
    }
   },
   "outputs": [],
   "source": [
    "2 and 3"
   ]
  },
  {
   "cell_type": "markdown",
   "id": "b4b110b2",
   "metadata": {
    "slideshow": {
     "slide_type": "slide"
    }
   },
   "source": [
    "### A few more operators you'll find in Boolean expressions:\n",
    "- `is`\n",
    "- `in`"
   ]
  },
  {
   "cell_type": "markdown",
   "id": "304cb4fe",
   "metadata": {
    "slideshow": {
     "slide_type": "slide"
    }
   },
   "source": [
    "### `is` vs. `==`"
   ]
  },
  {
   "cell_type": "code",
   "execution_count": null,
   "id": "dec984cd",
   "metadata": {
    "slideshow": {
     "slide_type": "fragment"
    }
   },
   "outputs": [],
   "source": [
    "a = [1, 2, 3]"
   ]
  },
  {
   "cell_type": "code",
   "execution_count": null,
   "id": "7f23257d",
   "metadata": {
    "slideshow": {
     "slide_type": "fragment"
    }
   },
   "outputs": [],
   "source": [
    "b = a"
   ]
  },
  {
   "cell_type": "code",
   "execution_count": null,
   "id": "60339c51",
   "metadata": {
    "slideshow": {
     "slide_type": "fragment"
    }
   },
   "outputs": [],
   "source": [
    "a == b"
   ]
  },
  {
   "cell_type": "code",
   "execution_count": null,
   "id": "1b457fc0",
   "metadata": {
    "slideshow": {
     "slide_type": "fragment"
    }
   },
   "outputs": [],
   "source": [
    "a is b"
   ]
  },
  {
   "cell_type": "code",
   "execution_count": null,
   "id": "2fe82a5d",
   "metadata": {
    "slideshow": {
     "slide_type": "fragment"
    }
   },
   "outputs": [],
   "source": [
    "b = a.copy()"
   ]
  },
  {
   "cell_type": "code",
   "execution_count": null,
   "id": "d73c238c",
   "metadata": {
    "slideshow": {
     "slide_type": "fragment"
    }
   },
   "outputs": [],
   "source": [
    "a is b"
   ]
  },
  {
   "cell_type": "code",
   "execution_count": null,
   "id": "fc3dd004",
   "metadata": {
    "slideshow": {
     "slide_type": "fragment"
    }
   },
   "outputs": [],
   "source": [
    "a == b"
   ]
  },
  {
   "cell_type": "markdown",
   "id": "cf8e8f4d",
   "metadata": {
    "slideshow": {
     "slide_type": "slide"
    }
   },
   "source": [
    "### The `in` operator"
   ]
  },
  {
   "cell_type": "markdown",
   "id": "9f6eeef4",
   "metadata": {
    "slideshow": {
     "slide_type": "fragment"
    }
   },
   "source": [
    "The `in` operator works with a variety of Python types, lists and strings"
   ]
  },
  {
   "cell_type": "code",
   "execution_count": null,
   "id": "018f8c9e",
   "metadata": {
    "slideshow": {
     "slide_type": "fragment"
    }
   },
   "outputs": [],
   "source": [
    "1 in a"
   ]
  },
  {
   "cell_type": "code",
   "execution_count": null,
   "id": "18185ad3",
   "metadata": {
    "scrolled": true,
    "slideshow": {
     "slide_type": "fragment"
    }
   },
   "outputs": [],
   "source": [
    "word = 'This'\n",
    "sentence = 'This is CP255'\n",
    "word in sentence"
   ]
  },
  {
   "cell_type": "markdown",
   "id": "3e8d72b9",
   "metadata": {
    "slideshow": {
     "slide_type": "slide"
    }
   },
   "source": [
    "## Conditionals\n",
    "### Controlling the flow of program execution"
   ]
  },
  {
   "cell_type": "markdown",
   "id": "f1235d85",
   "metadata": {
    "slideshow": {
     "slide_type": "fragment"
    }
   },
   "source": [
    "Now that we know that we can construct Boolean tests for a wide variety of situations, let's explore how they can help us in constructing conditional execution.  We often need to have program code that 'branches', based on specific conditions. If one condition exists, do some specific things.  If a different condition exists, do some other specific things.  Let's look at how this works.\n",
    "\n",
    "Some of the figures and examples below are drawn from this excellent resource:\n",
    "http://www.openbookproject.net/books/bpp4awd/index.html#"
   ]
  },
  {
   "cell_type": "markdown",
   "id": "d7537701",
   "metadata": {
    "slideshow": {
     "slide_type": "slide"
    }
   },
   "source": [
    "### The `if` statement\n",
    "The **if** statement is a conditional statement with the following form:"
   ]
  },
  {
   "cell_type": "markdown",
   "id": "9f5caced",
   "metadata": {
    "slideshow": {
     "slide_type": "fragment"
    }
   },
   "source": [
    "```\n",
    "if <BOOL>:\n",
    "    <DO STUFF>\n",
    "```"
   ]
  },
  {
   "cell_type": "markdown",
   "id": "36e2fe25",
   "metadata": {
    "slideshow": {
     "slide_type": "fragment"
    }
   },
   "source": [
    "<center><img src='https://www.openbookproject.net/books/bpp4awd/_images/flowchart_if_only.png'></center>"
   ]
  },
  {
   "cell_type": "markdown",
   "id": "333f1267",
   "metadata": {
    "slideshow": {
     "slide_type": "slide"
    }
   },
   "source": [
    "An `if` statement must always terminate with a colon (`:`), followed by an indented chunk of code below it. Many Python interpreters (like IPython) will automatically indent the next line for you when you type an `if` clause followed by a colon and hit `<return>`. But take care that you ALWAYS USE FOUR (4) SPACES FOR INDENTATION IN PYTHON. \n",
    "\n",
    "The indented chunk of code contains statements that will be evaluated if and only if the Boolean expression above it evaluates to `True`. These statements can be any valid Python statements. They might compute some values, print some output, or evaluate more conditional clauses!"
   ]
  },
  {
   "cell_type": "markdown",
   "id": "535f5d5b",
   "metadata": {
    "slideshow": {
     "slide_type": "slide"
    }
   },
   "source": [
    "#### Some examples\n",
    "An `if` statement is used to execute the indented code only if some condition is met:"
   ]
  },
  {
   "cell_type": "code",
   "execution_count": null,
   "id": "d633e8ca",
   "metadata": {
    "slideshow": {
     "slide_type": "fragment"
    }
   },
   "outputs": [],
   "source": [
    "x = 8\n",
    "if x < 10:\n",
    "    print(str(x) + ' is less than 10')"
   ]
  },
  {
   "cell_type": "markdown",
   "id": "ab99637e",
   "metadata": {
    "slideshow": {
     "slide_type": "fragment"
    }
   },
   "source": [
    "What happens if you change the value of `x` to 11 in the code above? Not much. The code does not have anything to do if the evaluation of the Boolean expression in the If statement returns a value of False.  We need more logic to handle different input values that may meet different conditions."
   ]
  },
  {
   "cell_type": "markdown",
   "id": "cd859f84",
   "metadata": {
    "slideshow": {
     "slide_type": "slide"
    }
   },
   "source": [
    "#### A more complicated example\n",
    "It is good practice to group Boolean expressions with parentheses to ensure the proper order of operations is followed"
   ]
  },
  {
   "cell_type": "code",
   "execution_count": null,
   "id": "11315d15",
   "metadata": {
    "scrolled": true,
    "slideshow": {
     "slide_type": "fragment"
    }
   },
   "outputs": [],
   "source": [
    "x = 3.5\n",
    "if (x >= 3) and (x <= 6):\n",
    "    print(x, 'is between 3 and 6')"
   ]
  },
  {
   "cell_type": "markdown",
   "id": "ad45d61f",
   "metadata": {
    "slideshow": {
     "slide_type": "fragment"
    }
   },
   "source": [
    "By the way, notice that you can print variables and strings together in a print statement..."
   ]
  },
  {
   "cell_type": "markdown",
   "id": "f09cf483",
   "metadata": {
    "slideshow": {
     "slide_type": "slide"
    }
   },
   "source": [
    "### The `if else` statement\n",
    "\n",
    "It is frequently the case that you want one thing to happen when a condition it true, and something else to happen when it is false. For that we have the `if else` statement.  Its syntax is:"
   ]
  },
  {
   "cell_type": "markdown",
   "id": "a81e8e44",
   "metadata": {
    "slideshow": {
     "slide_type": "fragment"
    }
   },
   "source": [
    "```\n",
    "if <BOOL>:\n",
    "    <DO THING>\n",
    "else:\n",
    "    <DO OTHER THING>\n",
    "```"
   ]
  },
  {
   "cell_type": "markdown",
   "id": "ec2bb5d2",
   "metadata": {
    "slideshow": {
     "slide_type": "fragment"
    }
   },
   "source": [
    "<center><img src='https://www.openbookproject.net/books/bpp4awd/_images/flowchart_if_else.png'></center>"
   ]
  },
  {
   "cell_type": "markdown",
   "id": "6c7859ee",
   "metadata": {
    "slideshow": {
     "slide_type": "slide"
    }
   },
   "source": [
    "#### An example"
   ]
  },
  {
   "cell_type": "code",
   "execution_count": null,
   "id": "64b145ef",
   "metadata": {
    "slideshow": {
     "slide_type": "fragment"
    }
   },
   "outputs": [],
   "source": [
    "x = 10\n",
    "if x < 10:\n",
    "    print('x is less than 10')\n",
    "else:\n",
    "    print('x is greater than or equal to 10')"
   ]
  },
  {
   "cell_type": "markdown",
   "id": "303d8046",
   "metadata": {
    "slideshow": {
     "slide_type": "slide"
    }
   },
   "source": [
    "### Chained conditionals\n",
    "\n",
    "Sometimes there are more than two possibilities and we need more than two branches. One way to express a computation like that is a chained conditional, which adds `elif`/`else if` to our syntax:"
   ]
  },
  {
   "cell_type": "markdown",
   "id": "d13c3183",
   "metadata": {
    "slideshow": {
     "slide_type": "fragment"
    }
   },
   "source": [
    "```\n",
    "if <BOOL>:\n",
    "    <DO FIRST THING>\n",
    "elif <OTHER BOOL>:\n",
    "    <DO SECOND THING>\n",
    "else:\n",
    "    <DO THIRD THING>\n",
    "```"
   ]
  },
  {
   "cell_type": "markdown",
   "id": "fee491d3",
   "metadata": {
    "slideshow": {
     "slide_type": "fragment"
    }
   },
   "source": [
    "<center><img src='https://www.openbookproject.net/books/bpp4awd/_images/flowchart_nested_conditional.png'></center>"
   ]
  },
  {
   "cell_type": "markdown",
   "id": "f55eb69b",
   "metadata": {
    "slideshow": {
     "slide_type": "slide"
    }
   },
   "source": [
    "### Example\n",
    "If the first if statement evaluates to false, you can add other Boolean tests using `elif` (short for `else if`).\n",
    "`elif` executes a code block if its condition is true. `else` catches everything else."
   ]
  },
  {
   "cell_type": "code",
   "execution_count": null,
   "id": "05368571",
   "metadata": {
    "slideshow": {
     "slide_type": "fragment"
    }
   },
   "outputs": [],
   "source": [
    "x = 11\n",
    "if x < 10:\n",
    "    print('x is less than 10')\n",
    "elif x == 10:\n",
    "    print('x equals 10')\n",
    "else:\n",
    "    print('x is greater than 10')"
   ]
  },
  {
   "cell_type": "markdown",
   "id": "102b235d",
   "metadata": {
    "slideshow": {
     "slide_type": "fragment"
    }
   },
   "source": [
    "Notice that once a condition is met, the program executes that block of statements indented below it and then exits the if statement block completely."
   ]
  },
  {
   "cell_type": "markdown",
   "id": "4cb713b2",
   "metadata": {
    "slideshow": {
     "slide_type": "slide"
    }
   },
   "source": [
    "## Your Turn\n",
    "\n",
    "Try out some experiments to make sure you are getting comfortable with the syntax for conditional statements.  Try for example, constructing the following tests in code blocks below:\n",
    "\n",
    "* Test whether a City name is in a list of city names (just type a few into a list)\n",
    "* Test first whether a variable value is less than 1000, and if so, whether it is above 500.  If not, whether it is above 250.  Print a message indicating what range the variable falls in.  Test it with several values of the variable to make sure it works correctly."
   ]
  },
  {
   "cell_type": "markdown",
   "id": "16880a29",
   "metadata": {
    "slideshow": {
     "slide_type": "slide"
    }
   },
   "source": [
    "## Iteration\n",
    "\n",
    "One of the most powerful tools in programming is its capacity to automate repetitive tasks.  Much of this comes from functionality to apply operations iteratively.  We review here some of the ways to use this functionality in Python.\n",
    "\n",
    "A very useful thing to know is that many of the data types we have looked at are **iterable**.  That means that Python already knows how to iterate over its elements.  "
   ]
  },
  {
   "cell_type": "markdown",
   "id": "a1c1c8cb",
   "metadata": {
    "slideshow": {
     "slide_type": "slide"
    }
   },
   "source": [
    "### The `for` loop"
   ]
  },
  {
   "cell_type": "markdown",
   "id": "3fe4bd1f",
   "metadata": {
    "slideshow": {
     "slide_type": "fragment"
    }
   },
   "source": [
    "The `for` loop is used to iterate over the elements of a sequence. It looks like this:\n"
   ]
  },
  {
   "cell_type": "markdown",
   "id": "69228643",
   "metadata": {
    "slideshow": {
     "slide_type": "fragment"
    }
   },
   "source": [
    "```\n",
    "for <item> in <sequence>:\n",
    "    <DO STUFF>\n",
    "```"
   ]
  },
  {
   "cell_type": "markdown",
   "id": "c8ed1f8e",
   "metadata": {
    "slideshow": {
     "slide_type": "slide"
    }
   },
   "source": [
    "#### An example"
   ]
  },
  {
   "cell_type": "code",
   "execution_count": null,
   "id": "8c88ca0f",
   "metadata": {
    "slideshow": {
     "slide_type": "fragment"
    }
   },
   "outputs": [],
   "source": [
    "sentence = 'This is CP255'\n",
    "for character in sentence:\n",
    "    print(character)"
   ]
  },
  {
   "cell_type": "markdown",
   "id": "c3bca0d4",
   "metadata": {
    "slideshow": {
     "slide_type": "fragment"
    }
   },
   "source": [
    "The word 'character' in the code above is an arbitrary variable name. It could be anything we want to call it.  It is just a reference we can use to connect to later, within the scope of the iteration, like a print statement in the example above -- we just have to refer to it by the same name.  Its value will change as we iterate through the iterable sequence."
   ]
  },
  {
   "cell_type": "markdown",
   "id": "41485797",
   "metadata": {
    "slideshow": {
     "slide_type": "slide"
    }
   },
   "source": [
    "#### More examples"
   ]
  },
  {
   "cell_type": "markdown",
   "id": "7252eef2",
   "metadata": {
    "slideshow": {
     "slide_type": "fragment"
    }
   },
   "source": [
    "Looping through a list, backwards"
   ]
  },
  {
   "cell_type": "code",
   "execution_count": null,
   "id": "51f187dd",
   "metadata": {
    "slideshow": {
     "slide_type": "fragment"
    }
   },
   "outputs": [],
   "source": [
    "list_a = [1, 2, 3, 4, 5]\n",
    "for item in reversed(list_a):\n",
    "    print(item)"
   ]
  },
  {
   "cell_type": "markdown",
   "id": "8b138d0b",
   "metadata": {
    "slideshow": {
     "slide_type": "fragment"
    }
   },
   "source": [
    "iterate through the list, printing each element multiplied by 2"
   ]
  },
  {
   "cell_type": "code",
   "execution_count": null,
   "id": "563f77e4",
   "metadata": {
    "scrolled": true,
    "slideshow": {
     "slide_type": "fragment"
    }
   },
   "outputs": [],
   "source": [
    "numbers = [2, 4, 6, 8, 10]\n",
    "for number in numbers:\n",
    "    print(number * 2)"
   ]
  },
  {
   "cell_type": "markdown",
   "id": "7f82fbb9",
   "metadata": {
    "slideshow": {
     "slide_type": "slide"
    }
   },
   "source": [
    "Now you can begin to see how the methods you learned last week on data types can be combined with booleans and iteration to provide a lot more expressive capacity to your coding."
   ]
  },
  {
   "cell_type": "markdown",
   "id": "99625b42",
   "metadata": {
    "slideshow": {
     "slide_type": "fragment"
    }
   },
   "source": [
    "Below we use extended slice syntax to iterate in reverse. It works by doing [begin:end:step] - by leaving begin and end off and specifying a step of -1, it prints the list elements, multiplied by 2, in reverse."
   ]
  },
  {
   "cell_type": "code",
   "execution_count": null,
   "id": "ad31a648",
   "metadata": {
    "scrolled": true,
    "slideshow": {
     "slide_type": "fragment"
    }
   },
   "outputs": [],
   "source": [
    "for number in numbers[::-1]:\n",
    "    print(number * 2)"
   ]
  },
  {
   "cell_type": "markdown",
   "id": "51b98d40",
   "metadata": {
    "slideshow": {
     "slide_type": "slide"
    }
   },
   "source": [
    "### The `while` loop\n",
    "\n",
    "Like the branching conditional clauses and the `for` loop, the `while` statement is a compound statement consisting of a header and a body. A `while` loop executes an unlimited number of times, as long at the Boolean expression is true. In general they look like this:"
   ]
  },
  {
   "cell_type": "markdown",
   "id": "790dde96",
   "metadata": {
    "slideshow": {
     "slide_type": "fragment"
    }
   },
   "source": [
    "```while <BOOL>:\n",
    "    <DO STUFF>```"
   ]
  },
  {
   "cell_type": "markdown",
   "id": "44638dda",
   "metadata": {
    "slideshow": {
     "slide_type": "slide"
    }
   },
   "source": [
    "#### An example"
   ]
  },
  {
   "cell_type": "code",
   "execution_count": null,
   "id": "87d656f5",
   "metadata": {
    "slideshow": {
     "slide_type": "fragment"
    }
   },
   "outputs": [],
   "source": [
    "number = 0\n",
    "prompt = \"What is the meaning of life, the universe, and everything? \"\n",
    "\n",
    "while number != \"42\":\n",
    "    new_number =  input(prompt)\n",
    "    if new_number != \"42\":\n",
    "        print('You are still searching for the meaning of the universe...')\n",
    "    else:\n",
    "        number = new_number\n",
    "print (\"You have found the meaning of the universe!\")"
   ]
  },
  {
   "cell_type": "markdown",
   "id": "b50dcc6b",
   "metadata": {
    "slideshow": {
     "slide_type": "slide"
    }
   },
   "source": [
    "#### Beware of infite loops\n",
    "The while loop tells the computer to do something as long as the condition is met. It is therefore very important that the indented clause contains some logic to break out of the loop."
   ]
  },
  {
   "cell_type": "code",
   "execution_count": null,
   "id": "9f121a77",
   "metadata": {
    "slideshow": {
     "slide_type": "fragment"
    }
   },
   "outputs": [],
   "source": [
    "x = 5\n",
    "while x > 0:\n",
    "    print(x, end='...')\n",
    "    x = x -1\n",
    "print('blast off!')"
   ]
  },
  {
   "cell_type": "markdown",
   "id": "f5042f7e",
   "metadata": {
    "slideshow": {
     "slide_type": "slide"
    }
   },
   "source": [
    "#### More uses of `while` loops:"
   ]
  },
  {
   "cell_type": "markdown",
   "id": "8d8bdbc8",
   "metadata": {
    "slideshow": {
     "slide_type": "fragment"
    }
   },
   "source": [
    "Add the numbers 0 to 10 to a list:"
   ]
  },
  {
   "cell_type": "code",
   "execution_count": null,
   "id": "8289e46d",
   "metadata": {
    "slideshow": {
     "slide_type": "fragment"
    }
   },
   "outputs": [],
   "source": [
    "my_list = []\n",
    "x = 0\n",
    "while x < 10:\n",
    "    my_list.append(x)\n",
    "    x = x + 1 \n",
    "my_list"
   ]
  },
  {
   "cell_type": "markdown",
   "id": "e2574433",
   "metadata": {
    "slideshow": {
     "slide_type": "fragment"
    }
   },
   "source": [
    "Create a list of even numbers smaller than 20"
   ]
  },
  {
   "cell_type": "code",
   "execution_count": null,
   "id": "a6c01e6f",
   "metadata": {
    "slideshow": {
     "slide_type": "fragment"
    }
   },
   "outputs": [],
   "source": [
    "even_numbers=[]\n",
    "x=2\n",
    "while x < 20:\n",
    "    even_numbers.append(x)\n",
    "    x = x + 2\n",
    "even_numbers"
   ]
  },
  {
   "cell_type": "markdown",
   "id": "faad6ecb",
   "metadata": {
    "slideshow": {
     "slide_type": "fragment"
    }
   },
   "source": [
    "Print out only the ints in a list of mixed int and floats"
   ]
  },
  {
   "cell_type": "code",
   "execution_count": null,
   "id": "c72196fe",
   "metadata": {
    "slideshow": {
     "slide_type": "fragment"
    }
   },
   "outputs": [],
   "source": [
    "my_list = [3.3, 19.75, 6, 3.3, 8]\n",
    "for element in my_list:\n",
    "    if isinstance(element, int):\n",
    "        print(element, end=' ')"
   ]
  },
  {
   "cell_type": "markdown",
   "id": "45592c9a",
   "metadata": {
    "collapsed": true,
    "slideshow": {
     "slide_type": "slide"
    }
   },
   "source": [
    "### More Ways to Use Loops"
   ]
  },
  {
   "cell_type": "markdown",
   "id": "7c879005",
   "metadata": {
    "slideshow": {
     "slide_type": "fragment"
    }
   },
   "source": [
    "#### Loop through items in an `dict`:"
   ]
  },
  {
   "cell_type": "code",
   "execution_count": null,
   "id": "f79572db",
   "metadata": {
    "scrolled": true,
    "slideshow": {
     "slide_type": "fragment"
    }
   },
   "outputs": [],
   "source": [
    "knights = {'gallahad': 'the pure', 'robin': 'the brave'}\n",
    "for k, v in knights.items():\n",
    "    print(k, v)"
   ]
  },
  {
   "cell_type": "markdown",
   "id": "27ba8a7a",
   "metadata": {
    "slideshow": {
     "slide_type": "slide"
    }
   },
   "source": [
    "#### Or two lists at once!"
   ]
  },
  {
   "cell_type": "code",
   "execution_count": null,
   "id": "742e5683",
   "metadata": {
    "scrolled": true,
    "slideshow": {
     "slide_type": "fragment"
    }
   },
   "outputs": [],
   "source": [
    "questions = ['name', 'quest', 'favorite color']\n",
    "answers = ['lancelot', 'the holy grail', 'blue']\n",
    "for q, a in zip(questions, answers):\n",
    "    print('What is your {0}?  It is {1}.'.format(q, a))"
   ]
  },
  {
   "cell_type": "markdown",
   "id": "81f81c69",
   "metadata": {
    "slideshow": {
     "slide_type": "fragment"
    }
   },
   "source": [
    "^^ Don't look now but we're doing [string formatting](https://docs.python.org/3/library/stdtypes.html#str.format)!!"
   ]
  },
  {
   "cell_type": "markdown",
   "id": "8fee09d9",
   "metadata": {
    "slideshow": {
     "slide_type": "slide"
    }
   },
   "source": [
    "#### Enumeration\n",
    "Enumeration allows us to extract multiple variables from the iterator, where first variable refers to the position in the sequence:"
   ]
  },
  {
   "cell_type": "code",
   "execution_count": null,
   "id": "65161685",
   "metadata": {
    "scrolled": true,
    "slideshow": {
     "slide_type": "fragment"
    }
   },
   "outputs": [],
   "source": [
    "for i, v in enumerate(['tic', 'tac', 'toe']):\n",
    "    print(i, v)"
   ]
  },
  {
   "cell_type": "markdown",
   "id": "555241c2",
   "metadata": {
    "slideshow": {
     "slide_type": "slide"
    }
   },
   "source": [
    "### The `break` statement\n",
    "\n",
    "The `break` statement is used inside of a loop to immediately stop execution and exit the loop. The next statement to be executed is the first one after the body.\n",
    "\n",
    "The code below tells the Python interpreter to iterate over a list of integers and print each one until it reaches an odd number, but don't print the odd number, print \"Done\" instead."
   ]
  },
  {
   "cell_type": "code",
   "execution_count": null,
   "id": "46756f1a",
   "metadata": {
    "scrolled": true,
    "slideshow": {
     "slide_type": "fragment"
    }
   },
   "outputs": [],
   "source": [
    "for i in [12, 16, 17, 24, 29]:\n",
    "    if i % 2 == 1:  # if the number is odd\n",
    "        break        # immediately exit the loop\n",
    "    print(i)\n",
    "print(\"done\")"
   ]
  },
  {
   "cell_type": "markdown",
   "id": "a49ed118",
   "metadata": {
    "slideshow": {
     "slide_type": "slide"
    }
   },
   "source": [
    "### The `continue` statement\n",
    "\n",
    "This is a control flow statement that causes the program to immediately skip the processing of the rest of the body of the loop, for the current iteration. But the loop still carries on running for its remaining iterations:"
   ]
  },
  {
   "cell_type": "markdown",
   "id": "0ea535b6",
   "metadata": {
    "slideshow": {
     "slide_type": "fragment"
    }
   },
   "source": [
    "Here the code tells Python to step through the list and print each number but instead of printing the odd numbers just keep going:"
   ]
  },
  {
   "cell_type": "code",
   "execution_count": null,
   "id": "7d7d21d7",
   "metadata": {
    "slideshow": {
     "slide_type": "fragment"
    }
   },
   "outputs": [],
   "source": [
    "for i in [12, 16, 17, 24, 29, 30]:\n",
    "    if i % 2 == 1:      # if the number is odd\n",
    "        continue        # don't process it\n",
    "    print(i)\n",
    "print(\"done\")"
   ]
  },
  {
   "cell_type": "markdown",
   "id": "5571a5e9",
   "metadata": {
    "slideshow": {
     "slide_type": "slide"
    }
   },
   "source": [
    "### The `range()` function\n",
    "\n",
    "We already saw what `range()` did last time, but maybe now that we know how to work with iterables it makes more sense:"
   ]
  },
  {
   "cell_type": "code",
   "execution_count": null,
   "id": "b87922ba",
   "metadata": {
    "slideshow": {
     "slide_type": "fragment"
    }
   },
   "outputs": [],
   "source": [
    "a = range(10)\n",
    "print(a)\n",
    "print(list(a))"
   ]
  },
  {
   "cell_type": "markdown",
   "id": "05edc502",
   "metadata": {
    "slideshow": {
     "slide_type": "fragment"
    }
   },
   "source": [
    "Remember, the first argument of `range()` just tells it how many numbers to return, starting at zero."
   ]
  },
  {
   "cell_type": "code",
   "execution_count": null,
   "id": "ea98cefe",
   "metadata": {
    "slideshow": {
     "slide_type": "fragment"
    }
   },
   "outputs": [],
   "source": [
    "n = 10\n",
    "list(range(n + 1))"
   ]
  },
  {
   "cell_type": "markdown",
   "id": "05037087",
   "metadata": {
    "slideshow": {
     "slide_type": "slide"
    }
   },
   "source": [
    "But you can pass more than one argument to `range()` to specify a starting number, an ending number, and a step size"
   ]
  },
  {
   "cell_type": "code",
   "execution_count": null,
   "id": "a6df5586",
   "metadata": {
    "slideshow": {
     "slide_type": "fragment"
    }
   },
   "outputs": [],
   "source": [
    "numbers = range(2, 12, 2)\n",
    "print(numbers)\n",
    "list(numbers)"
   ]
  },
  {
   "cell_type": "markdown",
   "id": "287e0382",
   "metadata": {
    "slideshow": {
     "slide_type": "fragment"
    }
   },
   "source": [
    "And since a `range` object is iterable, it is designed to work nicely with loops:"
   ]
  },
  {
   "cell_type": "code",
   "execution_count": null,
   "id": "3756209e",
   "metadata": {
    "slideshow": {
     "slide_type": "fragment"
    }
   },
   "outputs": [],
   "source": [
    "for i in range(10):\n",
    "    print(i, i ** 2)"
   ]
  },
  {
   "cell_type": "markdown",
   "id": "bba49549",
   "metadata": {
    "slideshow": {
     "slide_type": "slide"
    }
   },
   "source": [
    "### List Comprehension\n",
    "\n",
    "A list comprehension is a syntactic construct that allows you to loop through iterables in a single line of code:"
   ]
  },
  {
   "cell_type": "markdown",
   "id": "51c4649d",
   "metadata": {
    "slideshow": {
     "slide_type": "fragment"
    }
   },
   "source": [
    "`[<DO THING TO ITEM> for <ITEM> in <ITERABLE>]`"
   ]
  },
  {
   "cell_type": "markdown",
   "id": "83f79855",
   "metadata": {
    "slideshow": {
     "slide_type": "fragment"
    }
   },
   "source": [
    "which is functionally the same as the syntax below, but much more concise:"
   ]
  },
  {
   "cell_type": "markdown",
   "id": "6e206eb6",
   "metadata": {
    "slideshow": {
     "slide_type": "fragment"
    }
   },
   "source": [
    "```\n",
    "output_sequence = []\n",
    "for <ITEM> in <ITERABLE>:\n",
    "    new_item = <DO THING TO ITEM>\n",
    "    output_sequence.append(new_item)\n",
    "```"
   ]
  },
  {
   "cell_type": "markdown",
   "id": "ecf05fef",
   "metadata": {},
   "source": [
    "Work through the rest of the examples on your own until it starts to make sense:"
   ]
  },
  {
   "cell_type": "code",
   "execution_count": null,
   "id": "29c2f231",
   "metadata": {},
   "outputs": [],
   "source": [
    "# list comprehension lets you create a list based on some expression\n",
    "new_list = [x for x in range(5)]\n",
    "new_list"
   ]
  },
  {
   "cell_type": "code",
   "execution_count": null,
   "id": "1bbbd093",
   "metadata": {},
   "outputs": [],
   "source": [
    "# you can perform operations within a list comprehension\n",
    "[x + 1 for x in range(5)]"
   ]
  },
  {
   "cell_type": "markdown",
   "id": "f12fec4f",
   "metadata": {},
   "source": [
    "Notice how embedding the list comprehension in square brackets automaticallt produced a list"
   ]
  },
  {
   "cell_type": "code",
   "execution_count": null,
   "id": "892fc265",
   "metadata": {},
   "outputs": [],
   "source": [
    "# you can use list comprehension to convert a list of ints to a new list of strings\n",
    "string_list = [str(x * 2) for x in range(2, 12, 2)]\n",
    "string_list"
   ]
  },
  {
   "cell_type": "code",
   "execution_count": null,
   "id": "a2587a3c",
   "metadata": {},
   "outputs": [],
   "source": [
    "# square a list of numbers\n",
    "numbers = [1, 2, 3, 4]\n",
    "[x ** 2 for x in numbers]"
   ]
  },
  {
   "cell_type": "code",
   "execution_count": null,
   "id": "17a458a4",
   "metadata": {},
   "outputs": [],
   "source": [
    "# conditional execution within a list comprehension\n",
    "[x ** 2 for x in numbers if x**2 > 8]"
   ]
  },
  {
   "cell_type": "code",
   "execution_count": null,
   "id": "2d1f1f08",
   "metadata": {},
   "outputs": [],
   "source": [
    "# multiple calculations embedded in list comprehension\n",
    "[(x, x ** 2, x ** 3) for x in numbers]"
   ]
  },
  {
   "cell_type": "code",
   "execution_count": null,
   "id": "14d87f16",
   "metadata": {},
   "outputs": [],
   "source": [
    "# An example testing the values of a list based on a substring\n",
    "files = ['bin', 'Data', 'Desktop', '.bashrc', '.ssh', '.vimrc']\n",
    "[name for name in files if name[0] != '.']"
   ]
  }
 ],
 "metadata": {
  "celltoolbar": "Slideshow",
  "kernelspec": {
   "display_name": "Python [conda env:cp255] *",
   "language": "python",
   "name": "conda-env-cp255-py"
  },
  "language_info": {
   "codemirror_mode": {
    "name": "ipython",
    "version": 3
   },
   "file_extension": ".py",
   "mimetype": "text/x-python",
   "name": "python",
   "nbconvert_exporter": "python",
   "pygments_lexer": "ipython3",
   "version": "3.10.2"
  },
  "toc": {
   "base_numbering": 1,
   "nav_menu": {},
   "number_sections": false,
   "sideBar": false,
   "skip_h1_title": true,
   "title_cell": "Table of Contents",
   "title_sidebar": "Contents",
   "toc_cell": true,
   "toc_position": {},
   "toc_section_display": true,
   "toc_window_display": false
  }
 },
 "nbformat": 4,
 "nbformat_minor": 5
}
