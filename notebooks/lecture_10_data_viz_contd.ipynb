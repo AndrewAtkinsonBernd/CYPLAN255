{
 "cells": [
  {
   "cell_type": "code",
   "execution_count": 2,
   "id": "445ed822",
   "metadata": {
    "slideshow": {
     "slide_type": "skip"
    }
   },
   "outputs": [
    {
     "ename": "ModuleNotFoundError",
     "evalue": "No module named 'plotly'",
     "output_type": "error",
     "traceback": [
      "\u001b[0;31m---------------------------------------------------------------------------\u001b[0m",
      "\u001b[0;31mModuleNotFoundError\u001b[0m                       Traceback (most recent call last)",
      "\u001b[0;32m<ipython-input-2-138b1ad4b180>\u001b[0m in \u001b[0;36m<module>\u001b[0;34m\u001b[0m\n\u001b[1;32m      1\u001b[0m \u001b[0;32mimport\u001b[0m \u001b[0mpandas\u001b[0m \u001b[0;32mas\u001b[0m \u001b[0mpd\u001b[0m\u001b[0;34m\u001b[0m\u001b[0;34m\u001b[0m\u001b[0m\n\u001b[1;32m      2\u001b[0m \u001b[0;32mimport\u001b[0m \u001b[0mseaborn\u001b[0m \u001b[0;32mas\u001b[0m \u001b[0msns\u001b[0m\u001b[0;34m\u001b[0m\u001b[0;34m\u001b[0m\u001b[0m\n\u001b[0;32m----> 3\u001b[0;31m \u001b[0;32mimport\u001b[0m \u001b[0mplotly\u001b[0m\u001b[0;34m.\u001b[0m\u001b[0mexpress\u001b[0m \u001b[0;32mas\u001b[0m \u001b[0mpx\u001b[0m\u001b[0;34m\u001b[0m\u001b[0;34m\u001b[0m\u001b[0m\n\u001b[0m\u001b[1;32m      4\u001b[0m \u001b[0;32mimport\u001b[0m \u001b[0mplotly\u001b[0m\u001b[0;34m\u001b[0m\u001b[0;34m\u001b[0m\u001b[0m\n\u001b[1;32m      5\u001b[0m \u001b[0;32mfrom\u001b[0m \u001b[0mipywidgets\u001b[0m \u001b[0;32mimport\u001b[0m \u001b[0minteract\u001b[0m\u001b[0;34m,\u001b[0m \u001b[0minteractive\u001b[0m\u001b[0;34m,\u001b[0m \u001b[0mfixed\u001b[0m\u001b[0;34m,\u001b[0m \u001b[0minteract_manual\u001b[0m\u001b[0;34m\u001b[0m\u001b[0;34m\u001b[0m\u001b[0m\n",
      "\u001b[0;31mModuleNotFoundError\u001b[0m: No module named 'plotly'"
     ]
    }
   ],
   "source": [
    "import pandas as pd\n",
    "import seaborn as sns\n",
    "import plotly.express as px\n",
    "import plotly\n",
    "from ipywidgets import interact, interactive, fixed, interact_manual\n",
    "import ipywidgets as widgets\n",
    "import panel as pn\n",
    "from matplotlib import pyplot as plt\n",
    "from bokeh.models import ColumnDataSource, HoverTool\n",
    "from bokeh.plotting import figure\n",
    "from bokeh.sampledata.autompg import autompg_clean as df\n",
    "from bokeh.transform import factor_cmap\n",
    "from bokeh.io import output_notebook, show, output_file"
   ]
  },
  {
   "cell_type": "markdown",
   "id": "b40ef5a4",
   "metadata": {
    "slideshow": {
     "slide_type": "slide"
    }
   },
   "source": [
    "# CYPLAN255\n",
    "### Urban Informatics and Visualization"
   ]
  },
  {
   "cell_type": "markdown",
   "id": "2adc2c5d",
   "metadata": {
    "slideshow": {
     "slide_type": "slide"
    }
   },
   "source": [
    "HIT RECORD and TRANSCRIBE"
   ]
  },
  {
   "cell_type": "markdown",
   "id": "0ceea7a8",
   "metadata": {
    "slideshow": {
     "slide_type": "slide"
    }
   },
   "source": [
    "# Lecture 10 -- Intro to Data Visualization\n",
    "*******\n",
    "February 28, 2022"
   ]
  },
  {
   "cell_type": "markdown",
   "id": "75f7d376",
   "metadata": {
    "slideshow": {
     "slide_type": "slide"
    }
   },
   "source": [
    "# Agenda\n",
    "1. Announcements\n",
    "2. Color theory\n",
    "3. Interactive plotting\n",
    "4. For next time\n",
    "5. Questions\n"
   ]
  },
  {
   "cell_type": "markdown",
   "id": "4f1c0cef",
   "metadata": {
    "slideshow": {
     "slide_type": "slide"
    }
   },
   "source": [
    "# 1. Announcements"
   ]
  },
  {
   "cell_type": "markdown",
   "id": "8e5d336f",
   "metadata": {
    "slideshow": {
     "slide_type": "fragment"
    }
   },
   "source": [
    "- Irene's GitHub Pages tutorial"
   ]
  },
  {
   "cell_type": "markdown",
   "id": "32539338",
   "metadata": {
    "slideshow": {
     "slide_type": "slide"
    }
   },
   "source": [
    "\n",
    "# 2. A bit of color theory"
   ]
  },
  {
   "cell_type": "markdown",
   "id": "6b928d05",
   "metadata": {
    "slideshow": {
     "slide_type": "slide"
    }
   },
   "source": [
    "## 2.1. Why does color matter?"
   ]
  },
  {
   "cell_type": "markdown",
   "id": "a8a0d010",
   "metadata": {
    "slideshow": {
     "slide_type": "fragment"
    }
   },
   "source": [
    "- colorblindness\n",
    "- even people without colorblindness do not perceive all colors are perceived equally/evenly\n",
    "- grayscale reproduction (i.e. photocopy safe)\n",
    "- ?"
   ]
  },
  {
   "cell_type": "markdown",
   "id": "dbb16190",
   "metadata": {
    "slideshow": {
     "slide_type": "slide"
    }
   },
   "source": [
    "<img src=\"https://bids.github.io/colormap/images/screenshots/jet.png\" width=800>"
   ]
  },
  {
   "cell_type": "code",
   "execution_count": 3,
   "id": "ea8ec991",
   "metadata": {
    "hide_input": true,
    "scrolled": false,
    "slideshow": {
     "slide_type": "slide"
    }
   },
   "outputs": [
    {
     "data": {
      "text/html": [
       "<iframe src=\"https://ai.googleblog.com/2019/08/turbo-improved-rainbow-colormap-for.html\" width=100% height=700></iframe>\n"
      ],
      "text/plain": [
       "<IPython.core.display.HTML object>"
      ]
     },
     "metadata": {},
     "output_type": "display_data"
    }
   ],
   "source": [
    "%%html\n",
    "<iframe src=\"https://ai.googleblog.com/2019/08/turbo-improved-rainbow-colormap-for.html\" width=100% height=700></iframe>"
   ]
  },
  {
   "cell_type": "markdown",
   "id": "ca5bffa1",
   "metadata": {
    "hide_input": true,
    "slideshow": {
     "slide_type": "slide"
    }
   },
   "source": [
    "## 2.2. The Three Components of Color"
   ]
  },
  {
   "cell_type": "markdown",
   "id": "d879077b",
   "metadata": {
    "slideshow": {
     "slide_type": "fragment"
    }
   },
   "source": [
    "1. **Hue**"
   ]
  },
  {
   "cell_type": "code",
   "execution_count": 4,
   "id": "9eb60e5d",
   "metadata": {
    "slideshow": {
     "slide_type": "fragment"
    }
   },
   "outputs": [
    {
     "data": {
      "text/html": [
       "<svg  width=\"440\" height=\"55\"><rect x=\"0\" y=\"0\" width=\"55\" height=\"55\" style=\"fill:#db5f57;stroke-width:2;stroke:rgb(255,255,255)\"/><rect x=\"55\" y=\"0\" width=\"55\" height=\"55\" style=\"fill:#dbc257;stroke-width:2;stroke:rgb(255,255,255)\"/><rect x=\"110\" y=\"0\" width=\"55\" height=\"55\" style=\"fill:#91db57;stroke-width:2;stroke:rgb(255,255,255)\"/><rect x=\"165\" y=\"0\" width=\"55\" height=\"55\" style=\"fill:#57db80;stroke-width:2;stroke:rgb(255,255,255)\"/><rect x=\"220\" y=\"0\" width=\"55\" height=\"55\" style=\"fill:#57d3db;stroke-width:2;stroke:rgb(255,255,255)\"/><rect x=\"275\" y=\"0\" width=\"55\" height=\"55\" style=\"fill:#5770db;stroke-width:2;stroke:rgb(255,255,255)\"/><rect x=\"330\" y=\"0\" width=\"55\" height=\"55\" style=\"fill:#a157db;stroke-width:2;stroke:rgb(255,255,255)\"/><rect x=\"385\" y=\"0\" width=\"55\" height=\"55\" style=\"fill:#db57b2;stroke-width:2;stroke:rgb(255,255,255)\"/></svg>"
      ],
      "text/plain": [
       "[(0.86, 0.3712, 0.33999999999999997),\n",
       " (0.86, 0.7612000000000001, 0.33999999999999997),\n",
       " (0.5688000000000001, 0.86, 0.33999999999999997),\n",
       " (0.33999999999999997, 0.86, 0.5012000000000001),\n",
       " (0.33999999999999997, 0.8287999999999999, 0.86),\n",
       " (0.33999999999999997, 0.43879999999999986, 0.86),\n",
       " (0.6311999999999998, 0.33999999999999997, 0.86),\n",
       " (0.86, 0.33999999999999997, 0.6987999999999996)]"
      ]
     },
     "execution_count": 4,
     "metadata": {},
     "output_type": "execute_result"
    }
   ],
   "source": [
    "sns.color_palette(\"hls\", 8)"
   ]
  },
  {
   "cell_type": "markdown",
   "id": "e57c247d",
   "metadata": {
    "slideshow": {
     "slide_type": "fragment"
    }
   },
   "source": [
    "2. **Saturation**"
   ]
  },
  {
   "cell_type": "code",
   "execution_count": 5,
   "id": "f0477e3a",
   "metadata": {
    "slideshow": {
     "slide_type": "fragment"
    }
   },
   "outputs": [
    {
     "data": {
      "text/html": [
       "<svg  width=\"440\" height=\"55\"><rect x=\"0\" y=\"0\" width=\"55\" height=\"55\" style=\"fill:#808080;stroke-width:2;stroke:rgb(255,255,255)\"/><rect x=\"55\" y=\"0\" width=\"55\" height=\"55\" style=\"fill:#6e6e92;stroke-width:2;stroke:rgb(255,255,255)\"/><rect x=\"110\" y=\"0\" width=\"55\" height=\"55\" style=\"fill:#5b5ba4;stroke-width:2;stroke:rgb(255,255,255)\"/><rect x=\"165\" y=\"0\" width=\"55\" height=\"55\" style=\"fill:#4949b6;stroke-width:2;stroke:rgb(255,255,255)\"/><rect x=\"220\" y=\"0\" width=\"55\" height=\"55\" style=\"fill:#3737c9;stroke-width:2;stroke:rgb(255,255,255)\"/><rect x=\"275\" y=\"0\" width=\"55\" height=\"55\" style=\"fill:#2525db;stroke-width:2;stroke:rgb(255,255,255)\"/><rect x=\"330\" y=\"0\" width=\"55\" height=\"55\" style=\"fill:#1212ed;stroke-width:2;stroke:rgb(255,255,255)\"/><rect x=\"385\" y=\"0\" width=\"55\" height=\"55\" style=\"fill:#0000ff;stroke-width:2;stroke:rgb(255,255,255)\"/></svg>"
      ],
      "text/plain": [
       "[(0.5019607843137255, 0.5019607843137255, 0.5019607843137255),\n",
       " (0.4310957324106113, 0.4310957324106113, 0.5722722029988466),\n",
       " (0.3582622068435217, 0.3582622068435217, 0.6445367166474433),\n",
       " (0.2873971549404075, 0.2873971549404075, 0.7148481353325644),\n",
       " (0.21456362937331797, 0.21456362937331797, 0.7871126489811611),\n",
       " (0.14369857747020376, 0.14369857747020376, 0.8574240676662822),\n",
       " (0.0708650519031142, 0.0708650519031142, 0.9296885813148789),\n",
       " (0.0, 0.0, 1.0)]"
      ]
     },
     "execution_count": 5,
     "metadata": {},
     "output_type": "execute_result"
    }
   ],
   "source": [
    "sns.color_palette(\"blend:grey,b\", 8)"
   ]
  },
  {
   "cell_type": "markdown",
   "id": "9d75ec63",
   "metadata": {
    "slideshow": {
     "slide_type": "fragment"
    }
   },
   "source": [
    "3. **Lightness**"
   ]
  },
  {
   "cell_type": "code",
   "execution_count": 6,
   "id": "c0952af9",
   "metadata": {
    "slideshow": {
     "slide_type": "fragment"
    }
   },
   "outputs": [
    {
     "data": {
      "text/html": [
       "<svg  width=\"440\" height=\"55\"><rect x=\"0\" y=\"0\" width=\"55\" height=\"55\" style=\"fill:#2b1f3e;stroke-width:2;stroke:rgb(255,255,255)\"/><rect x=\"55\" y=\"0\" width=\"55\" height=\"55\" style=\"fill:#423866;stroke-width:2;stroke:rgb(255,255,255)\"/><rect x=\"110\" y=\"0\" width=\"55\" height=\"55\" style=\"fill:#555387;stroke-width:2;stroke:rgb(255,255,255)\"/><rect x=\"165\" y=\"0\" width=\"55\" height=\"55\" style=\"fill:#6770a4;stroke-width:2;stroke:rgb(255,255,255)\"/><rect x=\"220\" y=\"0\" width=\"55\" height=\"55\" style=\"fill:#798dbb;stroke-width:2;stroke:rgb(255,255,255)\"/><rect x=\"275\" y=\"0\" width=\"55\" height=\"55\" style=\"fill:#8faace;stroke-width:2;stroke:rgb(255,255,255)\"/><rect x=\"330\" y=\"0\" width=\"55\" height=\"55\" style=\"fill:#a9c6de;stroke-width:2;stroke:rgb(255,255,255)\"/><rect x=\"385\" y=\"0\" width=\"55\" height=\"55\" style=\"fill:#c7dfeb;stroke-width:2;stroke:rgb(255,255,255)\"/></svg>"
      ],
      "text/plain": [
       "[[0.1676124288206785, 0.12168378009569247, 0.24493209028077442],\n",
       " [0.25719212909752504, 0.22039345367928442, 0.3980974201030203],\n",
       " [0.3315259381236118, 0.3244953194332093, 0.5282698511453637],\n",
       " [0.4040693859926358, 0.43902378590530383, 0.6430510471441738],\n",
       " [0.4764563969141741, 0.5515570377266595, 0.7333097883591035],\n",
       " [0.5615918212430975, 0.6670782376100594, 0.8084244613507879],\n",
       " [0.6629603011558388, 0.7770571967906177, 0.8689938012762111],\n",
       " [0.7801075672866592, 0.8741945391838343, 0.9197573835143085]]"
      ]
     },
     "execution_count": 6,
     "metadata": {},
     "output_type": "execute_result"
    }
   ],
   "source": [
    "sns.cubehelix_palette(8, start=.25, rot=-.25, reverse=True)"
   ]
  },
  {
   "cell_type": "markdown",
   "id": "ebe230b7",
   "metadata": {
    "slideshow": {
     "slide_type": "slide"
    }
   },
   "source": [
    "## 2.3. Color Spaces"
   ]
  },
  {
   "cell_type": "markdown",
   "id": "6e06d7b3",
   "metadata": {
    "slideshow": {
     "slide_type": "fragment"
    }
   },
   "source": [
    "You are all likely familiar with the concept of the color wheel. When it comes to digital imagery, we call these **color spaces** because they are typically modeled in multi-dimensional space (e.g. RGB, CMYK).\n",
    "\n",
    "If you've ever used image editing software like Adobe Illustrator or Photoshop, this should sound familiar to you."
   ]
  },
  {
   "cell_type": "markdown",
   "id": "2b15119a",
   "metadata": {
    "slideshow": {
     "slide_type": "slide"
    }
   },
   "source": [
    "### 2.3.1. RGB\n",
    "\n",
    "Almost all computers use the standard RGB color space ([sRGB](https://en.wikipedia.org/wiki/SRGB)) to render digital images on the pixels of your computer screen/monitor. The sRGB color space is often modeled as cube, with each of its three axes positioned orthogonally to the other two:\n",
    "\n",
    "<img src=https://upload.wikimedia.org/wikipedia/commons/d/d6/RGB_color_cube.svg width=75%>\n",
    "\n",
    "This is because the RGB system is _additive_, meaning colors are created by adding together values chosen independently along each axis."
   ]
  },
  {
   "cell_type": "markdown",
   "id": "a7275431",
   "metadata": {
    "slideshow": {
     "slide_type": "slide"
    }
   },
   "source": [
    "### 2.3.2 HSL & HSV\n",
    "\n",
    "Somewhere along the line someone decided it would be more useful to create a color space in which the component axes corresponded to the three components of human perception of color (hue, saturation, and luminosity/lightness). To do this, they went back to the basics, the color wheel, and extended it in a third dimension to create a cylindrical color space.\n",
    "\n",
    "<img src=\"https://www.boronine.com/images/hsl.png\">"
   ]
  },
  {
   "cell_type": "markdown",
   "id": "b04de6dc",
   "metadata": {
    "slideshow": {
     "slide_type": "slide"
    }
   },
   "source": [
    "The most common of these are the HSV and HSL (HLS) color systems:\n",
    "\n",
    "<br><center><img src=\"https://upload.wikimedia.org/wikipedia/commons/a/a0/Hsl-hsv_models.svg\" width=500></center>"
   ]
  },
  {
   "cell_type": "markdown",
   "id": "a504dcf5",
   "metadata": {
    "slideshow": {
     "slide_type": "slide"
    }
   },
   "source": [
    "Both are available in Seaborn. HSV is inherited from matplotlib, and HSL in built-in to Seaborn (they call it HLS):"
   ]
  },
  {
   "cell_type": "code",
   "execution_count": 7,
   "id": "30ffff7d",
   "metadata": {
    "slideshow": {
     "slide_type": "fragment"
    }
   },
   "outputs": [
    {
     "data": {
      "text/html": [
       "<svg  width=\"550\" height=\"55\"><rect x=\"0\" y=\"0\" width=\"55\" height=\"55\" style=\"fill:#ff8800;stroke-width:2;stroke:rgb(255,255,255)\"/><rect x=\"55\" y=\"0\" width=\"55\" height=\"55\" style=\"fill:#eeff00;stroke-width:2;stroke:rgb(255,255,255)\"/><rect x=\"110\" y=\"0\" width=\"55\" height=\"55\" style=\"fill:#66ff00;stroke-width:2;stroke:rgb(255,255,255)\"/><rect x=\"165\" y=\"0\" width=\"55\" height=\"55\" style=\"fill:#00ff27;stroke-width:2;stroke:rgb(255,255,255)\"/><rect x=\"220\" y=\"0\" width=\"55\" height=\"55\" style=\"fill:#00ffaf;stroke-width:2;stroke:rgb(255,255,255)\"/><rect x=\"275\" y=\"0\" width=\"55\" height=\"55\" style=\"fill:#00c7ff;stroke-width:2;stroke:rgb(255,255,255)\"/><rect x=\"330\" y=\"0\" width=\"55\" height=\"55\" style=\"fill:#003fff;stroke-width:2;stroke:rgb(255,255,255)\"/><rect x=\"385\" y=\"0\" width=\"55\" height=\"55\" style=\"fill:#4f00ff;stroke-width:2;stroke:rgb(255,255,255)\"/><rect x=\"440\" y=\"0\" width=\"55\" height=\"55\" style=\"fill:#d600ff;stroke-width:2;stroke:rgb(255,255,255)\"/><rect x=\"495\" y=\"0\" width=\"55\" height=\"55\" style=\"fill:#ff00a0;stroke-width:2;stroke:rgb(255,255,255)\"/></svg>"
      ],
      "text/plain": [
       "[(1.0, 0.532721120956415, 0.0),\n",
       " (0.93455775808717, 1.0, 0.0),\n",
       " (0.4018366371307548, 1.0, 0.0),\n",
       " (0.0, 1.0, 0.15404569495487538),\n",
       " (0.0, 1.0, 0.6867634597860162),\n",
       " (0.0, 0.7805173926497455, 1.0),\n",
       " (0.0, 0.24779627169333063, 1.0),\n",
       " (0.30808663713075457, 0.0, 1.0),\n",
       " (0.8408077580871701, 0.0, 1.0),\n",
       " (1.0, 0.0, 0.6264711209564149)]"
      ]
     },
     "execution_count": 7,
     "metadata": {},
     "output_type": "execute_result"
    }
   ],
   "source": [
    "sns.color_palette(\"hsv\", 10)"
   ]
  },
  {
   "cell_type": "code",
   "execution_count": 8,
   "id": "2f422046",
   "metadata": {
    "slideshow": {
     "slide_type": "fragment"
    }
   },
   "outputs": [
    {
     "data": {
      "text/html": [
       "<svg  width=\"550\" height=\"55\"><rect x=\"0\" y=\"0\" width=\"55\" height=\"55\" style=\"fill:#db5f57;stroke-width:2;stroke:rgb(255,255,255)\"/><rect x=\"55\" y=\"0\" width=\"55\" height=\"55\" style=\"fill:#dbae57;stroke-width:2;stroke:rgb(255,255,255)\"/><rect x=\"110\" y=\"0\" width=\"55\" height=\"55\" style=\"fill:#b9db57;stroke-width:2;stroke:rgb(255,255,255)\"/><rect x=\"165\" y=\"0\" width=\"55\" height=\"55\" style=\"fill:#69db57;stroke-width:2;stroke:rgb(255,255,255)\"/><rect x=\"220\" y=\"0\" width=\"55\" height=\"55\" style=\"fill:#57db94;stroke-width:2;stroke:rgb(255,255,255)\"/><rect x=\"275\" y=\"0\" width=\"55\" height=\"55\" style=\"fill:#57d3db;stroke-width:2;stroke:rgb(255,255,255)\"/><rect x=\"330\" y=\"0\" width=\"55\" height=\"55\" style=\"fill:#5784db;stroke-width:2;stroke:rgb(255,255,255)\"/><rect x=\"385\" y=\"0\" width=\"55\" height=\"55\" style=\"fill:#7957db;stroke-width:2;stroke:rgb(255,255,255)\"/><rect x=\"440\" y=\"0\" width=\"55\" height=\"55\" style=\"fill:#c957db;stroke-width:2;stroke:rgb(255,255,255)\"/><rect x=\"495\" y=\"0\" width=\"55\" height=\"55\" style=\"fill:#db579e;stroke-width:2;stroke:rgb(255,255,255)\"/></svg>"
      ],
      "text/plain": [
       "[(0.86, 0.3712, 0.33999999999999997),\n",
       " (0.86, 0.6832, 0.33999999999999997),\n",
       " (0.7247999999999999, 0.86, 0.33999999999999997),\n",
       " (0.41279999999999994, 0.86, 0.33999999999999997),\n",
       " (0.33999999999999997, 0.86, 0.5792000000000002),\n",
       " (0.33999999999999997, 0.8287999999999999, 0.86),\n",
       " (0.33999999999999997, 0.5167999999999995, 0.86),\n",
       " (0.4752000000000003, 0.33999999999999997, 0.86),\n",
       " (0.7871999999999999, 0.33999999999999997, 0.86),\n",
       " (0.86, 0.33999999999999997, 0.6207999999999999)]"
      ]
     },
     "execution_count": 8,
     "metadata": {},
     "output_type": "execute_result"
    }
   ],
   "source": [
    "sns.color_palette(\"hls\", 10) "
   ]
  },
  {
   "cell_type": "markdown",
   "id": "f9e1af37",
   "metadata": {
    "slideshow": {
     "slide_type": "fragment"
    }
   },
   "source": [
    "From the Seaborn [docs](https://seaborn.pydata.org/tutorial/color_palettes.html#using-circular-color-systems):\n",
    "\n",
    "> When you have an arbitrary number of categories, the easiest approach to finding unique hues is to draw evenly-spaced colors in a circular color space (one where the hue changes while keeping the brightness and saturation constant). This is what most seaborn functions default to when they need to use more colors than are currently set in the default color cycle.\n"
   ]
  },
  {
   "cell_type": "markdown",
   "id": "288d5861",
   "metadata": {
    "slideshow": {
     "slide_type": "slide"
    }
   },
   "source": [
    "### 2.3.3 HUSL/HSLuv"
   ]
  },
  {
   "cell_type": "markdown",
   "id": "469f71b3",
   "metadata": {
    "slideshow": {
     "slide_type": "fragment"
    }
   },
   "source": [
    "One of the problems with the standard color wheel, however, is that not all colors are perceived equally well, even if they have the same saturation and brightness. Some stand out more than others:"
   ]
  },
  {
   "cell_type": "code",
   "execution_count": 9,
   "id": "134d7270",
   "metadata": {
    "slideshow": {
     "slide_type": "fragment"
    }
   },
   "outputs": [
    {
     "data": {
      "text/html": [
       "<svg  width=\"550\" height=\"55\"><rect x=\"0\" y=\"0\" width=\"55\" height=\"55\" style=\"fill:#f7766e;stroke-width:2;stroke:rgb(255,255,255)\"/><rect x=\"55\" y=\"0\" width=\"55\" height=\"55\" style=\"fill:#f7c96e;stroke-width:2;stroke:rgb(255,255,255)\"/><rect x=\"110\" y=\"0\" width=\"55\" height=\"55\" style=\"fill:#d4f76e;stroke-width:2;stroke:rgb(255,255,255)\"/><rect x=\"165\" y=\"0\" width=\"55\" height=\"55\" style=\"fill:#81f76e;stroke-width:2;stroke:rgb(255,255,255)\"/><rect x=\"220\" y=\"0\" width=\"55\" height=\"55\" style=\"fill:#6ef7ad;stroke-width:2;stroke:rgb(255,255,255)\"/><rect x=\"275\" y=\"0\" width=\"55\" height=\"55\" style=\"fill:#6eeff7;stroke-width:2;stroke:rgb(255,255,255)\"/><rect x=\"330\" y=\"0\" width=\"55\" height=\"55\" style=\"fill:#6e9cf7;stroke-width:2;stroke:rgb(255,255,255)\"/><rect x=\"385\" y=\"0\" width=\"55\" height=\"55\" style=\"fill:#916ef7;stroke-width:2;stroke:rgb(255,255,255)\"/><rect x=\"440\" y=\"0\" width=\"55\" height=\"55\" style=\"fill:#e46ef7;stroke-width:2;stroke:rgb(255,255,255)\"/><rect x=\"495\" y=\"0\" width=\"55\" height=\"55\" style=\"fill:#f76eb8;stroke-width:2;stroke:rgb(255,255,255)\"/></svg>"
      ],
      "text/plain": [
       "[(0.9700000000000001, 0.46239999999999987, 0.4299999999999998),\n",
       " (0.9700000000000001, 0.7864, 0.4299999999999998),\n",
       " (0.8295999999999999, 0.9700000000000001, 0.4299999999999998),\n",
       " (0.5055999999999998, 0.9700000000000001, 0.4299999999999998),\n",
       " (0.4299999999999998, 0.9700000000000001, 0.6784000000000001),\n",
       " (0.4299999999999998, 0.9376, 0.9700000000000001),\n",
       " (0.4299999999999998, 0.6135999999999995, 0.9700000000000001),\n",
       " (0.5704000000000002, 0.4299999999999998, 0.9700000000000001),\n",
       " (0.8944, 0.4299999999999998, 0.9700000000000001),\n",
       " (0.9700000000000001, 0.4299999999999998, 0.7215999999999998)]"
      ]
     },
     "execution_count": 9,
     "metadata": {},
     "output_type": "execute_result"
    }
   ],
   "source": [
    "sns.hls_palette(10, h=0.01, l=0.7, s=0.9)"
   ]
  },
  {
   "cell_type": "markdown",
   "id": "cb8b3041",
   "metadata": {
    "slideshow": {
     "slide_type": "fragment"
    }
   },
   "source": [
    "The [HSLuv](https://www.hsluv.org/) (FKA \"husl\") system solves that issue by introducing perceptual uniformity into a cylindrical color space:"
   ]
  },
  {
   "cell_type": "code",
   "execution_count": 10,
   "id": "c003d3ef",
   "metadata": {
    "slideshow": {
     "slide_type": "fragment"
    }
   },
   "outputs": [
    {
     "data": {
      "text/html": [
       "<svg  width=\"550\" height=\"55\"><rect x=\"0\" y=\"0\" width=\"55\" height=\"55\" style=\"fill:#f8889a;stroke-width:2;stroke:rgb(255,255,255)\"/><rect x=\"55\" y=\"0\" width=\"55\" height=\"55\" style=\"fill:#ee9537;stroke-width:2;stroke:rgb(255,255,255)\"/><rect x=\"110\" y=\"0\" width=\"55\" height=\"55\" style=\"fill:#bcaa36;stroke-width:2;stroke:rgb(255,255,255)\"/><rect x=\"165\" y=\"0\" width=\"55\" height=\"55\" style=\"fill:#82b936;stroke-width:2;stroke:rgb(255,255,255)\"/><rect x=\"220\" y=\"0\" width=\"55\" height=\"55\" style=\"fill:#38bf85;stroke-width:2;stroke:rgb(255,255,255)\"/><rect x=\"275\" y=\"0\" width=\"55\" height=\"55\" style=\"fill:#3bbbb2;stroke-width:2;stroke:rgb(255,255,255)\"/><rect x=\"330\" y=\"0\" width=\"55\" height=\"55\" style=\"fill:#3db7d6;stroke-width:2;stroke:rgb(255,255,255)\"/><rect x=\"385\" y=\"0\" width=\"55\" height=\"55\" style=\"fill:#86a8f6;stroke-width:2;stroke:rgb(255,255,255)\"/><rect x=\"440\" y=\"0\" width=\"55\" height=\"55\" style=\"fill:#d28ef6;stroke-width:2;stroke:rgb(255,255,255)\"/><rect x=\"495\" y=\"0\" width=\"55\" height=\"55\" style=\"fill:#f780d2;stroke-width:2;stroke:rgb(255,255,255)\"/></svg>"
      ],
      "text/plain": [
       "[(0.9709009234187059, 0.5326413088101082, 0.6030946551014079),\n",
       " (0.9327296378839393, 0.5823904489885355, 0.21492467041616475),\n",
       " (0.7374807689165666, 0.6671473110139705, 0.21337889937996618),\n",
       " (0.5086905963294214, 0.7261987588553502, 0.21213035171852085),\n",
       " (0.2211361006945135, 0.7486588017507013, 0.5211529827758055),\n",
       " (0.23104386645603664, 0.7341311800895332, 0.6975831836904113),\n",
       " (0.2411215269868991, 0.718188523239716, 0.8374708681110179),\n",
       " (0.5256350981986831, 0.6591974819832122, 0.9645920944155203),\n",
       " (0.8240488122486354, 0.5575385985586964, 0.9641859657677171),\n",
       " (0.9671470912412626, 0.5014196001987349, 0.8237835637322033)]"
      ]
     },
     "execution_count": 10,
     "metadata": {},
     "output_type": "execute_result"
    }
   ],
   "source": [
    "sns.husl_palette(10, h=0.01, l=0.7, s=0.9)"
   ]
  },
  {
   "cell_type": "markdown",
   "id": "aff4f5dc",
   "metadata": {
    "slideshow": {
     "slide_type": "slide"
    }
   },
   "source": [
    "## 2.4 Color palettes (A.K.A. color ramps/maps/gradients)\n",
    "We typically talk about three types of color palettes:\n",
    "1. **categorical** (sometimes called **qualitative** or **nominal**)\n",
    "2. **sequential**\n",
    "3. **divergent**"
   ]
  },
  {
   "cell_type": "markdown",
   "id": "4d83a523",
   "metadata": {
    "slideshow": {
     "slide_type": "slide"
    }
   },
   "source": [
    "### 2.4.1 Categorical"
   ]
  },
  {
   "cell_type": "markdown",
   "id": "c4d9e1e2",
   "metadata": {
    "slideshow": {
     "slide_type": "fragment"
    }
   },
   "source": [
    "Seaborn has it's own default qualitative color palette:"
   ]
  },
  {
   "cell_type": "code",
   "execution_count": 14,
   "id": "32d40dad",
   "metadata": {
    "slideshow": {
     "slide_type": "fragment"
    }
   },
   "outputs": [
    {
     "data": {
      "text/html": [
       "<svg  width=\"550\" height=\"55\"><rect x=\"0\" y=\"0\" width=\"55\" height=\"55\" style=\"fill:#0173b2;stroke-width:2;stroke:rgb(255,255,255)\"/><rect x=\"55\" y=\"0\" width=\"55\" height=\"55\" style=\"fill:#de8f05;stroke-width:2;stroke:rgb(255,255,255)\"/><rect x=\"110\" y=\"0\" width=\"55\" height=\"55\" style=\"fill:#029e73;stroke-width:2;stroke:rgb(255,255,255)\"/><rect x=\"165\" y=\"0\" width=\"55\" height=\"55\" style=\"fill:#d55e00;stroke-width:2;stroke:rgb(255,255,255)\"/><rect x=\"220\" y=\"0\" width=\"55\" height=\"55\" style=\"fill:#cc78bc;stroke-width:2;stroke:rgb(255,255,255)\"/><rect x=\"275\" y=\"0\" width=\"55\" height=\"55\" style=\"fill:#ca9161;stroke-width:2;stroke:rgb(255,255,255)\"/><rect x=\"330\" y=\"0\" width=\"55\" height=\"55\" style=\"fill:#fbafe4;stroke-width:2;stroke:rgb(255,255,255)\"/><rect x=\"385\" y=\"0\" width=\"55\" height=\"55\" style=\"fill:#949494;stroke-width:2;stroke:rgb(255,255,255)\"/><rect x=\"440\" y=\"0\" width=\"55\" height=\"55\" style=\"fill:#ece133;stroke-width:2;stroke:rgb(255,255,255)\"/><rect x=\"495\" y=\"0\" width=\"55\" height=\"55\" style=\"fill:#56b4e9;stroke-width:2;stroke:rgb(255,255,255)\"/></svg>"
      ],
      "text/plain": [
       "[(0.00392156862745098, 0.45098039215686275, 0.6980392156862745),\n",
       " (0.8705882352941177, 0.5607843137254902, 0.0196078431372549),\n",
       " (0.00784313725490196, 0.6196078431372549, 0.45098039215686275),\n",
       " (0.8352941176470589, 0.3686274509803922, 0.0),\n",
       " (0.8, 0.47058823529411764, 0.7372549019607844),\n",
       " (0.792156862745098, 0.5686274509803921, 0.3803921568627451),\n",
       " (0.984313725490196, 0.6862745098039216, 0.8941176470588236),\n",
       " (0.5803921568627451, 0.5803921568627451, 0.5803921568627451),\n",
       " (0.9254901960784314, 0.8823529411764706, 0.2),\n",
       " (0.33725490196078434, 0.7058823529411765, 0.9137254901960784)]"
      ]
     },
     "execution_count": 14,
     "metadata": {},
     "output_type": "execute_result"
    }
   ],
   "source": [
    "sns.color_palette(\"colorblind\")"
   ]
  },
  {
   "cell_type": "markdown",
   "id": "110028db",
   "metadata": {
    "slideshow": {
     "slide_type": "fragment"
    }
   },
   "source": [
    "as well as some useful pre-defined variations:\n",
    "<center><img src=\"https://seaborn.pydata.org/_images/color_palettes_22_0.png\" width=400></center>"
   ]
  },
  {
   "cell_type": "markdown",
   "id": "28b50503",
   "metadata": {
    "slideshow": {
     "slide_type": "slide"
    }
   },
   "source": [
    "Seaborn also has access to all of the qualitative color maps from matplotlib:\n",
    "\n",
    "<center><img src=\"https://matplotlib.org/stable/_images/sphx_glr_colormaps_006_2_0x.png\" width=700></center>"
   ]
  },
  {
   "cell_type": "code",
   "execution_count": 15,
   "id": "2254e65b",
   "metadata": {
    "slideshow": {
     "slide_type": "fragment"
    }
   },
   "outputs": [
    {
     "data": {
      "text/html": [
       "<svg  width=\"385\" height=\"55\"><rect x=\"0\" y=\"0\" width=\"55\" height=\"55\" style=\"fill:#66c2a5;stroke-width:2;stroke:rgb(255,255,255)\"/><rect x=\"55\" y=\"0\" width=\"55\" height=\"55\" style=\"fill:#fc8d62;stroke-width:2;stroke:rgb(255,255,255)\"/><rect x=\"110\" y=\"0\" width=\"55\" height=\"55\" style=\"fill:#8da0cb;stroke-width:2;stroke:rgb(255,255,255)\"/><rect x=\"165\" y=\"0\" width=\"55\" height=\"55\" style=\"fill:#e78ac3;stroke-width:2;stroke:rgb(255,255,255)\"/><rect x=\"220\" y=\"0\" width=\"55\" height=\"55\" style=\"fill:#a6d854;stroke-width:2;stroke:rgb(255,255,255)\"/><rect x=\"275\" y=\"0\" width=\"55\" height=\"55\" style=\"fill:#ffd92f;stroke-width:2;stroke:rgb(255,255,255)\"/><rect x=\"330\" y=\"0\" width=\"55\" height=\"55\" style=\"fill:#e5c494;stroke-width:2;stroke:rgb(255,255,255)\"/></svg>"
      ],
      "text/plain": [
       "[(0.4, 0.7607843137254902, 0.6470588235294118),\n",
       " (0.9882352941176471, 0.5529411764705883, 0.3843137254901961),\n",
       " (0.5529411764705883, 0.6274509803921569, 0.796078431372549),\n",
       " (0.9058823529411765, 0.5411764705882353, 0.7647058823529411),\n",
       " (0.6509803921568628, 0.8470588235294118, 0.32941176470588235),\n",
       " (1.0, 0.8509803921568627, 0.1843137254901961),\n",
       " (0.8980392156862745, 0.7686274509803922, 0.5803921568627451)]"
      ]
     },
     "execution_count": 15,
     "metadata": {},
     "output_type": "execute_result"
    }
   ],
   "source": [
    "sns.color_palette(\"Set2\", 7)"
   ]
  },
  {
   "cell_type": "markdown",
   "id": "efc59c0f",
   "metadata": {
    "slideshow": {
     "slide_type": "slide"
    }
   },
   "source": [
    "### 2.4.2 Sequential"
   ]
  },
  {
   "cell_type": "markdown",
   "id": "d26b4408",
   "metadata": {
    "slideshow": {
     "slide_type": "fragment"
    }
   },
   "source": [
    "When dealing with numeric data or continuous variables, you'll likely want to use a **sequential** color map. Most of these come from Matplotlib. Note: for each sequential color map there exists a reversed version which you can access using the `_r` suffix.\n",
    "\n",
    "Some interesting examples:"
   ]
  },
  {
   "cell_type": "code",
   "execution_count": 18,
   "id": "483f8f95",
   "metadata": {
    "slideshow": {
     "slide_type": "fragment"
    }
   },
   "outputs": [
    {
     "data": {
      "text/html": [
       "<svg  width=\"550\" height=\"55\"><rect x=\"0\" y=\"0\" width=\"55\" height=\"55\" style=\"fill:#ffffa4;stroke-width:2;stroke:rgb(255,255,255)\"/><rect x=\"55\" y=\"0\" width=\"55\" height=\"55\" style=\"fill:#ffff4a;stroke-width:2;stroke:rgb(255,255,255)\"/><rect x=\"110\" y=\"0\" width=\"55\" height=\"55\" style=\"fill:#fff400;stroke-width:2;stroke:rgb(255,255,255)\"/><rect x=\"165\" y=\"0\" width=\"55\" height=\"55\" style=\"fill:#ffb500;stroke-width:2;stroke:rgb(255,255,255)\"/><rect x=\"220\" y=\"0\" width=\"55\" height=\"55\" style=\"fill:#ff7900;stroke-width:2;stroke:rgb(255,255,255)\"/><rect x=\"275\" y=\"0\" width=\"55\" height=\"55\" style=\"fill:#ff3c00;stroke-width:2;stroke:rgb(255,255,255)\"/><rect x=\"330\" y=\"0\" width=\"55\" height=\"55\" style=\"fill:#ff0000;stroke-width:2;stroke:rgb(255,255,255)\"/><rect x=\"385\" y=\"0\" width=\"55\" height=\"55\" style=\"fill:#c00000;stroke-width:2;stroke:rgb(255,255,255)\"/><rect x=\"440\" y=\"0\" width=\"55\" height=\"55\" style=\"fill:#830000;stroke-width:2;stroke:rgb(255,255,255)\"/><rect x=\"495\" y=\"0\" width=\"55\" height=\"55\" style=\"fill:#470000;stroke-width:2;stroke:rgb(255,255,255)\"/></svg>"
      ],
      "text/plain": [
       "[(1.0, 1.0, 0.6448525860290566),\n",
       " (1.0, 1.0, 0.2897051720581132),\n",
       " (1.0, 0.9563719532485171, 0.0),\n",
       " (1.0, 0.7093135311890413, 0.0),\n",
       " (1.0, 0.4725492100487102, 0.0),\n",
       " (1.0, 0.23578488890837923, 0.0),\n",
       " (0.9990204970624411, 0.0, 0.0),\n",
       " (0.7519442397560047, 0.0, 0.0),\n",
       " (0.5151628265040031, 0.0, 0.0),\n",
       " (0.2783814132520015, 0.0, 0.0)]"
      ]
     },
     "execution_count": 18,
     "metadata": {},
     "output_type": "execute_result"
    }
   ],
   "source": [
    "sns.color_palette(\"hot_r\", 10)"
   ]
  },
  {
   "cell_type": "code",
   "execution_count": null,
   "id": "23f115de",
   "metadata": {
    "slideshow": {
     "slide_type": "fragment"
    }
   },
   "outputs": [],
   "source": [
    "for pal in [\"spring\", \"YlOrBr\", \"cool\", \"Greens\"]:\n",
    "    sns.palplot(sns.color_palette(pal, 10), .5)"
   ]
  },
  {
   "cell_type": "markdown",
   "id": "2bce2c56",
   "metadata": {
    "slideshow": {
     "slide_type": "slide"
    }
   },
   "source": [
    "Seaborn has 4 built-in **perceptually uniform** sequential color maps (`mako`, `rocket`, `crest`, and `flare`) in addition to the 5 defined in matplotlib (`viridis`, `cividis`, `magma`, `plasma`, and `inferno`)."
   ]
  },
  {
   "cell_type": "code",
   "execution_count": null,
   "id": "25a1dbf9",
   "metadata": {
    "slideshow": {
     "slide_type": "fragment"
    }
   },
   "outputs": [],
   "source": [
    "for pal in [\"mako\", \"rocket\", \"crest\", \"flare\", \"viridis\", \"cividis\", \"magma\", \"plasma\", \"inferno\"]:\n",
    "    sns.palplot(sns.color_palette(pal, 10), .5)"
   ]
  },
  {
   "cell_type": "markdown",
   "id": "b063822b",
   "metadata": {
    "slideshow": {
     "slide_type": "slide"
    }
   },
   "source": [
    "**Cubehelix** color maps takes the idea of perceptual uniformity one step further by also guaranteeing that the gradient is uniform when rendered in greyscale. This is great for b+w prints and for colorblindness."
   ]
  },
  {
   "cell_type": "code",
   "execution_count": null,
   "id": "489a14f6",
   "metadata": {
    "slideshow": {
     "slide_type": "fragment"
    }
   },
   "outputs": [],
   "source": [
    "sns.color_palette(\"cubehelix\", 10)"
   ]
  },
  {
   "cell_type": "code",
   "execution_count": null,
   "id": "231170d4",
   "metadata": {
    "slideshow": {
     "slide_type": "fragment"
    }
   },
   "outputs": [],
   "source": [
    "sns.cubehelix_palette(10, start=.5, rot=-.5)"
   ]
  },
  {
   "cell_type": "code",
   "execution_count": null,
   "id": "03e76ee2",
   "metadata": {
    "slideshow": {
     "slide_type": "fragment"
    }
   },
   "outputs": [],
   "source": [
    "sns.color_palette(\"ch:start=.5,rot=-.5,hue=.5\", 10)"
   ]
  },
  {
   "cell_type": "markdown",
   "id": "c74f5052",
   "metadata": {
    "slideshow": {
     "slide_type": "slide"
    }
   },
   "source": [
    "Lastly **divergent** color maps are very useful when your data has a well-defined, meaningful midpoint or threshold that you want to highlight:"
   ]
  },
  {
   "cell_type": "code",
   "execution_count": null,
   "id": "d7de0105",
   "metadata": {
    "slideshow": {
     "slide_type": "fragment"
    }
   },
   "outputs": [],
   "source": [
    "sns.color_palette(\"Spectral\", 10)"
   ]
  },
  {
   "cell_type": "code",
   "execution_count": null,
   "id": "bfae1940",
   "metadata": {
    "slideshow": {
     "slide_type": "fragment"
    }
   },
   "outputs": [],
   "source": [
    "sns.color_palette(\"coolwarm\", 10)"
   ]
  },
  {
   "cell_type": "code",
   "execution_count": null,
   "id": "26b73e65",
   "metadata": {
    "slideshow": {
     "slide_type": "fragment"
    }
   },
   "outputs": [],
   "source": [
    "# perceptually uniform\n",
    "sns.color_palette(\"vlag\", 10)"
   ]
  },
  {
   "cell_type": "code",
   "execution_count": null,
   "id": "0eb187cf",
   "metadata": {
    "slideshow": {
     "slide_type": "fragment"
    }
   },
   "outputs": [],
   "source": [
    "# custom\n",
    "sns.diverging_palette(250, 30, s=99, l=65, center=\"dark\", n=10)"
   ]
  },
  {
   "cell_type": "markdown",
   "id": "4b5cc0cf",
   "metadata": {
    "slideshow": {
     "slide_type": "slide"
    }
   },
   "source": [
    "All of the sequential/diverging colormaps from Matplotlib per the [docs](https://matplotlib.org/stable/gallery/color/colormap_reference.html):\n",
    "<img src=\"https://matplotlib.org/stable/_images/sphx_glr_colormap_reference_001_2_0x.png\" width=600>\n",
    "<img src=\"https://matplotlib.org/stable/_images/sphx_glr_colormap_reference_002_2_0x.png\" width=600>\n",
    "<img src=\"https://matplotlib.org/stable/_images/sphx_glr_colormap_reference_003_2_0x.png\" width=600>\n",
    "<img src=\"https://matplotlib.org/stable/_images/sphx_glr_colormap_reference_004_2_0x.png\" width=600>\n",
    "<img src=\"https://matplotlib.org/stable/_images/sphx_glr_colormap_reference_005_2_0x.png\" width=600>\n",
    "<img src=\"https://matplotlib.org/stable/_images/sphx_glr_colormap_reference_007_2_0x.png\" width=600>"
   ]
  },
  {
   "cell_type": "markdown",
   "id": "9a17cbfe",
   "metadata": {
    "slideshow": {
     "slide_type": "slide"
    }
   },
   "source": [
    "## 2.5 More resources on color\n",
    "- https://www.boronine.com/2012/03/26/Color-Spaces-for-Human-Beings/\n",
    "- https://colorbrewer2.org/\n",
    "- https://earthobservatory.nasa.gov/blogs/elegantfigures/2013/08/05/subtleties-of-color-part-1-of-6/\n",
    "- https://matplotlib.org/2.0.2/users/colormaps.html\n",
    "- https://www.axismaps.com/guide/using-colors-on-maps"
   ]
  },
  {
   "cell_type": "markdown",
   "id": "215e600b",
   "metadata": {
    "slideshow": {
     "slide_type": "slide"
    }
   },
   "source": [
    "# 3. Interactive Plotting in Python"
   ]
  },
  {
   "cell_type": "markdown",
   "id": "9723e55e",
   "metadata": {
    "slideshow": {
     "slide_type": "fragment"
    }
   },
   "source": [
    "Types of interactivity you might consider:\n",
    "- annotation on hover/click\n",
    "- pan-and-zoom\n",
    "- data filters: buttons, sliders, and drop-down menu\n",
    "- animation\n",
    "\n",
    "Don't add interactivity for the sake of interactivity!"
   ]
  },
  {
   "cell_type": "markdown",
   "id": "a8b91d2c",
   "metadata": {
    "slideshow": {
     "slide_type": "slide"
    }
   },
   "source": [
    "## 3.1 Plotly\n",
    "https://plotly.com/python/\n",
    "\n",
    "Plotly is a fantastic library for generating interactive versions of all of the types of plots/charts we've been looking at.\n"
   ]
  },
  {
   "cell_type": "code",
   "execution_count": 14,
   "id": "c2f180b4",
   "metadata": {
    "hide_input": true,
    "scrolled": false,
    "slideshow": {
     "slide_type": "slide"
    }
   },
   "outputs": [
    {
     "data": {
      "text/html": [
       "<iframe src=\"https://plotly.com/python/\" width=100% height=700></iframe>\n"
      ],
      "text/plain": [
       "<IPython.core.display.HTML object>"
      ]
     },
     "metadata": {},
     "output_type": "display_data"
    }
   ],
   "source": [
    "%%html\n",
    "<iframe src=\"https://plotly.com/python/\" width=100% height=700></iframe>"
   ]
  },
  {
   "cell_type": "code",
   "execution_count": null,
   "id": "890df1c7",
   "metadata": {
    "slideshow": {
     "slide_type": "fragment"
    }
   },
   "outputs": [],
   "source": [
    "df = px.data.gapminder()\n",
    "fig = px.scatter(df, x=\"gdpPercap\", y=\"lifeExp\", animation_frame=\"year\", animation_group=\"country\",\n",
    "           size=\"pop\", color=\"continent\", hover_name=\"country\",\n",
    "           log_x=True, size_max=55, range_x=[100,100000], range_y=[25,90])\n",
    "fig.show()"
   ]
  },
  {
   "cell_type": "markdown",
   "id": "1ce4ba42",
   "metadata": {
    "slideshow": {
     "slide_type": "slide"
    }
   },
   "source": [
    "### 3.1.1. Embed plotly charts as .html\n",
    "\n",
    "Plotly makes it easy to embed interactive charts into static webpages. After generating your plot, all you have to do is run the following command to convert everything (including the data!) to .html."
   ]
  },
  {
   "cell_type": "code",
   "execution_count": null,
   "id": "c325379d",
   "metadata": {
    "scrolled": false,
    "slideshow": {
     "slide_type": "fragment"
    }
   },
   "outputs": [],
   "source": [
    "print(plotly.offline.plot(fig, include_plotlyjs='cdn', output_type='div'))"
   ]
  },
  {
   "cell_type": "markdown",
   "id": "9908ceb3",
   "metadata": {
    "slideshow": {
     "slide_type": "slide"
    }
   },
   "source": [
    "## 3.2 ipywidgets\n",
    "\n",
    "Installation instructions [here](https://ipywidgets.readthedocs.io/en/stable/user_install.html)"
   ]
  },
  {
   "cell_type": "markdown",
   "id": "5ac87911",
   "metadata": {
    "slideshow": {
     "slide_type": "fragment"
    }
   },
   "source": [
    "### 3.2.1. Basics"
   ]
  },
  {
   "cell_type": "code",
   "execution_count": null,
   "id": "f4da5351",
   "metadata": {
    "slideshow": {
     "slide_type": "fragment"
    }
   },
   "outputs": [],
   "source": [
    "def sq_num(x):\n",
    "    return x**2\n",
    "\n",
    "interact(sq_num, x=10);"
   ]
  },
  {
   "cell_type": "code",
   "execution_count": null,
   "id": "b97b1ff3",
   "metadata": {
    "slideshow": {
     "slide_type": "fragment"
    }
   },
   "outputs": [],
   "source": [
    "a = interact(sq_num, x=10)"
   ]
  },
  {
   "cell_type": "code",
   "execution_count": null,
   "id": "02624b1f",
   "metadata": {
    "slideshow": {
     "slide_type": "fragment"
    }
   },
   "outputs": [],
   "source": [
    "interact(sq_num, x=widgets.IntSlider(min=-10, max=30, step=1, value=10));"
   ]
  },
  {
   "cell_type": "code",
   "execution_count": null,
   "id": "9c3eb13b",
   "metadata": {
    "slideshow": {
     "slide_type": "fragment"
    }
   },
   "outputs": [],
   "source": [
    "widgets.IntSlider()"
   ]
  },
  {
   "cell_type": "markdown",
   "id": "3d2af3c3",
   "metadata": {
    "slideshow": {
     "slide_type": "slide"
    }
   },
   "source": [
    "### 3.2.2. Interactive Pivot Table"
   ]
  },
  {
   "cell_type": "markdown",
   "id": "68daf2c4",
   "metadata": {
    "slideshow": {
     "slide_type": "fragment"
    }
   },
   "source": [
    "Re-create the merged SF1 Craigslist data"
   ]
  },
  {
   "cell_type": "code",
   "execution_count": null,
   "id": "9e43cd7c",
   "metadata": {
    "slideshow": {
     "slide_type": "fragment"
    }
   },
   "outputs": [],
   "source": [
    "rentals = pd.read_csv(\n",
    "    'data/sfbay_geocoded.csv',\n",
    "    usecols=['rent', 'bedrooms', 'sqft', 'fips_block', 'longitude', 'latitude'],\n",
    "    dtype={'fips_block': str}  # load fips_block as str, numeric type will drop leading zero\n",
    ")\n",
    "\n",
    "sf1 = pd.read_hdf('data/bay_sf1_small.h5', 'sf1_extract')\n",
    "\n",
    "county_fips_to_name = {\n",
    "    '001': 'Alameda', '013': 'Contra Costa', '041': 'Marin', '055': 'Napa', '075': 'San Francisco',\n",
    "    '081': 'San Mateo', '085': 'Santa Clara', '095': 'Solano', '097': 'Sonoma'}\n",
    "sf1.insert(4, 'county_name', sf1['county'].replace(county_fips_to_name))\n",
    "\n",
    "sf1['pct_rent'] = sf1['H0040004'] / sf1['H0040001'] * 100\n",
    "sf1['pct_black'] = sf1['P0030003'] / sf1['P0030001'] * 100\n",
    "sf1['pct_asian'] = sf1['P0030005'] / sf1['P0030001'] * 100\n",
    "sf1['pct_white'] = sf1['P0030002'] / sf1['P0030001'] * 100\n",
    "sf1['pct_hisp'] = sf1['P0040003'] / sf1['P0040001'] * 100\n",
    "sf1['pct_vacant'] = sf1['H0050001'] / sf1['H00010001'] * 100\n",
    "sf1['pop_sqmi'] = (sf1['P0010001'] / (sf1['arealand'] / 2589988))\n",
    "sf1 = sf1[sf1['P0030001'] > 0]  # drop unpopulated census blocks\n",
    "\n",
    "rentals_sf1 = pd.merge(rentals, sf1, left_on='fips_block', right_on='blockfips')"
   ]
  },
  {
   "cell_type": "code",
   "execution_count": null,
   "id": "c94d4832",
   "metadata": {
    "slideshow": {
     "slide_type": "slide"
    }
   },
   "outputs": [],
   "source": [
    "def pivot_intx(value_col, group_col, hue_col, agg_func):\n",
    "\n",
    "    piv_df = pd.pivot_table(rentals_sf1, values=value_col, index=group_col, columns=hue_col, aggfunc=agg_func)\n",
    "    fig, ax = plt.subplots(figsize=(12,7))\n",
    "    _ = piv_df.plot(\n",
    "        kind='bar', figsize=(14,6), title='Average {0} by {1} and {2}'.format(value_col, group_col, hue_col),\n",
    "        ax=ax)\n",
    "\n",
    "    return"
   ]
  },
  {
   "cell_type": "code",
   "execution_count": null,
   "id": "c1c52492",
   "metadata": {
    "slideshow": {
     "slide_type": "fragment"
    }
   },
   "outputs": [],
   "source": [
    "group_col_selector = widgets.Dropdown(\n",
    "    options=rentals_sf1.columns.tolist(),\n",
    "    description='group by:',\n",
    "    value='bedrooms'\n",
    ")\n",
    "\n",
    "hue_col_selector = widgets.Dropdown(\n",
    "    options=rentals_sf1.columns.tolist(),\n",
    "    description='hue:',\n",
    "    value='county_name'\n",
    ")\n",
    "\n",
    "value_col_selector = widgets.Dropdown(\n",
    "    options=rentals_sf1.columns.tolist(),\n",
    "    description='value:',\n",
    "    value='rent'\n",
    ")\n",
    "\n",
    "agg_func_selector = widgets.RadioButtons(\n",
    "    options=['count', 'sum', 'mean', 'median'],\n",
    "    value=\"mean\",\n",
    "    description='agg function:',\n",
    ")"
   ]
  },
  {
   "cell_type": "code",
   "execution_count": null,
   "id": "1ff5c7c5",
   "metadata": {
    "hide_input": false,
    "scrolled": false,
    "slideshow": {
     "slide_type": "slide"
    }
   },
   "outputs": [],
   "source": [
    "interact(\n",
    "    pivot_intx,\n",
    "    value_col=value_col_selector,\n",
    "    group_col=group_col_selector,\n",
    "    hue_col=hue_col_selector,\n",
    "    agg_func=agg_func_selector\n",
    ");"
   ]
  },
  {
   "cell_type": "markdown",
   "id": "879f8820",
   "metadata": {
    "slideshow": {
     "slide_type": "slide"
    }
   },
   "source": [
    "## 3.3 Bokeh\n",
    "https://bokeh.org/\n",
    "\n",
    "Kind of like Plotly, but uses a different JavaScript library for charts"
   ]
  },
  {
   "cell_type": "code",
   "execution_count": 15,
   "id": "febdee2e",
   "metadata": {
    "slideshow": {
     "slide_type": "fragment"
    }
   },
   "outputs": [
    {
     "data": {
      "text/html": [
       "<iframe src=\"https://demo.bokeh.org/\"  width=100% height=700></iframe>\n"
      ],
      "text/plain": [
       "<IPython.core.display.HTML object>"
      ]
     },
     "metadata": {},
     "output_type": "display_data"
    }
   ],
   "source": [
    "%%html\n",
    "<iframe src=\"https://demo.bokeh.org/\"  width=100% height=700></iframe>"
   ]
  },
  {
   "cell_type": "markdown",
   "id": "f486d96f",
   "metadata": {
    "hide_input": true,
    "slideshow": {
     "slide_type": "slide"
    }
   },
   "source": [
    "### 3.3.1 A different approach to the grouped bar plot"
   ]
  },
  {
   "cell_type": "code",
   "execution_count": null,
   "id": "307f086a",
   "metadata": {
    "slideshow": {
     "slide_type": "fragment"
    }
   },
   "outputs": [],
   "source": [
    "rentals_sf1['bedrooms'] = rentals_sf1['bedrooms'].astype(str)\n",
    "group = rentals_sf1.groupby(['bedrooms','county_name'])\n",
    "source = ColumnDataSource(group)\n",
    "\n",
    "output_notebook()\n",
    "p = figure(plot_width=800, plot_height=300, title=\"Rent x Bedrooms x County\",\n",
    "           x_range=group, toolbar_location=None, tools=\"\")\n",
    "\n",
    "p.vbar(x='bedrooms_county_name', top='rent_mean', width=1, source=source,\n",
    "       line_color=\"white\",\n",
    "       hover_line_color=\"darkgrey\", )\n",
    "\n",
    "p.xgrid.grid_line_color = None\n",
    "p.xaxis.axis_label = \"Manufacturer grouped by # Cylinders\"\n",
    "p.xaxis.major_label_orientation = 1.2\n",
    "p.add_tools(HoverTool(tooltips=[(\"rent\", \"@rent_mean\"), (\"bedrooms, county_name\", \"@bedrooms_county_name\")]))"
   ]
  },
  {
   "cell_type": "code",
   "execution_count": null,
   "id": "0cae8b60",
   "metadata": {
    "slideshow": {
     "slide_type": "slide"
    }
   },
   "outputs": [],
   "source": [
    "show(p)"
   ]
  },
  {
   "cell_type": "code",
   "execution_count": null,
   "id": "e15e788c",
   "metadata": {
    "slideshow": {
     "slide_type": "fragment"
    }
   },
   "outputs": [],
   "source": [
    "output_file(\"plot.html\")"
   ]
  },
  {
   "cell_type": "code",
   "execution_count": null,
   "id": "abf9db97",
   "metadata": {
    "slideshow": {
     "slide_type": "fragment"
    }
   },
   "outputs": [],
   "source": [
    "show(p)"
   ]
  },
  {
   "cell_type": "markdown",
   "id": "8202ac9f",
   "metadata": {
    "slideshow": {
     "slide_type": "slide"
    }
   },
   "source": [
    "## 3.4 More\n",
    "- https://panel.holoviz.org/ (dashboards with Bokeh)\n",
    "- https://streamlit.io/ (standalone apps and dashboards)\n",
    "- https://voila-gallery.org/ (another library for converting Jupyter Notebooks into dashboards)"
   ]
  },
  {
   "cell_type": "markdown",
   "id": "e3460951",
   "metadata": {
    "slideshow": {
     "slide_type": "slide"
    }
   },
   "source": [
    "# 4. For next time\n",
    "- Assignment 3 due tomorrow\n",
    "- Assignment 4: Project Proposals"
   ]
  },
  {
   "cell_type": "markdown",
   "id": "4e7065ae",
   "metadata": {
    "slideshow": {
     "slide_type": "slide"
    }
   },
   "source": [
    "# 5. Questions?"
   ]
  }
 ],
 "metadata": {
  "celltoolbar": "Slideshow",
  "kernelspec": {
   "display_name": "Python 3",
   "language": "python",
   "name": "python3"
  },
  "language_info": {
   "codemirror_mode": {
    "name": "ipython",
    "version": 3
   },
   "file_extension": ".py",
   "mimetype": "text/x-python",
   "name": "python",
   "nbconvert_exporter": "python",
   "pygments_lexer": "ipython3",
   "version": "3.8.8"
  },
  "toc": {
   "base_numbering": 1,
   "nav_menu": {},
   "number_sections": false,
   "sideBar": true,
   "skip_h1_title": false,
   "title_cell": "Table of Contents",
   "title_sidebar": "Contents",
   "toc_cell": false,
   "toc_position": {
    "height": "401.717px",
    "left": "106px",
    "top": "348px",
    "width": "165px"
   },
   "toc_section_display": true,
   "toc_window_display": false
  }
 },
 "nbformat": 4,
 "nbformat_minor": 5
}
