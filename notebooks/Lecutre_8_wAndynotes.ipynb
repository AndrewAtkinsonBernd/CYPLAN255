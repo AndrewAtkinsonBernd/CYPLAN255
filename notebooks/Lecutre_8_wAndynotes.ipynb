{
 "cells": [
  {
   "cell_type": "markdown",
   "id": "b40ef5a4",
   "metadata": {
    "slideshow": {
     "slide_type": "slide"
    }
   },
   "source": [
    "# CYPLAN255\n",
    "### Urban Informatics and Visualization"
   ]
  },
  {
   "cell_type": "markdown",
   "id": "2adc2c5d",
   "metadata": {
    "slideshow": {
     "slide_type": "slide"
    }
   },
   "source": [
    "HIT RECORD and TRANSCRIBE"
   ]
  },
  {
   "cell_type": "markdown",
   "id": "0ceea7a8",
   "metadata": {
    "slideshow": {
     "slide_type": "slide"
    }
   },
   "source": [
    "# Lecture 08 -- Data Analysis\n",
    "*******\n",
    "February 16, 2022"
   ]
  },
  {
   "cell_type": "markdown",
   "id": "75f7d376",
   "metadata": {
    "slideshow": {
     "slide_type": "slide"
    }
   },
   "source": [
    "# Agenda\n",
    "1. Announcements\n",
    "2. Review of last session\n",
    "3. Data Analysis\n",
    "4. For next time\n",
    "5. Questions\n"
   ]
  },
  {
   "cell_type": "markdown",
   "id": "4f1c0cef",
   "metadata": {
    "slideshow": {
     "slide_type": "slide"
    }
   },
   "source": [
    "# 1. Announcements"
   ]
  },
  {
   "cell_type": "markdown",
   "id": "8e5d336f",
   "metadata": {
    "slideshow": {
     "slide_type": "fragment"
    }
   },
   "source": [
    "1. Assignment 2 due _Sunday_\n",
    "2. Update to GitHub guide\n",
    "3. Dante and Virgil"
   ]
  },
  {
   "cell_type": "markdown",
   "id": "b221723a",
   "metadata": {
    "slideshow": {
     "slide_type": "slide"
    }
   },
   "source": [
    "## 1.3 Dante and Virgil\n",
    "\n",
    "<img src=\"https://upload.wikimedia.org/wikipedia/commons/7/70/Eug%C3%A8ne_Delacroix_-_The_Barque_of_Dante.jpg\" width=50%>\n",
    "\n",
    "_The Barque of Dante_, Eugène Delacroix (1822)"
   ]
  },
  {
   "cell_type": "markdown",
   "id": "27b61f31",
   "metadata": {
    "slideshow": {
     "slide_type": "slide"
    }
   },
   "source": [
    "# 2. Review from Intro to Data Analysis"
   ]
  },
  {
   "cell_type": "markdown",
   "id": "69a93919",
   "metadata": {
    "slideshow": {
     "slide_type": "fragment"
    }
   },
   "source": [
    "## 2.1 Indexing and Selecting"
   ]
  },
  {
   "cell_type": "markdown",
   "id": "4783c11d",
   "metadata": {
    "slideshow": {
     "slide_type": "fragment"
    }
   },
   "source": [
    "- use `[<row>, <column>]` indexing with `loc` (labels) and `iloc` (positions)\n",
    "- use `df[<col>]` to select a column/Series from a DataFrame by column label\n",
    "- use `df[[<col1>, <col2>]]` to select a subset of a DataFrame by column label"
   ]
  },
  {
   "cell_type": "markdown",
   "id": "368bc62c",
   "metadata": {
    "slideshow": {
     "slide_type": "slide"
    }
   },
   "source": [
    "## 2.2 Merge Methods\n",
    "\n",
    "Most of the below is taken directly from the pandas [docs](https://pandas.pydata.org/pandas-docs/stable/user_guide/merging.html#brief-primer-on-merge-methods-relational-algebra)."
   ]
  },
  {
   "cell_type": "markdown",
   "id": "d45af0e4",
   "metadata": {
    "slideshow": {
     "slide_type": "fragment"
    }
   },
   "source": [
    "There are 4 main types of merges, but all of them require **four** arguments:\n",
    "- `left`: first `DataFrame` or `Series` to merge\n",
    "- `right`: second `DataFrame` or `Series` to merge with the first \n",
    "- `on`: the name of the \"key\" column(s) you'll use to identify matching/corresponding rows in each table\n",
    "- `how`: the type of merge to perform (default is \"inner\")"
   ]
  },
  {
   "cell_type": "markdown",
   "id": "79a53b90",
   "metadata": {
    "slideshow": {
     "slide_type": "slide"
    }
   },
   "source": [
    "Let's see how this works in practice. First we'll create some data:"
   ]
  },
  {
   "cell_type": "code",
   "execution_count": 1,
   "id": "b4e09938",
   "metadata": {
    "slideshow": {
     "slide_type": "fragment"
    }
   },
   "outputs": [],
   "source": [
    "import pandas as pd\n",
    "\n",
    "left = pd.DataFrame(\n",
    "\n",
    "    {\n",
    "        \"key1\": [\"K0\", \"K0\", \"K1\", \"K2\"],\n",
    "        \"key2\": [\"K0\", \"K1\", \"K0\", \"K1\"],\n",
    "        \"A\": [\"A0\", \"A1\", \"A2\", \"A3\"],\n",
    "        \"B\": [\"B0\", \"B1\", \"B2\", \"B3\"],\n",
    "    }\n",
    "\n",
    ")\n",
    "\n",
    "right = pd.DataFrame(\n",
    "    {\n",
    "        \"key1\": [\"K0\", \"K1\", \"K1\", \"K2\"],\n",
    "        \"key2\": [\"K0\", \"K0\", \"K0\", \"K0\"],\n",
    "        \"C\": [\"C0\", \"C1\", \"C2\", \"C3\"],\n",
    "        \"D\": [\"D0\", \"D1\", \"D2\", \"D3\"],\n",
    "    }\n",
    ")"
   ]
  },
  {
   "cell_type": "markdown",
   "id": "7106da4b",
   "metadata": {
    "slideshow": {
     "slide_type": "slide"
    }
   },
   "source": [
    "And now we'll do some merges\n",
    "\n",
    "**inner** join\n",
    "![](https://pandas.pydata.org/pandas-docs/stable/_images/merging_merge_on_key_multiple.png)"
   ]
  },
  {
   "cell_type": "code",
   "execution_count": 2,
   "id": "56ca7931",
   "metadata": {
    "slideshow": {
     "slide_type": "fragment"
    }
   },
   "outputs": [
    {
     "data": {
      "text/html": [
       "<div>\n",
       "<style scoped>\n",
       "    .dataframe tbody tr th:only-of-type {\n",
       "        vertical-align: middle;\n",
       "    }\n",
       "\n",
       "    .dataframe tbody tr th {\n",
       "        vertical-align: top;\n",
       "    }\n",
       "\n",
       "    .dataframe thead th {\n",
       "        text-align: right;\n",
       "    }\n",
       "</style>\n",
       "<table border=\"1\" class=\"dataframe\">\n",
       "  <thead>\n",
       "    <tr style=\"text-align: right;\">\n",
       "      <th></th>\n",
       "      <th>key1</th>\n",
       "      <th>key2</th>\n",
       "      <th>A</th>\n",
       "      <th>B</th>\n",
       "      <th>C</th>\n",
       "      <th>D</th>\n",
       "    </tr>\n",
       "  </thead>\n",
       "  <tbody>\n",
       "    <tr>\n",
       "      <th>0</th>\n",
       "      <td>K0</td>\n",
       "      <td>K0</td>\n",
       "      <td>A0</td>\n",
       "      <td>B0</td>\n",
       "      <td>C0</td>\n",
       "      <td>D0</td>\n",
       "    </tr>\n",
       "    <tr>\n",
       "      <th>1</th>\n",
       "      <td>K1</td>\n",
       "      <td>K0</td>\n",
       "      <td>A2</td>\n",
       "      <td>B2</td>\n",
       "      <td>C1</td>\n",
       "      <td>D1</td>\n",
       "    </tr>\n",
       "    <tr>\n",
       "      <th>2</th>\n",
       "      <td>K1</td>\n",
       "      <td>K0</td>\n",
       "      <td>A2</td>\n",
       "      <td>B2</td>\n",
       "      <td>C2</td>\n",
       "      <td>D2</td>\n",
       "    </tr>\n",
       "  </tbody>\n",
       "</table>\n",
       "</div>"
      ],
      "text/plain": [
       "  key1 key2   A   B   C   D\n",
       "0   K0   K0  A0  B0  C0  D0\n",
       "1   K1   K0  A2  B2  C1  D1\n",
       "2   K1   K0  A2  B2  C2  D2"
      ]
     },
     "execution_count": 2,
     "metadata": {},
     "output_type": "execute_result"
    }
   ],
   "source": [
    "pd.merge(left, right, on=[\"key1\", \"key2\"])  # inner is default \"how\", so we don't need to specify it"
   ]
  },
  {
   "cell_type": "markdown",
   "id": "26d322aa",
   "metadata": {
    "slideshow": {
     "slide_type": "slide"
    }
   },
   "source": [
    "**left** join\n",
    "![](https://pandas.pydata.org/pandas-docs/stable/_images/merging_merge_on_key_left.png)"
   ]
  },
  {
   "cell_type": "code",
   "execution_count": null,
   "id": "d954ecc7",
   "metadata": {},
   "outputs": [],
   "source": []
  },
  {
   "cell_type": "code",
   "execution_count": 3,
   "id": "9047366f",
   "metadata": {
    "slideshow": {
     "slide_type": "fragment"
    }
   },
   "outputs": [
    {
     "data": {
      "text/html": [
       "<div>\n",
       "<style scoped>\n",
       "    .dataframe tbody tr th:only-of-type {\n",
       "        vertical-align: middle;\n",
       "    }\n",
       "\n",
       "    .dataframe tbody tr th {\n",
       "        vertical-align: top;\n",
       "    }\n",
       "\n",
       "    .dataframe thead th {\n",
       "        text-align: right;\n",
       "    }\n",
       "</style>\n",
       "<table border=\"1\" class=\"dataframe\">\n",
       "  <thead>\n",
       "    <tr style=\"text-align: right;\">\n",
       "      <th></th>\n",
       "      <th>key1</th>\n",
       "      <th>key2</th>\n",
       "      <th>A</th>\n",
       "      <th>B</th>\n",
       "      <th>C</th>\n",
       "      <th>D</th>\n",
       "    </tr>\n",
       "  </thead>\n",
       "  <tbody>\n",
       "    <tr>\n",
       "      <th>0</th>\n",
       "      <td>K0</td>\n",
       "      <td>K0</td>\n",
       "      <td>A0</td>\n",
       "      <td>B0</td>\n",
       "      <td>C0</td>\n",
       "      <td>D0</td>\n",
       "    </tr>\n",
       "    <tr>\n",
       "      <th>1</th>\n",
       "      <td>K0</td>\n",
       "      <td>K1</td>\n",
       "      <td>A1</td>\n",
       "      <td>B1</td>\n",
       "      <td>NaN</td>\n",
       "      <td>NaN</td>\n",
       "    </tr>\n",
       "    <tr>\n",
       "      <th>2</th>\n",
       "      <td>K1</td>\n",
       "      <td>K0</td>\n",
       "      <td>A2</td>\n",
       "      <td>B2</td>\n",
       "      <td>C1</td>\n",
       "      <td>D1</td>\n",
       "    </tr>\n",
       "    <tr>\n",
       "      <th>3</th>\n",
       "      <td>K1</td>\n",
       "      <td>K0</td>\n",
       "      <td>A2</td>\n",
       "      <td>B2</td>\n",
       "      <td>C2</td>\n",
       "      <td>D2</td>\n",
       "    </tr>\n",
       "    <tr>\n",
       "      <th>4</th>\n",
       "      <td>K2</td>\n",
       "      <td>K1</td>\n",
       "      <td>A3</td>\n",
       "      <td>B3</td>\n",
       "      <td>NaN</td>\n",
       "      <td>NaN</td>\n",
       "    </tr>\n",
       "  </tbody>\n",
       "</table>\n",
       "</div>"
      ],
      "text/plain": [
       "  key1 key2   A   B    C    D\n",
       "0   K0   K0  A0  B0   C0   D0\n",
       "1   K0   K1  A1  B1  NaN  NaN\n",
       "2   K1   K0  A2  B2   C1   D1\n",
       "3   K1   K0  A2  B2   C2   D2\n",
       "4   K2   K1  A3  B3  NaN  NaN"
      ]
     },
     "execution_count": 3,
     "metadata": {},
     "output_type": "execute_result"
    }
   ],
   "source": [
    "\n",
    "pd.merge(left, right, how=\"left\", on=[\"key1\", \"key2\"])"
   ]
  },
  {
   "cell_type": "markdown",
   "id": "10a175a1",
   "metadata": {
    "slideshow": {
     "slide_type": "slide"
    }
   },
   "source": [
    "**right** join\n",
    "![](https://pandas.pydata.org/pandas-docs/stable/_images/merging_merge_on_key_right.png)"
   ]
  },
  {
   "cell_type": "code",
   "execution_count": 4,
   "id": "7f241bae",
   "metadata": {
    "slideshow": {
     "slide_type": "fragment"
    }
   },
   "outputs": [
    {
     "data": {
      "text/html": [
       "<div>\n",
       "<style scoped>\n",
       "    .dataframe tbody tr th:only-of-type {\n",
       "        vertical-align: middle;\n",
       "    }\n",
       "\n",
       "    .dataframe tbody tr th {\n",
       "        vertical-align: top;\n",
       "    }\n",
       "\n",
       "    .dataframe thead th {\n",
       "        text-align: right;\n",
       "    }\n",
       "</style>\n",
       "<table border=\"1\" class=\"dataframe\">\n",
       "  <thead>\n",
       "    <tr style=\"text-align: right;\">\n",
       "      <th></th>\n",
       "      <th>key1</th>\n",
       "      <th>key2</th>\n",
       "      <th>A</th>\n",
       "      <th>B</th>\n",
       "      <th>C</th>\n",
       "      <th>D</th>\n",
       "    </tr>\n",
       "  </thead>\n",
       "  <tbody>\n",
       "    <tr>\n",
       "      <th>0</th>\n",
       "      <td>K0</td>\n",
       "      <td>K0</td>\n",
       "      <td>A0</td>\n",
       "      <td>B0</td>\n",
       "      <td>C0</td>\n",
       "      <td>D0</td>\n",
       "    </tr>\n",
       "    <tr>\n",
       "      <th>1</th>\n",
       "      <td>K1</td>\n",
       "      <td>K0</td>\n",
       "      <td>A2</td>\n",
       "      <td>B2</td>\n",
       "      <td>C1</td>\n",
       "      <td>D1</td>\n",
       "    </tr>\n",
       "    <tr>\n",
       "      <th>2</th>\n",
       "      <td>K1</td>\n",
       "      <td>K0</td>\n",
       "      <td>A2</td>\n",
       "      <td>B2</td>\n",
       "      <td>C2</td>\n",
       "      <td>D2</td>\n",
       "    </tr>\n",
       "    <tr>\n",
       "      <th>3</th>\n",
       "      <td>K2</td>\n",
       "      <td>K0</td>\n",
       "      <td>NaN</td>\n",
       "      <td>NaN</td>\n",
       "      <td>C3</td>\n",
       "      <td>D3</td>\n",
       "    </tr>\n",
       "  </tbody>\n",
       "</table>\n",
       "</div>"
      ],
      "text/plain": [
       "  key1 key2    A    B   C   D\n",
       "0   K0   K0   A0   B0  C0  D0\n",
       "1   K1   K0   A2   B2  C1  D1\n",
       "2   K1   K0   A2   B2  C2  D2\n",
       "3   K2   K0  NaN  NaN  C3  D3"
      ]
     },
     "execution_count": 4,
     "metadata": {},
     "output_type": "execute_result"
    }
   ],
   "source": [
    "pd.merge(left, right, how=\"right\", on=[\"key1\", \"key2\"])"
   ]
  },
  {
   "cell_type": "markdown",
   "id": "2cd4b6a0",
   "metadata": {
    "slideshow": {
     "slide_type": "slide"
    }
   },
   "source": [
    "**outer** (A.K.A. full) join\n",
    "![](https://pandas.pydata.org/pandas-docs/stable/_images/merging_merge_on_key_outer.png)"
   ]
  },
  {
   "cell_type": "code",
   "execution_count": 5,
   "id": "bfe044ad",
   "metadata": {
    "slideshow": {
     "slide_type": "fragment"
    }
   },
   "outputs": [
    {
     "data": {
      "text/html": [
       "<div>\n",
       "<style scoped>\n",
       "    .dataframe tbody tr th:only-of-type {\n",
       "        vertical-align: middle;\n",
       "    }\n",
       "\n",
       "    .dataframe tbody tr th {\n",
       "        vertical-align: top;\n",
       "    }\n",
       "\n",
       "    .dataframe thead th {\n",
       "        text-align: right;\n",
       "    }\n",
       "</style>\n",
       "<table border=\"1\" class=\"dataframe\">\n",
       "  <thead>\n",
       "    <tr style=\"text-align: right;\">\n",
       "      <th></th>\n",
       "      <th>key1</th>\n",
       "      <th>key2</th>\n",
       "      <th>A</th>\n",
       "      <th>B</th>\n",
       "      <th>C</th>\n",
       "      <th>D</th>\n",
       "    </tr>\n",
       "  </thead>\n",
       "  <tbody>\n",
       "    <tr>\n",
       "      <th>0</th>\n",
       "      <td>K0</td>\n",
       "      <td>K0</td>\n",
       "      <td>A0</td>\n",
       "      <td>B0</td>\n",
       "      <td>C0</td>\n",
       "      <td>D0</td>\n",
       "    </tr>\n",
       "    <tr>\n",
       "      <th>1</th>\n",
       "      <td>K0</td>\n",
       "      <td>K1</td>\n",
       "      <td>A1</td>\n",
       "      <td>B1</td>\n",
       "      <td>NaN</td>\n",
       "      <td>NaN</td>\n",
       "    </tr>\n",
       "    <tr>\n",
       "      <th>2</th>\n",
       "      <td>K1</td>\n",
       "      <td>K0</td>\n",
       "      <td>A2</td>\n",
       "      <td>B2</td>\n",
       "      <td>C1</td>\n",
       "      <td>D1</td>\n",
       "    </tr>\n",
       "    <tr>\n",
       "      <th>3</th>\n",
       "      <td>K1</td>\n",
       "      <td>K0</td>\n",
       "      <td>A2</td>\n",
       "      <td>B2</td>\n",
       "      <td>C2</td>\n",
       "      <td>D2</td>\n",
       "    </tr>\n",
       "    <tr>\n",
       "      <th>4</th>\n",
       "      <td>K2</td>\n",
       "      <td>K1</td>\n",
       "      <td>A3</td>\n",
       "      <td>B3</td>\n",
       "      <td>NaN</td>\n",
       "      <td>NaN</td>\n",
       "    </tr>\n",
       "    <tr>\n",
       "      <th>5</th>\n",
       "      <td>K2</td>\n",
       "      <td>K0</td>\n",
       "      <td>NaN</td>\n",
       "      <td>NaN</td>\n",
       "      <td>C3</td>\n",
       "      <td>D3</td>\n",
       "    </tr>\n",
       "  </tbody>\n",
       "</table>\n",
       "</div>"
      ],
      "text/plain": [
       "  key1 key2    A    B    C    D\n",
       "0   K0   K0   A0   B0   C0   D0\n",
       "1   K0   K1   A1   B1  NaN  NaN\n",
       "2   K1   K0   A2   B2   C1   D1\n",
       "3   K1   K0   A2   B2   C2   D2\n",
       "4   K2   K1   A3   B3  NaN  NaN\n",
       "5   K2   K0  NaN  NaN   C3   D3"
      ]
     },
     "execution_count": 5,
     "metadata": {},
     "output_type": "execute_result"
    }
   ],
   "source": [
    "pd.merge(left, right, how=\"outer\", on=[\"key1\", \"key2\"])"
   ]
  },
  {
   "cell_type": "markdown",
   "id": "f209cc05",
   "metadata": {
    "slideshow": {
     "slide_type": "slide"
    }
   },
   "source": [
    "**cross** join (A.K.A. Cartesian Product)\n",
    "![](https://pandas.pydata.org/pandas-docs/stable/_images/merging_merge_cross.png)"
   ]
  },
  {
   "cell_type": "code",
   "execution_count": 6,
   "id": "dc70f3c0",
   "metadata": {
    "slideshow": {
     "slide_type": "fragment"
    }
   },
   "outputs": [
    {
     "data": {
      "text/html": [
       "<div>\n",
       "<style scoped>\n",
       "    .dataframe tbody tr th:only-of-type {\n",
       "        vertical-align: middle;\n",
       "    }\n",
       "\n",
       "    .dataframe tbody tr th {\n",
       "        vertical-align: top;\n",
       "    }\n",
       "\n",
       "    .dataframe thead th {\n",
       "        text-align: right;\n",
       "    }\n",
       "</style>\n",
       "<table border=\"1\" class=\"dataframe\">\n",
       "  <thead>\n",
       "    <tr style=\"text-align: right;\">\n",
       "      <th></th>\n",
       "      <th>key1_x</th>\n",
       "      <th>key2_x</th>\n",
       "      <th>A</th>\n",
       "      <th>B</th>\n",
       "      <th>key1_y</th>\n",
       "      <th>key2_y</th>\n",
       "      <th>C</th>\n",
       "      <th>D</th>\n",
       "    </tr>\n",
       "  </thead>\n",
       "  <tbody>\n",
       "    <tr>\n",
       "      <th>0</th>\n",
       "      <td>K0</td>\n",
       "      <td>K0</td>\n",
       "      <td>A0</td>\n",
       "      <td>B0</td>\n",
       "      <td>K0</td>\n",
       "      <td>K0</td>\n",
       "      <td>C0</td>\n",
       "      <td>D0</td>\n",
       "    </tr>\n",
       "    <tr>\n",
       "      <th>1</th>\n",
       "      <td>K0</td>\n",
       "      <td>K0</td>\n",
       "      <td>A0</td>\n",
       "      <td>B0</td>\n",
       "      <td>K1</td>\n",
       "      <td>K0</td>\n",
       "      <td>C1</td>\n",
       "      <td>D1</td>\n",
       "    </tr>\n",
       "    <tr>\n",
       "      <th>2</th>\n",
       "      <td>K0</td>\n",
       "      <td>K0</td>\n",
       "      <td>A0</td>\n",
       "      <td>B0</td>\n",
       "      <td>K1</td>\n",
       "      <td>K0</td>\n",
       "      <td>C2</td>\n",
       "      <td>D2</td>\n",
       "    </tr>\n",
       "    <tr>\n",
       "      <th>3</th>\n",
       "      <td>K0</td>\n",
       "      <td>K0</td>\n",
       "      <td>A0</td>\n",
       "      <td>B0</td>\n",
       "      <td>K2</td>\n",
       "      <td>K0</td>\n",
       "      <td>C3</td>\n",
       "      <td>D3</td>\n",
       "    </tr>\n",
       "    <tr>\n",
       "      <th>4</th>\n",
       "      <td>K0</td>\n",
       "      <td>K1</td>\n",
       "      <td>A1</td>\n",
       "      <td>B1</td>\n",
       "      <td>K0</td>\n",
       "      <td>K0</td>\n",
       "      <td>C0</td>\n",
       "      <td>D0</td>\n",
       "    </tr>\n",
       "  </tbody>\n",
       "</table>\n",
       "</div>"
      ],
      "text/plain": [
       "  key1_x key2_x   A   B key1_y key2_y   C   D\n",
       "0     K0     K0  A0  B0     K0     K0  C0  D0\n",
       "1     K0     K0  A0  B0     K1     K0  C1  D1\n",
       "2     K0     K0  A0  B0     K1     K0  C2  D2\n",
       "3     K0     K0  A0  B0     K2     K0  C3  D3\n",
       "4     K0     K1  A1  B1     K0     K0  C0  D0"
      ]
     },
     "execution_count": 6,
     "metadata": {},
     "output_type": "execute_result"
    }
   ],
   "source": [
    "pd.merge(left, right, how=\"cross\").head()"
   ]
  },
  {
   "cell_type": "markdown",
   "id": "1cbd29dc",
   "metadata": {
    "slideshow": {
     "slide_type": "slide"
    }
   },
   "source": [
    "## 2.3 Handling duplicate column names"
   ]
  },
  {
   "cell_type": "code",
   "execution_count": 7,
   "id": "ecff9174",
   "metadata": {
    "slideshow": {
     "slide_type": "slide"
    }
   },
   "outputs": [
    {
     "data": {
      "text/html": [
       "<div>\n",
       "<style scoped>\n",
       "    .dataframe tbody tr th:only-of-type {\n",
       "        vertical-align: middle;\n",
       "    }\n",
       "\n",
       "    .dataframe tbody tr th {\n",
       "        vertical-align: top;\n",
       "    }\n",
       "\n",
       "    .dataframe thead th {\n",
       "        text-align: right;\n",
       "    }\n",
       "</style>\n",
       "<table border=\"1\" class=\"dataframe\">\n",
       "  <thead>\n",
       "    <tr style=\"text-align: right;\">\n",
       "      <th></th>\n",
       "      <th>A_x</th>\n",
       "      <th>B</th>\n",
       "      <th>C</th>\n",
       "      <th>A_y</th>\n",
       "      <th>D</th>\n",
       "    </tr>\n",
       "  </thead>\n",
       "  <tbody>\n",
       "    <tr>\n",
       "      <th>0</th>\n",
       "      <td>4</td>\n",
       "      <td>2</td>\n",
       "      <td>5</td>\n",
       "      <td>4</td>\n",
       "      <td>9</td>\n",
       "    </tr>\n",
       "    <tr>\n",
       "      <th>1</th>\n",
       "      <td>4</td>\n",
       "      <td>2</td>\n",
       "      <td>5</td>\n",
       "      <td>5</td>\n",
       "      <td>8</td>\n",
       "    </tr>\n",
       "    <tr>\n",
       "      <th>2</th>\n",
       "      <td>4</td>\n",
       "      <td>2</td>\n",
       "      <td>5</td>\n",
       "      <td>6</td>\n",
       "      <td>1</td>\n",
       "    </tr>\n",
       "    <tr>\n",
       "      <th>3</th>\n",
       "      <td>5</td>\n",
       "      <td>2</td>\n",
       "      <td>7</td>\n",
       "      <td>4</td>\n",
       "      <td>9</td>\n",
       "    </tr>\n",
       "    <tr>\n",
       "      <th>4</th>\n",
       "      <td>5</td>\n",
       "      <td>2</td>\n",
       "      <td>7</td>\n",
       "      <td>5</td>\n",
       "      <td>8</td>\n",
       "    </tr>\n",
       "    <tr>\n",
       "      <th>5</th>\n",
       "      <td>5</td>\n",
       "      <td>2</td>\n",
       "      <td>7</td>\n",
       "      <td>6</td>\n",
       "      <td>1</td>\n",
       "    </tr>\n",
       "  </tbody>\n",
       "</table>\n",
       "</div>"
      ],
      "text/plain": [
       "   A_x  B  C  A_y  D\n",
       "0    4  2  5    4  9\n",
       "1    4  2  5    5  8\n",
       "2    4  2  5    6  1\n",
       "3    5  2  7    4  9\n",
       "4    5  2  7    5  8\n",
       "5    5  2  7    6  1"
      ]
     },
     "execution_count": 7,
     "metadata": {},
     "output_type": "execute_result"
    }
   ],
   "source": [
    "left = pd.DataFrame({\"A\": [4, 5], \"B\": [2, 2], \"C\": [5, 7]})\n",
    "right = pd.DataFrame({\"A\": [4, 5, 6], \"B\": [2, 2, 2], \"D\": [9, 8, 1]})\n",
    "pd.merge(left, right, on=\"B\", how=\"inner\")"
   ]
  },
  {
   "cell_type": "markdown",
   "id": "367e6fce",
   "metadata": {
    "slideshow": {
     "slide_type": "slide"
    }
   },
   "source": [
    "### 2.3.1 Define your own suffixes!"
   ]
  },
  {
   "cell_type": "markdown",
   "id": "07c00fec",
   "metadata": {
    "slideshow": {
     "slide_type": "fragment"
    }
   },
   "source": [
    "**Keep all columns, but give them meaningful names**"
   ]
  },
  {
   "cell_type": "code",
   "execution_count": 8,
   "id": "881400a5",
   "metadata": {
    "slideshow": {
     "slide_type": "fragment"
    }
   },
   "outputs": [
    {
     "data": {
      "text/html": [
       "<div>\n",
       "<style scoped>\n",
       "    .dataframe tbody tr th:only-of-type {\n",
       "        vertical-align: middle;\n",
       "    }\n",
       "\n",
       "    .dataframe tbody tr th {\n",
       "        vertical-align: top;\n",
       "    }\n",
       "\n",
       "    .dataframe thead th {\n",
       "        text-align: right;\n",
       "    }\n",
       "</style>\n",
       "<table border=\"1\" class=\"dataframe\">\n",
       "  <thead>\n",
       "    <tr style=\"text-align: right;\">\n",
       "      <th></th>\n",
       "      <th>A_left</th>\n",
       "      <th>B</th>\n",
       "      <th>C</th>\n",
       "      <th>A_right</th>\n",
       "      <th>D</th>\n",
       "    </tr>\n",
       "  </thead>\n",
       "  <tbody>\n",
       "    <tr>\n",
       "      <th>0</th>\n",
       "      <td>4</td>\n",
       "      <td>2</td>\n",
       "      <td>5</td>\n",
       "      <td>4</td>\n",
       "      <td>9</td>\n",
       "    </tr>\n",
       "    <tr>\n",
       "      <th>1</th>\n",
       "      <td>4</td>\n",
       "      <td>2</td>\n",
       "      <td>5</td>\n",
       "      <td>5</td>\n",
       "      <td>8</td>\n",
       "    </tr>\n",
       "    <tr>\n",
       "      <th>2</th>\n",
       "      <td>4</td>\n",
       "      <td>2</td>\n",
       "      <td>5</td>\n",
       "      <td>6</td>\n",
       "      <td>1</td>\n",
       "    </tr>\n",
       "    <tr>\n",
       "      <th>3</th>\n",
       "      <td>5</td>\n",
       "      <td>2</td>\n",
       "      <td>7</td>\n",
       "      <td>4</td>\n",
       "      <td>9</td>\n",
       "    </tr>\n",
       "    <tr>\n",
       "      <th>4</th>\n",
       "      <td>5</td>\n",
       "      <td>2</td>\n",
       "      <td>7</td>\n",
       "      <td>5</td>\n",
       "      <td>8</td>\n",
       "    </tr>\n",
       "    <tr>\n",
       "      <th>5</th>\n",
       "      <td>5</td>\n",
       "      <td>2</td>\n",
       "      <td>7</td>\n",
       "      <td>6</td>\n",
       "      <td>1</td>\n",
       "    </tr>\n",
       "  </tbody>\n",
       "</table>\n",
       "</div>"
      ],
      "text/plain": [
       "   A_left  B  C  A_right  D\n",
       "0       4  2  5        4  9\n",
       "1       4  2  5        5  8\n",
       "2       4  2  5        6  1\n",
       "3       5  2  7        4  9\n",
       "4       5  2  7        5  8\n",
       "5       5  2  7        6  1"
      ]
     },
     "execution_count": 8,
     "metadata": {},
     "output_type": "execute_result"
    }
   ],
   "source": [
    "pd.merge(left, right, on=\"B\", how=\"inner\", suffixes=('_left', '_right'))"
   ]
  },
  {
   "cell_type": "markdown",
   "id": "0e7ead92",
   "metadata": {
    "slideshow": {
     "slide_type": "slide"
    }
   },
   "source": [
    "**Use suffixes to drop duplicate columns after merge**"
   ]
  },
  {
   "cell_type": "code",
   "execution_count": 9,
   "id": "25f771a6",
   "metadata": {
    "slideshow": {
     "slide_type": "fragment"
    }
   },
   "outputs": [],
   "source": [
    "result = pd.merge(left, right, on=\"B\", how=\"inner\", suffixes=('_trash', ''))"
   ]
  },
  {
   "cell_type": "code",
   "execution_count": 10,
   "id": "f7bcafe0",
   "metadata": {
    "slideshow": {
     "slide_type": "fragment"
    }
   },
   "outputs": [
    {
     "data": {
      "text/html": [
       "<div>\n",
       "<style scoped>\n",
       "    .dataframe tbody tr th:only-of-type {\n",
       "        vertical-align: middle;\n",
       "    }\n",
       "\n",
       "    .dataframe tbody tr th {\n",
       "        vertical-align: top;\n",
       "    }\n",
       "\n",
       "    .dataframe thead th {\n",
       "        text-align: right;\n",
       "    }\n",
       "</style>\n",
       "<table border=\"1\" class=\"dataframe\">\n",
       "  <thead>\n",
       "    <tr style=\"text-align: right;\">\n",
       "      <th></th>\n",
       "      <th>B</th>\n",
       "      <th>C</th>\n",
       "      <th>A</th>\n",
       "      <th>D</th>\n",
       "    </tr>\n",
       "  </thead>\n",
       "  <tbody>\n",
       "    <tr>\n",
       "      <th>0</th>\n",
       "      <td>2</td>\n",
       "      <td>5</td>\n",
       "      <td>4</td>\n",
       "      <td>9</td>\n",
       "    </tr>\n",
       "    <tr>\n",
       "      <th>1</th>\n",
       "      <td>2</td>\n",
       "      <td>5</td>\n",
       "      <td>5</td>\n",
       "      <td>8</td>\n",
       "    </tr>\n",
       "    <tr>\n",
       "      <th>2</th>\n",
       "      <td>2</td>\n",
       "      <td>5</td>\n",
       "      <td>6</td>\n",
       "      <td>1</td>\n",
       "    </tr>\n",
       "    <tr>\n",
       "      <th>3</th>\n",
       "      <td>2</td>\n",
       "      <td>7</td>\n",
       "      <td>4</td>\n",
       "      <td>9</td>\n",
       "    </tr>\n",
       "    <tr>\n",
       "      <th>4</th>\n",
       "      <td>2</td>\n",
       "      <td>7</td>\n",
       "      <td>5</td>\n",
       "      <td>8</td>\n",
       "    </tr>\n",
       "    <tr>\n",
       "      <th>5</th>\n",
       "      <td>2</td>\n",
       "      <td>7</td>\n",
       "      <td>6</td>\n",
       "      <td>1</td>\n",
       "    </tr>\n",
       "  </tbody>\n",
       "</table>\n",
       "</div>"
      ],
      "text/plain": [
       "   B  C  A  D\n",
       "0  2  5  4  9\n",
       "1  2  5  5  8\n",
       "2  2  5  6  1\n",
       "3  2  7  4  9\n",
       "4  2  7  5  8\n",
       "5  2  7  6  1"
      ]
     },
     "execution_count": 10,
     "metadata": {},
     "output_type": "execute_result"
    }
   ],
   "source": [
    "# keep only cols you want\n",
    "good_cols = [col for col in result.columns if not 'trash' in col]\n",
    "result[good_cols]"
   ]
  },
  {
   "cell_type": "code",
   "execution_count": 11,
   "id": "5ef30a41",
   "metadata": {
    "slideshow": {
     "slide_type": "fragment"
    }
   },
   "outputs": [
    {
     "data": {
      "text/html": [
       "<div>\n",
       "<style scoped>\n",
       "    .dataframe tbody tr th:only-of-type {\n",
       "        vertical-align: middle;\n",
       "    }\n",
       "\n",
       "    .dataframe tbody tr th {\n",
       "        vertical-align: top;\n",
       "    }\n",
       "\n",
       "    .dataframe thead th {\n",
       "        text-align: right;\n",
       "    }\n",
       "</style>\n",
       "<table border=\"1\" class=\"dataframe\">\n",
       "  <thead>\n",
       "    <tr style=\"text-align: right;\">\n",
       "      <th></th>\n",
       "      <th>B</th>\n",
       "      <th>C</th>\n",
       "      <th>A</th>\n",
       "      <th>D</th>\n",
       "    </tr>\n",
       "  </thead>\n",
       "  <tbody>\n",
       "    <tr>\n",
       "      <th>0</th>\n",
       "      <td>2</td>\n",
       "      <td>5</td>\n",
       "      <td>4</td>\n",
       "      <td>9</td>\n",
       "    </tr>\n",
       "    <tr>\n",
       "      <th>1</th>\n",
       "      <td>2</td>\n",
       "      <td>5</td>\n",
       "      <td>5</td>\n",
       "      <td>8</td>\n",
       "    </tr>\n",
       "    <tr>\n",
       "      <th>2</th>\n",
       "      <td>2</td>\n",
       "      <td>5</td>\n",
       "      <td>6</td>\n",
       "      <td>1</td>\n",
       "    </tr>\n",
       "    <tr>\n",
       "      <th>3</th>\n",
       "      <td>2</td>\n",
       "      <td>7</td>\n",
       "      <td>4</td>\n",
       "      <td>9</td>\n",
       "    </tr>\n",
       "    <tr>\n",
       "      <th>4</th>\n",
       "      <td>2</td>\n",
       "      <td>7</td>\n",
       "      <td>5</td>\n",
       "      <td>8</td>\n",
       "    </tr>\n",
       "    <tr>\n",
       "      <th>5</th>\n",
       "      <td>2</td>\n",
       "      <td>7</td>\n",
       "      <td>6</td>\n",
       "      <td>1</td>\n",
       "    </tr>\n",
       "  </tbody>\n",
       "</table>\n",
       "</div>"
      ],
      "text/plain": [
       "   B  C  A  D\n",
       "0  2  5  4  9\n",
       "1  2  5  5  8\n",
       "2  2  5  6  1\n",
       "3  2  7  4  9\n",
       "4  2  7  5  8\n",
       "5  2  7  6  1"
      ]
     },
     "execution_count": 11,
     "metadata": {},
     "output_type": "execute_result"
    }
   ],
   "source": [
    "# drop cols you don't want\n",
    "trash_cols = [col for col in result.columns if 'trash' in col]\n",
    "result.drop(trash_cols, axis=1)  # \"axis\" tells pandas to drop columns (axis=1) or rows (axis=2)"
   ]
  },
  {
   "cell_type": "markdown",
   "id": "c691b7aa",
   "metadata": {
    "slideshow": {
     "slide_type": "slide"
    }
   },
   "source": [
    "### 2.3.2 Filter out duplicate columns before you merge!"
   ]
  },
  {
   "cell_type": "code",
   "execution_count": 12,
   "id": "c7fabb32",
   "metadata": {
    "slideshow": {
     "slide_type": "fragment"
    }
   },
   "outputs": [
    {
     "data": {
      "text/html": [
       "<div>\n",
       "<style scoped>\n",
       "    .dataframe tbody tr th:only-of-type {\n",
       "        vertical-align: middle;\n",
       "    }\n",
       "\n",
       "    .dataframe tbody tr th {\n",
       "        vertical-align: top;\n",
       "    }\n",
       "\n",
       "    .dataframe thead th {\n",
       "        text-align: right;\n",
       "    }\n",
       "</style>\n",
       "<table border=\"1\" class=\"dataframe\">\n",
       "  <thead>\n",
       "    <tr style=\"text-align: right;\">\n",
       "      <th></th>\n",
       "      <th>B</th>\n",
       "      <th>C</th>\n",
       "      <th>A</th>\n",
       "      <th>D</th>\n",
       "    </tr>\n",
       "  </thead>\n",
       "  <tbody>\n",
       "    <tr>\n",
       "      <th>0</th>\n",
       "      <td>2</td>\n",
       "      <td>5</td>\n",
       "      <td>4</td>\n",
       "      <td>9</td>\n",
       "    </tr>\n",
       "    <tr>\n",
       "      <th>1</th>\n",
       "      <td>2</td>\n",
       "      <td>5</td>\n",
       "      <td>5</td>\n",
       "      <td>8</td>\n",
       "    </tr>\n",
       "    <tr>\n",
       "      <th>2</th>\n",
       "      <td>2</td>\n",
       "      <td>5</td>\n",
       "      <td>6</td>\n",
       "      <td>1</td>\n",
       "    </tr>\n",
       "    <tr>\n",
       "      <th>3</th>\n",
       "      <td>2</td>\n",
       "      <td>7</td>\n",
       "      <td>4</td>\n",
       "      <td>9</td>\n",
       "    </tr>\n",
       "    <tr>\n",
       "      <th>4</th>\n",
       "      <td>2</td>\n",
       "      <td>7</td>\n",
       "      <td>5</td>\n",
       "      <td>8</td>\n",
       "    </tr>\n",
       "    <tr>\n",
       "      <th>5</th>\n",
       "      <td>2</td>\n",
       "      <td>7</td>\n",
       "      <td>6</td>\n",
       "      <td>1</td>\n",
       "    </tr>\n",
       "  </tbody>\n",
       "</table>\n",
       "</div>"
      ],
      "text/plain": [
       "   B  C  A  D\n",
       "0  2  5  4  9\n",
       "1  2  5  5  8\n",
       "2  2  5  6  1\n",
       "3  2  7  4  9\n",
       "4  2  7  5  8\n",
       "5  2  7  6  1"
      ]
     },
     "execution_count": 12,
     "metadata": {},
     "output_type": "execute_result"
    }
   ],
   "source": [
    "key = \"B\"\n",
    "left_col_mask = [col for col in left.columns if (col not in right.columns) or (col == key)]\n",
    "pd.merge(left[left_col_mask], right, on=\"B\", how=\"inner\")"
   ]
  },
  {
   "cell_type": "markdown",
   "id": "9fb9afbb",
   "metadata": {
    "slideshow": {
     "slide_type": "slide"
    }
   },
   "source": [
    "# 3. Exploratory Data Analysis with pandas"
   ]
  },
  {
   "cell_type": "markdown",
   "id": "e01815ca",
   "metadata": {
    "slideshow": {
     "slide_type": "slide"
    }
   },
   "source": [
    "**READ THE DOCS**\n",
    "\n",
    "Most of the pandas-related material we saw **yesterday** corresponds to three sections of the pandas user guide:\n",
    "1. [Basics](https://pandas.pydata.org/pandas-docs/stable/user_guide/basics.html)\n",
    "2. [Indexing and Selecting](https://pandas.pydata.org/pandas-docs/stable/user_guide/indexing.html)\n",
    "3. [Merge, join, concatenate, and compare](https://pandas.pydata.org/pandas-docs/stable/user_guide/merging.html)\n",
    "\n",
    "\n",
    "Most of the material we're covering **today** is also covered in the following three sections of the pandas user guide:\n",
    "1. [Group by: split-apply-combine](https://pandas.pydata.org/pandas-docs/stable/user_guide/groupby.html)\n",
    "2. [Reshaping and pivot tables](https://pandas.pydata.org/pandas-docs/stable/user_guide/reshaping.html)\n",
    "3. [Chart visualization](https://pandas.pydata.org/pandas-docs/stable/user_guide/visualization.html)\n",
    "\n",
    "**Everything** we're covering in pandas is summarized nicely in the [10 minutes to pandas](https://pandas.pydata.org/pandas-docs/stable/user_guide/10min.html) section."
   ]
  },
  {
   "cell_type": "markdown",
   "id": "937ec377",
   "metadata": {
    "slideshow": {
     "slide_type": "slide"
    }
   },
   "source": [
    "## 3.1 The `groupby()` method"
   ]
  },
  {
   "cell_type": "markdown",
   "id": "03f8246b",
   "metadata": {
    "slideshow": {
     "slide_type": "slide"
    }
   },
   "source": [
    "For the first part of this lesson, we're going to be analyzing some Bay Area Census data which I've already grabbed for you (specifically the Summary File 1 (SF1) data from the 2010 Census). Refer to the [SF1 Data Dictionary](https://www.census.gov/prod/cen2010/doc/sf1.pdf) to see the list of column codes. I've compiled this data into an HDF5 file, which is kind of like a .zip archive that lets you unzip one file at a time."
   ]
  },
  {
   "cell_type": "code",
   "execution_count": 13,
   "id": "fa082556",
   "metadata": {
    "scrolled": true,
    "slideshow": {
     "slide_type": "fragment"
    }
   },
   "outputs": [
    {
     "data": {
      "text/html": [
       "<div>\n",
       "<style scoped>\n",
       "    .dataframe tbody tr th:only-of-type {\n",
       "        vertical-align: middle;\n",
       "    }\n",
       "\n",
       "    .dataframe tbody tr th {\n",
       "        vertical-align: top;\n",
       "    }\n",
       "\n",
       "    .dataframe thead th {\n",
       "        text-align: right;\n",
       "    }\n",
       "</style>\n",
       "<table border=\"1\" class=\"dataframe\">\n",
       "  <thead>\n",
       "    <tr style=\"text-align: right;\">\n",
       "      <th></th>\n",
       "      <th>logrecno</th>\n",
       "      <th>blockfips</th>\n",
       "      <th>state</th>\n",
       "      <th>county</th>\n",
       "      <th>tract</th>\n",
       "      <th>blkgrp</th>\n",
       "      <th>block</th>\n",
       "      <th>arealand</th>\n",
       "      <th>P0010001</th>\n",
       "      <th>P0020001</th>\n",
       "      <th>...</th>\n",
       "      <th>H0040003</th>\n",
       "      <th>H0040004</th>\n",
       "      <th>H0050001</th>\n",
       "      <th>H0050002</th>\n",
       "      <th>H0050003</th>\n",
       "      <th>H0050004</th>\n",
       "      <th>H0050005</th>\n",
       "      <th>H0050006</th>\n",
       "      <th>H0050007</th>\n",
       "      <th>H0050008</th>\n",
       "    </tr>\n",
       "  </thead>\n",
       "  <tbody>\n",
       "    <tr>\n",
       "      <th>0</th>\n",
       "      <td>25</td>\n",
       "      <td>060014271001000</td>\n",
       "      <td>06</td>\n",
       "      <td>001</td>\n",
       "      <td>427100</td>\n",
       "      <td>1</td>\n",
       "      <td>1000</td>\n",
       "      <td>0</td>\n",
       "      <td>0</td>\n",
       "      <td>0</td>\n",
       "      <td>...</td>\n",
       "      <td>0</td>\n",
       "      <td>0</td>\n",
       "      <td>0</td>\n",
       "      <td>0</td>\n",
       "      <td>0</td>\n",
       "      <td>0</td>\n",
       "      <td>0</td>\n",
       "      <td>0</td>\n",
       "      <td>0</td>\n",
       "      <td>0</td>\n",
       "    </tr>\n",
       "    <tr>\n",
       "      <th>1</th>\n",
       "      <td>26</td>\n",
       "      <td>060014271001001</td>\n",
       "      <td>06</td>\n",
       "      <td>001</td>\n",
       "      <td>427100</td>\n",
       "      <td>1</td>\n",
       "      <td>1001</td>\n",
       "      <td>79696</td>\n",
       "      <td>113</td>\n",
       "      <td>113</td>\n",
       "      <td>...</td>\n",
       "      <td>1</td>\n",
       "      <td>4</td>\n",
       "      <td>0</td>\n",
       "      <td>0</td>\n",
       "      <td>0</td>\n",
       "      <td>0</td>\n",
       "      <td>0</td>\n",
       "      <td>0</td>\n",
       "      <td>0</td>\n",
       "      <td>0</td>\n",
       "    </tr>\n",
       "    <tr>\n",
       "      <th>2</th>\n",
       "      <td>27</td>\n",
       "      <td>060014271001002</td>\n",
       "      <td>06</td>\n",
       "      <td>001</td>\n",
       "      <td>427100</td>\n",
       "      <td>1</td>\n",
       "      <td>1002</td>\n",
       "      <td>739</td>\n",
       "      <td>0</td>\n",
       "      <td>0</td>\n",
       "      <td>...</td>\n",
       "      <td>0</td>\n",
       "      <td>0</td>\n",
       "      <td>0</td>\n",
       "      <td>0</td>\n",
       "      <td>0</td>\n",
       "      <td>0</td>\n",
       "      <td>0</td>\n",
       "      <td>0</td>\n",
       "      <td>0</td>\n",
       "      <td>0</td>\n",
       "    </tr>\n",
       "    <tr>\n",
       "      <th>3</th>\n",
       "      <td>28</td>\n",
       "      <td>060014271001003</td>\n",
       "      <td>06</td>\n",
       "      <td>001</td>\n",
       "      <td>427100</td>\n",
       "      <td>1</td>\n",
       "      <td>1003</td>\n",
       "      <td>19546</td>\n",
       "      <td>29</td>\n",
       "      <td>29</td>\n",
       "      <td>...</td>\n",
       "      <td>0</td>\n",
       "      <td>7</td>\n",
       "      <td>3</td>\n",
       "      <td>0</td>\n",
       "      <td>0</td>\n",
       "      <td>1</td>\n",
       "      <td>0</td>\n",
       "      <td>0</td>\n",
       "      <td>0</td>\n",
       "      <td>2</td>\n",
       "    </tr>\n",
       "    <tr>\n",
       "      <th>4</th>\n",
       "      <td>29</td>\n",
       "      <td>060014271001004</td>\n",
       "      <td>06</td>\n",
       "      <td>001</td>\n",
       "      <td>427100</td>\n",
       "      <td>1</td>\n",
       "      <td>1004</td>\n",
       "      <td>14364</td>\n",
       "      <td>26</td>\n",
       "      <td>26</td>\n",
       "      <td>...</td>\n",
       "      <td>0</td>\n",
       "      <td>6</td>\n",
       "      <td>0</td>\n",
       "      <td>0</td>\n",
       "      <td>0</td>\n",
       "      <td>0</td>\n",
       "      <td>0</td>\n",
       "      <td>0</td>\n",
       "      <td>0</td>\n",
       "      <td>0</td>\n",
       "    </tr>\n",
       "  </tbody>\n",
       "</table>\n",
       "<p>5 rows × 42 columns</p>\n",
       "</div>"
      ],
      "text/plain": [
       "   logrecno        blockfips state county   tract  blkgrp block  arealand  \\\n",
       "0        25  060014271001000    06    001  427100       1  1000         0   \n",
       "1        26  060014271001001    06    001  427100       1  1001     79696   \n",
       "2        27  060014271001002    06    001  427100       1  1002       739   \n",
       "3        28  060014271001003    06    001  427100       1  1003     19546   \n",
       "4        29  060014271001004    06    001  427100       1  1004     14364   \n",
       "\n",
       "   P0010001  P0020001  ...  H0040003  H0040004  H0050001  H0050002  H0050003  \\\n",
       "0         0         0  ...         0         0         0         0         0   \n",
       "1       113       113  ...         1         4         0         0         0   \n",
       "2         0         0  ...         0         0         0         0         0   \n",
       "3        29        29  ...         0         7         3         0         0   \n",
       "4        26        26  ...         0         6         0         0         0   \n",
       "\n",
       "   H0050004  H0050005  H0050006  H0050007  H0050008  \n",
       "0         0         0         0         0         0  \n",
       "1         0         0         0         0         0  \n",
       "2         0         0         0         0         0  \n",
       "3         1         0         0         0         2  \n",
       "4         0         0         0         0         0  \n",
       "\n",
       "[5 rows x 42 columns]"
      ]
     },
     "execution_count": 13,
     "metadata": {},
     "output_type": "execute_result"
    }
   ],
   "source": [
    "sf1 = pd.read_hdf('data/bay_sf1_small.h5', 'sf1_extract')\n",
    "sf1.head()"
   ]
  },
  {
   "cell_type": "markdown",
   "id": "7897d0c9",
   "metadata": {
    "slideshow": {
     "slide_type": "slide"
    }
   },
   "source": [
    "**Note on HDF5 dependencies**\n",
    "\n",
    "pandas uses the `pytables` library to interact with .h5 files. If you don't have it installed and you try to run the cell above, Python may complain. Fear not. Did you know you can execute bash terminal commands directly from a notebook?"
   ]
  },
  {
   "cell_type": "code",
   "execution_count": 14,
   "id": "13110b3e",
   "metadata": {
    "slideshow": {
     "slide_type": "fragment"
    }
   },
   "outputs": [
    {
     "name": "stdout",
     "output_type": "stream",
     "text": [
      "Collecting package metadata (current_repodata.json): done\n",
      "Solving environment: done\n",
      "\n",
      "## Package Plan ##\n",
      "\n",
      "  environment location: /opt/anaconda3\n",
      "\n",
      "  added / updated specs:\n",
      "    - pytables\n",
      "\n",
      "\n",
      "The following packages will be downloaded:\n",
      "\n",
      "    package                    |            build\n",
      "    ---------------------------|-----------------\n",
      "    conda-4.11.0               |   py38hecd8cb5_0        14.4 MB\n",
      "    ------------------------------------------------------------\n",
      "                                           Total:        14.4 MB\n",
      "\n",
      "The following packages will be UPDATED:\n",
      "\n",
      "  conda                               4.10.3-py38hecd8cb5_0 --> 4.11.0-py38hecd8cb5_0\n",
      "\n",
      "\n",
      "Proceed ([y]/n)? ^C\n",
      "\n",
      "CondaSystemExit: \n",
      "Operation aborted.  Exiting.\n",
      "\n"
     ]
    }
   ],
   "source": [
    "!conda install pytables"
   ]
  },
  {
   "cell_type": "markdown",
   "id": "19ed74a3",
   "metadata": {
    "slideshow": {
     "slide_type": "slide"
    }
   },
   "source": [
    "### 3.1.1 Basic Data Transformations\n",
    "\n",
    "In the world of machine learning, data transformation is sometimes called **feature extraction**. Both terms refer to the process of taking \"raw\" input data and manipulating it to create new, useful data. In the example below, we convert population totals to percentages:"
   ]
  },
  {
   "cell_type": "code",
   "execution_count": 15,
   "id": "dacbb937",
   "metadata": {
    "slideshow": {
     "slide_type": "fragment"
    }
   },
   "outputs": [
    {
     "data": {
      "text/html": [
       "<div>\n",
       "<style scoped>\n",
       "    .dataframe tbody tr th:only-of-type {\n",
       "        vertical-align: middle;\n",
       "    }\n",
       "\n",
       "    .dataframe tbody tr th {\n",
       "        vertical-align: top;\n",
       "    }\n",
       "\n",
       "    .dataframe thead th {\n",
       "        text-align: right;\n",
       "    }\n",
       "</style>\n",
       "<table border=\"1\" class=\"dataframe\">\n",
       "  <thead>\n",
       "    <tr style=\"text-align: right;\">\n",
       "      <th></th>\n",
       "      <th>logrecno</th>\n",
       "      <th>blockfips</th>\n",
       "      <th>state</th>\n",
       "      <th>county</th>\n",
       "      <th>tract</th>\n",
       "      <th>blkgrp</th>\n",
       "      <th>block</th>\n",
       "      <th>arealand</th>\n",
       "      <th>P0010001</th>\n",
       "      <th>P0020001</th>\n",
       "      <th>...</th>\n",
       "      <th>H0050003</th>\n",
       "      <th>H0050004</th>\n",
       "      <th>H0050005</th>\n",
       "      <th>H0050006</th>\n",
       "      <th>H0050007</th>\n",
       "      <th>H0050008</th>\n",
       "      <th>pct_black</th>\n",
       "      <th>pct_asian</th>\n",
       "      <th>pct_white</th>\n",
       "      <th>pct_hisp</th>\n",
       "    </tr>\n",
       "  </thead>\n",
       "  <tbody>\n",
       "    <tr>\n",
       "      <th>96489</th>\n",
       "      <td>707810</td>\n",
       "      <td>060952521071004</td>\n",
       "      <td>06</td>\n",
       "      <td>095</td>\n",
       "      <td>252107</td>\n",
       "      <td>1</td>\n",
       "      <td>1004</td>\n",
       "      <td>60852</td>\n",
       "      <td>328</td>\n",
       "      <td>328</td>\n",
       "      <td>...</td>\n",
       "      <td>3</td>\n",
       "      <td>2</td>\n",
       "      <td>0</td>\n",
       "      <td>3</td>\n",
       "      <td>0</td>\n",
       "      <td>1</td>\n",
       "      <td>10.975610</td>\n",
       "      <td>9.756098</td>\n",
       "      <td>56.097561</td>\n",
       "      <td>18.292683</td>\n",
       "    </tr>\n",
       "    <tr>\n",
       "      <th>107999</th>\n",
       "      <td>720652</td>\n",
       "      <td>060971534042014</td>\n",
       "      <td>06</td>\n",
       "      <td>097</td>\n",
       "      <td>153404</td>\n",
       "      <td>2</td>\n",
       "      <td>2014</td>\n",
       "      <td>278844</td>\n",
       "      <td>132</td>\n",
       "      <td>132</td>\n",
       "      <td>...</td>\n",
       "      <td>1</td>\n",
       "      <td>1</td>\n",
       "      <td>1</td>\n",
       "      <td>2</td>\n",
       "      <td>0</td>\n",
       "      <td>4</td>\n",
       "      <td>6.818182</td>\n",
       "      <td>2.272727</td>\n",
       "      <td>84.090909</td>\n",
       "      <td>7.575758</td>\n",
       "    </tr>\n",
       "    <tr>\n",
       "      <th>108660</th>\n",
       "      <td>721385</td>\n",
       "      <td>060971502041004</td>\n",
       "      <td>06</td>\n",
       "      <td>097</td>\n",
       "      <td>150204</td>\n",
       "      <td>1</td>\n",
       "      <td>1004</td>\n",
       "      <td>15546</td>\n",
       "      <td>1</td>\n",
       "      <td>1</td>\n",
       "      <td>...</td>\n",
       "      <td>0</td>\n",
       "      <td>0</td>\n",
       "      <td>0</td>\n",
       "      <td>0</td>\n",
       "      <td>0</td>\n",
       "      <td>0</td>\n",
       "      <td>0.000000</td>\n",
       "      <td>0.000000</td>\n",
       "      <td>0.000000</td>\n",
       "      <td>0.000000</td>\n",
       "    </tr>\n",
       "  </tbody>\n",
       "</table>\n",
       "<p>3 rows × 46 columns</p>\n",
       "</div>"
      ],
      "text/plain": [
       "        logrecno        blockfips state county   tract  blkgrp block  \\\n",
       "96489     707810  060952521071004    06    095  252107       1  1004   \n",
       "107999    720652  060971534042014    06    097  153404       2  2014   \n",
       "108660    721385  060971502041004    06    097  150204       1  1004   \n",
       "\n",
       "        arealand  P0010001  P0020001  ...  H0050003  H0050004  H0050005  \\\n",
       "96489      60852       328       328  ...         3         2         0   \n",
       "107999    278844       132       132  ...         1         1         1   \n",
       "108660     15546         1         1  ...         0         0         0   \n",
       "\n",
       "        H0050006  H0050007  H0050008  pct_black  pct_asian  pct_white  \\\n",
       "96489          3         0         1  10.975610   9.756098  56.097561   \n",
       "107999         2         0         4   6.818182   2.272727  84.090909   \n",
       "108660         0         0         0   0.000000   0.000000   0.000000   \n",
       "\n",
       "         pct_hisp  \n",
       "96489   18.292683  \n",
       "107999   7.575758  \n",
       "108660   0.000000  \n",
       "\n",
       "[3 rows x 46 columns]"
      ]
     },
     "execution_count": 15,
     "metadata": {},
     "output_type": "execute_result"
    }
   ],
   "source": [
    "sf1['pct_black'] = sf1['P0030003'] / sf1['P0030001'] * 100\n",
    "sf1['pct_asian'] = sf1['P0030005'] / sf1['P0030001'] * 100\n",
    "sf1['pct_white'] = sf1['P0030002'] / sf1['P0030001'] * 100\n",
    "sf1['pct_hisp'] = sf1['P0040003'] / sf1['P0040001'] * 100\n",
    "sf1.sample(3)"
   ]
  },
  {
   "cell_type": "markdown",
   "id": "970fa3a4",
   "metadata": {
    "slideshow": {
     "slide_type": "slide"
    }
   },
   "source": [
    "Now add colums with percentage rental and population per square mile."
   ]
  },
  {
   "cell_type": "code",
   "execution_count": 16,
   "id": "90637963",
   "metadata": {
    "slideshow": {
     "slide_type": "fragment"
    }
   },
   "outputs": [
    {
     "data": {
      "text/html": [
       "<div>\n",
       "<style scoped>\n",
       "    .dataframe tbody tr th:only-of-type {\n",
       "        vertical-align: middle;\n",
       "    }\n",
       "\n",
       "    .dataframe tbody tr th {\n",
       "        vertical-align: top;\n",
       "    }\n",
       "\n",
       "    .dataframe thead th {\n",
       "        text-align: right;\n",
       "    }\n",
       "</style>\n",
       "<table border=\"1\" class=\"dataframe\">\n",
       "  <thead>\n",
       "    <tr style=\"text-align: right;\">\n",
       "      <th></th>\n",
       "      <th>logrecno</th>\n",
       "      <th>blockfips</th>\n",
       "      <th>state</th>\n",
       "      <th>county</th>\n",
       "      <th>tract</th>\n",
       "      <th>blkgrp</th>\n",
       "      <th>block</th>\n",
       "      <th>arealand</th>\n",
       "      <th>P0010001</th>\n",
       "      <th>P0020001</th>\n",
       "      <th>...</th>\n",
       "      <th>H0050005</th>\n",
       "      <th>H0050006</th>\n",
       "      <th>H0050007</th>\n",
       "      <th>H0050008</th>\n",
       "      <th>pct_black</th>\n",
       "      <th>pct_asian</th>\n",
       "      <th>pct_white</th>\n",
       "      <th>pct_hisp</th>\n",
       "      <th>pct_rent</th>\n",
       "      <th>pop_sqmi</th>\n",
       "    </tr>\n",
       "  </thead>\n",
       "  <tbody>\n",
       "    <tr>\n",
       "      <th>97640</th>\n",
       "      <td>709029</td>\n",
       "      <td>060952512001022</td>\n",
       "      <td>06</td>\n",
       "      <td>095</td>\n",
       "      <td>251200</td>\n",
       "      <td>1</td>\n",
       "      <td>1022</td>\n",
       "      <td>8122</td>\n",
       "      <td>32</td>\n",
       "      <td>32</td>\n",
       "      <td>...</td>\n",
       "      <td>0</td>\n",
       "      <td>0</td>\n",
       "      <td>0</td>\n",
       "      <td>0</td>\n",
       "      <td>9.375</td>\n",
       "      <td>12.500000</td>\n",
       "      <td>37.500000</td>\n",
       "      <td>59.375000</td>\n",
       "      <td>66.666667</td>\n",
       "      <td>10204.335878</td>\n",
       "    </tr>\n",
       "    <tr>\n",
       "      <th>5059</th>\n",
       "      <td>5406</td>\n",
       "      <td>060014422002012</td>\n",
       "      <td>06</td>\n",
       "      <td>001</td>\n",
       "      <td>442200</td>\n",
       "      <td>2</td>\n",
       "      <td>2012</td>\n",
       "      <td>48369</td>\n",
       "      <td>130</td>\n",
       "      <td>130</td>\n",
       "      <td>...</td>\n",
       "      <td>0</td>\n",
       "      <td>0</td>\n",
       "      <td>0</td>\n",
       "      <td>0</td>\n",
       "      <td>0.000</td>\n",
       "      <td>78.461538</td>\n",
       "      <td>16.923077</td>\n",
       "      <td>6.923077</td>\n",
       "      <td>5.128205</td>\n",
       "      <td>6961.037855</td>\n",
       "    </tr>\n",
       "    <tr>\n",
       "      <th>102339</th>\n",
       "      <td>714471</td>\n",
       "      <td>060971506122127</td>\n",
       "      <td>06</td>\n",
       "      <td>097</td>\n",
       "      <td>150612</td>\n",
       "      <td>2</td>\n",
       "      <td>2127</td>\n",
       "      <td>243545</td>\n",
       "      <td>21</td>\n",
       "      <td>21</td>\n",
       "      <td>...</td>\n",
       "      <td>0</td>\n",
       "      <td>1</td>\n",
       "      <td>0</td>\n",
       "      <td>0</td>\n",
       "      <td>0.000</td>\n",
       "      <td>0.000000</td>\n",
       "      <td>76.190476</td>\n",
       "      <td>23.809524</td>\n",
       "      <td>33.333333</td>\n",
       "      <td>223.325250</td>\n",
       "    </tr>\n",
       "  </tbody>\n",
       "</table>\n",
       "<p>3 rows × 48 columns</p>\n",
       "</div>"
      ],
      "text/plain": [
       "        logrecno        blockfips state county   tract  blkgrp block  \\\n",
       "97640     709029  060952512001022    06    095  251200       1  1022   \n",
       "5059        5406  060014422002012    06    001  442200       2  2012   \n",
       "102339    714471  060971506122127    06    097  150612       2  2127   \n",
       "\n",
       "        arealand  P0010001  P0020001  ...  H0050005  H0050006  H0050007  \\\n",
       "97640       8122        32        32  ...         0         0         0   \n",
       "5059       48369       130       130  ...         0         0         0   \n",
       "102339    243545        21        21  ...         0         1         0   \n",
       "\n",
       "        H0050008  pct_black  pct_asian  pct_white   pct_hisp   pct_rent  \\\n",
       "97640          0      9.375  12.500000  37.500000  59.375000  66.666667   \n",
       "5059           0      0.000  78.461538  16.923077   6.923077   5.128205   \n",
       "102339         0      0.000   0.000000  76.190476  23.809524  33.333333   \n",
       "\n",
       "            pop_sqmi  \n",
       "97640   10204.335878  \n",
       "5059     6961.037855  \n",
       "102339    223.325250  \n",
       "\n",
       "[3 rows x 48 columns]"
      ]
     },
     "execution_count": 16,
     "metadata": {},
     "output_type": "execute_result"
    }
   ],
   "source": [
    "sf1['pct_rent'] = sf1['H0040004'] / sf1['H0040001'] * 100\n",
    "sf1['pop_sqmi'] = (sf1['P0010001'] / (sf1['arealand'] / 2589988))\n",
    "sf1 = sf1[sf1['P0030001'] > 0]\n",
    "sf1.sample(3)"
   ]
  },
  {
   "cell_type": "code",
   "execution_count": 18,
   "id": "cbbac921",
   "metadata": {},
   "outputs": [
    {
     "name": "stdout",
     "output_type": "stream",
     "text": [
      "1          80.000000\n",
      "3          70.000000\n",
      "4          75.000000\n",
      "6         100.000000\n",
      "7          33.333333\n",
      "             ...    \n",
      "109220      0.000000\n",
      "109222    100.000000\n",
      "109224     50.000000\n",
      "109225     25.714286\n",
      "109226     50.000000\n",
      "Length: 68797, dtype: float64\n"
     ]
    }
   ],
   "source": [
    "new_series = sf1['H0040004'] / sf1['H0040001'] * 100\n",
    "print(new_series)"
   ]
  },
  {
   "cell_type": "markdown",
   "id": "541bdea1",
   "metadata": {
    "slideshow": {
     "slide_type": "fragment"
    }
   },
   "source": [
    "Notice how when we create new columns they get automatically appended to the end (right) of the table"
   ]
  },
  {
   "cell_type": "markdown",
   "id": "650d0faf",
   "metadata": {
    "slideshow": {
     "slide_type": "slide"
    }
   },
   "source": [
    "Now let's add county names to the dataframe so we get more readable output. First we'll create a dictionary to map the FIPS codes to county names"
   ]
  },
  {
   "cell_type": "code",
   "execution_count": 19,
   "id": "5ffb53da",
   "metadata": {
    "slideshow": {
     "slide_type": "fragment"
    }
   },
   "outputs": [],
   "source": [
    "county_fips_to_name = {\n",
    "    '001': 'Alameda', '013': 'Contra Costa', '041': 'Marin', '055': 'Napa', '075': 'San Francisco',\n",
    "    '081': 'San Mateo', '085': 'Santa Clara', '095': 'Solano', '097': 'Sonoma'}"
   ]
  },
  {
   "cell_type": "markdown",
   "id": "85167252",
   "metadata": {
    "slideshow": {
     "slide_type": "fragment"
    }
   },
   "source": [
    "Then we pass that dictionary to the `pd.Series.replace()` method to perform the conversion.\n",
    "\n",
    "We could use the same assignment-based approach to create our new column:"
   ]
  },
  {
   "cell_type": "code",
   "execution_count": 21,
   "id": "c79042f7",
   "metadata": {
    "slideshow": {
     "slide_type": "fragment"
    }
   },
   "outputs": [
    {
     "data": {
      "text/html": [
       "<div>\n",
       "<style scoped>\n",
       "    .dataframe tbody tr th:only-of-type {\n",
       "        vertical-align: middle;\n",
       "    }\n",
       "\n",
       "    .dataframe tbody tr th {\n",
       "        vertical-align: top;\n",
       "    }\n",
       "\n",
       "    .dataframe thead th {\n",
       "        text-align: right;\n",
       "    }\n",
       "</style>\n",
       "<table border=\"1\" class=\"dataframe\">\n",
       "  <thead>\n",
       "    <tr style=\"text-align: right;\">\n",
       "      <th></th>\n",
       "      <th>logrecno</th>\n",
       "      <th>blockfips</th>\n",
       "      <th>state</th>\n",
       "      <th>county</th>\n",
       "      <th>tract</th>\n",
       "      <th>blkgrp</th>\n",
       "      <th>block</th>\n",
       "      <th>arealand</th>\n",
       "      <th>P0010001</th>\n",
       "      <th>P0020001</th>\n",
       "      <th>...</th>\n",
       "      <th>H0050006</th>\n",
       "      <th>H0050007</th>\n",
       "      <th>H0050008</th>\n",
       "      <th>pct_black</th>\n",
       "      <th>pct_asian</th>\n",
       "      <th>pct_white</th>\n",
       "      <th>pct_hisp</th>\n",
       "      <th>pct_rent</th>\n",
       "      <th>pop_sqmi</th>\n",
       "      <th>county_name</th>\n",
       "    </tr>\n",
       "  </thead>\n",
       "  <tbody>\n",
       "    <tr>\n",
       "      <th>787</th>\n",
       "      <td>861</td>\n",
       "      <td>060014282005001</td>\n",
       "      <td>06</td>\n",
       "      <td>001</td>\n",
       "      <td>428200</td>\n",
       "      <td>5</td>\n",
       "      <td>5001</td>\n",
       "      <td>12969</td>\n",
       "      <td>61</td>\n",
       "      <td>61</td>\n",
       "      <td>...</td>\n",
       "      <td>2</td>\n",
       "      <td>0</td>\n",
       "      <td>0</td>\n",
       "      <td>0.000000</td>\n",
       "      <td>39.344262</td>\n",
       "      <td>57.377049</td>\n",
       "      <td>3.278689</td>\n",
       "      <td>20.689655</td>\n",
       "      <td>12182.070167</td>\n",
       "      <td>Alameda</td>\n",
       "    </tr>\n",
       "    <tr>\n",
       "      <th>59525</th>\n",
       "      <td>624943</td>\n",
       "      <td>060816128001011</td>\n",
       "      <td>06</td>\n",
       "      <td>081</td>\n",
       "      <td>612800</td>\n",
       "      <td>1</td>\n",
       "      <td>1011</td>\n",
       "      <td>27016</td>\n",
       "      <td>53</td>\n",
       "      <td>53</td>\n",
       "      <td>...</td>\n",
       "      <td>1</td>\n",
       "      <td>0</td>\n",
       "      <td>0</td>\n",
       "      <td>0.000000</td>\n",
       "      <td>9.433962</td>\n",
       "      <td>90.566038</td>\n",
       "      <td>0.000000</td>\n",
       "      <td>14.285714</td>\n",
       "      <td>5081.039532</td>\n",
       "      <td>San Mateo</td>\n",
       "    </tr>\n",
       "    <tr>\n",
       "      <th>82468</th>\n",
       "      <td>662090</td>\n",
       "      <td>060855059001006</td>\n",
       "      <td>06</td>\n",
       "      <td>085</td>\n",
       "      <td>505900</td>\n",
       "      <td>1</td>\n",
       "      <td>1006</td>\n",
       "      <td>40421</td>\n",
       "      <td>397</td>\n",
       "      <td>397</td>\n",
       "      <td>...</td>\n",
       "      <td>0</td>\n",
       "      <td>0</td>\n",
       "      <td>1</td>\n",
       "      <td>9.068010</td>\n",
       "      <td>24.685139</td>\n",
       "      <td>43.576826</td>\n",
       "      <td>37.027708</td>\n",
       "      <td>88.957055</td>\n",
       "      <td>25437.897034</td>\n",
       "      <td>Santa Clara</td>\n",
       "    </tr>\n",
       "    <tr>\n",
       "      <th>51293</th>\n",
       "      <td>588505</td>\n",
       "      <td>060750179021022</td>\n",
       "      <td>06</td>\n",
       "      <td>075</td>\n",
       "      <td>017902</td>\n",
       "      <td>1</td>\n",
       "      <td>1022</td>\n",
       "      <td>32845</td>\n",
       "      <td>42</td>\n",
       "      <td>42</td>\n",
       "      <td>...</td>\n",
       "      <td>0</td>\n",
       "      <td>0</td>\n",
       "      <td>1</td>\n",
       "      <td>0.000000</td>\n",
       "      <td>7.142857</td>\n",
       "      <td>71.428571</td>\n",
       "      <td>26.190476</td>\n",
       "      <td>100.000000</td>\n",
       "      <td>3311.904278</td>\n",
       "      <td>San Francisco</td>\n",
       "    </tr>\n",
       "    <tr>\n",
       "      <th>3030</th>\n",
       "      <td>3252</td>\n",
       "      <td>060014235003016</td>\n",
       "      <td>06</td>\n",
       "      <td>001</td>\n",
       "      <td>423500</td>\n",
       "      <td>3</td>\n",
       "      <td>3016</td>\n",
       "      <td>13439</td>\n",
       "      <td>96</td>\n",
       "      <td>96</td>\n",
       "      <td>...</td>\n",
       "      <td>0</td>\n",
       "      <td>0</td>\n",
       "      <td>2</td>\n",
       "      <td>4.166667</td>\n",
       "      <td>13.541667</td>\n",
       "      <td>71.875000</td>\n",
       "      <td>20.833333</td>\n",
       "      <td>69.767442</td>\n",
       "      <td>18501.290870</td>\n",
       "      <td>Alameda</td>\n",
       "    </tr>\n",
       "  </tbody>\n",
       "</table>\n",
       "<p>5 rows × 49 columns</p>\n",
       "</div>"
      ],
      "text/plain": [
       "       logrecno        blockfips state county   tract  blkgrp block  arealand  \\\n",
       "787         861  060014282005001    06    001  428200       5  5001     12969   \n",
       "59525    624943  060816128001011    06    081  612800       1  1011     27016   \n",
       "82468    662090  060855059001006    06    085  505900       1  1006     40421   \n",
       "51293    588505  060750179021022    06    075  017902       1  1022     32845   \n",
       "3030       3252  060014235003016    06    001  423500       3  3016     13439   \n",
       "\n",
       "       P0010001  P0020001  ...  H0050006  H0050007  H0050008  pct_black  \\\n",
       "787          61        61  ...         2         0         0   0.000000   \n",
       "59525        53        53  ...         1         0         0   0.000000   \n",
       "82468       397       397  ...         0         0         1   9.068010   \n",
       "51293        42        42  ...         0         0         1   0.000000   \n",
       "3030         96        96  ...         0         0         2   4.166667   \n",
       "\n",
       "       pct_asian  pct_white   pct_hisp    pct_rent      pop_sqmi  \\\n",
       "787    39.344262  57.377049   3.278689   20.689655  12182.070167   \n",
       "59525   9.433962  90.566038   0.000000   14.285714   5081.039532   \n",
       "82468  24.685139  43.576826  37.027708   88.957055  25437.897034   \n",
       "51293   7.142857  71.428571  26.190476  100.000000   3311.904278   \n",
       "3030   13.541667  71.875000  20.833333   69.767442  18501.290870   \n",
       "\n",
       "         county_name  \n",
       "787          Alameda  \n",
       "59525      San Mateo  \n",
       "82468    Santa Clara  \n",
       "51293  San Francisco  \n",
       "3030         Alameda  \n",
       "\n",
       "[5 rows x 49 columns]"
      ]
     },
     "execution_count": 21,
     "metadata": {},
     "output_type": "execute_result"
    }
   ],
   "source": [
    "sf1['county_name'] = sf1['county'].replace(county_fips_to_name)\n",
    "sf1.sample(5)"
   ]
  },
  {
   "cell_type": "markdown",
   "id": "1eff23bb",
   "metadata": {
    "slideshow": {
     "slide_type": "slide"
    }
   },
   "source": [
    "or we can use `pd.DataFrame.insert()` to tell pandas exactly where to stick the new column"
   ]
  },
  {
   "cell_type": "code",
   "execution_count": 23,
   "id": "2f1bd090",
   "metadata": {
    "slideshow": {
     "slide_type": "fragment"
    }
   },
   "outputs": [
    {
     "data": {
      "text/html": [
       "<div>\n",
       "<style scoped>\n",
       "    .dataframe tbody tr th:only-of-type {\n",
       "        vertical-align: middle;\n",
       "    }\n",
       "\n",
       "    .dataframe tbody tr th {\n",
       "        vertical-align: top;\n",
       "    }\n",
       "\n",
       "    .dataframe thead th {\n",
       "        text-align: right;\n",
       "    }\n",
       "</style>\n",
       "<table border=\"1\" class=\"dataframe\">\n",
       "  <thead>\n",
       "    <tr style=\"text-align: right;\">\n",
       "      <th></th>\n",
       "      <th>logrecno</th>\n",
       "      <th>blockfips</th>\n",
       "      <th>state</th>\n",
       "      <th>county</th>\n",
       "      <th>county_name</th>\n",
       "      <th>tract</th>\n",
       "      <th>blkgrp</th>\n",
       "      <th>block</th>\n",
       "      <th>arealand</th>\n",
       "      <th>P0010001</th>\n",
       "      <th>...</th>\n",
       "      <th>H0050005</th>\n",
       "      <th>H0050006</th>\n",
       "      <th>H0050007</th>\n",
       "      <th>H0050008</th>\n",
       "      <th>pct_black</th>\n",
       "      <th>pct_asian</th>\n",
       "      <th>pct_white</th>\n",
       "      <th>pct_hisp</th>\n",
       "      <th>pct_rent</th>\n",
       "      <th>pop_sqmi</th>\n",
       "    </tr>\n",
       "  </thead>\n",
       "  <tbody>\n",
       "    <tr>\n",
       "      <th>10380</th>\n",
       "      <td>11112</td>\n",
       "      <td>060014379002006</td>\n",
       "      <td>06</td>\n",
       "      <td>001</td>\n",
       "      <td>Alameda</td>\n",
       "      <td>437900</td>\n",
       "      <td>2</td>\n",
       "      <td>2006</td>\n",
       "      <td>144703</td>\n",
       "      <td>420</td>\n",
       "      <td>...</td>\n",
       "      <td>0</td>\n",
       "      <td>0</td>\n",
       "      <td>0</td>\n",
       "      <td>0</td>\n",
       "      <td>7.619048</td>\n",
       "      <td>8.095238</td>\n",
       "      <td>34.285714</td>\n",
       "      <td>65.714286</td>\n",
       "      <td>94.354839</td>\n",
       "      <td>7517.431981</td>\n",
       "    </tr>\n",
       "    <tr>\n",
       "      <th>106327</th>\n",
       "      <td>718787</td>\n",
       "      <td>060971530023003</td>\n",
       "      <td>06</td>\n",
       "      <td>097</td>\n",
       "      <td>Sonoma</td>\n",
       "      <td>153002</td>\n",
       "      <td>3</td>\n",
       "      <td>3003</td>\n",
       "      <td>42524</td>\n",
       "      <td>126</td>\n",
       "      <td>...</td>\n",
       "      <td>0</td>\n",
       "      <td>0</td>\n",
       "      <td>0</td>\n",
       "      <td>3</td>\n",
       "      <td>1.587302</td>\n",
       "      <td>5.555556</td>\n",
       "      <td>64.285714</td>\n",
       "      <td>32.539683</td>\n",
       "      <td>70.909091</td>\n",
       "      <td>7674.218982</td>\n",
       "    </tr>\n",
       "    <tr>\n",
       "      <th>64906</th>\n",
       "      <td>630843</td>\n",
       "      <td>060816037001008</td>\n",
       "      <td>06</td>\n",
       "      <td>081</td>\n",
       "      <td>San Mateo</td>\n",
       "      <td>603700</td>\n",
       "      <td>1</td>\n",
       "      <td>1008</td>\n",
       "      <td>4827</td>\n",
       "      <td>25</td>\n",
       "      <td>...</td>\n",
       "      <td>0</td>\n",
       "      <td>0</td>\n",
       "      <td>0</td>\n",
       "      <td>0</td>\n",
       "      <td>0.000000</td>\n",
       "      <td>56.000000</td>\n",
       "      <td>32.000000</td>\n",
       "      <td>24.000000</td>\n",
       "      <td>0.000000</td>\n",
       "      <td>13414.066708</td>\n",
       "    </tr>\n",
       "    <tr>\n",
       "      <th>12208</th>\n",
       "      <td>13051</td>\n",
       "      <td>060014336003013</td>\n",
       "      <td>06</td>\n",
       "      <td>001</td>\n",
       "      <td>Alameda</td>\n",
       "      <td>433600</td>\n",
       "      <td>3</td>\n",
       "      <td>3013</td>\n",
       "      <td>25213</td>\n",
       "      <td>82</td>\n",
       "      <td>...</td>\n",
       "      <td>0</td>\n",
       "      <td>0</td>\n",
       "      <td>0</td>\n",
       "      <td>0</td>\n",
       "      <td>0.000000</td>\n",
       "      <td>42.682927</td>\n",
       "      <td>51.219512</td>\n",
       "      <td>19.512195</td>\n",
       "      <td>26.666667</td>\n",
       "      <td>8423.393329</td>\n",
       "    </tr>\n",
       "    <tr>\n",
       "      <th>80437</th>\n",
       "      <td>659923</td>\n",
       "      <td>060855120292013</td>\n",
       "      <td>06</td>\n",
       "      <td>085</td>\n",
       "      <td>Santa Clara</td>\n",
       "      <td>512029</td>\n",
       "      <td>2</td>\n",
       "      <td>2013</td>\n",
       "      <td>32196</td>\n",
       "      <td>137</td>\n",
       "      <td>...</td>\n",
       "      <td>0</td>\n",
       "      <td>0</td>\n",
       "      <td>0</td>\n",
       "      <td>0</td>\n",
       "      <td>5.839416</td>\n",
       "      <td>11.678832</td>\n",
       "      <td>64.963504</td>\n",
       "      <td>32.846715</td>\n",
       "      <td>33.333333</td>\n",
       "      <td>11020.883215</td>\n",
       "    </tr>\n",
       "  </tbody>\n",
       "</table>\n",
       "<p>5 rows × 49 columns</p>\n",
       "</div>"
      ],
      "text/plain": [
       "        logrecno        blockfips state county  county_name   tract  blkgrp  \\\n",
       "10380      11112  060014379002006    06    001      Alameda  437900       2   \n",
       "106327    718787  060971530023003    06    097       Sonoma  153002       3   \n",
       "64906     630843  060816037001008    06    081    San Mateo  603700       1   \n",
       "12208      13051  060014336003013    06    001      Alameda  433600       3   \n",
       "80437     659923  060855120292013    06    085  Santa Clara  512029       2   \n",
       "\n",
       "       block  arealand  P0010001  ...  H0050005  H0050006  H0050007  H0050008  \\\n",
       "10380   2006    144703       420  ...         0         0         0         0   \n",
       "106327  3003     42524       126  ...         0         0         0         3   \n",
       "64906   1008      4827        25  ...         0         0         0         0   \n",
       "12208   3013     25213        82  ...         0         0         0         0   \n",
       "80437   2013     32196       137  ...         0         0         0         0   \n",
       "\n",
       "        pct_black  pct_asian  pct_white   pct_hisp   pct_rent      pop_sqmi  \n",
       "10380    7.619048   8.095238  34.285714  65.714286  94.354839   7517.431981  \n",
       "106327   1.587302   5.555556  64.285714  32.539683  70.909091   7674.218982  \n",
       "64906    0.000000  56.000000  32.000000  24.000000   0.000000  13414.066708  \n",
       "12208    0.000000  42.682927  51.219512  19.512195  26.666667   8423.393329  \n",
       "80437    5.839416  11.678832  64.963504  32.846715  33.333333  11020.883215  \n",
       "\n",
       "[5 rows x 49 columns]"
      ]
     },
     "execution_count": 23,
     "metadata": {},
     "output_type": "execute_result"
    }
   ],
   "source": [
    "del sf1['county_name']  # drop the column we just created\n",
    "sf1.insert(4, 'county_name', sf1['county'].replace(county_fips_to_name))\n",
    "sf1.sample(5)"
   ]
  },
  {
   "cell_type": "markdown",
   "id": "a844ea65",
   "metadata": {
    "slideshow": {
     "slide_type": "fragment"
    }
   },
   "source": [
    "Notice how `insert()` operates \"in-place\"?"
   ]
  },
  {
   "cell_type": "markdown",
   "id": "7dde65a4",
   "metadata": {
    "slideshow": {
     "slide_type": "slide"
    }
   },
   "source": [
    "### 3.1.2 Split-Apply-Combine"
   ]
  },
  {
   "cell_type": "markdown",
   "id": "6b10c691",
   "metadata": {
    "slideshow": {
     "slide_type": "fragment"
    }
   },
   "source": [
    "Groupby is a powerful method in pandas that follows the split-apply-combine approach to data manipulation.\n",
    "\n",
    "<center><img src=\"images/groupby.png\" width=75%></center>\n",
    "\n",
    "source: Fig. 10-1 _Python for Data Analysis_, McKinney (2017)"
   ]
  },
  {
   "cell_type": "markdown",
   "id": "36d3d41b",
   "metadata": {
    "slideshow": {
     "slide_type": "slide"
    }
   },
   "source": [
    "**SPLIT**\n",
    "\n",
    "Let's apply this approach to computing total population in each county in our dataset. First we create a groupby object, using county codes to group all the census blocks in sf1 into groups that share the same county code. This represents the **split** part of the workflow in the figure above"
   ]
  },
  {
   "cell_type": "code",
   "execution_count": 24,
   "id": "5baf8385",
   "metadata": {
    "slideshow": {
     "slide_type": "fragment"
    }
   },
   "outputs": [
    {
     "data": {
      "text/plain": [
       "<pandas.core.groupby.generic.DataFrameGroupBy object at 0x7fb4ff013160>"
      ]
     },
     "execution_count": 24,
     "metadata": {},
     "output_type": "execute_result"
    }
   ],
   "source": [
    "grouped = sf1[['P0010001', 'county_name']].groupby('county_name')\n",
    "grouped"
   ]
  },
  {
   "cell_type": "markdown",
   "id": "42a3a6aa",
   "metadata": {
    "slideshow": {
     "slide_type": "slide"
    }
   },
   "source": [
    "**APPLY**\n",
    "\n",
    "Now were ready to apply an operation to each group we've split. We call these **aggregation** methods because for each group they will take a series of values and combine them to produce one value, like a min/max/mean. pandas provides a bunch of built-in aggregation functions for use with `groupby` object. Some of the most common ones include:\n",
    "\n",
    "* `count`\n",
    "* `sum`\n",
    "* `mean`\n",
    "* `median`\n",
    "* `std`, `var`\n",
    "* `min`, `max`\n",
    "* `idxmax`, `idxmin`\n",
    "* `first`, `last`\n",
    "* `quantile`\n",
    "\n",
    "But you can also define and apply your own functions to use for aggregation."
   ]
  },
  {
   "cell_type": "markdown",
   "id": "8af9edb6",
   "metadata": {
    "slideshow": {
     "slide_type": "slide"
    }
   },
   "source": [
    "**COMBINE**\n",
    "\n",
    "To apply your chosen aggregation, you can call it directly as a method of your `groupby` object. The object pandas returns will be the **combined** outputs of this method for each of your groups:"
   ]
  },
  {
   "cell_type": "code",
   "execution_count": 25,
   "id": "5577d6dd",
   "metadata": {
    "scrolled": true,
    "slideshow": {
     "slide_type": "fragment"
    }
   },
   "outputs": [
    {
     "data": {
      "text/html": [
       "<div>\n",
       "<style scoped>\n",
       "    .dataframe tbody tr th:only-of-type {\n",
       "        vertical-align: middle;\n",
       "    }\n",
       "\n",
       "    .dataframe tbody tr th {\n",
       "        vertical-align: top;\n",
       "    }\n",
       "\n",
       "    .dataframe thead th {\n",
       "        text-align: right;\n",
       "    }\n",
       "</style>\n",
       "<table border=\"1\" class=\"dataframe\">\n",
       "  <thead>\n",
       "    <tr style=\"text-align: right;\">\n",
       "      <th></th>\n",
       "      <th>P0010001</th>\n",
       "    </tr>\n",
       "    <tr>\n",
       "      <th>county_name</th>\n",
       "      <th></th>\n",
       "    </tr>\n",
       "  </thead>\n",
       "  <tbody>\n",
       "    <tr>\n",
       "      <th>Alameda</th>\n",
       "      <td>1510271</td>\n",
       "    </tr>\n",
       "    <tr>\n",
       "      <th>Contra Costa</th>\n",
       "      <td>1049025</td>\n",
       "    </tr>\n",
       "    <tr>\n",
       "      <th>Marin</th>\n",
       "      <td>252409</td>\n",
       "    </tr>\n",
       "    <tr>\n",
       "      <th>Napa</th>\n",
       "      <td>136484</td>\n",
       "    </tr>\n",
       "    <tr>\n",
       "      <th>San Francisco</th>\n",
       "      <td>805235</td>\n",
       "    </tr>\n",
       "    <tr>\n",
       "      <th>San Mateo</th>\n",
       "      <td>718451</td>\n",
       "    </tr>\n",
       "    <tr>\n",
       "      <th>Santa Clara</th>\n",
       "      <td>1781642</td>\n",
       "    </tr>\n",
       "    <tr>\n",
       "      <th>Solano</th>\n",
       "      <td>413344</td>\n",
       "    </tr>\n",
       "    <tr>\n",
       "      <th>Sonoma</th>\n",
       "      <td>483878</td>\n",
       "    </tr>\n",
       "  </tbody>\n",
       "</table>\n",
       "</div>"
      ],
      "text/plain": [
       "               P0010001\n",
       "county_name            \n",
       "Alameda         1510271\n",
       "Contra Costa    1049025\n",
       "Marin            252409\n",
       "Napa             136484\n",
       "San Francisco    805235\n",
       "San Mateo        718451\n",
       "Santa Clara     1781642\n",
       "Solano           413344\n",
       "Sonoma           483878"
      ]
     },
     "execution_count": 25,
     "metadata": {},
     "output_type": "execute_result"
    }
   ],
   "source": [
    "grouped.sum()"
   ]
  },
  {
   "cell_type": "markdown",
   "id": "e75a1262",
   "metadata": {
    "slideshow": {
     "slide_type": "slide"
    }
   },
   "source": [
    "**SPLIT-APPLY-COMBINE**\n",
    "\n",
    "Doing this in two steps like above is really just to clarify the two parts of the split and apply process that happen within a groupy operation. Normally we would not bother separately creating a groupby object -- we would just do this in one line:"
   ]
  },
  {
   "cell_type": "code",
   "execution_count": 26,
   "id": "820460db",
   "metadata": {
    "slideshow": {
     "slide_type": "fragment"
    }
   },
   "outputs": [
    {
     "data": {
      "text/html": [
       "<div>\n",
       "<style scoped>\n",
       "    .dataframe tbody tr th:only-of-type {\n",
       "        vertical-align: middle;\n",
       "    }\n",
       "\n",
       "    .dataframe tbody tr th {\n",
       "        vertical-align: top;\n",
       "    }\n",
       "\n",
       "    .dataframe thead th {\n",
       "        text-align: right;\n",
       "    }\n",
       "</style>\n",
       "<table border=\"1\" class=\"dataframe\">\n",
       "  <thead>\n",
       "    <tr style=\"text-align: right;\">\n",
       "      <th></th>\n",
       "      <th>total_pop</th>\n",
       "    </tr>\n",
       "    <tr>\n",
       "      <th>county_name</th>\n",
       "      <th></th>\n",
       "    </tr>\n",
       "  </thead>\n",
       "  <tbody>\n",
       "    <tr>\n",
       "      <th>Alameda</th>\n",
       "      <td>1510271</td>\n",
       "    </tr>\n",
       "    <tr>\n",
       "      <th>Contra Costa</th>\n",
       "      <td>1049025</td>\n",
       "    </tr>\n",
       "    <tr>\n",
       "      <th>Marin</th>\n",
       "      <td>252409</td>\n",
       "    </tr>\n",
       "    <tr>\n",
       "      <th>Napa</th>\n",
       "      <td>136484</td>\n",
       "    </tr>\n",
       "    <tr>\n",
       "      <th>San Francisco</th>\n",
       "      <td>805235</td>\n",
       "    </tr>\n",
       "    <tr>\n",
       "      <th>San Mateo</th>\n",
       "      <td>718451</td>\n",
       "    </tr>\n",
       "    <tr>\n",
       "      <th>Santa Clara</th>\n",
       "      <td>1781642</td>\n",
       "    </tr>\n",
       "    <tr>\n",
       "      <th>Solano</th>\n",
       "      <td>413344</td>\n",
       "    </tr>\n",
       "    <tr>\n",
       "      <th>Sonoma</th>\n",
       "      <td>483878</td>\n",
       "    </tr>\n",
       "  </tbody>\n",
       "</table>\n",
       "</div>"
      ],
      "text/plain": [
       "               total_pop\n",
       "county_name             \n",
       "Alameda          1510271\n",
       "Contra Costa     1049025\n",
       "Marin             252409\n",
       "Napa              136484\n",
       "San Francisco     805235\n",
       "San Mateo         718451\n",
       "Santa Clara      1781642\n",
       "Solano            413344\n",
       "Sonoma            483878"
      ]
     },
     "execution_count": 26,
     "metadata": {},
     "output_type": "execute_result"
    }
   ],
   "source": [
    "county_pop = sf1[['county_name', 'P0010001']].groupby('county_name').sum().rename(columns={'P0010001': 'total_pop'})\n",
    "county_pop"
   ]
  },
  {
   "cell_type": "markdown",
   "id": "d455639c",
   "metadata": {
    "slideshow": {
     "slide_type": "slide"
    }
   },
   "source": [
    "## 3.2 Aggregating on multiple columns"
   ]
  },
  {
   "cell_type": "markdown",
   "id": "2f7c53a1",
   "metadata": {
    "slideshow": {
     "slide_type": "fragment"
    }
   },
   "source": [
    "Let's merge the county totals with the original sf1 data"
   ]
  },
  {
   "cell_type": "code",
   "execution_count": 27,
   "id": "4e29baa1",
   "metadata": {
    "scrolled": true,
    "slideshow": {
     "slide_type": "fragment"
    }
   },
   "outputs": [
    {
     "data": {
      "text/html": [
       "<div>\n",
       "<style scoped>\n",
       "    .dataframe tbody tr th:only-of-type {\n",
       "        vertical-align: middle;\n",
       "    }\n",
       "\n",
       "    .dataframe tbody tr th {\n",
       "        vertical-align: top;\n",
       "    }\n",
       "\n",
       "    .dataframe thead th {\n",
       "        text-align: right;\n",
       "    }\n",
       "</style>\n",
       "<table border=\"1\" class=\"dataframe\">\n",
       "  <thead>\n",
       "    <tr style=\"text-align: right;\">\n",
       "      <th></th>\n",
       "      <th>logrecno</th>\n",
       "      <th>blockfips</th>\n",
       "      <th>state</th>\n",
       "      <th>county</th>\n",
       "      <th>county_name</th>\n",
       "      <th>tract</th>\n",
       "      <th>blkgrp</th>\n",
       "      <th>block</th>\n",
       "      <th>arealand</th>\n",
       "      <th>P0010001</th>\n",
       "      <th>...</th>\n",
       "      <th>H0050006</th>\n",
       "      <th>H0050007</th>\n",
       "      <th>H0050008</th>\n",
       "      <th>pct_black</th>\n",
       "      <th>pct_asian</th>\n",
       "      <th>pct_white</th>\n",
       "      <th>pct_hisp</th>\n",
       "      <th>pct_rent</th>\n",
       "      <th>pop_sqmi</th>\n",
       "      <th>total_pop</th>\n",
       "    </tr>\n",
       "  </thead>\n",
       "  <tbody>\n",
       "    <tr>\n",
       "      <th>1</th>\n",
       "      <td>26</td>\n",
       "      <td>060014271001001</td>\n",
       "      <td>06</td>\n",
       "      <td>001</td>\n",
       "      <td>Alameda</td>\n",
       "      <td>427100</td>\n",
       "      <td>1</td>\n",
       "      <td>1001</td>\n",
       "      <td>79696</td>\n",
       "      <td>113</td>\n",
       "      <td>...</td>\n",
       "      <td>0</td>\n",
       "      <td>0</td>\n",
       "      <td>0</td>\n",
       "      <td>13.274336</td>\n",
       "      <td>5.309735</td>\n",
       "      <td>78.761062</td>\n",
       "      <td>1.769912</td>\n",
       "      <td>80.000000</td>\n",
       "      <td>3672.312839</td>\n",
       "      <td>1510271</td>\n",
       "    </tr>\n",
       "    <tr>\n",
       "      <th>3</th>\n",
       "      <td>28</td>\n",
       "      <td>060014271001003</td>\n",
       "      <td>06</td>\n",
       "      <td>001</td>\n",
       "      <td>Alameda</td>\n",
       "      <td>427100</td>\n",
       "      <td>1</td>\n",
       "      <td>1003</td>\n",
       "      <td>19546</td>\n",
       "      <td>29</td>\n",
       "      <td>...</td>\n",
       "      <td>0</td>\n",
       "      <td>0</td>\n",
       "      <td>2</td>\n",
       "      <td>13.793103</td>\n",
       "      <td>27.586207</td>\n",
       "      <td>37.931034</td>\n",
       "      <td>24.137931</td>\n",
       "      <td>70.000000</td>\n",
       "      <td>3842.712166</td>\n",
       "      <td>1510271</td>\n",
       "    </tr>\n",
       "    <tr>\n",
       "      <th>4</th>\n",
       "      <td>29</td>\n",
       "      <td>060014271001004</td>\n",
       "      <td>06</td>\n",
       "      <td>001</td>\n",
       "      <td>Alameda</td>\n",
       "      <td>427100</td>\n",
       "      <td>1</td>\n",
       "      <td>1004</td>\n",
       "      <td>14364</td>\n",
       "      <td>26</td>\n",
       "      <td>...</td>\n",
       "      <td>0</td>\n",
       "      <td>0</td>\n",
       "      <td>0</td>\n",
       "      <td>0.000000</td>\n",
       "      <td>38.461538</td>\n",
       "      <td>34.615385</td>\n",
       "      <td>0.000000</td>\n",
       "      <td>75.000000</td>\n",
       "      <td>4688.087441</td>\n",
       "      <td>1510271</td>\n",
       "    </tr>\n",
       "    <tr>\n",
       "      <th>6</th>\n",
       "      <td>31</td>\n",
       "      <td>060014271001006</td>\n",
       "      <td>06</td>\n",
       "      <td>001</td>\n",
       "      <td>Alameda</td>\n",
       "      <td>427100</td>\n",
       "      <td>1</td>\n",
       "      <td>1006</td>\n",
       "      <td>1281</td>\n",
       "      <td>2</td>\n",
       "      <td>...</td>\n",
       "      <td>0</td>\n",
       "      <td>0</td>\n",
       "      <td>0</td>\n",
       "      <td>0.000000</td>\n",
       "      <td>50.000000</td>\n",
       "      <td>0.000000</td>\n",
       "      <td>100.000000</td>\n",
       "      <td>100.000000</td>\n",
       "      <td>4043.697112</td>\n",
       "      <td>1510271</td>\n",
       "    </tr>\n",
       "    <tr>\n",
       "      <th>7</th>\n",
       "      <td>32</td>\n",
       "      <td>060014271001007</td>\n",
       "      <td>06</td>\n",
       "      <td>001</td>\n",
       "      <td>Alameda</td>\n",
       "      <td>427100</td>\n",
       "      <td>1</td>\n",
       "      <td>1007</td>\n",
       "      <td>19020</td>\n",
       "      <td>30</td>\n",
       "      <td>...</td>\n",
       "      <td>0</td>\n",
       "      <td>0</td>\n",
       "      <td>0</td>\n",
       "      <td>0.000000</td>\n",
       "      <td>43.333333</td>\n",
       "      <td>50.000000</td>\n",
       "      <td>0.000000</td>\n",
       "      <td>33.333333</td>\n",
       "      <td>4085.154574</td>\n",
       "      <td>1510271</td>\n",
       "    </tr>\n",
       "  </tbody>\n",
       "</table>\n",
       "<p>5 rows × 50 columns</p>\n",
       "</div>"
      ],
      "text/plain": [
       "   logrecno        blockfips state county county_name   tract  blkgrp block  \\\n",
       "1        26  060014271001001    06    001     Alameda  427100       1  1001   \n",
       "3        28  060014271001003    06    001     Alameda  427100       1  1003   \n",
       "4        29  060014271001004    06    001     Alameda  427100       1  1004   \n",
       "6        31  060014271001006    06    001     Alameda  427100       1  1006   \n",
       "7        32  060014271001007    06    001     Alameda  427100       1  1007   \n",
       "\n",
       "   arealand  P0010001  ...  H0050006  H0050007  H0050008  pct_black  \\\n",
       "1     79696       113  ...         0         0         0  13.274336   \n",
       "3     19546        29  ...         0         0         2  13.793103   \n",
       "4     14364        26  ...         0         0         0   0.000000   \n",
       "6      1281         2  ...         0         0         0   0.000000   \n",
       "7     19020        30  ...         0         0         0   0.000000   \n",
       "\n",
       "   pct_asian  pct_white    pct_hisp    pct_rent     pop_sqmi  total_pop  \n",
       "1   5.309735  78.761062    1.769912   80.000000  3672.312839    1510271  \n",
       "3  27.586207  37.931034   24.137931   70.000000  3842.712166    1510271  \n",
       "4  38.461538  34.615385    0.000000   75.000000  4688.087441    1510271  \n",
       "6  50.000000   0.000000  100.000000  100.000000  4043.697112    1510271  \n",
       "7  43.333333  50.000000    0.000000   33.333333  4085.154574    1510271  \n",
       "\n",
       "[5 rows x 50 columns]"
      ]
     },
     "execution_count": 27,
     "metadata": {},
     "output_type": "execute_result"
    }
   ],
   "source": [
    "#currently the county name is an index not a column\n",
    "#sf1 is the \"left\" or first table country_pop is the \"right\" or the second.  Left table has county name\n",
    "#as a column and right has it as an index\n",
    "sf2 = pd.merge(sf1, county_pop, left_on='county_name', right_index=True)\n",
    "sf2.head()"
   ]
  },
  {
   "cell_type": "markdown",
   "id": "c05622b4",
   "metadata": {
    "slideshow": {
     "slide_type": "slide"
    }
   },
   "source": [
    "Let's say we wanted to compute the population per square mile by county.  We could go ahead and create another dataframe with total area by county than then divide the total population by total area."
   ]
  },
  {
   "cell_type": "code",
   "execution_count": 28,
   "id": "2b448110",
   "metadata": {
    "slideshow": {
     "slide_type": "fragment"
    }
   },
   "outputs": [
    {
     "data": {
      "text/html": [
       "<div>\n",
       "<style scoped>\n",
       "    .dataframe tbody tr th:only-of-type {\n",
       "        vertical-align: middle;\n",
       "    }\n",
       "\n",
       "    .dataframe tbody tr th {\n",
       "        vertical-align: top;\n",
       "    }\n",
       "\n",
       "    .dataframe thead th {\n",
       "        text-align: right;\n",
       "    }\n",
       "</style>\n",
       "<table border=\"1\" class=\"dataframe\">\n",
       "  <thead>\n",
       "    <tr style=\"text-align: right;\">\n",
       "      <th></th>\n",
       "      <th>arealand</th>\n",
       "    </tr>\n",
       "    <tr>\n",
       "      <th>county_name</th>\n",
       "      <th></th>\n",
       "    </tr>\n",
       "  </thead>\n",
       "  <tbody>\n",
       "    <tr>\n",
       "      <th>Alameda</th>\n",
       "      <td>1190434861</td>\n",
       "    </tr>\n",
       "    <tr>\n",
       "      <th>Contra Costa</th>\n",
       "      <td>1095085515</td>\n",
       "    </tr>\n",
       "    <tr>\n",
       "      <th>Marin</th>\n",
       "      <td>1046029032</td>\n",
       "    </tr>\n",
       "    <tr>\n",
       "      <th>Napa</th>\n",
       "      <td>1556005658</td>\n",
       "    </tr>\n",
       "    <tr>\n",
       "      <th>San Francisco</th>\n",
       "      <td>95535946</td>\n",
       "    </tr>\n",
       "    <tr>\n",
       "      <th>San Mateo</th>\n",
       "      <td>884654868</td>\n",
       "    </tr>\n",
       "    <tr>\n",
       "      <th>Santa Clara</th>\n",
       "      <td>2378681334</td>\n",
       "    </tr>\n",
       "    <tr>\n",
       "      <th>Solano</th>\n",
       "      <td>1224964331</td>\n",
       "    </tr>\n",
       "    <tr>\n",
       "      <th>Sonoma</th>\n",
       "      <td>3206326062</td>\n",
       "    </tr>\n",
       "  </tbody>\n",
       "</table>\n",
       "</div>"
      ],
      "text/plain": [
       "                 arealand\n",
       "county_name              \n",
       "Alameda        1190434861\n",
       "Contra Costa   1095085515\n",
       "Marin          1046029032\n",
       "Napa           1556005658\n",
       "San Francisco    95535946\n",
       "San Mateo       884654868\n",
       "Santa Clara    2378681334\n",
       "Solano         1224964331\n",
       "Sonoma         3206326062"
      ]
     },
     "execution_count": 28,
     "metadata": {},
     "output_type": "execute_result"
    }
   ],
   "source": [
    "county_land = sf1[['county_name', 'arealand']].groupby(sf1['county_name']).sum()\n",
    "county_land"
   ]
  },
  {
   "cell_type": "code",
   "execution_count": 29,
   "id": "69a8e7f5",
   "metadata": {
    "slideshow": {
     "slide_type": "fragment"
    }
   },
   "outputs": [
    {
     "data": {
      "text/plain": [
       "county_name\n",
       "Alameda           3285.844577\n",
       "Contra Costa      2481.050329\n",
       "Marin              624.969565\n",
       "Napa               227.179082\n",
       "San Francisco    21829.993454\n",
       "San Mateo         2103.396042\n",
       "Santa Clara       1939.911635\n",
       "Solano             873.948750\n",
       "Sonoma             390.864261\n",
       "dtype: float64"
      ]
     },
     "execution_count": 29,
     "metadata": {},
     "output_type": "execute_result"
    }
   ],
   "source": [
    "sq_m_to_sq_mi = 2589988.11 \n",
    "county_pop['total_pop'] / county_land['arealand'] * sq_m_to_sq_mi"
   ]
  },
  {
   "cell_type": "markdown",
   "id": "3c8f68b1",
   "metadata": {
    "slideshow": {
     "slide_type": "slide"
    }
   },
   "source": [
    "Or, we could have done both aggregations at the same time!"
   ]
  },
  {
   "cell_type": "code",
   "execution_count": 31,
   "id": "5f93fc1d",
   "metadata": {
    "slideshow": {
     "slide_type": "fragment"
    }
   },
   "outputs": [
    {
     "data": {
      "text/html": [
       "<div>\n",
       "<style scoped>\n",
       "    .dataframe tbody tr th:only-of-type {\n",
       "        vertical-align: middle;\n",
       "    }\n",
       "\n",
       "    .dataframe tbody tr th {\n",
       "        vertical-align: top;\n",
       "    }\n",
       "\n",
       "    .dataframe thead th {\n",
       "        text-align: right;\n",
       "    }\n",
       "</style>\n",
       "<table border=\"1\" class=\"dataframe\">\n",
       "  <thead>\n",
       "    <tr style=\"text-align: right;\">\n",
       "      <th></th>\n",
       "      <th>P0010001</th>\n",
       "      <th>arealand</th>\n",
       "      <th>pop_density</th>\n",
       "    </tr>\n",
       "    <tr>\n",
       "      <th>county_name</th>\n",
       "      <th></th>\n",
       "      <th></th>\n",
       "      <th></th>\n",
       "    </tr>\n",
       "  </thead>\n",
       "  <tbody>\n",
       "    <tr>\n",
       "      <th>Alameda</th>\n",
       "      <td>1510271</td>\n",
       "      <td>1190434861</td>\n",
       "      <td>3285.844577</td>\n",
       "    </tr>\n",
       "    <tr>\n",
       "      <th>Contra Costa</th>\n",
       "      <td>1049025</td>\n",
       "      <td>1095085515</td>\n",
       "      <td>2481.050329</td>\n",
       "    </tr>\n",
       "    <tr>\n",
       "      <th>Marin</th>\n",
       "      <td>252409</td>\n",
       "      <td>1046029032</td>\n",
       "      <td>624.969565</td>\n",
       "    </tr>\n",
       "    <tr>\n",
       "      <th>Napa</th>\n",
       "      <td>136484</td>\n",
       "      <td>1556005658</td>\n",
       "      <td>227.179082</td>\n",
       "    </tr>\n",
       "    <tr>\n",
       "      <th>San Francisco</th>\n",
       "      <td>805235</td>\n",
       "      <td>95535946</td>\n",
       "      <td>21829.993454</td>\n",
       "    </tr>\n",
       "    <tr>\n",
       "      <th>San Mateo</th>\n",
       "      <td>718451</td>\n",
       "      <td>884654868</td>\n",
       "      <td>2103.396042</td>\n",
       "    </tr>\n",
       "    <tr>\n",
       "      <th>Santa Clara</th>\n",
       "      <td>1781642</td>\n",
       "      <td>2378681334</td>\n",
       "      <td>1939.911635</td>\n",
       "    </tr>\n",
       "    <tr>\n",
       "      <th>Solano</th>\n",
       "      <td>413344</td>\n",
       "      <td>1224964331</td>\n",
       "      <td>873.948750</td>\n",
       "    </tr>\n",
       "    <tr>\n",
       "      <th>Sonoma</th>\n",
       "      <td>483878</td>\n",
       "      <td>3206326062</td>\n",
       "      <td>390.864261</td>\n",
       "    </tr>\n",
       "  </tbody>\n",
       "</table>\n",
       "</div>"
      ],
      "text/plain": [
       "               P0010001    arealand   pop_density\n",
       "county_name                                      \n",
       "Alameda         1510271  1190434861   3285.844577\n",
       "Contra Costa    1049025  1095085515   2481.050329\n",
       "Marin            252409  1046029032    624.969565\n",
       "Napa             136484  1556005658    227.179082\n",
       "San Francisco    805235    95535946  21829.993454\n",
       "San Mateo        718451   884654868   2103.396042\n",
       "Santa Clara     1781642  2378681334   1939.911635\n",
       "Solano           413344  1224964331    873.948750\n",
       "Sonoma           483878  3206326062    390.864261"
      ]
     },
     "execution_count": 31,
     "metadata": {},
     "output_type": "execute_result"
    }
   ],
   "source": [
    "county_totals = sf1[['county_name', 'P0010001', 'arealand']].groupby('county_name').sum()\n",
    "county_totals['pop_density'] = county_totals['P0010001'] / county_totals['arealand'] * sq_m_to_sq_mi\n",
    "county_totals"
   ]
  },
  {
   "cell_type": "markdown",
   "id": "9b23f687",
   "metadata": {
    "slideshow": {
     "slide_type": "slide"
    }
   },
   "source": [
    "What if we want to apply different aggregations to different columns? "
   ]
  },
  {
   "cell_type": "code",
   "execution_count": 32,
   "id": "2e36fbad",
   "metadata": {
    "slideshow": {
     "slide_type": "fragment"
    }
   },
   "outputs": [
    {
     "data": {
      "text/html": [
       "<div>\n",
       "<style scoped>\n",
       "    .dataframe tbody tr th:only-of-type {\n",
       "        vertical-align: middle;\n",
       "    }\n",
       "\n",
       "    .dataframe tbody tr th {\n",
       "        vertical-align: top;\n",
       "    }\n",
       "\n",
       "    .dataframe thead th {\n",
       "        text-align: right;\n",
       "    }\n",
       "</style>\n",
       "<table border=\"1\" class=\"dataframe\">\n",
       "  <thead>\n",
       "    <tr style=\"text-align: right;\">\n",
       "      <th></th>\n",
       "      <th>pct_asian</th>\n",
       "      <th>P0010001</th>\n",
       "    </tr>\n",
       "    <tr>\n",
       "      <th>county_name</th>\n",
       "      <th></th>\n",
       "      <th></th>\n",
       "    </tr>\n",
       "  </thead>\n",
       "  <tbody>\n",
       "    <tr>\n",
       "      <th>Alameda</th>\n",
       "      <td>23.497126</td>\n",
       "      <td>1510271</td>\n",
       "    </tr>\n",
       "    <tr>\n",
       "      <th>Contra Costa</th>\n",
       "      <td>12.661058</td>\n",
       "      <td>1049025</td>\n",
       "    </tr>\n",
       "    <tr>\n",
       "      <th>Marin</th>\n",
       "      <td>4.914603</td>\n",
       "      <td>252409</td>\n",
       "    </tr>\n",
       "    <tr>\n",
       "      <th>Napa</th>\n",
       "      <td>5.084274</td>\n",
       "      <td>136484</td>\n",
       "    </tr>\n",
       "    <tr>\n",
       "      <th>San Francisco</th>\n",
       "      <td>30.752012</td>\n",
       "      <td>805235</td>\n",
       "    </tr>\n",
       "    <tr>\n",
       "      <th>San Mateo</th>\n",
       "      <td>19.466076</td>\n",
       "      <td>718451</td>\n",
       "    </tr>\n",
       "    <tr>\n",
       "      <th>Santa Clara</th>\n",
       "      <td>27.720153</td>\n",
       "      <td>1781642</td>\n",
       "    </tr>\n",
       "    <tr>\n",
       "      <th>Solano</th>\n",
       "      <td>11.470689</td>\n",
       "      <td>413344</td>\n",
       "    </tr>\n",
       "    <tr>\n",
       "      <th>Sonoma</th>\n",
       "      <td>3.338449</td>\n",
       "      <td>483878</td>\n",
       "    </tr>\n",
       "  </tbody>\n",
       "</table>\n",
       "</div>"
      ],
      "text/plain": [
       "               pct_asian  P0010001\n",
       "county_name                       \n",
       "Alameda        23.497126   1510271\n",
       "Contra Costa   12.661058   1049025\n",
       "Marin           4.914603    252409\n",
       "Napa            5.084274    136484\n",
       "San Francisco  30.752012    805235\n",
       "San Mateo      19.466076    718451\n",
       "Santa Clara    27.720153   1781642\n",
       "Solano         11.470689    413344\n",
       "Sonoma          3.338449    483878"
      ]
     },
     "execution_count": 32,
     "metadata": {},
     "output_type": "execute_result"
    }
   ],
   "source": [
    "#agg is the generaic aggrigation method\n",
    "#here we group the whole data frame because we are specifying columns in the agg function\n",
    "sf1.groupby('county_name').agg({'pct_asian': 'mean', 'P0010001': 'sum'})"
   ]
  },
  {
   "cell_type": "markdown",
   "id": "13f04798",
   "metadata": {
    "slideshow": {
     "slide_type": "fragment"
    }
   },
   "source": [
    "**Question**\n",
    "\n",
    "Sometimes I write `df[<list of columns>].groupby()`, but sometimes I just do `df.groupby()`. Why?"
   ]
  },
  {
   "cell_type": "markdown",
   "id": "336dfb7a",
   "metadata": {
    "slideshow": {
     "slide_type": "slide"
    }
   },
   "source": [
    "## 3.3 Exercises:\n",
    "\n",
    "Count the number of census blocks per county.\n",
    "\n",
    "Calculate total households per county.\n",
    "\n",
    "Calculate percent renters by county. (Careful not to calculate the mean percent rental across blocks in a county)\n",
    "\n",
    "Calculate percent vacant by county.\n",
    "\n",
    "Calculate mean, min and max pop_sqmi (at the block level) by county.\n",
    "\n",
    "Calculate the 90th percentile of pop_sqmi (at the block level) by county."
   ]
  },
  {
   "cell_type": "code",
   "execution_count": 33,
   "id": "023cb9d4",
   "metadata": {
    "scrolled": true,
    "slideshow": {
     "slide_type": "skip"
    }
   },
   "outputs": [
    {
     "name": "stdout",
     "output_type": "stream",
     "text": [
      "Number of census blocks per county:\n"
     ]
    }
   ],
   "source": [
    "print('Number of census blocks per county:')"
   ]
  },
  {
   "cell_type": "code",
   "execution_count": 34,
   "id": "7ae86fba",
   "metadata": {
    "scrolled": true,
    "slideshow": {
     "slide_type": "skip"
    }
   },
   "outputs": [
    {
     "name": "stdout",
     "output_type": "stream",
     "text": [
      "Total households per county\n"
     ]
    }
   ],
   "source": [
    "print('Total households per county')"
   ]
  },
  {
   "cell_type": "code",
   "execution_count": 35,
   "id": "9f74de19",
   "metadata": {
    "scrolled": true,
    "slideshow": {
     "slide_type": "skip"
    }
   },
   "outputs": [
    {
     "name": "stdout",
     "output_type": "stream",
     "text": [
      "percent renters by county\n"
     ]
    }
   ],
   "source": [
    "print('percent renters by county')"
   ]
  },
  {
   "cell_type": "code",
   "execution_count": 36,
   "id": "079f9eab",
   "metadata": {
    "slideshow": {
     "slide_type": "skip"
    }
   },
   "outputs": [
    {
     "name": "stdout",
     "output_type": "stream",
     "text": [
      "Percent vacant by county\n"
     ]
    }
   ],
   "source": [
    "print('Percent vacant by county')"
   ]
  },
  {
   "cell_type": "code",
   "execution_count": 37,
   "id": "594474e1",
   "metadata": {
    "slideshow": {
     "slide_type": "skip"
    }
   },
   "outputs": [
    {
     "name": "stdout",
     "output_type": "stream",
     "text": [
      "Min, Max and Mean Population per SQMI by Census Block\n"
     ]
    }
   ],
   "source": [
    "print('Min, Max and Mean Population per SQMI by Census Block')"
   ]
  },
  {
   "cell_type": "code",
   "execution_count": 38,
   "id": "f83535ab",
   "metadata": {
    "slideshow": {
     "slide_type": "skip"
    }
   },
   "outputs": [
    {
     "name": "stdout",
     "output_type": "stream",
     "text": [
      "90th Percentile of Population per SQMI at block level by County\n"
     ]
    }
   ],
   "source": [
    "print('90th Percentile of Population per SQMI at block level by County')"
   ]
  },
  {
   "cell_type": "markdown",
   "id": "e866bdcb",
   "metadata": {
    "slideshow": {
     "slide_type": "slide"
    }
   },
   "source": [
    "## 3.4 Cleaning Messy Data -- Craigslist Rental Listings"
   ]
  },
  {
   "cell_type": "markdown",
   "id": "d8cc2c27",
   "metadata": {
    "slideshow": {
     "slide_type": "slide"
    }
   },
   "source": [
    "### 3.4.1 Loading data\n",
    "Let's load some rental listings I scraped from Craigslist.  "
   ]
  },
  {
   "cell_type": "code",
   "execution_count": 39,
   "id": "3acfcd9f",
   "metadata": {
    "scrolled": true,
    "slideshow": {
     "slide_type": "fragment"
    }
   },
   "outputs": [
    {
     "data": {
      "text/html": [
       "<div>\n",
       "<style scoped>\n",
       "    .dataframe tbody tr th:only-of-type {\n",
       "        vertical-align: middle;\n",
       "    }\n",
       "\n",
       "    .dataframe tbody tr th {\n",
       "        vertical-align: top;\n",
       "    }\n",
       "\n",
       "    .dataframe thead th {\n",
       "        text-align: right;\n",
       "    }\n",
       "</style>\n",
       "<table border=\"1\" class=\"dataframe\">\n",
       "  <thead>\n",
       "    <tr style=\"text-align: right;\">\n",
       "      <th></th>\n",
       "      <th>neighborhood</th>\n",
       "      <th>title</th>\n",
       "      <th>price</th>\n",
       "      <th>beds_sqft</th>\n",
       "      <th>pid</th>\n",
       "      <th>longitude</th>\n",
       "      <th>date</th>\n",
       "      <th>subregion</th>\n",
       "      <th>link</th>\n",
       "      <th>latitude</th>\n",
       "    </tr>\n",
       "  </thead>\n",
       "  <tbody>\n",
       "    <tr>\n",
       "      <th>0</th>\n",
       "      <td>(bayview)</td>\n",
       "      <td>Take A TOUR ON OUR ONE FURNISHED BEDROOM TODAY</td>\n",
       "      <td>$950</td>\n",
       "      <td>/ 1br -</td>\n",
       "      <td>4076905111</td>\n",
       "      <td>-122.396965</td>\n",
       "      <td>Sep 18 2013</td>\n",
       "      <td>SF</td>\n",
       "      <td>/sfc/apa/4076905111.html</td>\n",
       "      <td>37.761216</td>\n",
       "    </tr>\n",
       "    <tr>\n",
       "      <th>1</th>\n",
       "      <td>(bayview)</td>\n",
       "      <td>Only walking distance to major shopping centers.</td>\n",
       "      <td>$950</td>\n",
       "      <td>/ 1br -</td>\n",
       "      <td>4076901755</td>\n",
       "      <td>-122.396793</td>\n",
       "      <td>Sep 18 2013</td>\n",
       "      <td>SF</td>\n",
       "      <td>/sfc/apa/4076901755.html</td>\n",
       "      <td>37.761080</td>\n",
       "    </tr>\n",
       "    <tr>\n",
       "      <th>2</th>\n",
       "      <td>(bayview)</td>\n",
       "      <td>furnished - 1 Bedroom(s), 1 Bath(s), Air Condi...</td>\n",
       "      <td>$950</td>\n",
       "      <td>/ 1br -</td>\n",
       "      <td>4076899340</td>\n",
       "      <td>-122.397100</td>\n",
       "      <td>Sep 18 2013</td>\n",
       "      <td>SF</td>\n",
       "      <td>/sfc/apa/4076899340.html</td>\n",
       "      <td>37.762100</td>\n",
       "    </tr>\n",
       "    <tr>\n",
       "      <th>3</th>\n",
       "      <td>(financial district)</td>\n",
       "      <td>*NEW* Beautiful, Upscale Condo in Historic Jac...</td>\n",
       "      <td>$3300</td>\n",
       "      <td>/ 1br - 830ft² -</td>\n",
       "      <td>4067393707</td>\n",
       "      <td>-122.399747</td>\n",
       "      <td>Sep 18 2013</td>\n",
       "      <td>SF</td>\n",
       "      <td>/sfc/apa/4067393707.html</td>\n",
       "      <td>37.798108</td>\n",
       "    </tr>\n",
       "    <tr>\n",
       "      <th>4</th>\n",
       "      <td>(visitacion valley)</td>\n",
       "      <td>楼上全层3房</td>\n",
       "      <td>$2000</td>\n",
       "      <td>/ 3br - 1280ft² -</td>\n",
       "      <td>4076901071</td>\n",
       "      <td>NaN</td>\n",
       "      <td>Sep 18 2013</td>\n",
       "      <td>SF</td>\n",
       "      <td>/sfc/apa/4076901071.html</td>\n",
       "      <td>NaN</td>\n",
       "    </tr>\n",
       "  </tbody>\n",
       "</table>\n",
       "</div>"
      ],
      "text/plain": [
       "            neighborhood                                              title  \\\n",
       "0              (bayview)     Take A TOUR ON OUR ONE FURNISHED BEDROOM TODAY   \n",
       "1              (bayview)   Only walking distance to major shopping centers.   \n",
       "2              (bayview)  furnished - 1 Bedroom(s), 1 Bath(s), Air Condi...   \n",
       "3   (financial district)  *NEW* Beautiful, Upscale Condo in Historic Jac...   \n",
       "4    (visitacion valley)                                             楼上全层3房   \n",
       "\n",
       "   price                 beds_sqft         pid   longitude         date  \\\n",
       "0   $950               / 1br -      4076905111 -122.396965  Sep 18 2013   \n",
       "1   $950               / 1br -      4076901755 -122.396793  Sep 18 2013   \n",
       "2   $950               / 1br -      4076899340 -122.397100  Sep 18 2013   \n",
       "3  $3300      / 1br - 830ft² -      4067393707 -122.399747  Sep 18 2013   \n",
       "4  $2000     / 3br - 1280ft² -      4076901071         NaN  Sep 18 2013   \n",
       "\n",
       "  subregion                      link   latitude  \n",
       "0        SF  /sfc/apa/4076905111.html  37.761216  \n",
       "1        SF  /sfc/apa/4076901755.html  37.761080  \n",
       "2        SF  /sfc/apa/4076899340.html  37.762100  \n",
       "3        SF  /sfc/apa/4067393707.html  37.798108  \n",
       "4        SF  /sfc/apa/4076901071.html        NaN  "
      ]
     },
     "execution_count": 39,
     "metadata": {},
     "output_type": "execute_result"
    }
   ],
   "source": [
    "df = pd.read_csv('data/bay.csv')\n",
    "df.head()"
   ]
  },
  {
   "cell_type": "markdown",
   "id": "7603679b",
   "metadata": {
    "slideshow": {
     "slide_type": "fragment"
    }
   },
   "source": [
    "It turns out to be pretty messy. What problems do you see?"
   ]
  },
  {
   "cell_type": "markdown",
   "id": "3427a5c2",
   "metadata": {
    "slideshow": {
     "slide_type": "slide"
    }
   },
   "source": [
    "\n",
    "- Neighborhood names are in parentheses...\n",
    "- Bedrooms and Square Feet are embedded in a single string in the bedrooms column along with other text...\n",
    "- Price is formatted as a string with a dollar sign...\n",
    "- Date is a string in a non-standard format...\n",
    "\n",
    "So how can we go about cleaning these data up to use them for analysis?\n",
    "\n",
    "Let's start with cleaning up the Price and Neighborhood variables."
   ]
  },
  {
   "cell_type": "markdown",
   "id": "1372b48c",
   "metadata": {
    "slideshow": {
     "slide_type": "slide"
    }
   },
   "source": [
    "### 3.4.2 String Ops"
   ]
  },
  {
   "cell_type": "code",
   "execution_count": 45,
   "id": "d7316842",
   "metadata": {
    "scrolled": true,
    "slideshow": {
     "slide_type": "fragment"
    }
   },
   "outputs": [
    {
     "ename": "AttributeError",
     "evalue": "Can only use .str accessor with string values!",
     "output_type": "error",
     "traceback": [
      "\u001b[0;31m---------------------------------------------------------------------------\u001b[0m",
      "\u001b[0;31mAttributeError\u001b[0m                            Traceback (most recent call last)",
      "\u001b[0;32m<ipython-input-45-bf71ac5741e8>\u001b[0m in \u001b[0;36m<module>\u001b[0;34m\u001b[0m\n\u001b[0;32m----> 1\u001b[0;31m \u001b[0mdf\u001b[0m\u001b[0;34m[\u001b[0m\u001b[0;34m'price'\u001b[0m\u001b[0;34m]\u001b[0m \u001b[0;34m=\u001b[0m \u001b[0mdf\u001b[0m\u001b[0;34m[\u001b[0m\u001b[0;34m'price'\u001b[0m\u001b[0;34m]\u001b[0m\u001b[0;34m.\u001b[0m\u001b[0mstr\u001b[0m\u001b[0;34m.\u001b[0m\u001b[0mstrip\u001b[0m\u001b[0;34m(\u001b[0m\u001b[0;34m'$'\u001b[0m\u001b[0;34m)\u001b[0m\u001b[0;34m.\u001b[0m\u001b[0mastype\u001b[0m\u001b[0;34m(\u001b[0m\u001b[0;34m'float64'\u001b[0m\u001b[0;34m)\u001b[0m\u001b[0;34m\u001b[0m\u001b[0;34m\u001b[0m\u001b[0m\n\u001b[0m\u001b[1;32m      2\u001b[0m \u001b[0mdf\u001b[0m\u001b[0;34m[\u001b[0m\u001b[0;34m'neighborhood'\u001b[0m\u001b[0;34m]\u001b[0m \u001b[0;34m=\u001b[0m \u001b[0mdf\u001b[0m\u001b[0;34m[\u001b[0m\u001b[0;34m'neighborhood'\u001b[0m\u001b[0;34m]\u001b[0m\u001b[0;34m.\u001b[0m\u001b[0mstr\u001b[0m\u001b[0;34m.\u001b[0m\u001b[0mstrip\u001b[0m\u001b[0;34m(\u001b[0m\u001b[0;34m)\u001b[0m\u001b[0;34m.\u001b[0m\u001b[0mstr\u001b[0m\u001b[0;34m.\u001b[0m\u001b[0mstrip\u001b[0m\u001b[0;34m(\u001b[0m\u001b[0;34m'('\u001b[0m\u001b[0;34m)\u001b[0m\u001b[0;34m.\u001b[0m\u001b[0mstr\u001b[0m\u001b[0;34m.\u001b[0m\u001b[0mstrip\u001b[0m\u001b[0;34m(\u001b[0m\u001b[0;34m')'\u001b[0m\u001b[0;34m)\u001b[0m\u001b[0;34m\u001b[0m\u001b[0;34m\u001b[0m\u001b[0m\n",
      "\u001b[0;32m/opt/anaconda3/lib/python3.8/site-packages/pandas/core/generic.py\u001b[0m in \u001b[0;36m__getattr__\u001b[0;34m(self, name)\u001b[0m\n\u001b[1;32m   5459\u001b[0m             \u001b[0;32mor\u001b[0m \u001b[0mname\u001b[0m \u001b[0;32min\u001b[0m \u001b[0mself\u001b[0m\u001b[0;34m.\u001b[0m\u001b[0m_accessors\u001b[0m\u001b[0;34m\u001b[0m\u001b[0;34m\u001b[0m\u001b[0m\n\u001b[1;32m   5460\u001b[0m         ):\n\u001b[0;32m-> 5461\u001b[0;31m             \u001b[0;32mreturn\u001b[0m \u001b[0mobject\u001b[0m\u001b[0;34m.\u001b[0m\u001b[0m__getattribute__\u001b[0m\u001b[0;34m(\u001b[0m\u001b[0mself\u001b[0m\u001b[0;34m,\u001b[0m \u001b[0mname\u001b[0m\u001b[0;34m)\u001b[0m\u001b[0;34m\u001b[0m\u001b[0;34m\u001b[0m\u001b[0m\n\u001b[0m\u001b[1;32m   5462\u001b[0m         \u001b[0;32melse\u001b[0m\u001b[0;34m:\u001b[0m\u001b[0;34m\u001b[0m\u001b[0;34m\u001b[0m\u001b[0m\n\u001b[1;32m   5463\u001b[0m             \u001b[0;32mif\u001b[0m \u001b[0mself\u001b[0m\u001b[0;34m.\u001b[0m\u001b[0m_info_axis\u001b[0m\u001b[0;34m.\u001b[0m\u001b[0m_can_hold_identifiers_and_holds_name\u001b[0m\u001b[0;34m(\u001b[0m\u001b[0mname\u001b[0m\u001b[0;34m)\u001b[0m\u001b[0;34m:\u001b[0m\u001b[0;34m\u001b[0m\u001b[0;34m\u001b[0m\u001b[0m\n",
      "\u001b[0;32m/opt/anaconda3/lib/python3.8/site-packages/pandas/core/accessor.py\u001b[0m in \u001b[0;36m__get__\u001b[0;34m(self, obj, cls)\u001b[0m\n\u001b[1;32m    178\u001b[0m             \u001b[0;31m# we're accessing the attribute of the class, i.e., Dataset.geo\u001b[0m\u001b[0;34m\u001b[0m\u001b[0;34m\u001b[0m\u001b[0;34m\u001b[0m\u001b[0m\n\u001b[1;32m    179\u001b[0m             \u001b[0;32mreturn\u001b[0m \u001b[0mself\u001b[0m\u001b[0;34m.\u001b[0m\u001b[0m_accessor\u001b[0m\u001b[0;34m\u001b[0m\u001b[0;34m\u001b[0m\u001b[0m\n\u001b[0;32m--> 180\u001b[0;31m         \u001b[0maccessor_obj\u001b[0m \u001b[0;34m=\u001b[0m \u001b[0mself\u001b[0m\u001b[0;34m.\u001b[0m\u001b[0m_accessor\u001b[0m\u001b[0;34m(\u001b[0m\u001b[0mobj\u001b[0m\u001b[0;34m)\u001b[0m\u001b[0;34m\u001b[0m\u001b[0;34m\u001b[0m\u001b[0m\n\u001b[0m\u001b[1;32m    181\u001b[0m         \u001b[0;31m# Replace the property with the accessor object. Inspired by:\u001b[0m\u001b[0;34m\u001b[0m\u001b[0;34m\u001b[0m\u001b[0;34m\u001b[0m\u001b[0m\n\u001b[1;32m    182\u001b[0m         \u001b[0;31m# https://www.pydanny.com/cached-property.html\u001b[0m\u001b[0;34m\u001b[0m\u001b[0;34m\u001b[0m\u001b[0;34m\u001b[0m\u001b[0m\n",
      "\u001b[0;32m/opt/anaconda3/lib/python3.8/site-packages/pandas/core/strings/accessor.py\u001b[0m in \u001b[0;36m__init__\u001b[0;34m(self, data)\u001b[0m\n\u001b[1;32m    152\u001b[0m         \u001b[0;32mfrom\u001b[0m \u001b[0mpandas\u001b[0m\u001b[0;34m.\u001b[0m\u001b[0mcore\u001b[0m\u001b[0;34m.\u001b[0m\u001b[0marrays\u001b[0m\u001b[0;34m.\u001b[0m\u001b[0mstring_\u001b[0m \u001b[0;32mimport\u001b[0m \u001b[0mStringDtype\u001b[0m\u001b[0;34m\u001b[0m\u001b[0;34m\u001b[0m\u001b[0m\n\u001b[1;32m    153\u001b[0m \u001b[0;34m\u001b[0m\u001b[0m\n\u001b[0;32m--> 154\u001b[0;31m         \u001b[0mself\u001b[0m\u001b[0;34m.\u001b[0m\u001b[0m_inferred_dtype\u001b[0m \u001b[0;34m=\u001b[0m \u001b[0mself\u001b[0m\u001b[0;34m.\u001b[0m\u001b[0m_validate\u001b[0m\u001b[0;34m(\u001b[0m\u001b[0mdata\u001b[0m\u001b[0;34m)\u001b[0m\u001b[0;34m\u001b[0m\u001b[0;34m\u001b[0m\u001b[0m\n\u001b[0m\u001b[1;32m    155\u001b[0m         \u001b[0mself\u001b[0m\u001b[0;34m.\u001b[0m\u001b[0m_is_categorical\u001b[0m \u001b[0;34m=\u001b[0m \u001b[0mis_categorical_dtype\u001b[0m\u001b[0;34m(\u001b[0m\u001b[0mdata\u001b[0m\u001b[0;34m.\u001b[0m\u001b[0mdtype\u001b[0m\u001b[0;34m)\u001b[0m\u001b[0;34m\u001b[0m\u001b[0;34m\u001b[0m\u001b[0m\n\u001b[1;32m    156\u001b[0m         \u001b[0mself\u001b[0m\u001b[0;34m.\u001b[0m\u001b[0m_is_string\u001b[0m \u001b[0;34m=\u001b[0m \u001b[0misinstance\u001b[0m\u001b[0;34m(\u001b[0m\u001b[0mdata\u001b[0m\u001b[0;34m.\u001b[0m\u001b[0mdtype\u001b[0m\u001b[0;34m,\u001b[0m \u001b[0mStringDtype\u001b[0m\u001b[0;34m)\u001b[0m\u001b[0;34m\u001b[0m\u001b[0;34m\u001b[0m\u001b[0m\n",
      "\u001b[0;32m/opt/anaconda3/lib/python3.8/site-packages/pandas/core/strings/accessor.py\u001b[0m in \u001b[0;36m_validate\u001b[0;34m(data)\u001b[0m\n\u001b[1;32m    215\u001b[0m \u001b[0;34m\u001b[0m\u001b[0m\n\u001b[1;32m    216\u001b[0m         \u001b[0;32mif\u001b[0m \u001b[0minferred_dtype\u001b[0m \u001b[0;32mnot\u001b[0m \u001b[0;32min\u001b[0m \u001b[0mallowed_types\u001b[0m\u001b[0;34m:\u001b[0m\u001b[0;34m\u001b[0m\u001b[0;34m\u001b[0m\u001b[0m\n\u001b[0;32m--> 217\u001b[0;31m             \u001b[0;32mraise\u001b[0m \u001b[0mAttributeError\u001b[0m\u001b[0;34m(\u001b[0m\u001b[0;34m\"Can only use .str accessor with string values!\"\u001b[0m\u001b[0;34m)\u001b[0m\u001b[0;34m\u001b[0m\u001b[0;34m\u001b[0m\u001b[0m\n\u001b[0m\u001b[1;32m    218\u001b[0m         \u001b[0;32mreturn\u001b[0m \u001b[0minferred_dtype\u001b[0m\u001b[0;34m\u001b[0m\u001b[0;34m\u001b[0m\u001b[0m\n\u001b[1;32m    219\u001b[0m \u001b[0;34m\u001b[0m\u001b[0m\n",
      "\u001b[0;31mAttributeError\u001b[0m: Can only use .str accessor with string values!"
     ]
    }
   ],
   "source": [
    "df['price'] = df['price'].str.strip('$').astype('float64')\n",
    "df['neighborhood'] = df['neighborhood'].str.strip().str.strip('(').str.strip(')')"
   ]
  },
  {
   "cell_type": "code",
   "execution_count": 46,
   "id": "0310cdea",
   "metadata": {},
   "outputs": [
    {
     "data": {
      "text/html": [
       "<div>\n",
       "<style scoped>\n",
       "    .dataframe tbody tr th:only-of-type {\n",
       "        vertical-align: middle;\n",
       "    }\n",
       "\n",
       "    .dataframe tbody tr th {\n",
       "        vertical-align: top;\n",
       "    }\n",
       "\n",
       "    .dataframe thead th {\n",
       "        text-align: right;\n",
       "    }\n",
       "</style>\n",
       "<table border=\"1\" class=\"dataframe\">\n",
       "  <thead>\n",
       "    <tr style=\"text-align: right;\">\n",
       "      <th></th>\n",
       "      <th>neighborhood</th>\n",
       "      <th>title</th>\n",
       "      <th>price</th>\n",
       "      <th>beds_sqft</th>\n",
       "      <th>pid</th>\n",
       "      <th>longitude</th>\n",
       "      <th>date</th>\n",
       "      <th>subregion</th>\n",
       "      <th>link</th>\n",
       "      <th>latitude</th>\n",
       "    </tr>\n",
       "  </thead>\n",
       "  <tbody>\n",
       "    <tr>\n",
       "      <th>0</th>\n",
       "      <td>bayview</td>\n",
       "      <td>Take A TOUR ON OUR ONE FURNISHED BEDROOM TODAY</td>\n",
       "      <td>950.0</td>\n",
       "      <td>/ 1br -</td>\n",
       "      <td>4076905111</td>\n",
       "      <td>-122.396965</td>\n",
       "      <td>Sep 18 2013</td>\n",
       "      <td>SF</td>\n",
       "      <td>/sfc/apa/4076905111.html</td>\n",
       "      <td>37.761216</td>\n",
       "    </tr>\n",
       "    <tr>\n",
       "      <th>1</th>\n",
       "      <td>bayview</td>\n",
       "      <td>Only walking distance to major shopping centers.</td>\n",
       "      <td>950.0</td>\n",
       "      <td>/ 1br -</td>\n",
       "      <td>4076901755</td>\n",
       "      <td>-122.396793</td>\n",
       "      <td>Sep 18 2013</td>\n",
       "      <td>SF</td>\n",
       "      <td>/sfc/apa/4076901755.html</td>\n",
       "      <td>37.761080</td>\n",
       "    </tr>\n",
       "    <tr>\n",
       "      <th>2</th>\n",
       "      <td>bayview</td>\n",
       "      <td>furnished - 1 Bedroom(s), 1 Bath(s), Air Condi...</td>\n",
       "      <td>950.0</td>\n",
       "      <td>/ 1br -</td>\n",
       "      <td>4076899340</td>\n",
       "      <td>-122.397100</td>\n",
       "      <td>Sep 18 2013</td>\n",
       "      <td>SF</td>\n",
       "      <td>/sfc/apa/4076899340.html</td>\n",
       "      <td>37.762100</td>\n",
       "    </tr>\n",
       "    <tr>\n",
       "      <th>3</th>\n",
       "      <td>financial district</td>\n",
       "      <td>*NEW* Beautiful, Upscale Condo in Historic Jac...</td>\n",
       "      <td>3300.0</td>\n",
       "      <td>/ 1br - 830ft² -</td>\n",
       "      <td>4067393707</td>\n",
       "      <td>-122.399747</td>\n",
       "      <td>Sep 18 2013</td>\n",
       "      <td>SF</td>\n",
       "      <td>/sfc/apa/4067393707.html</td>\n",
       "      <td>37.798108</td>\n",
       "    </tr>\n",
       "    <tr>\n",
       "      <th>4</th>\n",
       "      <td>visitacion valley</td>\n",
       "      <td>楼上全层3房</td>\n",
       "      <td>2000.0</td>\n",
       "      <td>/ 3br - 1280ft² -</td>\n",
       "      <td>4076901071</td>\n",
       "      <td>NaN</td>\n",
       "      <td>Sep 18 2013</td>\n",
       "      <td>SF</td>\n",
       "      <td>/sfc/apa/4076901071.html</td>\n",
       "      <td>NaN</td>\n",
       "    </tr>\n",
       "  </tbody>\n",
       "</table>\n",
       "</div>"
      ],
      "text/plain": [
       "         neighborhood                                              title  \\\n",
       "0             bayview     Take A TOUR ON OUR ONE FURNISHED BEDROOM TODAY   \n",
       "1             bayview   Only walking distance to major shopping centers.   \n",
       "2             bayview  furnished - 1 Bedroom(s), 1 Bath(s), Air Condi...   \n",
       "3  financial district  *NEW* Beautiful, Upscale Condo in Historic Jac...   \n",
       "4   visitacion valley                                             楼上全层3房   \n",
       "\n",
       "    price                 beds_sqft         pid   longitude         date  \\\n",
       "0   950.0               / 1br -      4076905111 -122.396965  Sep 18 2013   \n",
       "1   950.0               / 1br -      4076901755 -122.396793  Sep 18 2013   \n",
       "2   950.0               / 1br -      4076899340 -122.397100  Sep 18 2013   \n",
       "3  3300.0      / 1br - 830ft² -      4067393707 -122.399747  Sep 18 2013   \n",
       "4  2000.0     / 3br - 1280ft² -      4076901071         NaN  Sep 18 2013   \n",
       "\n",
       "  subregion                      link   latitude  \n",
       "0        SF  /sfc/apa/4076905111.html  37.761216  \n",
       "1        SF  /sfc/apa/4076901755.html  37.761080  \n",
       "2        SF  /sfc/apa/4076899340.html  37.762100  \n",
       "3        SF  /sfc/apa/4067393707.html  37.798108  \n",
       "4        SF  /sfc/apa/4076901071.html        NaN  "
      ]
     },
     "execution_count": 46,
     "metadata": {},
     "output_type": "execute_result"
    }
   ],
   "source": [
    "df.head()"
   ]
  },
  {
   "cell_type": "markdown",
   "id": "bf863ada",
   "metadata": {
    "slideshow": {
     "slide_type": "slide"
    }
   },
   "source": [
    "OK, now lets create Year, Month and Day columns"
   ]
  },
  {
   "cell_type": "code",
   "execution_count": 47,
   "id": "7e8c8f16",
   "metadata": {
    "slideshow": {
     "slide_type": "fragment"
    }
   },
   "outputs": [
    {
     "data": {
      "text/html": [
       "<div>\n",
       "<style scoped>\n",
       "    .dataframe tbody tr th:only-of-type {\n",
       "        vertical-align: middle;\n",
       "    }\n",
       "\n",
       "    .dataframe tbody tr th {\n",
       "        vertical-align: top;\n",
       "    }\n",
       "\n",
       "    .dataframe thead th {\n",
       "        text-align: right;\n",
       "    }\n",
       "</style>\n",
       "<table border=\"1\" class=\"dataframe\">\n",
       "  <thead>\n",
       "    <tr style=\"text-align: right;\">\n",
       "      <th></th>\n",
       "      <th>neighborhood</th>\n",
       "      <th>title</th>\n",
       "      <th>price</th>\n",
       "      <th>beds_sqft</th>\n",
       "      <th>pid</th>\n",
       "      <th>longitude</th>\n",
       "      <th>date</th>\n",
       "      <th>subregion</th>\n",
       "      <th>link</th>\n",
       "      <th>latitude</th>\n",
       "      <th>month</th>\n",
       "      <th>day</th>\n",
       "      <th>year</th>\n",
       "    </tr>\n",
       "  </thead>\n",
       "  <tbody>\n",
       "    <tr>\n",
       "      <th>0</th>\n",
       "      <td>bayview</td>\n",
       "      <td>Take A TOUR ON OUR ONE FURNISHED BEDROOM TODAY</td>\n",
       "      <td>950.0</td>\n",
       "      <td>/ 1br -</td>\n",
       "      <td>4076905111</td>\n",
       "      <td>-122.396965</td>\n",
       "      <td>Sep 18 2013</td>\n",
       "      <td>SF</td>\n",
       "      <td>/sfc/apa/4076905111.html</td>\n",
       "      <td>37.761216</td>\n",
       "      <td>Sep</td>\n",
       "      <td>18</td>\n",
       "      <td>2013</td>\n",
       "    </tr>\n",
       "    <tr>\n",
       "      <th>1</th>\n",
       "      <td>bayview</td>\n",
       "      <td>Only walking distance to major shopping centers.</td>\n",
       "      <td>950.0</td>\n",
       "      <td>/ 1br -</td>\n",
       "      <td>4076901755</td>\n",
       "      <td>-122.396793</td>\n",
       "      <td>Sep 18 2013</td>\n",
       "      <td>SF</td>\n",
       "      <td>/sfc/apa/4076901755.html</td>\n",
       "      <td>37.761080</td>\n",
       "      <td>Sep</td>\n",
       "      <td>18</td>\n",
       "      <td>2013</td>\n",
       "    </tr>\n",
       "    <tr>\n",
       "      <th>2</th>\n",
       "      <td>bayview</td>\n",
       "      <td>furnished - 1 Bedroom(s), 1 Bath(s), Air Condi...</td>\n",
       "      <td>950.0</td>\n",
       "      <td>/ 1br -</td>\n",
       "      <td>4076899340</td>\n",
       "      <td>-122.397100</td>\n",
       "      <td>Sep 18 2013</td>\n",
       "      <td>SF</td>\n",
       "      <td>/sfc/apa/4076899340.html</td>\n",
       "      <td>37.762100</td>\n",
       "      <td>Sep</td>\n",
       "      <td>18</td>\n",
       "      <td>2013</td>\n",
       "    </tr>\n",
       "    <tr>\n",
       "      <th>3</th>\n",
       "      <td>financial district</td>\n",
       "      <td>*NEW* Beautiful, Upscale Condo in Historic Jac...</td>\n",
       "      <td>3300.0</td>\n",
       "      <td>/ 1br - 830ft² -</td>\n",
       "      <td>4067393707</td>\n",
       "      <td>-122.399747</td>\n",
       "      <td>Sep 18 2013</td>\n",
       "      <td>SF</td>\n",
       "      <td>/sfc/apa/4067393707.html</td>\n",
       "      <td>37.798108</td>\n",
       "      <td>Sep</td>\n",
       "      <td>18</td>\n",
       "      <td>2013</td>\n",
       "    </tr>\n",
       "    <tr>\n",
       "      <th>4</th>\n",
       "      <td>visitacion valley</td>\n",
       "      <td>楼上全层3房</td>\n",
       "      <td>2000.0</td>\n",
       "      <td>/ 3br - 1280ft² -</td>\n",
       "      <td>4076901071</td>\n",
       "      <td>NaN</td>\n",
       "      <td>Sep 18 2013</td>\n",
       "      <td>SF</td>\n",
       "      <td>/sfc/apa/4076901071.html</td>\n",
       "      <td>NaN</td>\n",
       "      <td>Sep</td>\n",
       "      <td>18</td>\n",
       "      <td>2013</td>\n",
       "    </tr>\n",
       "  </tbody>\n",
       "</table>\n",
       "</div>"
      ],
      "text/plain": [
       "         neighborhood                                              title  \\\n",
       "0             bayview     Take A TOUR ON OUR ONE FURNISHED BEDROOM TODAY   \n",
       "1             bayview   Only walking distance to major shopping centers.   \n",
       "2             bayview  furnished - 1 Bedroom(s), 1 Bath(s), Air Condi...   \n",
       "3  financial district  *NEW* Beautiful, Upscale Condo in Historic Jac...   \n",
       "4   visitacion valley                                             楼上全层3房   \n",
       "\n",
       "    price                 beds_sqft         pid   longitude         date  \\\n",
       "0   950.0               / 1br -      4076905111 -122.396965  Sep 18 2013   \n",
       "1   950.0               / 1br -      4076901755 -122.396793  Sep 18 2013   \n",
       "2   950.0               / 1br -      4076899340 -122.397100  Sep 18 2013   \n",
       "3  3300.0      / 1br - 830ft² -      4067393707 -122.399747  Sep 18 2013   \n",
       "4  2000.0     / 3br - 1280ft² -      4076901071         NaN  Sep 18 2013   \n",
       "\n",
       "  subregion                      link   latitude month  day  year  \n",
       "0        SF  /sfc/apa/4076905111.html  37.761216   Sep   18  2013  \n",
       "1        SF  /sfc/apa/4076901755.html  37.761080   Sep   18  2013  \n",
       "2        SF  /sfc/apa/4076899340.html  37.762100   Sep   18  2013  \n",
       "3        SF  /sfc/apa/4067393707.html  37.798108   Sep   18  2013  \n",
       "4        SF  /sfc/apa/4076901071.html        NaN   Sep   18  2013  "
      ]
     },
     "execution_count": 47,
     "metadata": {},
     "output_type": "execute_result"
    }
   ],
   "source": [
    "df['month'] = df['date'].str.split().str[0]\n",
    "df['day'] = df['date'].str.split().str[1].astype('int32')\n",
    "df['year'] = df['date'].str.split().str[2].astype('int32')\n",
    "df.head()"
   ]
  },
  {
   "cell_type": "markdown",
   "id": "76411b30",
   "metadata": {
    "slideshow": {
     "slide_type": "slide"
    }
   },
   "source": [
    "### 3.4.3 Datetime ops\n",
    "\n",
    "pandas has special functions for dealing with `datetime` data types which make it much easier to do what we just did above. First we have to convert our date-like column to a `datetime` column"
   ]
  },
  {
   "cell_type": "code",
   "execution_count": 48,
   "id": "c95df894",
   "metadata": {
    "scrolled": true,
    "slideshow": {
     "slide_type": "fragment"
    }
   },
   "outputs": [],
   "source": [
    "df['date'] = pd.to_datetime(df['date'])"
   ]
  },
  {
   "cell_type": "markdown",
   "id": "c8f78082",
   "metadata": {
    "slideshow": {
     "slide_type": "fragment"
    }
   },
   "source": [
    "Now we can use the `dt` method (just like `.str.` for string ops) to get month, day, year, and whatever else we want:"
   ]
  },
  {
   "cell_type": "code",
   "execution_count": 49,
   "id": "aa5df511",
   "metadata": {},
   "outputs": [],
   "source": [
    "df['year'] = df['date'].dt.year\n",
    "df['month'] = df['date'].dt.month_name()\n",
    "df['day'] = df['date'].dt.day\n",
    "df['day_of_week'] = df['date'].dt.day_name()"
   ]
  },
  {
   "cell_type": "code",
   "execution_count": 50,
   "id": "30d4783c",
   "metadata": {},
   "outputs": [
    {
     "data": {
      "text/html": [
       "<div>\n",
       "<style scoped>\n",
       "    .dataframe tbody tr th:only-of-type {\n",
       "        vertical-align: middle;\n",
       "    }\n",
       "\n",
       "    .dataframe tbody tr th {\n",
       "        vertical-align: top;\n",
       "    }\n",
       "\n",
       "    .dataframe thead th {\n",
       "        text-align: right;\n",
       "    }\n",
       "</style>\n",
       "<table border=\"1\" class=\"dataframe\">\n",
       "  <thead>\n",
       "    <tr style=\"text-align: right;\">\n",
       "      <th></th>\n",
       "      <th>date</th>\n",
       "      <th>day</th>\n",
       "      <th>month</th>\n",
       "      <th>year</th>\n",
       "      <th>day_of_week</th>\n",
       "    </tr>\n",
       "  </thead>\n",
       "  <tbody>\n",
       "    <tr>\n",
       "      <th>0</th>\n",
       "      <td>2013-09-18</td>\n",
       "      <td>18</td>\n",
       "      <td>September</td>\n",
       "      <td>2013</td>\n",
       "      <td>Wednesday</td>\n",
       "    </tr>\n",
       "    <tr>\n",
       "      <th>1</th>\n",
       "      <td>2013-09-18</td>\n",
       "      <td>18</td>\n",
       "      <td>September</td>\n",
       "      <td>2013</td>\n",
       "      <td>Wednesday</td>\n",
       "    </tr>\n",
       "    <tr>\n",
       "      <th>2</th>\n",
       "      <td>2013-09-18</td>\n",
       "      <td>18</td>\n",
       "      <td>September</td>\n",
       "      <td>2013</td>\n",
       "      <td>Wednesday</td>\n",
       "    </tr>\n",
       "    <tr>\n",
       "      <th>3</th>\n",
       "      <td>2013-09-18</td>\n",
       "      <td>18</td>\n",
       "      <td>September</td>\n",
       "      <td>2013</td>\n",
       "      <td>Wednesday</td>\n",
       "    </tr>\n",
       "    <tr>\n",
       "      <th>4</th>\n",
       "      <td>2013-09-18</td>\n",
       "      <td>18</td>\n",
       "      <td>September</td>\n",
       "      <td>2013</td>\n",
       "      <td>Wednesday</td>\n",
       "    </tr>\n",
       "  </tbody>\n",
       "</table>\n",
       "</div>"
      ],
      "text/plain": [
       "        date  day      month  year day_of_week\n",
       "0 2013-09-18   18  September  2013   Wednesday\n",
       "1 2013-09-18   18  September  2013   Wednesday\n",
       "2 2013-09-18   18  September  2013   Wednesday\n",
       "3 2013-09-18   18  September  2013   Wednesday\n",
       "4 2013-09-18   18  September  2013   Wednesday"
      ]
     },
     "execution_count": 50,
     "metadata": {},
     "output_type": "execute_result"
    }
   ],
   "source": [
    "df[['date', 'day', 'month', 'year', 'day_of_week']].head()"
   ]
  },
  {
   "cell_type": "markdown",
   "id": "c8c8eab1",
   "metadata": {
    "slideshow": {
     "slide_type": "slide"
    }
   },
   "source": [
    "### 3.4.4 Complex string processing"
   ]
  },
  {
   "cell_type": "markdown",
   "id": "8458455d",
   "metadata": {
    "slideshow": {
     "slide_type": "slide"
    }
   },
   "source": [
    "Let's see how we might extract the bedrooms..."
   ]
  },
  {
   "cell_type": "code",
   "execution_count": 51,
   "id": "e0d02877",
   "metadata": {
    "slideshow": {
     "slide_type": "fragment"
    }
   },
   "outputs": [
    {
     "data": {
      "text/plain": [
       "234        / 6br - 3451ft² -    \n",
       "3654       / 3br - 1510ft² -    \n",
       "4784       / 2br - 1321ft² -    \n",
       "1627        / 1br - 600ft² -    \n",
       "2182        / 1br - 700ft² -    \n",
       "Name: beds_sqft, dtype: object"
      ]
     },
     "execution_count": 51,
     "metadata": {},
     "output_type": "execute_result"
    }
   ],
   "source": [
    "df.beds_sqft.sample(5)"
   ]
  },
  {
   "cell_type": "code",
   "execution_count": 55,
   "id": "ef0d9aea",
   "metadata": {
    "scrolled": false,
    "slideshow": {
     "slide_type": "slide"
    }
   },
   "outputs": [],
   "source": [
    "def clean_bdrm(value):\n",
    "\n",
    "    if isinstance(value, str):\n",
    "        #defines end possition\n",
    "        end = value.find('br')\n",
    "\n",
    "        #if it can't find 'br' it will return '-1'... its just a python thing\n",
    "        if end == -1:\n",
    "            return\n",
    "        \n",
    "        else:\n",
    "            #defines start possition\n",
    "            start = value.find('/') + 2\n",
    "            return int(value[start:end])\n",
    "\n",
    "    else:\n",
    "        return\n",
    "\n",
    "df['bedrooms'] = df['beds_sqft'].map(clean_bdrm)"
   ]
  },
  {
   "cell_type": "code",
   "execution_count": 56,
   "id": "3e893181",
   "metadata": {
    "slideshow": {
     "slide_type": "slide"
    }
   },
   "outputs": [
    {
     "data": {
      "text/html": [
       "<div>\n",
       "<style scoped>\n",
       "    .dataframe tbody tr th:only-of-type {\n",
       "        vertical-align: middle;\n",
       "    }\n",
       "\n",
       "    .dataframe tbody tr th {\n",
       "        vertical-align: top;\n",
       "    }\n",
       "\n",
       "    .dataframe thead th {\n",
       "        text-align: right;\n",
       "    }\n",
       "</style>\n",
       "<table border=\"1\" class=\"dataframe\">\n",
       "  <thead>\n",
       "    <tr style=\"text-align: right;\">\n",
       "      <th></th>\n",
       "      <th>bedrooms</th>\n",
       "      <th>beds_sqft</th>\n",
       "    </tr>\n",
       "  </thead>\n",
       "  <tbody>\n",
       "    <tr>\n",
       "      <th>0</th>\n",
       "      <td>1.0</td>\n",
       "      <td>/ 1br -</td>\n",
       "    </tr>\n",
       "    <tr>\n",
       "      <th>1</th>\n",
       "      <td>1.0</td>\n",
       "      <td>/ 1br -</td>\n",
       "    </tr>\n",
       "    <tr>\n",
       "      <th>2</th>\n",
       "      <td>1.0</td>\n",
       "      <td>/ 1br -</td>\n",
       "    </tr>\n",
       "    <tr>\n",
       "      <th>3</th>\n",
       "      <td>1.0</td>\n",
       "      <td>/ 1br - 830ft² -</td>\n",
       "    </tr>\n",
       "    <tr>\n",
       "      <th>4</th>\n",
       "      <td>3.0</td>\n",
       "      <td>/ 3br - 1280ft² -</td>\n",
       "    </tr>\n",
       "    <tr>\n",
       "      <th>...</th>\n",
       "      <td>...</td>\n",
       "      <td>...</td>\n",
       "    </tr>\n",
       "    <tr>\n",
       "      <th>4995</th>\n",
       "      <td>2.0</td>\n",
       "      <td>/ 2br - 940ft² -</td>\n",
       "    </tr>\n",
       "    <tr>\n",
       "      <th>4996</th>\n",
       "      <td>2.0</td>\n",
       "      <td>/ 2br - 955ft² -</td>\n",
       "    </tr>\n",
       "    <tr>\n",
       "      <th>4997</th>\n",
       "      <td>2.0</td>\n",
       "      <td>/ 2br -</td>\n",
       "    </tr>\n",
       "    <tr>\n",
       "      <th>4998</th>\n",
       "      <td>2.0</td>\n",
       "      <td>/ 2br - 1020ft² -</td>\n",
       "    </tr>\n",
       "    <tr>\n",
       "      <th>4999</th>\n",
       "      <td>2.0</td>\n",
       "      <td>/ 2br - 1100ft² -</td>\n",
       "    </tr>\n",
       "  </tbody>\n",
       "</table>\n",
       "<p>5000 rows × 2 columns</p>\n",
       "</div>"
      ],
      "text/plain": [
       "      bedrooms                 beds_sqft\n",
       "0          1.0               / 1br -    \n",
       "1          1.0               / 1br -    \n",
       "2          1.0               / 1br -    \n",
       "3          1.0      / 1br - 830ft² -    \n",
       "4          3.0     / 3br - 1280ft² -    \n",
       "...        ...                       ...\n",
       "4995       2.0      / 2br - 940ft² -    \n",
       "4996       2.0      / 2br - 955ft² -    \n",
       "4997       2.0               / 2br -    \n",
       "4998       2.0     / 2br - 1020ft² -    \n",
       "4999       2.0     / 2br - 1100ft² -    \n",
       "\n",
       "[5000 rows x 2 columns]"
      ]
     },
     "execution_count": 56,
     "metadata": {},
     "output_type": "execute_result"
    }
   ],
   "source": [
    "df[['bedrooms', 'beds_sqft']]"
   ]
  },
  {
   "cell_type": "markdown",
   "id": "b5707b47",
   "metadata": {
    "slideshow": {
     "slide_type": "slide"
    }
   },
   "source": [
    "And the same approach might work for creating a sqft column."
   ]
  },
  {
   "cell_type": "code",
   "execution_count": 57,
   "id": "5aad99fe",
   "metadata": {
    "scrolled": true,
    "slideshow": {
     "slide_type": "fragment"
    }
   },
   "outputs": [],
   "source": [
    "def clean_sqft(value):\n",
    "\n",
    "    if isinstance(value, str):\n",
    "        end = value.find('ft')\n",
    "        \n",
    "        if end == -1:\n",
    "            return\n",
    "\n",
    "        else:\n",
    "            if value.find('br') == -1:\n",
    "                start = value.find('/') + 2\n",
    "            else:\n",
    "                start = value.find('-') + 2\n",
    "\n",
    "            return int(value[start:end])\n",
    "\n",
    "    else:\n",
    "        return"
   ]
  },
  {
   "cell_type": "code",
   "execution_count": 58,
   "id": "dd414daf",
   "metadata": {
    "slideshow": {
     "slide_type": "slide"
    }
   },
   "outputs": [
    {
     "data": {
      "text/html": [
       "<div>\n",
       "<style scoped>\n",
       "    .dataframe tbody tr th:only-of-type {\n",
       "        vertical-align: middle;\n",
       "    }\n",
       "\n",
       "    .dataframe tbody tr th {\n",
       "        vertical-align: top;\n",
       "    }\n",
       "\n",
       "    .dataframe thead th {\n",
       "        text-align: right;\n",
       "    }\n",
       "</style>\n",
       "<table border=\"1\" class=\"dataframe\">\n",
       "  <thead>\n",
       "    <tr style=\"text-align: right;\">\n",
       "      <th></th>\n",
       "      <th>neighborhood</th>\n",
       "      <th>title</th>\n",
       "      <th>price</th>\n",
       "      <th>beds_sqft</th>\n",
       "      <th>pid</th>\n",
       "      <th>longitude</th>\n",
       "      <th>date</th>\n",
       "      <th>subregion</th>\n",
       "      <th>link</th>\n",
       "      <th>latitude</th>\n",
       "      <th>month</th>\n",
       "      <th>day</th>\n",
       "      <th>year</th>\n",
       "      <th>day_of_week</th>\n",
       "      <th>bedrooms</th>\n",
       "      <th>sqft</th>\n",
       "    </tr>\n",
       "  </thead>\n",
       "  <tbody>\n",
       "    <tr>\n",
       "      <th>0</th>\n",
       "      <td>bayview</td>\n",
       "      <td>Take A TOUR ON OUR ONE FURNISHED BEDROOM TODAY</td>\n",
       "      <td>950.0</td>\n",
       "      <td>/ 1br -</td>\n",
       "      <td>4076905111</td>\n",
       "      <td>-122.396965</td>\n",
       "      <td>2013-09-18</td>\n",
       "      <td>SF</td>\n",
       "      <td>/sfc/apa/4076905111.html</td>\n",
       "      <td>37.761216</td>\n",
       "      <td>September</td>\n",
       "      <td>18</td>\n",
       "      <td>2013</td>\n",
       "      <td>Wednesday</td>\n",
       "      <td>1.0</td>\n",
       "      <td>NaN</td>\n",
       "    </tr>\n",
       "    <tr>\n",
       "      <th>1</th>\n",
       "      <td>bayview</td>\n",
       "      <td>Only walking distance to major shopping centers.</td>\n",
       "      <td>950.0</td>\n",
       "      <td>/ 1br -</td>\n",
       "      <td>4076901755</td>\n",
       "      <td>-122.396793</td>\n",
       "      <td>2013-09-18</td>\n",
       "      <td>SF</td>\n",
       "      <td>/sfc/apa/4076901755.html</td>\n",
       "      <td>37.761080</td>\n",
       "      <td>September</td>\n",
       "      <td>18</td>\n",
       "      <td>2013</td>\n",
       "      <td>Wednesday</td>\n",
       "      <td>1.0</td>\n",
       "      <td>NaN</td>\n",
       "    </tr>\n",
       "    <tr>\n",
       "      <th>2</th>\n",
       "      <td>bayview</td>\n",
       "      <td>furnished - 1 Bedroom(s), 1 Bath(s), Air Condi...</td>\n",
       "      <td>950.0</td>\n",
       "      <td>/ 1br -</td>\n",
       "      <td>4076899340</td>\n",
       "      <td>-122.397100</td>\n",
       "      <td>2013-09-18</td>\n",
       "      <td>SF</td>\n",
       "      <td>/sfc/apa/4076899340.html</td>\n",
       "      <td>37.762100</td>\n",
       "      <td>September</td>\n",
       "      <td>18</td>\n",
       "      <td>2013</td>\n",
       "      <td>Wednesday</td>\n",
       "      <td>1.0</td>\n",
       "      <td>NaN</td>\n",
       "    </tr>\n",
       "    <tr>\n",
       "      <th>3</th>\n",
       "      <td>financial district</td>\n",
       "      <td>*NEW* Beautiful, Upscale Condo in Historic Jac...</td>\n",
       "      <td>3300.0</td>\n",
       "      <td>/ 1br - 830ft² -</td>\n",
       "      <td>4067393707</td>\n",
       "      <td>-122.399747</td>\n",
       "      <td>2013-09-18</td>\n",
       "      <td>SF</td>\n",
       "      <td>/sfc/apa/4067393707.html</td>\n",
       "      <td>37.798108</td>\n",
       "      <td>September</td>\n",
       "      <td>18</td>\n",
       "      <td>2013</td>\n",
       "      <td>Wednesday</td>\n",
       "      <td>1.0</td>\n",
       "      <td>830.0</td>\n",
       "    </tr>\n",
       "    <tr>\n",
       "      <th>4</th>\n",
       "      <td>visitacion valley</td>\n",
       "      <td>楼上全层3房</td>\n",
       "      <td>2000.0</td>\n",
       "      <td>/ 3br - 1280ft² -</td>\n",
       "      <td>4076901071</td>\n",
       "      <td>NaN</td>\n",
       "      <td>2013-09-18</td>\n",
       "      <td>SF</td>\n",
       "      <td>/sfc/apa/4076901071.html</td>\n",
       "      <td>NaN</td>\n",
       "      <td>September</td>\n",
       "      <td>18</td>\n",
       "      <td>2013</td>\n",
       "      <td>Wednesday</td>\n",
       "      <td>3.0</td>\n",
       "      <td>1280.0</td>\n",
       "    </tr>\n",
       "  </tbody>\n",
       "</table>\n",
       "</div>"
      ],
      "text/plain": [
       "         neighborhood                                              title  \\\n",
       "0             bayview     Take A TOUR ON OUR ONE FURNISHED BEDROOM TODAY   \n",
       "1             bayview   Only walking distance to major shopping centers.   \n",
       "2             bayview  furnished - 1 Bedroom(s), 1 Bath(s), Air Condi...   \n",
       "3  financial district  *NEW* Beautiful, Upscale Condo in Historic Jac...   \n",
       "4   visitacion valley                                             楼上全层3房   \n",
       "\n",
       "    price                 beds_sqft         pid   longitude       date  \\\n",
       "0   950.0               / 1br -      4076905111 -122.396965 2013-09-18   \n",
       "1   950.0               / 1br -      4076901755 -122.396793 2013-09-18   \n",
       "2   950.0               / 1br -      4076899340 -122.397100 2013-09-18   \n",
       "3  3300.0      / 1br - 830ft² -      4067393707 -122.399747 2013-09-18   \n",
       "4  2000.0     / 3br - 1280ft² -      4076901071         NaN 2013-09-18   \n",
       "\n",
       "  subregion                      link   latitude      month  day  year  \\\n",
       "0        SF  /sfc/apa/4076905111.html  37.761216  September   18  2013   \n",
       "1        SF  /sfc/apa/4076901755.html  37.761080  September   18  2013   \n",
       "2        SF  /sfc/apa/4076899340.html  37.762100  September   18  2013   \n",
       "3        SF  /sfc/apa/4067393707.html  37.798108  September   18  2013   \n",
       "4        SF  /sfc/apa/4076901071.html        NaN  September   18  2013   \n",
       "\n",
       "  day_of_week  bedrooms    sqft  \n",
       "0   Wednesday       1.0     NaN  \n",
       "1   Wednesday       1.0     NaN  \n",
       "2   Wednesday       1.0     NaN  \n",
       "3   Wednesday       1.0   830.0  \n",
       "4   Wednesday       3.0  1280.0  "
      ]
     },
     "execution_count": 58,
     "metadata": {},
     "output_type": "execute_result"
    }
   ],
   "source": [
    "df['sqft'] = df['beds_sqft'].map(clean_sqft)\n",
    "df.head()"
   ]
  },
  {
   "cell_type": "markdown",
   "id": "aca6d624",
   "metadata": {
    "slideshow": {
     "slide_type": "slide"
    }
   },
   "source": [
    "## 3.5 Summarizing your data"
   ]
  },
  {
   "cell_type": "markdown",
   "id": "d923dcae",
   "metadata": {
    "slideshow": {
     "slide_type": "slide"
    }
   },
   "source": [
    "Let's have a look at a statistical profile of our data"
   ]
  },
  {
   "cell_type": "code",
   "execution_count": 59,
   "id": "3703328d",
   "metadata": {
    "scrolled": false,
    "slideshow": {
     "slide_type": "fragment"
    }
   },
   "outputs": [
    {
     "data": {
      "text/html": [
       "<div>\n",
       "<style scoped>\n",
       "    .dataframe tbody tr th:only-of-type {\n",
       "        vertical-align: middle;\n",
       "    }\n",
       "\n",
       "    .dataframe tbody tr th {\n",
       "        vertical-align: top;\n",
       "    }\n",
       "\n",
       "    .dataframe thead th {\n",
       "        text-align: right;\n",
       "    }\n",
       "</style>\n",
       "<table border=\"1\" class=\"dataframe\">\n",
       "  <thead>\n",
       "    <tr style=\"text-align: right;\">\n",
       "      <th></th>\n",
       "      <th>price</th>\n",
       "      <th>pid</th>\n",
       "      <th>longitude</th>\n",
       "      <th>latitude</th>\n",
       "      <th>day</th>\n",
       "      <th>year</th>\n",
       "      <th>bedrooms</th>\n",
       "      <th>sqft</th>\n",
       "    </tr>\n",
       "  </thead>\n",
       "  <tbody>\n",
       "    <tr>\n",
       "      <th>count</th>\n",
       "      <td>4908.000000</td>\n",
       "      <td>5.000000e+03</td>\n",
       "      <td>3143.000000</td>\n",
       "      <td>3143.000000</td>\n",
       "      <td>5000.000000</td>\n",
       "      <td>5000.0</td>\n",
       "      <td>4544.000000</td>\n",
       "      <td>3178.000000</td>\n",
       "    </tr>\n",
       "    <tr>\n",
       "      <th>mean</th>\n",
       "      <td>2656.999389</td>\n",
       "      <td>4.068059e+09</td>\n",
       "      <td>-122.264948</td>\n",
       "      <td>37.757411</td>\n",
       "      <td>17.523800</td>\n",
       "      <td>2013.0</td>\n",
       "      <td>2.066241</td>\n",
       "      <td>1173.613593</td>\n",
       "    </tr>\n",
       "    <tr>\n",
       "      <th>std</th>\n",
       "      <td>1915.147477</td>\n",
       "      <td>1.344453e+07</td>\n",
       "      <td>0.278825</td>\n",
       "      <td>0.364646</td>\n",
       "      <td>0.766258</td>\n",
       "      <td>0.0</td>\n",
       "      <td>1.011606</td>\n",
       "      <td>751.552623</td>\n",
       "    </tr>\n",
       "    <tr>\n",
       "      <th>min</th>\n",
       "      <td>1.000000</td>\n",
       "      <td>4.008227e+09</td>\n",
       "      <td>-123.799100</td>\n",
       "      <td>36.813820</td>\n",
       "      <td>14.000000</td>\n",
       "      <td>2013.0</td>\n",
       "      <td>1.000000</td>\n",
       "      <td>1.000000</td>\n",
       "    </tr>\n",
       "    <tr>\n",
       "      <th>25%</th>\n",
       "      <td>1695.000000</td>\n",
       "      <td>4.065685e+09</td>\n",
       "      <td>-122.442365</td>\n",
       "      <td>37.469365</td>\n",
       "      <td>17.000000</td>\n",
       "      <td>2013.0</td>\n",
       "      <td>1.000000</td>\n",
       "      <td>747.250000</td>\n",
       "    </tr>\n",
       "    <tr>\n",
       "      <th>50%</th>\n",
       "      <td>2208.500000</td>\n",
       "      <td>4.074290e+09</td>\n",
       "      <td>-122.283714</td>\n",
       "      <td>37.760858</td>\n",
       "      <td>18.000000</td>\n",
       "      <td>2013.0</td>\n",
       "      <td>2.000000</td>\n",
       "      <td>1000.000000</td>\n",
       "    </tr>\n",
       "    <tr>\n",
       "      <th>75%</th>\n",
       "      <td>2995.000000</td>\n",
       "      <td>4.075949e+09</td>\n",
       "      <td>-122.045048</td>\n",
       "      <td>37.900832</td>\n",
       "      <td>18.000000</td>\n",
       "      <td>2013.0</td>\n",
       "      <td>3.000000</td>\n",
       "      <td>1350.000000</td>\n",
       "    </tr>\n",
       "    <tr>\n",
       "      <th>max</th>\n",
       "      <td>35000.000000</td>\n",
       "      <td>4.076908e+09</td>\n",
       "      <td>-120.034132</td>\n",
       "      <td>41.456848</td>\n",
       "      <td>18.000000</td>\n",
       "      <td>2013.0</td>\n",
       "      <td>8.000000</td>\n",
       "      <td>12700.000000</td>\n",
       "    </tr>\n",
       "  </tbody>\n",
       "</table>\n",
       "</div>"
      ],
      "text/plain": [
       "              price           pid    longitude     latitude          day  \\\n",
       "count   4908.000000  5.000000e+03  3143.000000  3143.000000  5000.000000   \n",
       "mean    2656.999389  4.068059e+09  -122.264948    37.757411    17.523800   \n",
       "std     1915.147477  1.344453e+07     0.278825     0.364646     0.766258   \n",
       "min        1.000000  4.008227e+09  -123.799100    36.813820    14.000000   \n",
       "25%     1695.000000  4.065685e+09  -122.442365    37.469365    17.000000   \n",
       "50%     2208.500000  4.074290e+09  -122.283714    37.760858    18.000000   \n",
       "75%     2995.000000  4.075949e+09  -122.045048    37.900832    18.000000   \n",
       "max    35000.000000  4.076908e+09  -120.034132    41.456848    18.000000   \n",
       "\n",
       "         year     bedrooms          sqft  \n",
       "count  5000.0  4544.000000   3178.000000  \n",
       "mean   2013.0     2.066241   1173.613593  \n",
       "std       0.0     1.011606    751.552623  \n",
       "min    2013.0     1.000000      1.000000  \n",
       "25%    2013.0     1.000000    747.250000  \n",
       "50%    2013.0     2.000000   1000.000000  \n",
       "75%    2013.0     3.000000   1350.000000  \n",
       "max    2013.0     8.000000  12700.000000  "
      ]
     },
     "execution_count": 59,
     "metadata": {},
     "output_type": "execute_result"
    }
   ],
   "source": [
    "df.describe()"
   ]
  },
  {
   "cell_type": "markdown",
   "id": "60d29550",
   "metadata": {
    "slideshow": {
     "slide_type": "fragment"
    }
   },
   "source": [
    "- Why are there different counts on the columns?\n",
    "- How do the price (rent) variable ranges look?  1 dollar in rent as min?  35,000 in rent as  maximum?\n",
    "- What about sqft?  1 sqft min and 12,700 sqft max?\n",
    "- You are now in the realm of real-world data, with **outliers**!"
   ]
  },
  {
   "cell_type": "markdown",
   "id": "3115e8bc",
   "metadata": {
    "slideshow": {
     "slide_type": "slide"
    }
   },
   "source": [
    "## 3.6 Dealing with outliers\n",
    "When we talk about **outliers**, we're not talking about the Malcom Gladwell kind. The kind of outliers we're talking about are the kind that are so far-fetched that they more likely represent bad data than real observations. And even if they are real, they're so amazingly rare that we don't want them to bias our analysis. In either case, we need to get rid of them.\n",
    "\n",
    "In the case of our Craigslist listings, we'll do this in three steps:\n",
    "1. Find outliers in rent, say the top and bottom 1%\n",
    "1. Analyze the data without missing data\n",
    "1. Create a dataset that removes the outliers"
   ]
  },
  {
   "cell_type": "markdown",
   "id": "1ced5457",
   "metadata": {
    "slideshow": {
     "slide_type": "slide"
    }
   },
   "source": [
    "### 3.6.1 Price"
   ]
  },
  {
   "cell_type": "markdown",
   "id": "183f2b2a",
   "metadata": {
    "slideshow": {
     "slide_type": "fragment"
    }
   },
   "source": [
    "Let's get a quantile value at the 1st percentile to see the value that the top one percent of our records exceed"
   ]
  },
  {
   "cell_type": "code",
   "execution_count": 60,
   "id": "c4d3fb83",
   "metadata": {
    "slideshow": {
     "slide_type": "fragment"
    }
   },
   "outputs": [
    {
     "name": "stdout",
     "output_type": "stream",
     "text": [
      "750.0\n"
     ]
    }
   ],
   "source": [
    "low = df['price'].dropna().quantile(.01)\n",
    "print(low)"
   ]
  },
  {
   "cell_type": "markdown",
   "id": "1c50f675",
   "metadata": {
    "slideshow": {
     "slide_type": "slide"
    }
   },
   "source": [
    "And now the top 1%"
   ]
  },
  {
   "cell_type": "code",
   "execution_count": 61,
   "id": "6d407e2f",
   "metadata": {
    "slideshow": {
     "slide_type": "fragment"
    }
   },
   "outputs": [
    {
     "name": "stdout",
     "output_type": "stream",
     "text": [
      "10472.000000000116\n"
     ]
    }
   ],
   "source": [
    "high = df['price'].dropna().quantile(.99)\n",
    "print(high)"
   ]
  },
  {
   "cell_type": "markdown",
   "id": "f21d2618",
   "metadata": {
    "slideshow": {
     "slide_type": "fragment"
    }
   },
   "source": [
    "<center><img src=\"https://static01.nyt.com/images/2021/01/26/multimedia/26xp-photog/26xp-photog-superJumbo.jpg\" width=45%></center>"
   ]
  },
  {
   "cell_type": "markdown",
   "id": "9481592a",
   "metadata": {
    "slideshow": {
     "slide_type": "slide"
    }
   },
   "source": [
    "Now let's apply our filters:"
   ]
  },
  {
   "cell_type": "code",
   "execution_count": 62,
   "id": "535c0166",
   "metadata": {
    "scrolled": false,
    "slideshow": {
     "slide_type": "fragment"
    }
   },
   "outputs": [],
   "source": [
    "cleaned = df[(df['price'] < high) & (df['price'] > low)]"
   ]
  },
  {
   "cell_type": "markdown",
   "id": "feca7b62",
   "metadata": {
    "slideshow": {
     "slide_type": "fragment"
    }
   },
   "source": [
    "And maybe we can filter on # bedrooms, too. And why not drop rows with missing data while we're at it."
   ]
  },
  {
   "cell_type": "code",
   "execution_count": 64,
   "id": "fc287d64",
   "metadata": {
    "scrolled": false,
    "slideshow": {
     "slide_type": "fragment"
    }
   },
   "outputs": [
    {
     "data": {
      "text/html": [
       "<div>\n",
       "<style scoped>\n",
       "    .dataframe tbody tr th:only-of-type {\n",
       "        vertical-align: middle;\n",
       "    }\n",
       "\n",
       "    .dataframe tbody tr th {\n",
       "        vertical-align: top;\n",
       "    }\n",
       "\n",
       "    .dataframe thead th {\n",
       "        text-align: right;\n",
       "    }\n",
       "</style>\n",
       "<table border=\"1\" class=\"dataframe\">\n",
       "  <thead>\n",
       "    <tr style=\"text-align: right;\">\n",
       "      <th></th>\n",
       "      <th>price</th>\n",
       "      <th>pid</th>\n",
       "      <th>longitude</th>\n",
       "      <th>latitude</th>\n",
       "      <th>day</th>\n",
       "      <th>year</th>\n",
       "      <th>bedrooms</th>\n",
       "      <th>sqft</th>\n",
       "    </tr>\n",
       "  </thead>\n",
       "  <tbody>\n",
       "    <tr>\n",
       "      <th>count</th>\n",
       "      <td>1731.000000</td>\n",
       "      <td>1.731000e+03</td>\n",
       "      <td>1731.000000</td>\n",
       "      <td>1731.000000</td>\n",
       "      <td>1731.000000</td>\n",
       "      <td>1731.0</td>\n",
       "      <td>1731.000000</td>\n",
       "      <td>1731.000000</td>\n",
       "    </tr>\n",
       "    <tr>\n",
       "      <th>mean</th>\n",
       "      <td>2487.301560</td>\n",
       "      <td>4.068727e+09</td>\n",
       "      <td>-122.232862</td>\n",
       "      <td>37.720729</td>\n",
       "      <td>17.545350</td>\n",
       "      <td>2013.0</td>\n",
       "      <td>1.870017</td>\n",
       "      <td>1050.700173</td>\n",
       "    </tr>\n",
       "    <tr>\n",
       "      <th>std</th>\n",
       "      <td>1139.013985</td>\n",
       "      <td>1.285543e+07</td>\n",
       "      <td>0.271460</td>\n",
       "      <td>0.372940</td>\n",
       "      <td>0.733662</td>\n",
       "      <td>0.0</td>\n",
       "      <td>0.735458</td>\n",
       "      <td>425.224452</td>\n",
       "    </tr>\n",
       "    <tr>\n",
       "      <th>min</th>\n",
       "      <td>751.000000</td>\n",
       "      <td>4.012055e+09</td>\n",
       "      <td>-123.799100</td>\n",
       "      <td>36.847162</td>\n",
       "      <td>14.000000</td>\n",
       "      <td>2013.0</td>\n",
       "      <td>1.000000</td>\n",
       "      <td>200.000000</td>\n",
       "    </tr>\n",
       "    <tr>\n",
       "      <th>25%</th>\n",
       "      <td>1775.000000</td>\n",
       "      <td>4.067026e+09</td>\n",
       "      <td>-122.432681</td>\n",
       "      <td>37.414654</td>\n",
       "      <td>17.000000</td>\n",
       "      <td>2013.0</td>\n",
       "      <td>1.000000</td>\n",
       "      <td>758.000000</td>\n",
       "    </tr>\n",
       "    <tr>\n",
       "      <th>50%</th>\n",
       "      <td>2250.000000</td>\n",
       "      <td>4.074468e+09</td>\n",
       "      <td>-122.250000</td>\n",
       "      <td>37.656165</td>\n",
       "      <td>18.000000</td>\n",
       "      <td>2013.0</td>\n",
       "      <td>2.000000</td>\n",
       "      <td>976.000000</td>\n",
       "    </tr>\n",
       "    <tr>\n",
       "      <th>75%</th>\n",
       "      <td>2897.000000</td>\n",
       "      <td>4.076009e+09</td>\n",
       "      <td>-122.014171</td>\n",
       "      <td>37.894828</td>\n",
       "      <td>18.000000</td>\n",
       "      <td>2013.0</td>\n",
       "      <td>2.000000</td>\n",
       "      <td>1200.000000</td>\n",
       "    </tr>\n",
       "    <tr>\n",
       "      <th>max</th>\n",
       "      <td>9999.000000</td>\n",
       "      <td>4.076900e+09</td>\n",
       "      <td>-121.217798</td>\n",
       "      <td>40.086400</td>\n",
       "      <td>18.000000</td>\n",
       "      <td>2013.0</td>\n",
       "      <td>3.000000</td>\n",
       "      <td>6500.000000</td>\n",
       "    </tr>\n",
       "  </tbody>\n",
       "</table>\n",
       "</div>"
      ],
      "text/plain": [
       "             price           pid    longitude     latitude          day  \\\n",
       "count  1731.000000  1.731000e+03  1731.000000  1731.000000  1731.000000   \n",
       "mean   2487.301560  4.068727e+09  -122.232862    37.720729    17.545350   \n",
       "std    1139.013985  1.285543e+07     0.271460     0.372940     0.733662   \n",
       "min     751.000000  4.012055e+09  -123.799100    36.847162    14.000000   \n",
       "25%    1775.000000  4.067026e+09  -122.432681    37.414654    17.000000   \n",
       "50%    2250.000000  4.074468e+09  -122.250000    37.656165    18.000000   \n",
       "75%    2897.000000  4.076009e+09  -122.014171    37.894828    18.000000   \n",
       "max    9999.000000  4.076900e+09  -121.217798    40.086400    18.000000   \n",
       "\n",
       "         year     bedrooms         sqft  \n",
       "count  1731.0  1731.000000  1731.000000  \n",
       "mean   2013.0     1.870017  1050.700173  \n",
       "std       0.0     0.735458   425.224452  \n",
       "min    2013.0     1.000000   200.000000  \n",
       "25%    2013.0     1.000000   758.000000  \n",
       "50%    2013.0     2.000000   976.000000  \n",
       "75%    2013.0     2.000000  1200.000000  \n",
       "max    2013.0     3.000000  6500.000000  "
      ]
     },
     "execution_count": 64,
     "metadata": {},
     "output_type": "execute_result"
    }
   ],
   "source": [
    "cleaned = cleaned[cleaned['bedrooms'] < 4].dropna()\n",
    "cleaned.describe()"
   ]
  },
  {
   "cell_type": "markdown",
   "id": "20412654",
   "metadata": {
    "slideshow": {
     "slide_type": "slide"
    }
   },
   "source": [
    "## 3.7 Continuous vs Categorical Data"
   ]
  },
  {
   "cell_type": "code",
   "execution_count": 65,
   "id": "f98cdb06",
   "metadata": {
    "slideshow": {
     "slide_type": "fragment"
    }
   },
   "outputs": [
    {
     "data": {
      "text/plain": [
       "<AxesSubplot:title={'center':'Price ($)'}, ylabel='Density'>"
      ]
     },
     "execution_count": 65,
     "metadata": {},
     "output_type": "execute_result"
    },
    {
     "data": {
      "image/png": "[encoded data removed]",
      "text/plain": [
       "<Figure size 936x360 with 2 Axes>"
      ]
     },
     "metadata": {
      "needs_background": "light"
     },
     "output_type": "display_data"
    }
   ],
   "source": [
    "from matplotlib import pyplot as plt\n",
    "fig, axarr = plt.subplots(1, 2, figsize=(13,5))\n",
    "cleaned['subregion'].value_counts(sort=False).plot(kind='bar', ax=axarr[0], title='Sub-region')\n",
    "axarr[0].set_ylabel(\"count\")\n",
    "cleaned['price'].plot(kind='kde', ax=axarr[1], title='Price ($)')"
   ]
  },
  {
   "cell_type": "markdown",
   "id": "8231bca1",
   "metadata": {
    "slideshow": {
     "slide_type": "slide"
    }
   },
   "source": [
    "### 3.7.1 Binning your data\n",
    "Sometimes you'll want to convert a continuous variable to categorical. pandas provides us with a few options for doing this:\n",
    "- `pd.cut()`: evenly _spaced_ bins, or define your own breaks\n",
    "- `pd.qcut()`: evenly _populated_ bins, or define your own percentile breaks"
   ]
  },
  {
   "cell_type": "markdown",
   "id": "0a52f85e",
   "metadata": {
    "slideshow": {
     "slide_type": "slide"
    }
   },
   "source": [
    "#### 3.7.1.1 `pd.cut()`"
   ]
  },
  {
   "cell_type": "code",
   "execution_count": 72,
   "id": "823e46c5",
   "metadata": {
    "slideshow": {
     "slide_type": "fragment"
    }
   },
   "outputs": [
    {
     "data": {
      "text/plain": [
       "<AxesSubplot:>"
      ]
     },
     "execution_count": 72,
     "metadata": {},
     "output_type": "execute_result"
    },
    {
     "data": {
      "image/png": "[encoded data removed]",
      "text/plain": [
       "<Figure size 432x288 with 1 Axes>"
      ]
     },
     "metadata": {
      "needs_background": "light"
     },
     "output_type": "display_data"
    }
   ],
   "source": [
    "pd.cut(cleaned['price'], 3, labels=['low', 'medium', 'high']).value_counts().plot(kind='bar')"
   ]
  },
  {
   "cell_type": "code",
   "execution_count": 73,
   "id": "18a1f026",
   "metadata": {
    "slideshow": {
     "slide_type": "fragment"
    }
   },
   "outputs": [
    {
     "data": {
      "text/plain": [
       "<AxesSubplot:>"
      ]
     },
     "execution_count": 73,
     "metadata": {},
     "output_type": "execute_result"
    },
    {
     "data": {
      "image/png": "[encoded data removed]",
      "text/plain": [
       "<Figure size 432x288 with 1 Axes>"
      ]
     },
     "metadata": {
      "needs_background": "light"
     },
     "output_type": "display_data"
    }
   ],
   "source": [
    "pd.cut(\n",
    "    cleaned['price'], [0, 1000, 5000, 20000],\n",
    "    labels=['low', 'medium', 'high']).value_counts(sort=False).plot(kind='bar')"
   ]
  },
  {
   "cell_type": "markdown",
   "id": "58b0d728",
   "metadata": {
    "slideshow": {
     "slide_type": "slide"
    }
   },
   "source": [
    "#### 3.7.1.2 `pd.qcut()`"
   ]
  },
  {
   "cell_type": "code",
   "execution_count": 81,
   "id": "53d1e083",
   "metadata": {
    "slideshow": {
     "slide_type": "slide"
    }
   },
   "outputs": [
    {
     "data": {
      "text/plain": [
       "<AxesSubplot:>"
      ]
     },
     "execution_count": 81,
     "metadata": {},
     "output_type": "execute_result"
    },
    {
     "data": {
      "image/png": "[encoded data removed]",
      "text/plain": [
       "<Figure size 432x288 with 1 Axes>"
      ]
     },
     "metadata": {
      "needs_background": "light"
     },
     "output_type": "display_data"
    }
   ],
   "source": [
    "pd.qcut(\n",
    "    cleaned['price'], 5,\n",
    "    labels=['very low', 'low', 'average', 'high', 'very high']).value_counts(sort=False).plot(kind='bar')"
   ]
  },
  {
   "cell_type": "code",
   "execution_count": 75,
   "id": "ade172d3",
   "metadata": {
    "slideshow": {
     "slide_type": "fragment"
    }
   },
   "outputs": [
    {
     "data": {
      "text/plain": [
       "<AxesSubplot:>"
      ]
     },
     "execution_count": 75,
     "metadata": {},
     "output_type": "execute_result"
    },
    {
     "data": {
      "image/png": "[encoded data removed]",
      "text/plain": [
       "<Figure size 432x288 with 1 Axes>"
      ]
     },
     "metadata": {
      "needs_background": "light"
     },
     "output_type": "display_data"
    }
   ],
   "source": [
    "pd.qcut(\n",
    "    cleaned['price'], [0, .1, .3, .7, .9, 1],\n",
    "    labels=['very low', 'low', 'medium', 'high', 'very high']).value_counts(sort=False).plot(kind='bar')"
   ]
  },
  {
   "cell_type": "markdown",
   "id": "adb3b133",
   "metadata": {
    "slideshow": {
     "slide_type": "slide"
    }
   },
   "source": [
    "### 3.7.2 Dummy variables"
   ]
  },
  {
   "cell_type": "markdown",
   "id": "71d7ff71",
   "metadata": {
    "slideshow": {
     "slide_type": "fragment"
    }
   },
   "source": [
    "Sometimes you might want to do the opposite: convert a categorical variable to a continuous or numeric variable. The way to do this is to create \"dummy variables\", where each category becomes its own _column_ with values that equal 1 if the _row_ belongs to the category and 0 otherwise:"
   ]
  },
  {
   "cell_type": "code",
   "execution_count": null,
   "id": "3c1b23f6",
   "metadata": {
    "slideshow": {
     "slide_type": "fragment"
    }
   },
   "outputs": [],
   "source": [
    "pd.get_dummies(cleaned['subregion']).sample(5)"
   ]
  },
  {
   "cell_type": "markdown",
   "id": "bf8ff333",
   "metadata": {
    "slideshow": {
     "slide_type": "slide"
    }
   },
   "source": [
    "You can then merge your dummy columns back onto the main dataframe"
   ]
  },
  {
   "cell_type": "code",
   "execution_count": null,
   "id": "7a5a6a80",
   "metadata": {
    "slideshow": {
     "slide_type": "fragment"
    }
   },
   "outputs": [],
   "source": [
    "cleaned.join(pd.get_dummies(cleaned['bedrooms'].astype(int), prefix='beds')).loc[:, 'bedrooms':].sample(5)"
   ]
  },
  {
   "cell_type": "markdown",
   "id": "969609ff",
   "metadata": {
    "slideshow": {
     "slide_type": "slide"
    }
   },
   "source": [
    "## 3.8 Putting it all together: Craigslist Rental Listings + SF1\n",
    "\n",
    "Let's load another set of rental listings. This one is a dataset I've already cleaned for you. I've also geocoded the addresses to get lat/lon coordinates and Census Block IDs."
   ]
  },
  {
   "cell_type": "markdown",
   "id": "8e2d759e",
   "metadata": {},
   "source": [
    "### 3.8.1 Merging data from two different sources"
   ]
  },
  {
   "cell_type": "code",
   "execution_count": null,
   "id": "48b14db7",
   "metadata": {
    "slideshow": {
     "slide_type": "fragment"
    }
   },
   "outputs": [],
   "source": [
    "rentals = pd.read_csv(\n",
    "    'data/sfbay_geocoded.csv',\n",
    "    usecols=['rent', 'bedrooms', 'sqft', 'fips_block', 'longitude', 'latitude'],\n",
    "    dtype={'fips_block': str}  # load fips_block as str, numeric type will drop leading zero\n",
    ")  \n",
    "rentals.head()"
   ]
  },
  {
   "cell_type": "markdown",
   "id": "db3c5174",
   "metadata": {
    "slideshow": {
     "slide_type": "slide"
    }
   },
   "source": [
    "And merge it with the census data using the FIPS block codes, which are named differently in the two DataFrames."
   ]
  },
  {
   "cell_type": "code",
   "execution_count": null,
   "id": "8be0256c",
   "metadata": {
    "slideshow": {
     "slide_type": "fragment"
    }
   },
   "outputs": [],
   "source": [
    "rentals_sf1 = pd.merge(rentals, sf1, left_on='fips_block', right_on='blockfips')\n",
    "rentals_sf1.head()"
   ]
  },
  {
   "cell_type": "markdown",
   "id": "a06d41a3",
   "metadata": {},
   "source": [
    "### 3.8.2 Multi-column group-by's"
   ]
  },
  {
   "cell_type": "markdown",
   "id": "84e9a7d0",
   "metadata": {
    "slideshow": {
     "slide_type": "slide"
    }
   },
   "source": [
    "Now we can begin looking at this merged dataset.  Let's start by computing mean rents by county."
   ]
  },
  {
   "cell_type": "code",
   "execution_count": null,
   "id": "f54a8bf6",
   "metadata": {
    "scrolled": false,
    "slideshow": {
     "slide_type": "fragment"
    }
   },
   "outputs": [],
   "source": [
    "county_rents = rentals_sf1.groupby(\n",
    "    rentals_sf1['county_name'])[['rent']].mean().sort_values(by='rent', ascending=False)\n",
    "county_rents.plot(kind='bar')"
   ]
  },
  {
   "cell_type": "markdown",
   "id": "7d09f905",
   "metadata": {
    "slideshow": {
     "slide_type": "fragment"
    }
   },
   "source": [
    "This result generally conforms to our expectations, with San Francisco having the highest average rent and Solano lowest. But what if Solano just has a higher percentage of 1 bedroom apartments? Could that bias our findings? How might we account for this possibility?"
   ]
  },
  {
   "cell_type": "markdown",
   "id": "a390a01d",
   "metadata": {
    "slideshow": {
     "slide_type": "slide"
    }
   },
   "source": [
    "One way we could investigate the effect of total bedrooms is to include bedrooms as an additional segmentation variable:"
   ]
  },
  {
   "cell_type": "code",
   "execution_count": null,
   "id": "2755b62d",
   "metadata": {
    "scrolled": false,
    "slideshow": {
     "slide_type": "fragment"
    }
   },
   "outputs": [],
   "source": [
    "rentals_sf1.groupby(['county_name', 'bedrooms'])['rent'].mean().plot(kind='bar')"
   ]
  },
  {
   "cell_type": "markdown",
   "id": "988719b9",
   "metadata": {
    "slideshow": {
     "slide_type": "fragment"
    }
   },
   "source": [
    "That bar chart is not ideal. Too small, and it would be nicer to make it separate colors for each number of bedrooms.  Also notice how the use of two groupby variables produces a MultiIndex, which makes for ugly axis labels at the very least. "
   ]
  },
  {
   "cell_type": "markdown",
   "id": "322a49dc",
   "metadata": {
    "slideshow": {
     "slide_type": "slide"
    }
   },
   "source": [
    "We can use `unstack()` to convert one of the indices from row values to columns:"
   ]
  },
  {
   "cell_type": "code",
   "execution_count": null,
   "id": "b20021cc",
   "metadata": {
    "slideshow": {
     "slide_type": "fragment"
    }
   },
   "outputs": [],
   "source": [
    "rentals_sf1.groupby(['county_name', 'bedrooms'])[['rent']].mean().unstack()"
   ]
  },
  {
   "cell_type": "markdown",
   "id": "20b8cc4a",
   "metadata": {
    "slideshow": {
     "slide_type": "slide"
    }
   },
   "source": [
    "Now we can plot a bar chart with the unstacked data, add a title, and set the figure size."
   ]
  },
  {
   "cell_type": "code",
   "execution_count": null,
   "id": "844af383",
   "metadata": {
    "slideshow": {
     "slide_type": "fragment"
    }
   },
   "outputs": [],
   "source": [
    "rentals_sf1.groupby(\n",
    "    ['county_name', 'bedrooms'])['rent'].mean().unstack().plot(\n",
    "    kind='bar', figsize=(14,6), title='Average Rents by County and # Bedrooms', ylabel='rent ($)', xlabel='county')"
   ]
  },
  {
   "cell_type": "markdown",
   "id": "33ef3250",
   "metadata": {
    "slideshow": {
     "slide_type": "fragment"
    }
   },
   "source": [
    "Note that in one line of code we can filter, groupby, and plot our results."
   ]
  },
  {
   "cell_type": "markdown",
   "id": "db99825e",
   "metadata": {
    "slideshow": {
     "slide_type": "slide"
    }
   },
   "source": [
    "**Question:** What's wrong with the plot above? Is it really showing us what we're interested in?"
   ]
  },
  {
   "cell_type": "code",
   "execution_count": null,
   "id": "1c1f5b0a",
   "metadata": {},
   "outputs": [],
   "source": [
    "rentals_sf1.groupby(\n",
    "    ['bedrooms', 'county_name'])['rent'].mean().unstack().plot(\n",
    "    kind='bar', figsize=(14,6), title='Average Rents by County and # Bedrooms', ylabel='rent ($)', xlabel='# bedrooms')"
   ]
  },
  {
   "cell_type": "markdown",
   "id": "e4c01799",
   "metadata": {
    "slideshow": {
     "slide_type": "slide"
    }
   },
   "source": [
    "### 3.8.3 Pivot tables and Crosstabs"
   ]
  },
  {
   "cell_type": "markdown",
   "id": "94b4f5f2",
   "metadata": {
    "slideshow": {
     "slide_type": "slide"
    }
   },
   "source": [
    "Remember when I said that in programming there is always more than one way to skin a cat? Here is another way of skinning this one that should look familiar to all of you excel power users out there:"
   ]
  },
  {
   "cell_type": "code",
   "execution_count": null,
   "id": "46321176",
   "metadata": {
    "slideshow": {
     "slide_type": "fragment"
    }
   },
   "outputs": [],
   "source": [
    "pd.pivot_table(rentals_sf1, values='rent', index=['bedrooms'], columns=['county_name']).plot(\n",
    "    kind='bar', figsize=(14,6), title='Average Rents by County and Bedrooms')"
   ]
  },
  {
   "cell_type": "markdown",
   "id": "30516cff",
   "metadata": {
    "slideshow": {
     "slide_type": "slide"
    }
   },
   "source": [
    "The `pivot_table()` function makes it easy to add also can add partial totals, or \"marginals\", to our data:"
   ]
  },
  {
   "cell_type": "code",
   "execution_count": null,
   "id": "e3f1f5b0",
   "metadata": {
    "slideshow": {
     "slide_type": "fragment"
    }
   },
   "outputs": [],
   "source": [
    "pd.pivot_table(rentals_sf1, values='rent', index='county_name', columns='bedrooms', margins=True)"
   ]
  },
  {
   "cell_type": "markdown",
   "id": "4e600565",
   "metadata": {
    "slideshow": {
     "slide_type": "slide"
    }
   },
   "source": [
    "Although mean is the default type of aggregation in pivot_table, you can use any aggregation method:"
   ]
  },
  {
   "cell_type": "code",
   "execution_count": null,
   "id": "8191f13d",
   "metadata": {
    "slideshow": {
     "slide_type": "fragment"
    }
   },
   "outputs": [],
   "source": [
    "pd.pivot_table(\n",
    "    rentals_sf1, values='rent', index='county_name', columns='bedrooms', aggfunc=\"max\", margins=True)"
   ]
  },
  {
   "cell_type": "markdown",
   "id": "8d23e7fc",
   "metadata": {
    "slideshow": {
     "slide_type": "fragment"
    }
   },
   "source": [
    "We could use the `count` aggregation method to get a full frequency distribution or cross-tabulation"
   ]
  },
  {
   "cell_type": "markdown",
   "id": "6e60730e",
   "metadata": {
    "slideshow": {
     "slide_type": "slide"
    }
   },
   "source": [
    "But then again, there's an even simpler way to do this in pandas"
   ]
  },
  {
   "cell_type": "code",
   "execution_count": null,
   "id": "1a0b7a2c",
   "metadata": {
    "slideshow": {
     "slide_type": "fragment"
    }
   },
   "outputs": [],
   "source": [
    "pd.crosstab(rentals_sf1['county_name'], rentals_sf1['bedrooms'], margins=True)"
   ]
  },
  {
   "cell_type": "markdown",
   "id": "b14aa77f",
   "metadata": {
    "slideshow": {
     "slide_type": "slide"
    }
   },
   "source": [
    "And the `crosstab()` function comes with its own bells and whistles. For example, setting `normalize=True` will tells us the fraction of the region's total listings that are in each combination of county and number of bedrooms."
   ]
  },
  {
   "cell_type": "code",
   "execution_count": null,
   "id": "1268166a",
   "metadata": {
    "slideshow": {
     "slide_type": "fragment"
    }
   },
   "outputs": [],
   "source": [
    "pd.crosstab(rentals_sf1['county_name'], rentals_sf1['bedrooms'], margins=True, normalize=True)"
   ]
  },
  {
   "cell_type": "markdown",
   "id": "39c43b02",
   "metadata": {
    "slideshow": {
     "slide_type": "slide"
    }
   },
   "source": [
    "We could also normalize just the rows (index) or the just the columns:"
   ]
  },
  {
   "cell_type": "code",
   "execution_count": null,
   "id": "90c424f4",
   "metadata": {
    "slideshow": {
     "slide_type": "fragment"
    }
   },
   "outputs": [],
   "source": [
    "pd.crosstab(rentals_sf1['county_name'], rentals_sf1['bedrooms'], margins=True, normalize='index')"
   ]
  },
  {
   "cell_type": "code",
   "execution_count": null,
   "id": "d835bb61",
   "metadata": {
    "slideshow": {
     "slide_type": "slide"
    }
   },
   "outputs": [],
   "source": [
    "pd.crosstab(rentals_sf1['county_name'], rentals_sf1['bedrooms'], margins=True, normalize='columns')"
   ]
  },
  {
   "cell_type": "markdown",
   "id": "016c247e",
   "metadata": {
    "slideshow": {
     "slide_type": "slide"
    }
   },
   "source": [
    "What if we want to look at more statistics than just mean? We can combine several aggregation methods and compute them at one time."
   ]
  },
  {
   "cell_type": "code",
   "execution_count": null,
   "id": "63a8e818",
   "metadata": {
    "slideshow": {
     "slide_type": "fragment"
    }
   },
   "outputs": [],
   "source": [
    "rentals_sf1[rentals_sf1['bedrooms'] < 4].groupby(\n",
    "    ['county_name', 'bedrooms'])['rent'].agg(['mean', 'std', 'min', 'max']).reset_index().head()"
   ]
  },
  {
   "cell_type": "markdown",
   "id": "c7011d01",
   "metadata": {
    "slideshow": {
     "slide_type": "slide"
    }
   },
   "source": [
    "### 3.8.4 Exploring correlations in your data\n",
    "\n",
    "Pandas provides simple ways of computing correlation coefficients among the columns in your DataFrame."
   ]
  },
  {
   "cell_type": "code",
   "execution_count": null,
   "id": "1b40353f",
   "metadata": {
    "slideshow": {
     "slide_type": "fragment"
    }
   },
   "outputs": [],
   "source": [
    "rentals_sf1[['rent', 'sqft']].corr()"
   ]
  },
  {
   "cell_type": "markdown",
   "id": "5ef28a8c",
   "metadata": {
    "slideshow": {
     "slide_type": "slide"
    }
   },
   "source": [
    "And this method can be combined with groupby to compute correlation tables by group."
   ]
  },
  {
   "cell_type": "code",
   "execution_count": null,
   "id": "ef9285e7",
   "metadata": {
    "slideshow": {
     "slide_type": "fragment"
    }
   },
   "outputs": [],
   "source": [
    "rentals_sf1.groupby('county_name')[['rent', 'sqft']].corr()"
   ]
  },
  {
   "cell_type": "code",
   "execution_count": null,
   "id": "bce37b79",
   "metadata": {},
   "outputs": [],
   "source": [
    "rentals_sf1.groupby('bedrooms')[['rent', 'sqft']].corr()"
   ]
  },
  {
   "cell_type": "markdown",
   "id": "dfed45a8",
   "metadata": {
    "slideshow": {
     "slide_type": "slide"
    }
   },
   "source": [
    "### 3.8.5 Quantiles and User-defined Aggregation Functions\n",
    "\n",
    "Below the `cut()` function to create categories for ranges of a variable. In this example we use 4 even intervals."
   ]
  },
  {
   "cell_type": "code",
   "execution_count": null,
   "id": "bbe151fa",
   "metadata": {
    "slideshow": {
     "slide_type": "fragment"
    }
   },
   "outputs": [],
   "source": [
    "sqft_cat = pd.cut(rentals_sf1['sqft'], 4)\n",
    "sqft_cat.head()"
   ]
  },
  {
   "cell_type": "markdown",
   "id": "50026487",
   "metadata": {
    "slideshow": {
     "slide_type": "slide"
    }
   },
   "source": [
    "Let's define our own aggregation function to get a standardized maximum rent for each sqft category. Standardization is the process of transforming your data such the the mean is 0 and the standard deviation is 1, which is accomplished by subtracting the mean and dividing by the standard deviation. By standardizing your data, you are able to make more generalized comparisons across groups."
   ]
  },
  {
   "cell_type": "code",
   "execution_count": null,
   "id": "1b104cda",
   "metadata": {
    "slideshow": {
     "slide_type": "fragment"
    }
   },
   "outputs": [],
   "source": [
    "rentals_sf1.groupby(sqft_cat)['rent'].agg(\n",
    "    max_rent='max', standardized_max=lambda x: (x.max() - x.mean()) / x.std())"
   ]
  },
  {
   "cell_type": "markdown",
   "id": "6db0caa0",
   "metadata": {
    "slideshow": {
     "slide_type": "fragment"
    }
   },
   "source": [
    "So even though the smallest apartment size category has the lowest maximum rent, it is the most _extreme_ maximum rent relative to its group mean!"
   ]
  },
  {
   "cell_type": "markdown",
   "id": "48187d8c",
   "metadata": {
    "slideshow": {
     "slide_type": "slide"
    }
   },
   "source": [
    "## 3.9 Exercises\n",
    "\n",
    "Try practicing these techniques on your own, to do the following:\n",
    "\n",
    "* Calculate the mean sqft of rental listings by county\n",
    "* Calculate the standard deviation (std) of sqft of rental listings by county and bedroom\n",
    "* Add a new column with a normalized sqft, substracting the mean sqft by bedroom from each listing's sqft \n",
    "* Compute correlation coefficients among rent, sqft, pct_white, pct_black, pct_asian and pct_hisp, by county and for the region\n",
    "* Redo the statistical profile on rents by categories of sqft range using 10 quantiles rather than 4 equal bins\n"
   ]
  },
  {
   "cell_type": "code",
   "execution_count": null,
   "id": "d54790e1",
   "metadata": {},
   "outputs": [],
   "source": []
  }
 ],
 "metadata": {
  "kernelspec": {
   "display_name": "Python 3",
   "language": "python",
   "name": "python3"
  },
  "language_info": {
   "codemirror_mode": {
    "name": "ipython",
    "version": 3
   },
   "file_extension": ".py",
   "mimetype": "text/x-python",
   "name": "python",
   "nbconvert_exporter": "python",
   "pygments_lexer": "ipython3",
   "version": "3.8.8"
  },
  "toc": {
   "base_numbering": 1,
   "nav_menu": {},
   "number_sections": false,
   "sideBar": false,
   "skip_h1_title": false,
   "title_cell": "Table of Contents",
   "title_sidebar": "Contents",
   "toc_cell": false,
   "toc_position": {},
   "toc_section_display": true,
   "toc_window_display": false
  }
 },
 "nbformat": 4,
 "nbformat_minor": 5
}
