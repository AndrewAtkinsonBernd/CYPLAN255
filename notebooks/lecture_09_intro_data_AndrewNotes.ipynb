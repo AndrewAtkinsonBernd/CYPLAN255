{
 "cells": [
  {
   "cell_type": "markdown",
   "id": "b40ef5a4",
   "metadata": {
    "slideshow": {
     "slide_type": "slide"
    }
   },
   "source": [
    "# CYPLAN255\n",
    "### Urban Informatics and Visualization"
   ]
  },
  {
   "cell_type": "markdown",
   "id": "2adc2c5d",
   "metadata": {
    "slideshow": {
     "slide_type": "slide"
    }
   },
   "source": [
    "HIT RECORD and TRANSCRIBE"
   ]
  },
  {
   "cell_type": "markdown",
   "id": "0ceea7a8",
   "metadata": {
    "slideshow": {
     "slide_type": "slide"
    }
   },
   "source": [
    "# Lecture 08 -- Intro to Data Visualization\n",
    "*******\n",
    "February 23, 2022"
   ]
  },
  {
   "cell_type": "markdown",
   "id": "75f7d376",
   "metadata": {
    "slideshow": {
     "slide_type": "slide"
    }
   },
   "source": [
    "# Agenda\n",
    "1. Announcements\n",
    "2. Review of last session\n",
    "3. Data Viz\n",
    "4. For next time\n",
    "5. Questions\n"
   ]
  },
  {
   "cell_type": "markdown",
   "id": "4f1c0cef",
   "metadata": {
    "slideshow": {
     "slide_type": "slide"
    }
   },
   "source": [
    "# 1. Announcements"
   ]
  },
  {
   "cell_type": "markdown",
   "id": "8e5d336f",
   "metadata": {
    "slideshow": {
     "slide_type": "fragment"
    }
   },
   "source": [
    "- Snaps for HW 1-2 Submissions\n",
    "- Assignment 3 grading changes\n",
    "- Irene to lead GitHub Pages tutorial\n",
    "   - _will be recorded_\n",
    "- New wiki section: [Things You Can Follow](https://github.com/mxndrwgrdnr/CYPLAN255/wiki/Web-Resources-and-Tutorials#things-you-can-follow)\n",
    "  - newsletters, job boards, twitter accounts"
   ]
  },
  {
   "cell_type": "markdown",
   "id": "155910d8",
   "metadata": {
    "slideshow": {
     "slide_type": "slide"
    }
   },
   "source": [
    "# 2. Review"
   ]
  },
  {
   "cell_type": "markdown",
   "id": "abe7c8ea",
   "metadata": {
    "slideshow": {
     "slide_type": "slide"
    }
   },
   "source": [
    "## 2.1 Imports and load data"
   ]
  },
  {
   "cell_type": "code",
   "execution_count": 2,
   "id": "9df58a05",
   "metadata": {
    "slideshow": {
     "slide_type": "fragment"
    }
   },
   "outputs": [],
   "source": [
    "import pandas as pd\n",
    "from matplotlib import pyplot as plt\n",
    "import seaborn as sns\n",
    "import numpy as np\n",
    "%matplotlib inline"
   ]
  },
  {
   "cell_type": "code",
   "execution_count": 3,
   "id": "a8992bbd",
   "metadata": {
    "slideshow": {
     "slide_type": "fragment"
    }
   },
   "outputs": [
    {
     "data": {
      "text/html": [
       "<div>\n",
       "<style scoped>\n",
       "    .dataframe tbody tr th:only-of-type {\n",
       "        vertical-align: middle;\n",
       "    }\n",
       "\n",
       "    .dataframe tbody tr th {\n",
       "        vertical-align: top;\n",
       "    }\n",
       "\n",
       "    .dataframe thead th {\n",
       "        text-align: right;\n",
       "    }\n",
       "</style>\n",
       "<table border=\"1\" class=\"dataframe\">\n",
       "  <thead>\n",
       "    <tr style=\"text-align: right;\">\n",
       "      <th></th>\n",
       "      <th>logrecno</th>\n",
       "      <th>blockfips</th>\n",
       "      <th>state</th>\n",
       "      <th>county</th>\n",
       "      <th>tract</th>\n",
       "      <th>blkgrp</th>\n",
       "      <th>block</th>\n",
       "      <th>arealand</th>\n",
       "      <th>P0010001</th>\n",
       "      <th>P0020001</th>\n",
       "      <th>...</th>\n",
       "      <th>H0040003</th>\n",
       "      <th>H0040004</th>\n",
       "      <th>H0050001</th>\n",
       "      <th>H0050002</th>\n",
       "      <th>H0050003</th>\n",
       "      <th>H0050004</th>\n",
       "      <th>H0050005</th>\n",
       "      <th>H0050006</th>\n",
       "      <th>H0050007</th>\n",
       "      <th>H0050008</th>\n",
       "    </tr>\n",
       "  </thead>\n",
       "  <tbody>\n",
       "    <tr>\n",
       "      <th>0</th>\n",
       "      <td>25</td>\n",
       "      <td>060014271001000</td>\n",
       "      <td>06</td>\n",
       "      <td>001</td>\n",
       "      <td>427100</td>\n",
       "      <td>1</td>\n",
       "      <td>1000</td>\n",
       "      <td>0</td>\n",
       "      <td>0</td>\n",
       "      <td>0</td>\n",
       "      <td>...</td>\n",
       "      <td>0</td>\n",
       "      <td>0</td>\n",
       "      <td>0</td>\n",
       "      <td>0</td>\n",
       "      <td>0</td>\n",
       "      <td>0</td>\n",
       "      <td>0</td>\n",
       "      <td>0</td>\n",
       "      <td>0</td>\n",
       "      <td>0</td>\n",
       "    </tr>\n",
       "    <tr>\n",
       "      <th>1</th>\n",
       "      <td>26</td>\n",
       "      <td>060014271001001</td>\n",
       "      <td>06</td>\n",
       "      <td>001</td>\n",
       "      <td>427100</td>\n",
       "      <td>1</td>\n",
       "      <td>1001</td>\n",
       "      <td>79696</td>\n",
       "      <td>113</td>\n",
       "      <td>113</td>\n",
       "      <td>...</td>\n",
       "      <td>1</td>\n",
       "      <td>4</td>\n",
       "      <td>0</td>\n",
       "      <td>0</td>\n",
       "      <td>0</td>\n",
       "      <td>0</td>\n",
       "      <td>0</td>\n",
       "      <td>0</td>\n",
       "      <td>0</td>\n",
       "      <td>0</td>\n",
       "    </tr>\n",
       "    <tr>\n",
       "      <th>2</th>\n",
       "      <td>27</td>\n",
       "      <td>060014271001002</td>\n",
       "      <td>06</td>\n",
       "      <td>001</td>\n",
       "      <td>427100</td>\n",
       "      <td>1</td>\n",
       "      <td>1002</td>\n",
       "      <td>739</td>\n",
       "      <td>0</td>\n",
       "      <td>0</td>\n",
       "      <td>...</td>\n",
       "      <td>0</td>\n",
       "      <td>0</td>\n",
       "      <td>0</td>\n",
       "      <td>0</td>\n",
       "      <td>0</td>\n",
       "      <td>0</td>\n",
       "      <td>0</td>\n",
       "      <td>0</td>\n",
       "      <td>0</td>\n",
       "      <td>0</td>\n",
       "    </tr>\n",
       "    <tr>\n",
       "      <th>3</th>\n",
       "      <td>28</td>\n",
       "      <td>060014271001003</td>\n",
       "      <td>06</td>\n",
       "      <td>001</td>\n",
       "      <td>427100</td>\n",
       "      <td>1</td>\n",
       "      <td>1003</td>\n",
       "      <td>19546</td>\n",
       "      <td>29</td>\n",
       "      <td>29</td>\n",
       "      <td>...</td>\n",
       "      <td>0</td>\n",
       "      <td>7</td>\n",
       "      <td>3</td>\n",
       "      <td>0</td>\n",
       "      <td>0</td>\n",
       "      <td>1</td>\n",
       "      <td>0</td>\n",
       "      <td>0</td>\n",
       "      <td>0</td>\n",
       "      <td>2</td>\n",
       "    </tr>\n",
       "    <tr>\n",
       "      <th>4</th>\n",
       "      <td>29</td>\n",
       "      <td>060014271001004</td>\n",
       "      <td>06</td>\n",
       "      <td>001</td>\n",
       "      <td>427100</td>\n",
       "      <td>1</td>\n",
       "      <td>1004</td>\n",
       "      <td>14364</td>\n",
       "      <td>26</td>\n",
       "      <td>26</td>\n",
       "      <td>...</td>\n",
       "      <td>0</td>\n",
       "      <td>6</td>\n",
       "      <td>0</td>\n",
       "      <td>0</td>\n",
       "      <td>0</td>\n",
       "      <td>0</td>\n",
       "      <td>0</td>\n",
       "      <td>0</td>\n",
       "      <td>0</td>\n",
       "      <td>0</td>\n",
       "    </tr>\n",
       "  </tbody>\n",
       "</table>\n",
       "<p>5 rows × 42 columns</p>\n",
       "</div>"
      ],
      "text/plain": [
       "   logrecno        blockfips state county   tract  blkgrp block  arealand  \\\n",
       "0        25  060014271001000    06    001  427100       1  1000         0   \n",
       "1        26  060014271001001    06    001  427100       1  1001     79696   \n",
       "2        27  060014271001002    06    001  427100       1  1002       739   \n",
       "3        28  060014271001003    06    001  427100       1  1003     19546   \n",
       "4        29  060014271001004    06    001  427100       1  1004     14364   \n",
       "\n",
       "   P0010001  P0020001  ...  H0040003  H0040004  H0050001  H0050002  H0050003  \\\n",
       "0         0         0  ...         0         0         0         0         0   \n",
       "1       113       113  ...         1         4         0         0         0   \n",
       "2         0         0  ...         0         0         0         0         0   \n",
       "3        29        29  ...         0         7         3         0         0   \n",
       "4        26        26  ...         0         6         0         0         0   \n",
       "\n",
       "   H0050004  H0050005  H0050006  H0050007  H0050008  \n",
       "0         0         0         0         0         0  \n",
       "1         0         0         0         0         0  \n",
       "2         0         0         0         0         0  \n",
       "3         1         0         0         0         2  \n",
       "4         0         0         0         0         0  \n",
       "\n",
       "[5 rows x 42 columns]"
      ]
     },
     "execution_count": 3,
     "metadata": {},
     "output_type": "execute_result"
    }
   ],
   "source": [
    "sf1 = pd.read_hdf('data/bay_sf1_small.h5', 'sf1_extract')\n",
    "sf1.head()"
   ]
  },
  {
   "cell_type": "code",
   "execution_count": 4,
   "id": "65101087",
   "metadata": {
    "slideshow": {
     "slide_type": "fragment"
    }
   },
   "outputs": [
    {
     "data": {
      "text/html": [
       "<div>\n",
       "<style scoped>\n",
       "    .dataframe tbody tr th:only-of-type {\n",
       "        vertical-align: middle;\n",
       "    }\n",
       "\n",
       "    .dataframe tbody tr th {\n",
       "        vertical-align: top;\n",
       "    }\n",
       "\n",
       "    .dataframe thead th {\n",
       "        text-align: right;\n",
       "    }\n",
       "</style>\n",
       "<table border=\"1\" class=\"dataframe\">\n",
       "  <thead>\n",
       "    <tr style=\"text-align: right;\">\n",
       "      <th></th>\n",
       "      <th>rent</th>\n",
       "      <th>bedrooms</th>\n",
       "      <th>sqft</th>\n",
       "      <th>longitude</th>\n",
       "      <th>latitude</th>\n",
       "      <th>fips_block</th>\n",
       "    </tr>\n",
       "  </thead>\n",
       "  <tbody>\n",
       "    <tr>\n",
       "      <th>0</th>\n",
       "      <td>4500.0</td>\n",
       "      <td>2.0</td>\n",
       "      <td>1200.0</td>\n",
       "      <td>-122.438300</td>\n",
       "      <td>37.745000</td>\n",
       "      <td>060750216002015</td>\n",
       "    </tr>\n",
       "    <tr>\n",
       "      <th>1</th>\n",
       "      <td>2650.0</td>\n",
       "      <td>2.0</td>\n",
       "      <td>1040.0</td>\n",
       "      <td>-122.008131</td>\n",
       "      <td>37.353699</td>\n",
       "      <td>060855085053008</td>\n",
       "    </tr>\n",
       "    <tr>\n",
       "      <th>2</th>\n",
       "      <td>3100.0</td>\n",
       "      <td>2.0</td>\n",
       "      <td>1000.0</td>\n",
       "      <td>-122.439743</td>\n",
       "      <td>37.731584</td>\n",
       "      <td>060750311005011</td>\n",
       "    </tr>\n",
       "    <tr>\n",
       "      <th>3</th>\n",
       "      <td>1850.0</td>\n",
       "      <td>1.0</td>\n",
       "      <td>792.0</td>\n",
       "      <td>-122.234294</td>\n",
       "      <td>37.491715</td>\n",
       "      <td>060816101001026</td>\n",
       "    </tr>\n",
       "    <tr>\n",
       "      <th>4</th>\n",
       "      <td>1325.0</td>\n",
       "      <td>1.0</td>\n",
       "      <td>642.0</td>\n",
       "      <td>-122.087751</td>\n",
       "      <td>37.923448</td>\n",
       "      <td>060133400021004</td>\n",
       "    </tr>\n",
       "  </tbody>\n",
       "</table>\n",
       "</div>"
      ],
      "text/plain": [
       "     rent  bedrooms    sqft   longitude   latitude       fips_block\n",
       "0  4500.0       2.0  1200.0 -122.438300  37.745000  060750216002015\n",
       "1  2650.0       2.0  1040.0 -122.008131  37.353699  060855085053008\n",
       "2  3100.0       2.0  1000.0 -122.439743  37.731584  060750311005011\n",
       "3  1850.0       1.0   792.0 -122.234294  37.491715  060816101001026\n",
       "4  1325.0       1.0   642.0 -122.087751  37.923448  060133400021004"
      ]
     },
     "execution_count": 4,
     "metadata": {},
     "output_type": "execute_result"
    }
   ],
   "source": [
    "rentals = pd.read_csv(\n",
    "    'data/sfbay_geocoded.csv',\n",
    "    usecols=['rent', 'bedrooms', 'sqft', 'fips_block', 'longitude', 'latitude'],\n",
    "    dtype={'fips_block': str}  # load fips_block as str, numeric type will drop leading zero\n",
    ")  \n",
    "rentals.head()"
   ]
  },
  {
   "cell_type": "markdown",
   "id": "c421db22",
   "metadata": {
    "slideshow": {
     "slide_type": "slide"
    }
   },
   "source": [
    "## 2.2 Cleaning and transforming"
   ]
  },
  {
   "cell_type": "code",
   "execution_count": 5,
   "id": "d692a184",
   "metadata": {
    "slideshow": {
     "slide_type": "fragment"
    }
   },
   "outputs": [],
   "source": [
    "county_fips_to_name = {\n",
    "    '001': 'Alameda', '013': 'Contra Costa', '041': 'Marin', '055': 'Napa', '075': 'San Francisco',\n",
    "    '081': 'San Mateo', '085': 'Santa Clara', '095': 'Solano', '097': 'Sonoma'}"
   ]
  },
  {
   "cell_type": "code",
   "execution_count": 6,
   "id": "08fe00c5",
   "metadata": {
    "slideshow": {
     "slide_type": "fragment"
    }
   },
   "outputs": [],
   "source": [
    "sf1.insert(4, 'county_name', sf1['county'].replace(county_fips_to_name))"
   ]
  },
  {
   "cell_type": "code",
   "execution_count": 7,
   "id": "9aec5979",
   "metadata": {
    "slideshow": {
     "slide_type": "fragment"
    }
   },
   "outputs": [],
   "source": [
    "sf1['pct_rent'] = sf1['H0040004'] / sf1['H0040001'] * 100\n",
    "sf1['pct_black'] = sf1['P0030003'] / sf1['P0030001'] * 100\n",
    "sf1['pct_asian'] = sf1['P0030005'] / sf1['P0030001'] * 100\n",
    "sf1['pct_white'] = sf1['P0030002'] / sf1['P0030001'] * 100\n",
    "sf1['pct_hisp'] = sf1['P0040003'] / sf1['P0040001'] * 100\n",
    "sf1['pct_vacant'] = sf1['H0050001'] / sf1['H00010001'] * 100\n",
    "sf1['pop_sqmi'] = (sf1['P0010001'] / (sf1['arealand'] / 2589988))\n",
    "sf1 = sf1[sf1['P0030001'] > 0]  # drop unpopulated census blocks"
   ]
  },
  {
   "cell_type": "markdown",
   "id": "a96d4142",
   "metadata": {
    "slideshow": {
     "slide_type": "slide"
    }
   },
   "source": [
    "## 2.3 Merging data tables"
   ]
  },
  {
   "cell_type": "code",
   "execution_count": 8,
   "id": "1fcceecf",
   "metadata": {
    "slideshow": {
     "slide_type": "fragment"
    }
   },
   "outputs": [
    {
     "data": {
      "text/html": [
       "<div>\n",
       "<style scoped>\n",
       "    .dataframe tbody tr th:only-of-type {\n",
       "        vertical-align: middle;\n",
       "    }\n",
       "\n",
       "    .dataframe tbody tr th {\n",
       "        vertical-align: top;\n",
       "    }\n",
       "\n",
       "    .dataframe thead th {\n",
       "        text-align: right;\n",
       "    }\n",
       "</style>\n",
       "<table border=\"1\" class=\"dataframe\">\n",
       "  <thead>\n",
       "    <tr style=\"text-align: right;\">\n",
       "      <th></th>\n",
       "      <th>rent</th>\n",
       "      <th>bedrooms</th>\n",
       "      <th>sqft</th>\n",
       "      <th>longitude</th>\n",
       "      <th>latitude</th>\n",
       "      <th>fips_block</th>\n",
       "      <th>logrecno</th>\n",
       "      <th>blockfips</th>\n",
       "      <th>state</th>\n",
       "      <th>county</th>\n",
       "      <th>...</th>\n",
       "      <th>H0050006</th>\n",
       "      <th>H0050007</th>\n",
       "      <th>H0050008</th>\n",
       "      <th>pct_rent</th>\n",
       "      <th>pct_black</th>\n",
       "      <th>pct_asian</th>\n",
       "      <th>pct_white</th>\n",
       "      <th>pct_hisp</th>\n",
       "      <th>pct_vacant</th>\n",
       "      <th>pop_sqmi</th>\n",
       "    </tr>\n",
       "  </thead>\n",
       "  <tbody>\n",
       "    <tr>\n",
       "      <th>0</th>\n",
       "      <td>4500.0</td>\n",
       "      <td>2.0</td>\n",
       "      <td>1200.0</td>\n",
       "      <td>-122.438300</td>\n",
       "      <td>37.745000</td>\n",
       "      <td>060750216002015</td>\n",
       "      <td>589261</td>\n",
       "      <td>060750216002015</td>\n",
       "      <td>06</td>\n",
       "      <td>075</td>\n",
       "      <td>...</td>\n",
       "      <td>3</td>\n",
       "      <td>0</td>\n",
       "      <td>5</td>\n",
       "      <td>88.888889</td>\n",
       "      <td>23.445826</td>\n",
       "      <td>10.301954</td>\n",
       "      <td>46.358792</td>\n",
       "      <td>23.268206</td>\n",
       "      <td>5.882353</td>\n",
       "      <td>24936.524053</td>\n",
       "    </tr>\n",
       "    <tr>\n",
       "      <th>1</th>\n",
       "      <td>6250.0</td>\n",
       "      <td>3.0</td>\n",
       "      <td>1215.0</td>\n",
       "      <td>-122.438300</td>\n",
       "      <td>37.745000</td>\n",
       "      <td>060750216002015</td>\n",
       "      <td>589261</td>\n",
       "      <td>060750216002015</td>\n",
       "      <td>06</td>\n",
       "      <td>075</td>\n",
       "      <td>...</td>\n",
       "      <td>3</td>\n",
       "      <td>0</td>\n",
       "      <td>5</td>\n",
       "      <td>88.888889</td>\n",
       "      <td>23.445826</td>\n",
       "      <td>10.301954</td>\n",
       "      <td>46.358792</td>\n",
       "      <td>23.268206</td>\n",
       "      <td>5.882353</td>\n",
       "      <td>24936.524053</td>\n",
       "    </tr>\n",
       "    <tr>\n",
       "      <th>2</th>\n",
       "      <td>6250.0</td>\n",
       "      <td>3.0</td>\n",
       "      <td>1215.0</td>\n",
       "      <td>-122.438300</td>\n",
       "      <td>37.745000</td>\n",
       "      <td>060750216002015</td>\n",
       "      <td>589261</td>\n",
       "      <td>060750216002015</td>\n",
       "      <td>06</td>\n",
       "      <td>075</td>\n",
       "      <td>...</td>\n",
       "      <td>3</td>\n",
       "      <td>0</td>\n",
       "      <td>5</td>\n",
       "      <td>88.888889</td>\n",
       "      <td>23.445826</td>\n",
       "      <td>10.301954</td>\n",
       "      <td>46.358792</td>\n",
       "      <td>23.268206</td>\n",
       "      <td>5.882353</td>\n",
       "      <td>24936.524053</td>\n",
       "    </tr>\n",
       "    <tr>\n",
       "      <th>3</th>\n",
       "      <td>6650.0</td>\n",
       "      <td>3.0</td>\n",
       "      <td>2900.0</td>\n",
       "      <td>-122.440088</td>\n",
       "      <td>37.745296</td>\n",
       "      <td>060750216002015</td>\n",
       "      <td>589261</td>\n",
       "      <td>060750216002015</td>\n",
       "      <td>06</td>\n",
       "      <td>075</td>\n",
       "      <td>...</td>\n",
       "      <td>3</td>\n",
       "      <td>0</td>\n",
       "      <td>5</td>\n",
       "      <td>88.888889</td>\n",
       "      <td>23.445826</td>\n",
       "      <td>10.301954</td>\n",
       "      <td>46.358792</td>\n",
       "      <td>23.268206</td>\n",
       "      <td>5.882353</td>\n",
       "      <td>24936.524053</td>\n",
       "    </tr>\n",
       "    <tr>\n",
       "      <th>4</th>\n",
       "      <td>2600.0</td>\n",
       "      <td>1.0</td>\n",
       "      <td>615.0</td>\n",
       "      <td>-122.440088</td>\n",
       "      <td>37.745296</td>\n",
       "      <td>060750216002015</td>\n",
       "      <td>589261</td>\n",
       "      <td>060750216002015</td>\n",
       "      <td>06</td>\n",
       "      <td>075</td>\n",
       "      <td>...</td>\n",
       "      <td>3</td>\n",
       "      <td>0</td>\n",
       "      <td>5</td>\n",
       "      <td>88.888889</td>\n",
       "      <td>23.445826</td>\n",
       "      <td>10.301954</td>\n",
       "      <td>46.358792</td>\n",
       "      <td>23.268206</td>\n",
       "      <td>5.882353</td>\n",
       "      <td>24936.524053</td>\n",
       "    </tr>\n",
       "  </tbody>\n",
       "</table>\n",
       "<p>5 rows × 56 columns</p>\n",
       "</div>"
      ],
      "text/plain": [
       "     rent  bedrooms    sqft   longitude   latitude       fips_block  logrecno  \\\n",
       "0  4500.0       2.0  1200.0 -122.438300  37.745000  060750216002015    589261   \n",
       "1  6250.0       3.0  1215.0 -122.438300  37.745000  060750216002015    589261   \n",
       "2  6250.0       3.0  1215.0 -122.438300  37.745000  060750216002015    589261   \n",
       "3  6650.0       3.0  2900.0 -122.440088  37.745296  060750216002015    589261   \n",
       "4  2600.0       1.0   615.0 -122.440088  37.745296  060750216002015    589261   \n",
       "\n",
       "         blockfips state county  ... H0050006 H0050007  H0050008   pct_rent  \\\n",
       "0  060750216002015    06    075  ...        3        0         5  88.888889   \n",
       "1  060750216002015    06    075  ...        3        0         5  88.888889   \n",
       "2  060750216002015    06    075  ...        3        0         5  88.888889   \n",
       "3  060750216002015    06    075  ...        3        0         5  88.888889   \n",
       "4  060750216002015    06    075  ...        3        0         5  88.888889   \n",
       "\n",
       "   pct_black  pct_asian  pct_white   pct_hisp  pct_vacant      pop_sqmi  \n",
       "0  23.445826  10.301954  46.358792  23.268206    5.882353  24936.524053  \n",
       "1  23.445826  10.301954  46.358792  23.268206    5.882353  24936.524053  \n",
       "2  23.445826  10.301954  46.358792  23.268206    5.882353  24936.524053  \n",
       "3  23.445826  10.301954  46.358792  23.268206    5.882353  24936.524053  \n",
       "4  23.445826  10.301954  46.358792  23.268206    5.882353  24936.524053  \n",
       "\n",
       "[5 rows x 56 columns]"
      ]
     },
     "execution_count": 8,
     "metadata": {},
     "output_type": "execute_result"
    }
   ],
   "source": [
    "rentals_sf1 = pd.merge(rentals, sf1, left_on='fips_block', right_on='blockfips')\n",
    "rentals_sf1.head()"
   ]
  },
  {
   "cell_type": "markdown",
   "id": "25ab48bf",
   "metadata": {
    "slideshow": {
     "slide_type": "slide"
    }
   },
   "source": [
    "## 2.4 Plotting with pandas"
   ]
  },
  {
   "cell_type": "markdown",
   "id": "4c519121",
   "metadata": {
    "slideshow": {
     "slide_type": "fragment"
    }
   },
   "source": [
    "Let's visualize average rent by `county` and `bedrooms`. We can use a multi-column group-by for this:"
   ]
  },
  {
   "cell_type": "code",
   "execution_count": 9,
   "id": "ea975db2",
   "metadata": {
    "slideshow": {
     "slide_type": "fragment"
    }
   },
   "outputs": [
    {
     "data": {
      "text/plain": [
       "<AxesSubplot:xlabel='county_name,bedrooms'>"
      ]
     },
     "execution_count": 9,
     "metadata": {},
     "output_type": "execute_result"
    },
    {
     "data": {
      "image/png": "[encoded data removed]",
      "text/plain": [
       "<Figure size 432x288 with 1 Axes>"
      ]
     },
     "metadata": {
      "needs_background": "light"
     },
     "output_type": "display_data"
    }
   ],
   "source": [
    "rentals_sf1.groupby(['county_name', 'bedrooms'])['rent'].mean().plot(kind='bar')"
   ]
  },
  {
   "cell_type": "markdown",
   "id": "dcbc69e5",
   "metadata": {
    "slideshow": {
     "slide_type": "fragment"
    }
   },
   "source": [
    "Note that in one line of pandas code we can aggregate, transform, and plot our data. But this plot has some issues. Let's see if we can't improve it."
   ]
  },
  {
   "cell_type": "code",
   "execution_count": 12,
   "id": "ad32d955",
   "metadata": {},
   "outputs": [
    {
     "data": {
      "text/html": [
       "<div>\n",
       "<style scoped>\n",
       "    .dataframe tbody tr th:only-of-type {\n",
       "        vertical-align: middle;\n",
       "    }\n",
       "\n",
       "    .dataframe tbody tr th {\n",
       "        vertical-align: top;\n",
       "    }\n",
       "\n",
       "    .dataframe thead th {\n",
       "        text-align: right;\n",
       "    }\n",
       "</style>\n",
       "<table border=\"1\" class=\"dataframe\">\n",
       "  <thead>\n",
       "    <tr style=\"text-align: right;\">\n",
       "      <th>bedrooms</th>\n",
       "      <th>1.0</th>\n",
       "      <th>2.0</th>\n",
       "      <th>3.0</th>\n",
       "      <th>4.0</th>\n",
       "      <th>5.0</th>\n",
       "      <th>6.0</th>\n",
       "      <th>7.0</th>\n",
       "      <th>8.0</th>\n",
       "    </tr>\n",
       "    <tr>\n",
       "      <th>county_name</th>\n",
       "      <th></th>\n",
       "      <th></th>\n",
       "      <th></th>\n",
       "      <th></th>\n",
       "      <th></th>\n",
       "      <th></th>\n",
       "      <th></th>\n",
       "      <th></th>\n",
       "    </tr>\n",
       "  </thead>\n",
       "  <tbody>\n",
       "    <tr>\n",
       "      <th>Alameda</th>\n",
       "      <td>1862.396037</td>\n",
       "      <td>2284.538409</td>\n",
       "      <td>2715.874074</td>\n",
       "      <td>3315.346895</td>\n",
       "      <td>4820.488152</td>\n",
       "      <td>5898.392857</td>\n",
       "      <td>7362.5</td>\n",
       "      <td>8400.0</td>\n",
       "    </tr>\n",
       "    <tr>\n",
       "      <th>Contra Costa</th>\n",
       "      <td>1596.991079</td>\n",
       "      <td>1874.641106</td>\n",
       "      <td>2390.508197</td>\n",
       "      <td>2831.713831</td>\n",
       "      <td>3547.841808</td>\n",
       "      <td>3258.636364</td>\n",
       "      <td>7172.5</td>\n",
       "      <td>3200.0</td>\n",
       "    </tr>\n",
       "    <tr>\n",
       "      <th>Marin</th>\n",
       "      <td>2209.910211</td>\n",
       "      <td>2998.448575</td>\n",
       "      <td>4476.835979</td>\n",
       "      <td>5837.602273</td>\n",
       "      <td>5145.666667</td>\n",
       "      <td>5250.000000</td>\n",
       "      <td>NaN</td>\n",
       "      <td>NaN</td>\n",
       "    </tr>\n",
       "    <tr>\n",
       "      <th>Napa</th>\n",
       "      <td>1387.362745</td>\n",
       "      <td>1846.914110</td>\n",
       "      <td>2447.333333</td>\n",
       "      <td>2998.593750</td>\n",
       "      <td>3009.000000</td>\n",
       "      <td>NaN</td>\n",
       "      <td>NaN</td>\n",
       "      <td>NaN</td>\n",
       "    </tr>\n",
       "    <tr>\n",
       "      <th>San Francisco</th>\n",
       "      <td>3099.179065</td>\n",
       "      <td>4225.756604</td>\n",
       "      <td>5151.170096</td>\n",
       "      <td>6064.077295</td>\n",
       "      <td>7525.666667</td>\n",
       "      <td>7750.000000</td>\n",
       "      <td>9950.0</td>\n",
       "      <td>9900.0</td>\n",
       "    </tr>\n",
       "  </tbody>\n",
       "</table>\n",
       "</div>"
      ],
      "text/plain": [
       "bedrooms               1.0          2.0          3.0          4.0  \\\n",
       "county_name                                                         \n",
       "Alameda        1862.396037  2284.538409  2715.874074  3315.346895   \n",
       "Contra Costa   1596.991079  1874.641106  2390.508197  2831.713831   \n",
       "Marin          2209.910211  2998.448575  4476.835979  5837.602273   \n",
       "Napa           1387.362745  1846.914110  2447.333333  2998.593750   \n",
       "San Francisco  3099.179065  4225.756604  5151.170096  6064.077295   \n",
       "\n",
       "bedrooms               5.0          6.0     7.0     8.0  \n",
       "county_name                                              \n",
       "Alameda        4820.488152  5898.392857  7362.5  8400.0  \n",
       "Contra Costa   3547.841808  3258.636364  7172.5  3200.0  \n",
       "Marin          5145.666667  5250.000000     NaN     NaN  \n",
       "Napa           3009.000000          NaN     NaN     NaN  \n",
       "San Francisco  7525.666667  7750.000000  9950.0  9900.0  "
      ]
     },
     "execution_count": 12,
     "metadata": {},
     "output_type": "execute_result"
    }
   ],
   "source": [
    "_1 = rentals_sf1.groupby(['county_name', 'bedrooms'])['rent'].mean().unstack()\n",
    "_1.head()"
   ]
  },
  {
   "cell_type": "code",
   "execution_count": 14,
   "id": "7d0ac674",
   "metadata": {},
   "outputs": [
    {
     "data": {
      "text/html": [
       "<div>\n",
       "<style scoped>\n",
       "    .dataframe tbody tr th:only-of-type {\n",
       "        vertical-align: middle;\n",
       "    }\n",
       "\n",
       "    .dataframe tbody tr th {\n",
       "        vertical-align: top;\n",
       "    }\n",
       "\n",
       "    .dataframe thead th {\n",
       "        text-align: right;\n",
       "    }\n",
       "</style>\n",
       "<table border=\"1\" class=\"dataframe\">\n",
       "  <thead>\n",
       "    <tr style=\"text-align: right;\">\n",
       "      <th>county_name</th>\n",
       "      <th>Alameda</th>\n",
       "      <th>Contra Costa</th>\n",
       "      <th>Marin</th>\n",
       "      <th>Napa</th>\n",
       "      <th>San Francisco</th>\n",
       "      <th>San Mateo</th>\n",
       "      <th>Santa Clara</th>\n",
       "      <th>Solano</th>\n",
       "      <th>Sonoma</th>\n",
       "    </tr>\n",
       "    <tr>\n",
       "      <th>bedrooms</th>\n",
       "      <th></th>\n",
       "      <th></th>\n",
       "      <th></th>\n",
       "      <th></th>\n",
       "      <th></th>\n",
       "      <th></th>\n",
       "      <th></th>\n",
       "      <th></th>\n",
       "      <th></th>\n",
       "    </tr>\n",
       "  </thead>\n",
       "  <tbody>\n",
       "    <tr>\n",
       "      <th>1.0</th>\n",
       "      <td>1862.396037</td>\n",
       "      <td>1596.991079</td>\n",
       "      <td>2209.910211</td>\n",
       "      <td>1387.362745</td>\n",
       "      <td>3099.179065</td>\n",
       "      <td>2266.792148</td>\n",
       "      <td>2143.095373</td>\n",
       "      <td>1143.470514</td>\n",
       "      <td>1403.868078</td>\n",
       "    </tr>\n",
       "    <tr>\n",
       "      <th>2.0</th>\n",
       "      <td>2284.538409</td>\n",
       "      <td>1874.641106</td>\n",
       "      <td>2998.448575</td>\n",
       "      <td>1846.914110</td>\n",
       "      <td>4225.756604</td>\n",
       "      <td>2975.375058</td>\n",
       "      <td>2721.721386</td>\n",
       "      <td>1277.712283</td>\n",
       "      <td>1830.113469</td>\n",
       "    </tr>\n",
       "    <tr>\n",
       "      <th>3.0</th>\n",
       "      <td>2715.874074</td>\n",
       "      <td>2390.508197</td>\n",
       "      <td>4476.835979</td>\n",
       "      <td>2447.333333</td>\n",
       "      <td>5151.170096</td>\n",
       "      <td>3888.506952</td>\n",
       "      <td>3451.772947</td>\n",
       "      <td>1640.565678</td>\n",
       "      <td>2284.307937</td>\n",
       "    </tr>\n",
       "    <tr>\n",
       "      <th>4.0</th>\n",
       "      <td>3315.346895</td>\n",
       "      <td>2831.713831</td>\n",
       "      <td>5837.602273</td>\n",
       "      <td>2998.593750</td>\n",
       "      <td>6064.077295</td>\n",
       "      <td>5292.336683</td>\n",
       "      <td>4280.278307</td>\n",
       "      <td>2043.212766</td>\n",
       "      <td>2738.465347</td>\n",
       "    </tr>\n",
       "    <tr>\n",
       "      <th>5.0</th>\n",
       "      <td>4820.488152</td>\n",
       "      <td>3547.841808</td>\n",
       "      <td>5145.666667</td>\n",
       "      <td>3009.000000</td>\n",
       "      <td>7525.666667</td>\n",
       "      <td>5633.618182</td>\n",
       "      <td>5642.350211</td>\n",
       "      <td>2491.250000</td>\n",
       "      <td>3037.500000</td>\n",
       "    </tr>\n",
       "  </tbody>\n",
       "</table>\n",
       "</div>"
      ],
      "text/plain": [
       "county_name      Alameda  Contra Costa        Marin         Napa  \\\n",
       "bedrooms                                                           \n",
       "1.0          1862.396037   1596.991079  2209.910211  1387.362745   \n",
       "2.0          2284.538409   1874.641106  2998.448575  1846.914110   \n",
       "3.0          2715.874074   2390.508197  4476.835979  2447.333333   \n",
       "4.0          3315.346895   2831.713831  5837.602273  2998.593750   \n",
       "5.0          4820.488152   3547.841808  5145.666667  3009.000000   \n",
       "\n",
       "county_name  San Francisco    San Mateo  Santa Clara       Solano       Sonoma  \n",
       "bedrooms                                                                        \n",
       "1.0            3099.179065  2266.792148  2143.095373  1143.470514  1403.868078  \n",
       "2.0            4225.756604  2975.375058  2721.721386  1277.712283  1830.113469  \n",
       "3.0            5151.170096  3888.506952  3451.772947  1640.565678  2284.307937  \n",
       "4.0            6064.077295  5292.336683  4280.278307  2043.212766  2738.465347  \n",
       "5.0            7525.666667  5633.618182  5642.350211  2491.250000  3037.500000  "
      ]
     },
     "execution_count": 14,
     "metadata": {},
     "output_type": "execute_result"
    }
   ],
   "source": [
    "_2 = rentals_sf1.groupby(['bedrooms', 'county_name'])['rent'].mean().unstack()\n",
    "_1.head()"
   ]
  },
  {
   "cell_type": "code",
   "execution_count": 9,
   "id": "cec0cb2b",
   "metadata": {
    "slideshow": {
     "slide_type": "slide"
    }
   },
   "outputs": [
    {
     "data": {
      "image/png": "[encoded data removed]",
      "text/plain": [
       "<Figure size 1008x432 with 1 Axes>"
      ]
     },
     "metadata": {
      "needs_background": "light"
     },
     "output_type": "display_data"
    }
   ],
   "source": [
    "_ = rentals_sf1.groupby(['county_name', 'bedrooms'])['rent'].mean().unstack().plot(\n",
    "    kind='bar', figsize=(14,6), title='Avg. Rents by County and # Bedrooms', ylabel='rent ($)', xlabel='county')"
   ]
  },
  {
   "cell_type": "code",
   "execution_count": 15,
   "id": "564489a7",
   "metadata": {},
   "outputs": [
    {
     "data": {
      "image/png": "[encoded data removed]",
      "text/plain": [
       "<Figure size 1008x432 with 1 Axes>"
      ]
     },
     "metadata": {
      "needs_background": "light"
     },
     "output_type": "display_data"
    }
   ],
   "source": [
    "_2 = rentals_sf1.groupby(['bedrooms', 'county_name'])['rent'].mean().unstack().plot(\n",
    "    kind='bar', figsize=(14,6), title='Avg. Rents by County and # Bedrooms', ylabel='rent ($)', xlabel='county')"
   ]
  },
  {
   "cell_type": "markdown",
   "id": "db99825e",
   "metadata": {
    "slideshow": {
     "slide_type": "fragment"
    }
   },
   "source": [
    "**Question:** This plot is clearly more legible, but is it really showing us what want?"
   ]
  },
  {
   "cell_type": "markdown",
   "id": "0f0325a5",
   "metadata": {
    "slideshow": {
     "slide_type": "slide"
    }
   },
   "source": [
    "If we re-order the sequence of our group-by columns, we'll swap the rows and columns of the dataframe returned by `unstack()`:"
   ]
  },
  {
   "cell_type": "code",
   "execution_count": 16,
   "id": "9f18b1a2",
   "metadata": {
    "slideshow": {
     "slide_type": "slide"
    }
   },
   "outputs": [
    {
     "data": {
      "text/plain": [
       "<AxesSubplot:title={'center':'Average Rents by County and # Bedrooms'}, xlabel='# bedrooms', ylabel='rent ($)'>"
      ]
     },
     "execution_count": 16,
     "metadata": {},
     "output_type": "execute_result"
    },
    {
     "data": {
      "image/png": "[encoded data removed]",
      "text/plain": [
       "<Figure size 1008x432 with 1 Axes>"
      ]
     },
     "metadata": {
      "needs_background": "light"
     },
     "output_type": "display_data"
    }
   ],
   "source": [
    "rentals_sf1.groupby(['bedrooms', 'county_name'])['rent'].mean().unstack().plot(\n",
    "    kind='bar', figsize=(14,6), title='Average Rents by County and # Bedrooms',\n",
    "    ylabel='rent ($)', xlabel='# bedrooms')"
   ]
  },
  {
   "cell_type": "markdown",
   "id": "95d162c2",
   "metadata": {
    "slideshow": {
     "slide_type": "slide"
    }
   },
   "source": [
    "## 2.5 Pivot tables and cross-tabulations"
   ]
  },
  {
   "cell_type": "markdown",
   "id": "85d43f46",
   "metadata": {
    "slideshow": {
     "slide_type": "fragment"
    }
   },
   "source": [
    "For all you Excel wizards out there thinking \"this is dumb it's just a pivot table\"...you're right!"
   ]
  },
  {
   "cell_type": "code",
   "execution_count": 17,
   "id": "a05086c4",
   "metadata": {
    "slideshow": {
     "slide_type": "fragment"
    }
   },
   "outputs": [
    {
     "data": {
      "text/plain": [
       "<AxesSubplot:title={'center':'Average Rents by County and Bedrooms'}, xlabel='bedrooms'>"
      ]
     },
     "execution_count": 17,
     "metadata": {},
     "output_type": "execute_result"
    },
    {
     "data": {
      "image/png": "[encoded data removed]",
      "text/plain": [
       "<Figure size 1008x432 with 1 Axes>"
      ]
     },
     "metadata": {
      "needs_background": "light"
     },
     "output_type": "display_data"
    }
   ],
   "source": [
    "pd.pivot_table(rentals_sf1, values='rent', index=['bedrooms'], columns=['county_name']).plot(\n",
    "    kind='bar', figsize=(14,6), title='Average Rents by County and Bedrooms')"
   ]
  },
  {
   "cell_type": "markdown",
   "id": "ee589391",
   "metadata": {
    "slideshow": {
     "slide_type": "slide"
    }
   },
   "source": [
    "Behind the scenes, pivot table is just doing a group-by and taking the mean."
   ]
  },
  {
   "cell_type": "code",
   "execution_count": 19,
   "id": "fd6b5f9f",
   "metadata": {
    "slideshow": {
     "slide_type": "fragment"
    }
   },
   "outputs": [
    {
     "data": {
      "text/html": [
       "<div>\n",
       "<style scoped>\n",
       "    .dataframe tbody tr th:only-of-type {\n",
       "        vertical-align: middle;\n",
       "    }\n",
       "\n",
       "    .dataframe tbody tr th {\n",
       "        vertical-align: top;\n",
       "    }\n",
       "\n",
       "    .dataframe thead th {\n",
       "        text-align: right;\n",
       "    }\n",
       "</style>\n",
       "<table border=\"1\" class=\"dataframe\">\n",
       "  <thead>\n",
       "    <tr style=\"text-align: right;\">\n",
       "      <th>county_name</th>\n",
       "      <th>Alameda</th>\n",
       "      <th>Contra Costa</th>\n",
       "      <th>Marin</th>\n",
       "      <th>Napa</th>\n",
       "      <th>San Francisco</th>\n",
       "      <th>San Mateo</th>\n",
       "      <th>Santa Clara</th>\n",
       "      <th>Solano</th>\n",
       "      <th>Sonoma</th>\n",
       "    </tr>\n",
       "    <tr>\n",
       "      <th>bedrooms</th>\n",
       "      <th></th>\n",
       "      <th></th>\n",
       "      <th></th>\n",
       "      <th></th>\n",
       "      <th></th>\n",
       "      <th></th>\n",
       "      <th></th>\n",
       "      <th></th>\n",
       "      <th></th>\n",
       "    </tr>\n",
       "  </thead>\n",
       "  <tbody>\n",
       "    <tr>\n",
       "      <th>1.0</th>\n",
       "      <td>1862.396037</td>\n",
       "      <td>1596.991079</td>\n",
       "      <td>2209.910211</td>\n",
       "      <td>1387.362745</td>\n",
       "      <td>3099.179065</td>\n",
       "      <td>2266.792148</td>\n",
       "      <td>2143.095373</td>\n",
       "      <td>1143.470514</td>\n",
       "      <td>1403.868078</td>\n",
       "    </tr>\n",
       "    <tr>\n",
       "      <th>2.0</th>\n",
       "      <td>2284.538409</td>\n",
       "      <td>1874.641106</td>\n",
       "      <td>2998.448575</td>\n",
       "      <td>1846.914110</td>\n",
       "      <td>4225.756604</td>\n",
       "      <td>2975.375058</td>\n",
       "      <td>2721.721386</td>\n",
       "      <td>1277.712283</td>\n",
       "      <td>1830.113469</td>\n",
       "    </tr>\n",
       "    <tr>\n",
       "      <th>3.0</th>\n",
       "      <td>2715.874074</td>\n",
       "      <td>2390.508197</td>\n",
       "      <td>4476.835979</td>\n",
       "      <td>2447.333333</td>\n",
       "      <td>5151.170096</td>\n",
       "      <td>3888.506952</td>\n",
       "      <td>3451.772947</td>\n",
       "      <td>1640.565678</td>\n",
       "      <td>2284.307937</td>\n",
       "    </tr>\n",
       "    <tr>\n",
       "      <th>4.0</th>\n",
       "      <td>3315.346895</td>\n",
       "      <td>2831.713831</td>\n",
       "      <td>5837.602273</td>\n",
       "      <td>2998.593750</td>\n",
       "      <td>6064.077295</td>\n",
       "      <td>5292.336683</td>\n",
       "      <td>4280.278307</td>\n",
       "      <td>2043.212766</td>\n",
       "      <td>2738.465347</td>\n",
       "    </tr>\n",
       "    <tr>\n",
       "      <th>5.0</th>\n",
       "      <td>4820.488152</td>\n",
       "      <td>3547.841808</td>\n",
       "      <td>5145.666667</td>\n",
       "      <td>3009.000000</td>\n",
       "      <td>7525.666667</td>\n",
       "      <td>5633.618182</td>\n",
       "      <td>5642.350211</td>\n",
       "      <td>2491.250000</td>\n",
       "      <td>3037.500000</td>\n",
       "    </tr>\n",
       "    <tr>\n",
       "      <th>6.0</th>\n",
       "      <td>5898.392857</td>\n",
       "      <td>3258.636364</td>\n",
       "      <td>5250.000000</td>\n",
       "      <td>NaN</td>\n",
       "      <td>7750.000000</td>\n",
       "      <td>7260.000000</td>\n",
       "      <td>6704.545455</td>\n",
       "      <td>NaN</td>\n",
       "      <td>3295.000000</td>\n",
       "    </tr>\n",
       "    <tr>\n",
       "      <th>7.0</th>\n",
       "      <td>7362.500000</td>\n",
       "      <td>7172.500000</td>\n",
       "      <td>NaN</td>\n",
       "      <td>NaN</td>\n",
       "      <td>9950.000000</td>\n",
       "      <td>NaN</td>\n",
       "      <td>6028.571429</td>\n",
       "      <td>3000.000000</td>\n",
       "      <td>NaN</td>\n",
       "    </tr>\n",
       "    <tr>\n",
       "      <th>8.0</th>\n",
       "      <td>8400.000000</td>\n",
       "      <td>3200.000000</td>\n",
       "      <td>NaN</td>\n",
       "      <td>NaN</td>\n",
       "      <td>9900.000000</td>\n",
       "      <td>NaN</td>\n",
       "      <td>2550.000000</td>\n",
       "      <td>NaN</td>\n",
       "      <td>NaN</td>\n",
       "    </tr>\n",
       "  </tbody>\n",
       "</table>\n",
       "</div>"
      ],
      "text/plain": [
       "county_name      Alameda  Contra Costa        Marin         Napa  \\\n",
       "bedrooms                                                           \n",
       "1.0          1862.396037   1596.991079  2209.910211  1387.362745   \n",
       "2.0          2284.538409   1874.641106  2998.448575  1846.914110   \n",
       "3.0          2715.874074   2390.508197  4476.835979  2447.333333   \n",
       "4.0          3315.346895   2831.713831  5837.602273  2998.593750   \n",
       "5.0          4820.488152   3547.841808  5145.666667  3009.000000   \n",
       "6.0          5898.392857   3258.636364  5250.000000          NaN   \n",
       "7.0          7362.500000   7172.500000          NaN          NaN   \n",
       "8.0          8400.000000   3200.000000          NaN          NaN   \n",
       "\n",
       "county_name  San Francisco    San Mateo  Santa Clara       Solano       Sonoma  \n",
       "bedrooms                                                                        \n",
       "1.0            3099.179065  2266.792148  2143.095373  1143.470514  1403.868078  \n",
       "2.0            4225.756604  2975.375058  2721.721386  1277.712283  1830.113469  \n",
       "3.0            5151.170096  3888.506952  3451.772947  1640.565678  2284.307937  \n",
       "4.0            6064.077295  5292.336683  4280.278307  2043.212766  2738.465347  \n",
       "5.0            7525.666667  5633.618182  5642.350211  2491.250000  3037.500000  \n",
       "6.0            7750.000000  7260.000000  6704.545455          NaN  3295.000000  \n",
       "7.0            9950.000000          NaN  6028.571429  3000.000000          NaN  \n",
       "8.0            9900.000000          NaN  2550.000000          NaN          NaN  "
      ]
     },
     "execution_count": 19,
     "metadata": {},
     "output_type": "execute_result"
    }
   ],
   "source": [
    "pd.pivot_table(rentals_sf1, values='rent', index='bedrooms', columns='county_name')"
   ]
  },
  {
   "cell_type": "markdown",
   "id": "8d2618f9",
   "metadata": {
    "slideshow": {
     "slide_type": "slide"
    }
   },
   "source": [
    "But you could specify other aggregation functions if you wanted. You can also add other useful features like marginals."
   ]
  },
  {
   "cell_type": "code",
   "execution_count": 20,
   "id": "3f66a128",
   "metadata": {
    "slideshow": {
     "slide_type": "fragment"
    }
   },
   "outputs": [
    {
     "data": {
      "text/html": [
       "<div>\n",
       "<style scoped>\n",
       "    .dataframe tbody tr th:only-of-type {\n",
       "        vertical-align: middle;\n",
       "    }\n",
       "\n",
       "    .dataframe tbody tr th {\n",
       "        vertical-align: top;\n",
       "    }\n",
       "\n",
       "    .dataframe thead th {\n",
       "        text-align: right;\n",
       "    }\n",
       "</style>\n",
       "<table border=\"1\" class=\"dataframe\">\n",
       "  <thead>\n",
       "    <tr style=\"text-align: right;\">\n",
       "      <th>county_name</th>\n",
       "      <th>Alameda</th>\n",
       "      <th>Contra Costa</th>\n",
       "      <th>Marin</th>\n",
       "      <th>Napa</th>\n",
       "      <th>San Francisco</th>\n",
       "      <th>San Mateo</th>\n",
       "      <th>Santa Clara</th>\n",
       "      <th>Solano</th>\n",
       "      <th>Sonoma</th>\n",
       "    </tr>\n",
       "    <tr>\n",
       "      <th>bedrooms</th>\n",
       "      <th></th>\n",
       "      <th></th>\n",
       "      <th></th>\n",
       "      <th></th>\n",
       "      <th></th>\n",
       "      <th></th>\n",
       "      <th></th>\n",
       "      <th></th>\n",
       "      <th></th>\n",
       "    </tr>\n",
       "  </thead>\n",
       "  <tbody>\n",
       "    <tr>\n",
       "      <th>1.0</th>\n",
       "      <td>1862.396037</td>\n",
       "      <td>1596.991079</td>\n",
       "      <td>2209.910211</td>\n",
       "      <td>1387.362745</td>\n",
       "      <td>3099.179065</td>\n",
       "      <td>2266.792148</td>\n",
       "      <td>2143.095373</td>\n",
       "      <td>1143.470514</td>\n",
       "      <td>1403.868078</td>\n",
       "    </tr>\n",
       "    <tr>\n",
       "      <th>2.0</th>\n",
       "      <td>2284.538409</td>\n",
       "      <td>1874.641106</td>\n",
       "      <td>2998.448575</td>\n",
       "      <td>1846.914110</td>\n",
       "      <td>4225.756604</td>\n",
       "      <td>2975.375058</td>\n",
       "      <td>2721.721386</td>\n",
       "      <td>1277.712283</td>\n",
       "      <td>1830.113469</td>\n",
       "    </tr>\n",
       "    <tr>\n",
       "      <th>3.0</th>\n",
       "      <td>2715.874074</td>\n",
       "      <td>2390.508197</td>\n",
       "      <td>4476.835979</td>\n",
       "      <td>2447.333333</td>\n",
       "      <td>5151.170096</td>\n",
       "      <td>3888.506952</td>\n",
       "      <td>3451.772947</td>\n",
       "      <td>1640.565678</td>\n",
       "      <td>2284.307937</td>\n",
       "    </tr>\n",
       "    <tr>\n",
       "      <th>4.0</th>\n",
       "      <td>3315.346895</td>\n",
       "      <td>2831.713831</td>\n",
       "      <td>5837.602273</td>\n",
       "      <td>2998.593750</td>\n",
       "      <td>6064.077295</td>\n",
       "      <td>5292.336683</td>\n",
       "      <td>4280.278307</td>\n",
       "      <td>2043.212766</td>\n",
       "      <td>2738.465347</td>\n",
       "    </tr>\n",
       "    <tr>\n",
       "      <th>5.0</th>\n",
       "      <td>4820.488152</td>\n",
       "      <td>3547.841808</td>\n",
       "      <td>5145.666667</td>\n",
       "      <td>3009.000000</td>\n",
       "      <td>7525.666667</td>\n",
       "      <td>5633.618182</td>\n",
       "      <td>5642.350211</td>\n",
       "      <td>2491.250000</td>\n",
       "      <td>3037.500000</td>\n",
       "    </tr>\n",
       "    <tr>\n",
       "      <th>6.0</th>\n",
       "      <td>5898.392857</td>\n",
       "      <td>3258.636364</td>\n",
       "      <td>5250.000000</td>\n",
       "      <td>NaN</td>\n",
       "      <td>7750.000000</td>\n",
       "      <td>7260.000000</td>\n",
       "      <td>6704.545455</td>\n",
       "      <td>NaN</td>\n",
       "      <td>3295.000000</td>\n",
       "    </tr>\n",
       "    <tr>\n",
       "      <th>7.0</th>\n",
       "      <td>7362.500000</td>\n",
       "      <td>7172.500000</td>\n",
       "      <td>NaN</td>\n",
       "      <td>NaN</td>\n",
       "      <td>9950.000000</td>\n",
       "      <td>NaN</td>\n",
       "      <td>6028.571429</td>\n",
       "      <td>3000.000000</td>\n",
       "      <td>NaN</td>\n",
       "    </tr>\n",
       "    <tr>\n",
       "      <th>8.0</th>\n",
       "      <td>8400.000000</td>\n",
       "      <td>3200.000000</td>\n",
       "      <td>NaN</td>\n",
       "      <td>NaN</td>\n",
       "      <td>9900.000000</td>\n",
       "      <td>NaN</td>\n",
       "      <td>2550.000000</td>\n",
       "      <td>NaN</td>\n",
       "      <td>NaN</td>\n",
       "    </tr>\n",
       "  </tbody>\n",
       "</table>\n",
       "</div>"
      ],
      "text/plain": [
       "county_name      Alameda  Contra Costa        Marin         Napa  \\\n",
       "bedrooms                                                           \n",
       "1.0          1862.396037   1596.991079  2209.910211  1387.362745   \n",
       "2.0          2284.538409   1874.641106  2998.448575  1846.914110   \n",
       "3.0          2715.874074   2390.508197  4476.835979  2447.333333   \n",
       "4.0          3315.346895   2831.713831  5837.602273  2998.593750   \n",
       "5.0          4820.488152   3547.841808  5145.666667  3009.000000   \n",
       "6.0          5898.392857   3258.636364  5250.000000          NaN   \n",
       "7.0          7362.500000   7172.500000          NaN          NaN   \n",
       "8.0          8400.000000   3200.000000          NaN          NaN   \n",
       "\n",
       "county_name  San Francisco    San Mateo  Santa Clara       Solano       Sonoma  \n",
       "bedrooms                                                                        \n",
       "1.0            3099.179065  2266.792148  2143.095373  1143.470514  1403.868078  \n",
       "2.0            4225.756604  2975.375058  2721.721386  1277.712283  1830.113469  \n",
       "3.0            5151.170096  3888.506952  3451.772947  1640.565678  2284.307937  \n",
       "4.0            6064.077295  5292.336683  4280.278307  2043.212766  2738.465347  \n",
       "5.0            7525.666667  5633.618182  5642.350211  2491.250000  3037.500000  \n",
       "6.0            7750.000000  7260.000000  6704.545455          NaN  3295.000000  \n",
       "7.0            9950.000000          NaN  6028.571429  3000.000000          NaN  \n",
       "8.0            9900.000000          NaN  2550.000000          NaN          NaN  "
      ]
     },
     "execution_count": 20,
     "metadata": {},
     "output_type": "execute_result"
    }
   ],
   "source": [
    "pd.pivot_table(rentals_sf1, values='rent', index='bedrooms', columns='county_name', aggfunc='mean', margins=False)"
   ]
  },
  {
   "cell_type": "code",
   "execution_count": 22,
   "id": "7afe53e1",
   "metadata": {},
   "outputs": [
    {
     "data": {
      "text/html": [
       "<div>\n",
       "<style scoped>\n",
       "    .dataframe tbody tr th:only-of-type {\n",
       "        vertical-align: middle;\n",
       "    }\n",
       "\n",
       "    .dataframe tbody tr th {\n",
       "        vertical-align: top;\n",
       "    }\n",
       "\n",
       "    .dataframe thead th {\n",
       "        text-align: right;\n",
       "    }\n",
       "</style>\n",
       "<table border=\"1\" class=\"dataframe\">\n",
       "  <thead>\n",
       "    <tr style=\"text-align: right;\">\n",
       "      <th>county_name</th>\n",
       "      <th>Alameda</th>\n",
       "      <th>Contra Costa</th>\n",
       "      <th>Marin</th>\n",
       "      <th>Napa</th>\n",
       "      <th>San Francisco</th>\n",
       "      <th>San Mateo</th>\n",
       "      <th>Santa Clara</th>\n",
       "      <th>Solano</th>\n",
       "      <th>Sonoma</th>\n",
       "      <th>All</th>\n",
       "    </tr>\n",
       "    <tr>\n",
       "      <th>bedrooms</th>\n",
       "      <th></th>\n",
       "      <th></th>\n",
       "      <th></th>\n",
       "      <th></th>\n",
       "      <th></th>\n",
       "      <th></th>\n",
       "      <th></th>\n",
       "      <th></th>\n",
       "      <th></th>\n",
       "      <th></th>\n",
       "    </tr>\n",
       "  </thead>\n",
       "  <tbody>\n",
       "    <tr>\n",
       "      <th>1.0</th>\n",
       "      <td>1862.396037</td>\n",
       "      <td>1596.991079</td>\n",
       "      <td>2209.910211</td>\n",
       "      <td>1387.362745</td>\n",
       "      <td>3099.179065</td>\n",
       "      <td>2266.792148</td>\n",
       "      <td>2143.095373</td>\n",
       "      <td>1143.470514</td>\n",
       "      <td>1403.868078</td>\n",
       "      <td>2083.173271</td>\n",
       "    </tr>\n",
       "    <tr>\n",
       "      <th>2.0</th>\n",
       "      <td>2284.538409</td>\n",
       "      <td>1874.641106</td>\n",
       "      <td>2998.448575</td>\n",
       "      <td>1846.914110</td>\n",
       "      <td>4225.756604</td>\n",
       "      <td>2975.375058</td>\n",
       "      <td>2721.721386</td>\n",
       "      <td>1277.712283</td>\n",
       "      <td>1830.113469</td>\n",
       "      <td>2547.455154</td>\n",
       "    </tr>\n",
       "    <tr>\n",
       "      <th>3.0</th>\n",
       "      <td>2715.874074</td>\n",
       "      <td>2390.508197</td>\n",
       "      <td>4476.835979</td>\n",
       "      <td>2447.333333</td>\n",
       "      <td>5151.170096</td>\n",
       "      <td>3888.506952</td>\n",
       "      <td>3451.772947</td>\n",
       "      <td>1640.565678</td>\n",
       "      <td>2284.307937</td>\n",
       "      <td>3271.394562</td>\n",
       "    </tr>\n",
       "    <tr>\n",
       "      <th>4.0</th>\n",
       "      <td>3315.346895</td>\n",
       "      <td>2831.713831</td>\n",
       "      <td>5837.602273</td>\n",
       "      <td>2998.593750</td>\n",
       "      <td>6064.077295</td>\n",
       "      <td>5292.336683</td>\n",
       "      <td>4280.278307</td>\n",
       "      <td>2043.212766</td>\n",
       "      <td>2738.465347</td>\n",
       "      <td>3885.334005</td>\n",
       "    </tr>\n",
       "    <tr>\n",
       "      <th>5.0</th>\n",
       "      <td>4820.488152</td>\n",
       "      <td>3547.841808</td>\n",
       "      <td>5145.666667</td>\n",
       "      <td>3009.000000</td>\n",
       "      <td>7525.666667</td>\n",
       "      <td>5633.618182</td>\n",
       "      <td>5642.350211</td>\n",
       "      <td>2491.250000</td>\n",
       "      <td>3037.500000</td>\n",
       "      <td>4779.177097</td>\n",
       "    </tr>\n",
       "    <tr>\n",
       "      <th>6.0</th>\n",
       "      <td>5898.392857</td>\n",
       "      <td>3258.636364</td>\n",
       "      <td>5250.000000</td>\n",
       "      <td>NaN</td>\n",
       "      <td>7750.000000</td>\n",
       "      <td>7260.000000</td>\n",
       "      <td>6704.545455</td>\n",
       "      <td>NaN</td>\n",
       "      <td>3295.000000</td>\n",
       "      <td>5089.702381</td>\n",
       "    </tr>\n",
       "    <tr>\n",
       "      <th>7.0</th>\n",
       "      <td>7362.500000</td>\n",
       "      <td>7172.500000</td>\n",
       "      <td>NaN</td>\n",
       "      <td>NaN</td>\n",
       "      <td>9950.000000</td>\n",
       "      <td>NaN</td>\n",
       "      <td>6028.571429</td>\n",
       "      <td>3000.000000</td>\n",
       "      <td>NaN</td>\n",
       "      <td>5395.769231</td>\n",
       "    </tr>\n",
       "    <tr>\n",
       "      <th>8.0</th>\n",
       "      <td>8400.000000</td>\n",
       "      <td>3200.000000</td>\n",
       "      <td>NaN</td>\n",
       "      <td>NaN</td>\n",
       "      <td>9900.000000</td>\n",
       "      <td>NaN</td>\n",
       "      <td>2550.000000</td>\n",
       "      <td>NaN</td>\n",
       "      <td>NaN</td>\n",
       "      <td>6012.500000</td>\n",
       "    </tr>\n",
       "    <tr>\n",
       "      <th>All</th>\n",
       "      <td>2276.640777</td>\n",
       "      <td>1986.574901</td>\n",
       "      <td>3331.101747</td>\n",
       "      <td>2129.948960</td>\n",
       "      <td>3962.882939</td>\n",
       "      <td>2914.964099</td>\n",
       "      <td>2709.559862</td>\n",
       "      <td>1365.882549</td>\n",
       "      <td>1820.996018</td>\n",
       "      <td>2581.310377</td>\n",
       "    </tr>\n",
       "  </tbody>\n",
       "</table>\n",
       "</div>"
      ],
      "text/plain": [
       "county_name      Alameda  Contra Costa        Marin         Napa  \\\n",
       "bedrooms                                                           \n",
       "1.0          1862.396037   1596.991079  2209.910211  1387.362745   \n",
       "2.0          2284.538409   1874.641106  2998.448575  1846.914110   \n",
       "3.0          2715.874074   2390.508197  4476.835979  2447.333333   \n",
       "4.0          3315.346895   2831.713831  5837.602273  2998.593750   \n",
       "5.0          4820.488152   3547.841808  5145.666667  3009.000000   \n",
       "6.0          5898.392857   3258.636364  5250.000000          NaN   \n",
       "7.0          7362.500000   7172.500000          NaN          NaN   \n",
       "8.0          8400.000000   3200.000000          NaN          NaN   \n",
       "All          2276.640777   1986.574901  3331.101747  2129.948960   \n",
       "\n",
       "county_name  San Francisco    San Mateo  Santa Clara       Solano  \\\n",
       "bedrooms                                                            \n",
       "1.0            3099.179065  2266.792148  2143.095373  1143.470514   \n",
       "2.0            4225.756604  2975.375058  2721.721386  1277.712283   \n",
       "3.0            5151.170096  3888.506952  3451.772947  1640.565678   \n",
       "4.0            6064.077295  5292.336683  4280.278307  2043.212766   \n",
       "5.0            7525.666667  5633.618182  5642.350211  2491.250000   \n",
       "6.0            7750.000000  7260.000000  6704.545455          NaN   \n",
       "7.0            9950.000000          NaN  6028.571429  3000.000000   \n",
       "8.0            9900.000000          NaN  2550.000000          NaN   \n",
       "All            3962.882939  2914.964099  2709.559862  1365.882549   \n",
       "\n",
       "county_name       Sonoma          All  \n",
       "bedrooms                               \n",
       "1.0          1403.868078  2083.173271  \n",
       "2.0          1830.113469  2547.455154  \n",
       "3.0          2284.307937  3271.394562  \n",
       "4.0          2738.465347  3885.334005  \n",
       "5.0          3037.500000  4779.177097  \n",
       "6.0          3295.000000  5089.702381  \n",
       "7.0                  NaN  5395.769231  \n",
       "8.0                  NaN  6012.500000  \n",
       "All          1820.996018  2581.310377  "
      ]
     },
     "execution_count": 22,
     "metadata": {},
     "output_type": "execute_result"
    }
   ],
   "source": [
    "pd.pivot_table(rentals_sf1, values='rent', index='bedrooms', columns='county_name', aggfunc='mean', margins=True)"
   ]
  },
  {
   "cell_type": "code",
   "execution_count": 23,
   "id": "d0746fac",
   "metadata": {},
   "outputs": [
    {
     "data": {
      "text/html": [
       "<div>\n",
       "<style scoped>\n",
       "    .dataframe tbody tr th:only-of-type {\n",
       "        vertical-align: middle;\n",
       "    }\n",
       "\n",
       "    .dataframe tbody tr th {\n",
       "        vertical-align: top;\n",
       "    }\n",
       "\n",
       "    .dataframe thead th {\n",
       "        text-align: right;\n",
       "    }\n",
       "</style>\n",
       "<table border=\"1\" class=\"dataframe\">\n",
       "  <thead>\n",
       "    <tr style=\"text-align: right;\">\n",
       "      <th>county_name</th>\n",
       "      <th>Alameda</th>\n",
       "      <th>Contra Costa</th>\n",
       "      <th>Marin</th>\n",
       "      <th>Napa</th>\n",
       "      <th>San Francisco</th>\n",
       "      <th>San Mateo</th>\n",
       "      <th>Santa Clara</th>\n",
       "      <th>Solano</th>\n",
       "      <th>Sonoma</th>\n",
       "    </tr>\n",
       "    <tr>\n",
       "      <th>bedrooms</th>\n",
       "      <th></th>\n",
       "      <th></th>\n",
       "      <th></th>\n",
       "      <th></th>\n",
       "      <th></th>\n",
       "      <th></th>\n",
       "      <th></th>\n",
       "      <th></th>\n",
       "      <th></th>\n",
       "    </tr>\n",
       "  </thead>\n",
       "  <tbody>\n",
       "    <tr>\n",
       "      <th>1.0</th>\n",
       "      <td>4290.0</td>\n",
       "      <td>2242.0</td>\n",
       "      <td>568.0</td>\n",
       "      <td>102.0</td>\n",
       "      <td>2245.0</td>\n",
       "      <td>2598.0</td>\n",
       "      <td>7413.0</td>\n",
       "      <td>797.0</td>\n",
       "      <td>614.0</td>\n",
       "    </tr>\n",
       "    <tr>\n",
       "      <th>2.0</th>\n",
       "      <td>4361.0</td>\n",
       "      <td>3508.0</td>\n",
       "      <td>807.0</td>\n",
       "      <td>163.0</td>\n",
       "      <td>2120.0</td>\n",
       "      <td>2141.0</td>\n",
       "      <td>8973.0</td>\n",
       "      <td>1498.0</td>\n",
       "      <td>1225.0</td>\n",
       "    </tr>\n",
       "    <tr>\n",
       "      <th>3.0</th>\n",
       "      <td>1350.0</td>\n",
       "      <td>976.0</td>\n",
       "      <td>378.0</td>\n",
       "      <td>195.0</td>\n",
       "      <td>729.0</td>\n",
       "      <td>935.0</td>\n",
       "      <td>2484.0</td>\n",
       "      <td>472.0</td>\n",
       "      <td>315.0</td>\n",
       "    </tr>\n",
       "    <tr>\n",
       "      <th>4.0</th>\n",
       "      <td>467.0</td>\n",
       "      <td>629.0</td>\n",
       "      <td>176.0</td>\n",
       "      <td>64.0</td>\n",
       "      <td>207.0</td>\n",
       "      <td>199.0</td>\n",
       "      <td>945.0</td>\n",
       "      <td>188.0</td>\n",
       "      <td>101.0</td>\n",
       "    </tr>\n",
       "    <tr>\n",
       "      <th>5.0</th>\n",
       "      <td>211.0</td>\n",
       "      <td>177.0</td>\n",
       "      <td>15.0</td>\n",
       "      <td>5.0</td>\n",
       "      <td>15.0</td>\n",
       "      <td>55.0</td>\n",
       "      <td>237.0</td>\n",
       "      <td>32.0</td>\n",
       "      <td>4.0</td>\n",
       "    </tr>\n",
       "    <tr>\n",
       "      <th>6.0</th>\n",
       "      <td>28.0</td>\n",
       "      <td>33.0</td>\n",
       "      <td>2.0</td>\n",
       "      <td>NaN</td>\n",
       "      <td>4.0</td>\n",
       "      <td>5.0</td>\n",
       "      <td>11.0</td>\n",
       "      <td>NaN</td>\n",
       "      <td>1.0</td>\n",
       "    </tr>\n",
       "    <tr>\n",
       "      <th>7.0</th>\n",
       "      <td>4.0</td>\n",
       "      <td>4.0</td>\n",
       "      <td>NaN</td>\n",
       "      <td>NaN</td>\n",
       "      <td>1.0</td>\n",
       "      <td>NaN</td>\n",
       "      <td>7.0</td>\n",
       "      <td>10.0</td>\n",
       "      <td>NaN</td>\n",
       "    </tr>\n",
       "    <tr>\n",
       "      <th>8.0</th>\n",
       "      <td>1.0</td>\n",
       "      <td>1.0</td>\n",
       "      <td>NaN</td>\n",
       "      <td>NaN</td>\n",
       "      <td>1.0</td>\n",
       "      <td>NaN</td>\n",
       "      <td>1.0</td>\n",
       "      <td>NaN</td>\n",
       "      <td>NaN</td>\n",
       "    </tr>\n",
       "  </tbody>\n",
       "</table>\n",
       "</div>"
      ],
      "text/plain": [
       "county_name  Alameda  Contra Costa  Marin   Napa  San Francisco  San Mateo  \\\n",
       "bedrooms                                                                     \n",
       "1.0           4290.0        2242.0  568.0  102.0         2245.0     2598.0   \n",
       "2.0           4361.0        3508.0  807.0  163.0         2120.0     2141.0   \n",
       "3.0           1350.0         976.0  378.0  195.0          729.0      935.0   \n",
       "4.0            467.0         629.0  176.0   64.0          207.0      199.0   \n",
       "5.0            211.0         177.0   15.0    5.0           15.0       55.0   \n",
       "6.0             28.0          33.0    2.0    NaN            4.0        5.0   \n",
       "7.0              4.0           4.0    NaN    NaN            1.0        NaN   \n",
       "8.0              1.0           1.0    NaN    NaN            1.0        NaN   \n",
       "\n",
       "county_name  Santa Clara  Solano  Sonoma  \n",
       "bedrooms                                  \n",
       "1.0               7413.0   797.0   614.0  \n",
       "2.0               8973.0  1498.0  1225.0  \n",
       "3.0               2484.0   472.0   315.0  \n",
       "4.0                945.0   188.0   101.0  \n",
       "5.0                237.0    32.0     4.0  \n",
       "6.0                 11.0     NaN     1.0  \n",
       "7.0                  7.0    10.0     NaN  \n",
       "8.0                  1.0     NaN     NaN  "
      ]
     },
     "execution_count": 23,
     "metadata": {},
     "output_type": "execute_result"
    }
   ],
   "source": [
    "pd.pivot_table(rentals_sf1, values='rent', index='bedrooms', columns='county_name', aggfunc='count', margins=False)"
   ]
  },
  {
   "cell_type": "markdown",
   "id": "66893c86",
   "metadata": {
    "slideshow": {
     "slide_type": "fragment"
    }
   },
   "source": [
    "When you specify `count` as your aggregation method, you are doing **cross-\n",
    "tabulation**.        "
   ]
  },
  {
   "cell_type": "markdown",
   "id": "04f6e3df",
   "metadata": {
    "slideshow": {
     "slide_type": "slide"
    }
   },
   "source": [
    "Cross-tabulation is such a common operation that pandas has a built-in function for _it_, too!"
   ]
  },
  {
   "cell_type": "code",
   "execution_count": 24,
   "id": "d4ca2d85",
   "metadata": {
    "slideshow": {
     "slide_type": "fragment"
    }
   },
   "outputs": [
    {
     "data": {
      "text/html": [
       "<div>\n",
       "<style scoped>\n",
       "    .dataframe tbody tr th:only-of-type {\n",
       "        vertical-align: middle;\n",
       "    }\n",
       "\n",
       "    .dataframe tbody tr th {\n",
       "        vertical-align: top;\n",
       "    }\n",
       "\n",
       "    .dataframe thead th {\n",
       "        text-align: right;\n",
       "    }\n",
       "</style>\n",
       "<table border=\"1\" class=\"dataframe\">\n",
       "  <thead>\n",
       "    <tr style=\"text-align: right;\">\n",
       "      <th>county_name</th>\n",
       "      <th>Alameda</th>\n",
       "      <th>Contra Costa</th>\n",
       "      <th>Marin</th>\n",
       "      <th>Napa</th>\n",
       "      <th>San Francisco</th>\n",
       "      <th>San Mateo</th>\n",
       "      <th>Santa Clara</th>\n",
       "      <th>Solano</th>\n",
       "      <th>Sonoma</th>\n",
       "      <th>All</th>\n",
       "    </tr>\n",
       "    <tr>\n",
       "      <th>bedrooms</th>\n",
       "      <th></th>\n",
       "      <th></th>\n",
       "      <th></th>\n",
       "      <th></th>\n",
       "      <th></th>\n",
       "      <th></th>\n",
       "      <th></th>\n",
       "      <th></th>\n",
       "      <th></th>\n",
       "      <th></th>\n",
       "    </tr>\n",
       "  </thead>\n",
       "  <tbody>\n",
       "    <tr>\n",
       "      <th>1.0</th>\n",
       "      <td>4290</td>\n",
       "      <td>2242</td>\n",
       "      <td>568</td>\n",
       "      <td>102</td>\n",
       "      <td>2245</td>\n",
       "      <td>2598</td>\n",
       "      <td>7413</td>\n",
       "      <td>797</td>\n",
       "      <td>614</td>\n",
       "      <td>20869</td>\n",
       "    </tr>\n",
       "    <tr>\n",
       "      <th>2.0</th>\n",
       "      <td>4361</td>\n",
       "      <td>3508</td>\n",
       "      <td>807</td>\n",
       "      <td>163</td>\n",
       "      <td>2120</td>\n",
       "      <td>2141</td>\n",
       "      <td>8973</td>\n",
       "      <td>1498</td>\n",
       "      <td>1225</td>\n",
       "      <td>24796</td>\n",
       "    </tr>\n",
       "    <tr>\n",
       "      <th>3.0</th>\n",
       "      <td>1350</td>\n",
       "      <td>976</td>\n",
       "      <td>378</td>\n",
       "      <td>195</td>\n",
       "      <td>729</td>\n",
       "      <td>935</td>\n",
       "      <td>2484</td>\n",
       "      <td>472</td>\n",
       "      <td>315</td>\n",
       "      <td>7834</td>\n",
       "    </tr>\n",
       "    <tr>\n",
       "      <th>4.0</th>\n",
       "      <td>467</td>\n",
       "      <td>629</td>\n",
       "      <td>176</td>\n",
       "      <td>64</td>\n",
       "      <td>207</td>\n",
       "      <td>199</td>\n",
       "      <td>945</td>\n",
       "      <td>188</td>\n",
       "      <td>101</td>\n",
       "      <td>2976</td>\n",
       "    </tr>\n",
       "    <tr>\n",
       "      <th>5.0</th>\n",
       "      <td>211</td>\n",
       "      <td>177</td>\n",
       "      <td>15</td>\n",
       "      <td>5</td>\n",
       "      <td>15</td>\n",
       "      <td>55</td>\n",
       "      <td>237</td>\n",
       "      <td>32</td>\n",
       "      <td>4</td>\n",
       "      <td>751</td>\n",
       "    </tr>\n",
       "    <tr>\n",
       "      <th>6.0</th>\n",
       "      <td>28</td>\n",
       "      <td>33</td>\n",
       "      <td>2</td>\n",
       "      <td>0</td>\n",
       "      <td>4</td>\n",
       "      <td>5</td>\n",
       "      <td>11</td>\n",
       "      <td>0</td>\n",
       "      <td>1</td>\n",
       "      <td>84</td>\n",
       "    </tr>\n",
       "    <tr>\n",
       "      <th>7.0</th>\n",
       "      <td>4</td>\n",
       "      <td>4</td>\n",
       "      <td>0</td>\n",
       "      <td>0</td>\n",
       "      <td>1</td>\n",
       "      <td>0</td>\n",
       "      <td>7</td>\n",
       "      <td>10</td>\n",
       "      <td>0</td>\n",
       "      <td>26</td>\n",
       "    </tr>\n",
       "    <tr>\n",
       "      <th>8.0</th>\n",
       "      <td>1</td>\n",
       "      <td>1</td>\n",
       "      <td>0</td>\n",
       "      <td>0</td>\n",
       "      <td>1</td>\n",
       "      <td>0</td>\n",
       "      <td>1</td>\n",
       "      <td>0</td>\n",
       "      <td>0</td>\n",
       "      <td>4</td>\n",
       "    </tr>\n",
       "    <tr>\n",
       "      <th>All</th>\n",
       "      <td>10712</td>\n",
       "      <td>7570</td>\n",
       "      <td>1946</td>\n",
       "      <td>529</td>\n",
       "      <td>5322</td>\n",
       "      <td>5933</td>\n",
       "      <td>20071</td>\n",
       "      <td>2997</td>\n",
       "      <td>2260</td>\n",
       "      <td>57340</td>\n",
       "    </tr>\n",
       "  </tbody>\n",
       "</table>\n",
       "</div>"
      ],
      "text/plain": [
       "county_name  Alameda  Contra Costa  Marin  Napa  San Francisco  San Mateo  \\\n",
       "bedrooms                                                                    \n",
       "1.0             4290          2242    568   102           2245       2598   \n",
       "2.0             4361          3508    807   163           2120       2141   \n",
       "3.0             1350           976    378   195            729        935   \n",
       "4.0              467           629    176    64            207        199   \n",
       "5.0              211           177     15     5             15         55   \n",
       "6.0               28            33      2     0              4          5   \n",
       "7.0                4             4      0     0              1          0   \n",
       "8.0                1             1      0     0              1          0   \n",
       "All            10712          7570   1946   529           5322       5933   \n",
       "\n",
       "county_name  Santa Clara  Solano  Sonoma    All  \n",
       "bedrooms                                         \n",
       "1.0                 7413     797     614  20869  \n",
       "2.0                 8973    1498    1225  24796  \n",
       "3.0                 2484     472     315   7834  \n",
       "4.0                  945     188     101   2976  \n",
       "5.0                  237      32       4    751  \n",
       "6.0                   11       0       1     84  \n",
       "7.0                    7      10       0     26  \n",
       "8.0                    1       0       0      4  \n",
       "All                20071    2997    2260  57340  "
      ]
     },
     "execution_count": 24,
     "metadata": {},
     "output_type": "execute_result"
    }
   ],
   "source": [
    "pd.crosstab(rentals_sf1['bedrooms'], rentals_sf1['county_name'], margins=True)"
   ]
  },
  {
   "cell_type": "markdown",
   "id": "ede59b52",
   "metadata": {
    "slideshow": {
     "slide_type": "slide"
    }
   },
   "source": [
    "Getting a little fancy here, but cross-tab data lends itself nicely to higher-dimensional data visualization styles like the \"heat map\" below:"
   ]
  },
  {
   "cell_type": "code",
   "execution_count": 25,
   "id": "97bdfea9",
   "metadata": {
    "slideshow": {
     "slide_type": "fragment"
    }
   },
   "outputs": [
    {
     "data": {
      "image/png": "[encoded data removed]",
      "text/plain": [
       "<Figure size 720x576 with 2 Axes>"
      ]
     },
     "metadata": {
      "needs_background": "light"
     },
     "output_type": "display_data"
    }
   ],
   "source": [
    "fig, ax = plt.subplots(figsize=(10,8))\n",
    "_ = sns.heatmap(\n",
    "    pd.crosstab(rentals_sf1['county_name'], rentals_sf1['bedrooms'], normalize='index'), square=True, ax=ax)"
   ]
  },
  {
   "cell_type": "markdown",
   "id": "e76de119",
   "metadata": {
    "slideshow": {
     "slide_type": "slide"
    }
   },
   "source": [
    "# 3. Intro to Data Visualization"
   ]
  },
  {
   "cell_type": "markdown",
   "id": "0536f5ad",
   "metadata": {
    "slideshow": {
     "slide_type": "fragment"
    }
   },
   "source": [
    "- 3.1. Ethics of Data Visualization \n",
    "- 3.2. Conceptual Overview\n",
    "- 3.3. Matplotlib\n",
    "- 3.4. Seaborn"
   ]
  },
  {
   "cell_type": "markdown",
   "id": "0b08d7d2",
   "metadata": {
    "slideshow": {
     "slide_type": "slide"
    }
   },
   "source": [
    "## 3.1 Ethical Data Visualization"
   ]
  },
  {
   "cell_type": "markdown",
   "id": "60901789",
   "metadata": {
    "slideshow": {
     "slide_type": "fragment"
    }
   },
   "source": [
    "It is exceedingly easy to lie with data visualization. You **will** be tempted to do so, if only subconsciouly, in order to nudge your results towards support for your hypotheses. Be aware, and learn to recognize this tendency in yourself.\n",
    "\n",
    "A victimless crime? Perhaps."
   ]
  },
  {
   "cell_type": "markdown",
   "id": "24a9148b",
   "metadata": {
    "slideshow": {
     "slide_type": "slide"
    }
   },
   "source": [
    "But perhaps not:"
   ]
  },
  {
   "cell_type": "code",
   "execution_count": 26,
   "id": "7144b07f",
   "metadata": {
    "hide_input": true,
    "slideshow": {
     "slide_type": "fragment"
    },
    "tags": [
     "hide-input"
    ]
   },
   "outputs": [
    {
     "data": {
      "text/html": [
       "<iframe src=\"https://www.cbsnews.com/news/how-purdue-used-misleading-charts-to-hide-oxycontins-addictive-power/\" width=100% height=800></iframe>\n"
      ],
      "text/plain": [
       "<IPython.core.display.HTML object>"
      ]
     },
     "metadata": {},
     "output_type": "display_data"
    }
   ],
   "source": [
    "%%html\n",
    "<iframe src=\"https://www.cbsnews.com/news/how-purdue-used-misleading-charts-to-hide-oxycontins-addictive-power/\" width=100% height=800></iframe>"
   ]
  },
  {
   "cell_type": "markdown",
   "id": "fdfb7520",
   "metadata": {
    "slideshow": {
     "slide_type": "slide"
    }
   },
   "source": [
    "## 3.2 Conceptual overview"
   ]
  },
  {
   "cell_type": "markdown",
   "id": "bbdd6189",
   "metadata": {
    "slideshow": {
     "slide_type": "slide"
    }
   },
   "source": [
    "### 3.2.1 Categorical vs. Continuous data"
   ]
  },
  {
   "cell_type": "code",
   "execution_count": 27,
   "id": "63eb21bf",
   "metadata": {
    "slideshow": {
     "slide_type": "fragment"
    }
   },
   "outputs": [
    {
     "data": {
      "text/plain": [
       "<AxesSubplot:title={'center':'Price ($)'}, ylabel='Density'>"
      ]
     },
     "execution_count": 27,
     "metadata": {},
     "output_type": "execute_result"
    },
    {
     "data": {
      "image/png": "[encoded data removed]",
      "text/plain": [
       "<Figure size 936x360 with 2 Axes>"
      ]
     },
     "metadata": {
      "needs_background": "light"
     },
     "output_type": "display_data"
    }
   ],
   "source": [
    "fig, axarr = plt.subplots(1, 2, figsize=(13,5))\n",
    "rentals_sf1['county_name'].value_counts(sort=False).plot(kind='bar', ax=axarr[0], title='County Name')\n",
    "axarr[0].set_ylabel(\"count\")\n",
    "rentals_sf1['rent'].plot(kind='kde', ax=axarr[1], title='Price ($)')"
   ]
  },
  {
   "cell_type": "markdown",
   "id": "f06ad503",
   "metadata": {
    "slideshow": {
     "slide_type": "slide"
    }
   },
   "source": [
    "### 3.2.2 Building blocks"
   ]
  },
  {
   "cell_type": "markdown",
   "id": "c29d5e84",
   "metadata": {
    "slideshow": {
     "slide_type": "fragment"
    }
   },
   "source": [
    "- **shape**: points, lines, bars, areas (fill/patch)\n",
    "- **size**: of shape, figure, etc.\n",
    "- **color**: hue, opacity, gradient (colormap)\n",
    "- **axes (dimensionality)**: tick marks, labels\n",
    "- **auxiliary data**: legend, margin plots, annotation"
   ]
  },
  {
   "cell_type": "markdown",
   "id": "e86c2d39",
   "metadata": {
    "slideshow": {
     "slide_type": "fragment"
    }
   },
   "source": [
    "![](https://matplotlib.org/stable/_images/sphx_glr_categorical_variables_001_2_0x.png)"
   ]
  },
  {
   "cell_type": "markdown",
   "id": "13a9e60e",
   "metadata": {
    "slideshow": {
     "slide_type": "slide"
    }
   },
   "source": [
    "### 3.2.3 Dimensionality"
   ]
  },
  {
   "cell_type": "markdown",
   "id": "d4c277ee",
   "metadata": {
    "slideshow": {
     "slide_type": "fragment"
    }
   },
   "source": [
    "**Dimensionality**: number of axes of variation"
   ]
  },
  {
   "cell_type": "markdown",
   "id": "42691df0",
   "metadata": {
    "slideshow": {
     "slide_type": "slide"
    }
   },
   "source": [
    "**Question:** How many dimensions are shown in the following examples?"
   ]
  },
  {
   "cell_type": "markdown",
   "id": "d0b38f64",
   "metadata": {
    "slideshow": {
     "slide_type": "slide"
    }
   },
   "source": [
    "<img src=\"https://assets.bwbx.io/images/users/iqjWHBFdfxIU/iCIEic94rsFk/v0/-1x-1.png\" width=800px >"
   ]
  },
  {
   "cell_type": "markdown",
   "id": "47e17db8",
   "metadata": {
    "slideshow": {
     "slide_type": "slide"
    }
   },
   "source": [
    "![](https://upload.wikimedia.org/wikipedia/commons/thumb/8/80/SoilTexture_USDA.png/500px-SoilTexture_USDA.png)"
   ]
  },
  {
   "cell_type": "markdown",
   "id": "416d1dd3",
   "metadata": {
    "slideshow": {
     "slide_type": "slide"
    }
   },
   "source": [
    "<img src=\"https://raw.githubusercontent.com/zonination/perceptions/master/joy1.png\" width=700px>"
   ]
  },
  {
   "cell_type": "markdown",
   "id": "affb635d",
   "metadata": {
    "slideshow": {
     "slide_type": "slide"
    }
   },
   "source": [
    "<img src=\"https://flowingdata.com/wp-content/uploads/2013/09/most-unisex-names2.png\" width=600px>"
   ]
  },
  {
   "cell_type": "code",
   "execution_count": 28,
   "id": "727f9d24",
   "metadata": {
    "hide_input": true,
    "scrolled": false,
    "slideshow": {
     "slide_type": "slide"
    }
   },
   "outputs": [
    {
     "data": {
      "text/html": [
       "<iframe src=\"//www.gapminder.org/tools/?embedded=true#$ui;&chart-type=bubbles&url=v1\" style=\"width: 100%; height: 500px; margin: 0 0 0 0; border: 1px solid grey;\" allowfullscreen></iframe>\n"
      ],
      "text/plain": [
       "<IPython.core.display.HTML object>"
      ]
     },
     "metadata": {},
     "output_type": "display_data"
    }
   ],
   "source": [
    "%%html\n",
    "<iframe src=\"//www.gapminder.org/tools/?embedded=true#$ui;&chart-type=bubbles&url=v1\" style=\"width: 100%; height: 500px; margin: 0 0 0 0; border: 1px solid grey;\" allowfullscreen></iframe>"
   ]
  },
  {
   "cell_type": "markdown",
   "id": "e11bfa47",
   "metadata": {
    "slideshow": {
     "slide_type": "slide"
    }
   },
   "source": [
    "**EXAMPLES:**\n",
    "\n",
    "- **1d**: [histogram](https://matplotlib.org/stable/plot_types/stats/hist_plot.html), [kernel density estimate (KDE)](https://seaborn.pydata.org/tutorial/distributions.html#kernel-density-estimation), [rugplot](https://seaborn.pydata.org/generated/seaborn.rugplot.html#seaborn.rugplot)/[eventplot](https://matplotlib.org/stable/plot_types/stats/eventplot.html), [pie chart](https://matplotlib.org/stable/plot_types/stats/pie.html)\n",
    "\n",
    "- **1.5d**: [boxplot](https://matplotlib.org/stable/gallery/pyplots/boxplot_demo_pyplot.html), [grouped histogram](https://seaborn.pydata.org/tutorial/distributions.html#conditioning-on-other-variables), [grouped KDE](https://seaborn.pydata.org/tutorial/distributions.html#id1)\n",
    "\n",
    "- **2d**: [scatter](https://matplotlib.org/stable/plot_types/basic/scatter_plot.html), [line](https://matplotlib.org/stable/plot_types/basic/plot.html), [bar](https://matplotlib.org/stable/plot_types/basic/bar.html#sphx-glr-plot-types-basic-bar-py), [boxplot](https://matplotlib.org/stable/gallery/pyplots/boxplot_demo_pyplot.html), maps (?)\n",
    "\n",
    "- **2.5d**: [categorical scatter](https://seaborn.pydata.org/tutorial/categorical.html#categorical-scatterplots), [grouped boxplot](https://seaborn.pydata.org/tutorial/categorical.html#boxplots), [grouped line](https://seaborn.pydata.org/generated/seaborn.lineplot.html), [grouped scatter](https://seaborn.pydata.org/tutorial/relational.html#relating-variables-with-scatter-plots), [bubble](https://plotly.com/python/bubble-charts/)\n",
    "\n",
    "- **3d+**: [heatmap](https://seaborn.pydata.org/generated/seaborn.heatmap.html), [contour](https://matplotlib.org/stable/gallery/images_contours_and_fields/contour_demo.html), [bivariate distribution](https://seaborn.pydata.org/tutorial/distributions.html#visualizing-bivariate-distributions), [hexbin](https://matplotlib.org/stable/plot_types/stats/hexbin.html), [raster images](https://matplotlib.org/stable/plot_types/arrays/imshow.html), \n"
   ]
  },
  {
   "cell_type": "markdown",
   "id": "1ae110e2",
   "metadata": {
    "slideshow": {
     "slide_type": "slide"
    }
   },
   "source": [
    "## 3.3. Matplotlib"
   ]
  },
  {
   "cell_type": "markdown",
   "id": "a4372e56",
   "metadata": {
    "slideshow": {
     "slide_type": "fragment"
    }
   },
   "source": [
    "Matplotlib is to data viz what NumPy is to data analysis in Python. Nearly every other plotting library is built on top of it. For this reason, Matplotlib is the most flexible and powerful of Python's data viz packages. Almost everything that can be done in the more sophisticated plotting libraries can be implemented in pure Matplotlib with a little bit of extra work.\n",
    "\n"
   ]
  },
  {
   "cell_type": "markdown",
   "id": "e4710369",
   "metadata": {
    "slideshow": {
     "slide_type": "fragment"
    }
   },
   "source": [
    "In practice, I find Matplotlib most useful for two scenarios:\n",
    "1. quick 1- or 2d data viz (histograms, scatterplots, etc.) for array-based data\n",
    "2. control of figure components for non-standard plot types"
   ]
  },
  {
   "cell_type": "markdown",
   "id": "7570542b",
   "metadata": {
    "slideshow": {
     "slide_type": "slide"
    }
   },
   "source": [
    "### 3.3.1. The basics: `Figure` vs. `Axes` vs. the rest "
   ]
  },
  {
   "cell_type": "markdown",
   "id": "910536b6",
   "metadata": {
    "slideshow": {
     "slide_type": "fragment"
    }
   },
   "source": [
    "<img src=\"https://matplotlib.org/stable/_images/anatomy.png\" width=700px>"
   ]
  },
  {
   "cell_type": "code",
   "execution_count": 29,
   "id": "1461c250",
   "metadata": {
    "slideshow": {
     "slide_type": "fragment"
    }
   },
   "outputs": [
    {
     "data": {
      "image/png": "[encoded data removed]",
      "text/plain": [
       "<Figure size 432x288 with 1 Axes>"
      ]
     },
     "metadata": {
      "needs_background": "light"
     },
     "output_type": "display_data"
    }
   ],
   "source": [
    "plt.hist(rentals_sf1['P0010001'])\n",
    "plt.show()"
   ]
  },
  {
   "cell_type": "code",
   "execution_count": 30,
   "id": "ea94c7d7",
   "metadata": {
    "slideshow": {
     "slide_type": "fragment"
    }
   },
   "outputs": [
    {
     "data": {
      "image/png": "[encoded data removed]",
      "text/plain": [
       "<Figure size 432x288 with 1 Axes>"
      ]
     },
     "metadata": {
      "needs_background": "light"
     },
     "output_type": "display_data"
    }
   ],
   "source": [
    "fig, ax = plt.subplots()\n",
    "ax.hist(rentals_sf1['P0010001'])\n",
    "plt.show()"
   ]
  },
  {
   "cell_type": "code",
   "execution_count": 31,
   "id": "9a973efb",
   "metadata": {
    "slideshow": {
     "slide_type": "fragment"
    }
   },
   "outputs": [
    {
     "data": {
      "image/png": "[encoded data removed]",
      "text/plain": [
       "<Figure size 432x288 with 1 Axes>"
      ]
     },
     "metadata": {
      "needs_background": "light"
     },
     "output_type": "display_data"
    }
   ],
   "source": [
    "fig, ax = plt.subplots()\n",
    "_ = ax.hist(rentals_sf1['P0010001'])"
   ]
  },
  {
   "cell_type": "markdown",
   "id": "e0d11d0d",
   "metadata": {
    "slideshow": {
     "slide_type": "slide"
    }
   },
   "source": [
    "### 3.3.2. Subplots and axes"
   ]
  },
  {
   "cell_type": "code",
   "execution_count": 32,
   "id": "1556c1f7",
   "metadata": {
    "slideshow": {
     "slide_type": "fragment"
    }
   },
   "outputs": [
    {
     "data": {
      "image/png": "[encoded data removed]",
      "text/plain": [
       "<Figure size 720x576 with 4 Axes>"
      ]
     },
     "metadata": {
      "needs_background": "light"
     },
     "output_type": "display_data"
    }
   ],
   "source": [
    "fig = plt.figure(1, figsize=(10,8), )\n",
    "fig.suptitle(\"2010 Racial and Ethnic Distribution by Census Block, San Francisco Bay Area\", fontsize=16)\n",
    "\n",
    "ax1 = plt.subplot(221)\n",
    "ax1.hist(rentals_sf1['pct_asian'], bins=50)\n",
    "ax1.set_title(\"Asian\")\n",
    "ax1.set_xlabel('% Population in Block')\n",
    "ax1.set_ylabel('Total Census Blocks')\n",
    "\n",
    "ax2 = plt.subplot(222)\n",
    "ax2.hist(rentals_sf1['pct_black'], bins=50)\n",
    "ax2.set_title(\"Black\")\n",
    "ax2.set_xlabel('% Population in Block')\n",
    "ax2.set_ylabel('Total Census Blocks')\n",
    "\n",
    "ax3 = plt.subplot(223)\n",
    "ax3.hist(rentals_sf1['pct_hisp'], bins=50)\n",
    "ax3.set_title(\"Hispanic\")\n",
    "ax3.set_xlabel('% Population in Block')\n",
    "ax3.set_ylabel('Total Census Blocks')\n",
    "\n",
    "ax4 = plt.subplot(224)\n",
    "ax4.hist(rentals_sf1['pct_white'], bins=50)\n",
    "ax4.set_title(\"White\")\n",
    "ax4.set_xlabel('% Population in Block')\n",
    "ax4.set_ylabel('Total Census Blocks')\n",
    "\n",
    "plt.subplots_adjust(wspace=.25, hspace=.25)\n",
    "plt.show()"
   ]
  },
  {
   "cell_type": "code",
   "execution_count": 33,
   "id": "78eda266",
   "metadata": {
    "slideshow": {
     "slide_type": "fragment"
    }
   },
   "outputs": [
    {
     "data": {
      "image/png": "[encoded data removed]",
      "text/plain": [
       "<Figure size 720x576 with 4 Axes>"
      ]
     },
     "metadata": {
      "needs_background": "light"
     },
     "output_type": "display_data"
    }
   ],
   "source": [
    "fig, axarr = plt.subplots(2,2, figsize=(10,8), sharey=True, sharex=True)\n",
    "fig.suptitle(\"2010 Racial and Ethnic Distribution by Census Block, San Francisco Bay Area\", fontsize=16)\n",
    "\n",
    "axarr[0, 0].hist(rentals_sf1['pct_asian'], bins=50)\n",
    "axarr[0, 0].set_title(\"Asian\")\n",
    "axarr[0, 0].set_xlabel('% Population in Block')\n",
    "axarr[0, 0].set_ylabel('Total Census Blocks')\n",
    "\n",
    "axarr[0, 1].hist(rentals_sf1['pct_black'], bins=50)\n",
    "axarr[0, 1].set_title(\"Black\")\n",
    "axarr[0, 1].set_xlabel('% Population in Block')\n",
    "axarr[0, 1].set_ylabel('Total Census Blocks')\n",
    "\n",
    "axarr[1, 0].hist(rentals_sf1['pct_hisp'], bins=50)\n",
    "axarr[1, 0].set_title(\"Hispanic\")\n",
    "axarr[1, 0].set_xlabel('% Population in Block')\n",
    "axarr[1, 0].set_ylabel('Total Census Blocks')\n",
    "\n",
    "axarr[1, 1].hist(rentals_sf1['pct_white'], bins=50)\n",
    "axarr[1, 1].set_title(\"White\")\n",
    "axarr[1, 1].set_xlabel('% Population in Block')\n",
    "axarr[1, 1].set_ylabel('Total Census Blocks')\n",
    "\n",
    "plt.subplots_adjust(wspace=.25, hspace=.25)\n",
    "plt.show()"
   ]
  },
  {
   "cell_type": "code",
   "execution_count": 34,
   "id": "83d2e1ea",
   "metadata": {
    "slideshow": {
     "slide_type": "fragment"
    }
   },
   "outputs": [
    {
     "data": {
      "image/png": "[encoded data removed]",
      "text/plain": [
       "<Figure size 720x576 with 4 Axes>"
      ]
     },
     "metadata": {
      "needs_background": "light"
     },
     "output_type": "display_data"
    }
   ],
   "source": [
    "import matplotlib.ticker as ticker\n",
    "\n",
    "fig, axarr = plt.subplots(2,2, figsize=(10,8), sharey=True, sharex=True)\n",
    "fig.suptitle(\"2010 Racial and Ethnic Distribution by Census Block, San Francisco Bay Area\", fontsize=16)\n",
    "\n",
    "cats = ['asian', 'black', 'hisp', 'white']\n",
    "\n",
    "for i, ax in enumerate(axarr.flatten()):\n",
    "    ax.hist(rentals_sf1['pct_{0}'.format(cats[i])], bins=50)\n",
    "    ax.set_title(cats[i])\n",
    "    ax.set_xlabel('% Population in Block')\n",
    "    ax.set_ylabel('Total Census Blocks')\n",
    "    ax.xaxis.set_major_formatter(ticker.PercentFormatter(xmax=100))\n",
    "\n",
    "plt.subplots_adjust(wspace=.25, hspace=.25)\n",
    "plt.show()"
   ]
  },
  {
   "cell_type": "code",
   "execution_count": 35,
   "id": "a781b5fa",
   "metadata": {
    "slideshow": {
     "slide_type": "slide"
    }
   },
   "outputs": [
    {
     "data": {
      "image/png": "[encoded data removed]",
      "text/plain": [
       "<Figure size 720x288 with 1 Axes>"
      ]
     },
     "metadata": {
      "needs_background": "light"
     },
     "output_type": "display_data"
    }
   ],
   "source": [
    "fig, ax= plt.subplots(figsize=(10, 4))\n",
    "fig.suptitle(\"2010 Racial and Ethnic Distribution by Census Block, San Francisco Bay Area\", fontsize=16)\n",
    "\n",
    "cats = ['asian', 'black', 'hisp', 'white']\n",
    "\n",
    "for cat in cats:\n",
    "    ax.hist(rentals_sf1['pct_{0}'.format(cat)], bins=50, alpha=0.3, label=cat)\n",
    "    ax.set_xlabel('% Population in Block')\n",
    "    ax.set_ylabel('Total Census Blocks')\n",
    "    ax.xaxis.set_major_formatter(ticker.PercentFormatter(xmax=100))\n",
    "    \n",
    "ax.legend()\n",
    "\n",
    "plt.subplots_adjust(wspace=.25, hspace=.25)\n",
    "plt.show()"
   ]
  },
  {
   "cell_type": "markdown",
   "id": "1eb433a0",
   "metadata": {
    "slideshow": {
     "slide_type": "slide"
    }
   },
   "source": [
    "### 3.3.3 Bivariate data"
   ]
  },
  {
   "cell_type": "code",
   "execution_count": 36,
   "id": "cee2c5e6",
   "metadata": {
    "slideshow": {
     "slide_type": "fragment"
    }
   },
   "outputs": [
    {
     "data": {
      "image/png": "[encoded data removed]",
      "text/plain": [
       "<Figure size 576x432 with 1 Axes>"
      ]
     },
     "metadata": {
      "needs_background": "light"
     },
     "output_type": "display_data"
    }
   ],
   "source": [
    "fig, ax = plt.subplots(figsize=(8, 6))\n",
    "foo = ax.scatter(rentals_sf1['sqft'], rentals_sf1['rent'], c='g', alpha=0.2, s=0.4)\n",
    "ax.set_xlabel(\"Size (ft$^2$)\", fontsize=15)\n",
    "_ = ax.set_ylabel('Rent ($)', fontsize=15)"
   ]
  },
  {
   "cell_type": "code",
   "execution_count": 37,
   "id": "d8c51313",
   "metadata": {
    "scrolled": false,
    "slideshow": {
     "slide_type": "fragment"
    }
   },
   "outputs": [
    {
     "data": {
      "image/png": "[encoded data removed]",
      "text/plain": [
       "<Figure size 576x432 with 2 Axes>"
      ]
     },
     "metadata": {
      "needs_background": "light"
     },
     "output_type": "display_data"
    }
   ],
   "source": [
    "fig, ax = plt.subplots(figsize=(8, 6))\n",
    "ax.set_title(\"SF Bay Area Craigslist Rental Listings\", fontsize=20)\n",
    "ax.set_xlabel('Bedrooms', fontsize=15)\n",
    "ax.set_ylabel('Rent ($)', fontsize=15)\n",
    "foo = ax.scatter(\n",
    "    rentals_sf1['bedrooms'], rentals_sf1['rent'], c=np.log(rentals_sf1['sqft']), lw=0.5, alpha=.1, s=50)\n",
    "cbar = fig.colorbar(foo)\n",
    "cbar.set_label(\"log(size) (ft$^2$)\", fontsize=15)"
   ]
  },
  {
   "cell_type": "code",
   "execution_count": 38,
   "id": "9a495ff4",
   "metadata": {
    "slideshow": {
     "slide_type": "fragment"
    }
   },
   "outputs": [
    {
     "data": {
      "image/png": "[encoded data removed]",
      "text/plain": [
       "<Figure size 576x432 with 1 Axes>"
      ]
     },
     "metadata": {
      "needs_background": "light"
     },
     "output_type": "display_data"
    }
   ],
   "source": [
    "fig, ax = plt.subplots(figsize=(8, 6))\n",
    "ax.set_title(\"SF Bay Area Craigslist Rental Listings\", fontsize=20)\n",
    "ax.set_xlabel('Bedrooms', fontsize=15)\n",
    "ax.set_ylabel('Rent ($)', fontsize=15)\n",
    "_ = ax.boxplot([x['rent'] for i, x in rentals_sf1.groupby('bedrooms')])"
   ]
  },
  {
   "cell_type": "code",
   "execution_count": null,
   "id": "e496a53c",
   "metadata": {
    "slideshow": {
     "slide_type": "slide"
    }
   },
   "outputs": [],
   "source": [
    "fig, ax = plt.subplots(figsize=(8, 6))\n",
    "sns.boxplot(data=rentals_sf1, x='bedrooms', y='rent', ax=ax)"
   ]
  },
  {
   "cell_type": "code",
   "execution_count": null,
   "id": "6a6bbd46",
   "metadata": {
    "slideshow": {
     "slide_type": "fragment"
    }
   },
   "outputs": [],
   "source": [
    "fig, ax = plt.subplots(figsize=(8, 6))\n",
    "sns.stripplot(data=rentals_sf1, x='bedrooms', y='rent', alpha=0.1, ax=ax)"
   ]
  },
  {
   "cell_type": "code",
   "execution_count": null,
   "id": "2c90f933",
   "metadata": {
    "slideshow": {
     "slide_type": "fragment"
    }
   },
   "outputs": [],
   "source": [
    "fig, ax = plt.subplots(figsize=(13, 6))\n",
    "sns.violinplot(data=rentals_sf1, x='bedrooms', y='rent',ax=ax)"
   ]
  },
  {
   "cell_type": "markdown",
   "id": "c9170835",
   "metadata": {
    "slideshow": {
     "slide_type": "slide"
    }
   },
   "source": [
    "## 3.4 Seaborn"
   ]
  },
  {
   "cell_type": "markdown",
   "id": "1ff81fb5",
   "metadata": {
    "slideshow": {
     "slide_type": "fragment"
    }
   },
   "source": [
    "### 3.4.1 The basics"
   ]
  },
  {
   "cell_type": "markdown",
   "id": "26286274",
   "metadata": {
    "slideshow": {
     "slide_type": "fragment"
    }
   },
   "source": [
    "Matplotlib, for DataFrames! In fact, it works directly on top of `fig` and `ax` objects:"
   ]
  },
  {
   "cell_type": "code",
   "execution_count": null,
   "id": "e1cb1083",
   "metadata": {
    "slideshow": {
     "slide_type": "fragment"
    }
   },
   "outputs": [],
   "source": [
    "fig, ax = plt.subplots(figsize=(8, 6))\n",
    "sns.stripplot(data=rentals_sf1, x='bedrooms', y='rent', alpha=0.1, ax=ax)\n",
    "ax.set_title(\"SF Bay Area Craigslist Rental Listings\", fontsize=20)\n",
    "ax.set_xlabel('Bedrooms', fontsize=15)\n",
    "_ = ax.set_ylabel('Rent ($)', fontsize=15)\n",
    "fig.set_facecolor('lightgrey')"
   ]
  },
  {
   "cell_type": "code",
   "execution_count": null,
   "id": "4b70b905",
   "metadata": {
    "slideshow": {
     "slide_type": "slide"
    }
   },
   "outputs": [],
   "source": [
    "fig, ax = plt.subplots(figsize=(12,6))\n",
    "sns.kdeplot(data=rentals_sf1, x=\"rent\", hue='county_name', fill=True, ax=ax)"
   ]
  },
  {
   "cell_type": "markdown",
   "id": "447e9282",
   "metadata": {
    "slideshow": {
     "slide_type": "slide"
    }
   },
   "source": [
    "### 3.4.2 Facets"
   ]
  },
  {
   "cell_type": "markdown",
   "id": "ed2e7df9",
   "metadata": {
    "slideshow": {
     "slide_type": "fragment"
    }
   },
   "source": [
    "Seaborn makes it easy to create a grid of subplots on-the-fly. In Seaborn parlance, each subplot is a `Facet`, and the grid is a `FacetGrid`. Seaborn allows you to specify a `FacetGrid` in which the rows/columns correspond to column values from your dataframe. Below, we define a FacetGrid where the facets are defined by `county_name`, and use the `col_wrap` argument to tell Seaborn to start a new row after every 3rd column."
   ]
  },
  {
   "cell_type": "code",
   "execution_count": null,
   "id": "a24258d1",
   "metadata": {
    "slideshow": {
     "slide_type": "fragment"
    }
   },
   "outputs": [],
   "source": [
    "g = sns.FacetGrid(rentals_sf1, col=\"county_name\", col_wrap=3, height=2.5, aspect=1.5)\n",
    "g.map(sns.histplot, \"rent\")"
   ]
  },
  {
   "cell_type": "code",
   "execution_count": null,
   "id": "301c1d38",
   "metadata": {
    "slideshow": {
     "slide_type": "slide"
    }
   },
   "outputs": [],
   "source": [
    "g = sns.FacetGrid(rentals_sf1, col=\"county_name\", col_wrap=3, height=2.5, aspect=1.5)\n",
    "g.map(sns.kdeplot, \"rent\", fill=True)"
   ]
  },
  {
   "cell_type": "code",
   "execution_count": null,
   "id": "ea275471",
   "metadata": {
    "scrolled": false,
    "slideshow": {
     "slide_type": "slide"
    }
   },
   "outputs": [],
   "source": [
    "from matplotlib import rcParams\n",
    "\n",
    "with sns.axes_style({\"style\": \"white\", \"axes.facecolor\": (0, 0, 0, 0)}):\n",
    "    g = sns.FacetGrid(rentals_sf1, row=\"county_name\", hue=\"county_name\", aspect=20, height=.75)\n",
    "    g.map(sns.kdeplot, \"rent\",\n",
    "          bw_adjust=.5, clip_on=False,\n",
    "          fill=True, alpha=.5, linewidth=1.5)\n",
    "    g.figure.subplots_adjust(hspace=-.5)\n",
    "    g.set_titles(\"\")\n",
    "    g.set(yticks=[])\n",
    "    g.despine( left=True)\n",
    "    g.set_axis_labels(\"Rent ($)\", \"\", fontsize=15)\n",
    "    g.set_titles(row_template='{row_name}')\n",
    "    for ax in g.axes:\n",
    "        title = ax[0].get_title()\n",
    "        ax[0].set_title(\"\")\n",
    "        ax[0].set_ylabel(title, rotation=0, loc='bottom', labelpad=0)\n"
   ]
  },
  {
   "cell_type": "markdown",
   "id": "194bbd66",
   "metadata": {
    "slideshow": {
     "slide_type": "slide"
    }
   },
   "source": [
    "### 3.4.3 High-dimension plots"
   ]
  },
  {
   "cell_type": "code",
   "execution_count": null,
   "id": "29d8a551",
   "metadata": {
    "slideshow": {
     "slide_type": "fragment"
    }
   },
   "outputs": [],
   "source": [
    "fig, ax = plt.subplots(figsize=(10,7))\n",
    "sns.kdeplot(\n",
    "    x=\"sqft\", y=\"rent\", data=rentals_sf1, thresh=0, fill=True, cmap='magma', alpha=0.7)"
   ]
  },
  {
   "cell_type": "code",
   "execution_count": null,
   "id": "d06b71a9",
   "metadata": {
    "slideshow": {
     "slide_type": "fragment"
    }
   },
   "outputs": [],
   "source": [
    "sns.jointplot(\n",
    "    x=\"sqft\", y=\"rent\", kind=\"hex\", data=rentals_sf1, cmap='magma', joint_kws={\"mincnt\": 1, \"gridsize\":30})"
   ]
  },
  {
   "cell_type": "code",
   "execution_count": null,
   "id": "2597716f",
   "metadata": {
    "slideshow": {
     "slide_type": "slide"
    }
   },
   "outputs": [],
   "source": [
    "sns.pairplot(rentals_sf1[['rent', 'sqft', 'pop_sqmi', 'pct_white']],\n",
    "    plot_kws = {'alpha': 0.05, 's': 1, 'edgecolor': 'none', 'facecolor':'k'});"
   ]
  },
  {
   "cell_type": "markdown",
   "id": "6b928d05",
   "metadata": {
    "slideshow": {
     "slide_type": "slide"
    }
   },
   "source": [
    "### 3.4.4. A bit of color theory"
   ]
  },
  {
   "cell_type": "code",
   "execution_count": 3,
   "id": "ea8ec991",
   "metadata": {
    "hide_input": true,
    "slideshow": {
     "slide_type": "fragment"
    }
   },
   "outputs": [
    {
     "data": {
      "text/html": [
       "<iframe src=\"https://ai.googleblog.com/2019/08/turbo-improved-rainbow-colormap-for.html\" width=100% height=700></iframe>\n"
      ],
      "text/plain": [
       "<IPython.core.display.HTML object>"
      ]
     },
     "metadata": {},
     "output_type": "display_data"
    }
   ],
   "source": [
    "%%html\n",
    "<iframe src=\"https://ai.googleblog.com/2019/08/turbo-improved-rainbow-colormap-for.html\" width=100% height=700></iframe>"
   ]
  },
  {
   "cell_type": "markdown",
   "id": "ca5bffa1",
   "metadata": {
    "slideshow": {
     "slide_type": "slide"
    }
   },
   "source": [
    "#### 3.4.4.1 The Three Components of Color"
   ]
  },
  {
   "cell_type": "markdown",
   "id": "d879077b",
   "metadata": {
    "slideshow": {
     "slide_type": "fragment"
    }
   },
   "source": [
    "1. Hue"
   ]
  },
  {
   "cell_type": "code",
   "execution_count": 6,
   "id": "9eb60e5d",
   "metadata": {
    "slideshow": {
     "slide_type": "fragment"
    }
   },
   "outputs": [
    {
     "data": {
      "text/html": [
       "<svg  width=\"440\" height=\"55\"><rect x=\"0\" y=\"0\" width=\"55\" height=\"55\" style=\"fill:#db5f57;stroke-width:2;stroke:rgb(255,255,255)\"/><rect x=\"55\" y=\"0\" width=\"55\" height=\"55\" style=\"fill:#dbc257;stroke-width:2;stroke:rgb(255,255,255)\"/><rect x=\"110\" y=\"0\" width=\"55\" height=\"55\" style=\"fill:#91db57;stroke-width:2;stroke:rgb(255,255,255)\"/><rect x=\"165\" y=\"0\" width=\"55\" height=\"55\" style=\"fill:#57db80;stroke-width:2;stroke:rgb(255,255,255)\"/><rect x=\"220\" y=\"0\" width=\"55\" height=\"55\" style=\"fill:#57d3db;stroke-width:2;stroke:rgb(255,255,255)\"/><rect x=\"275\" y=\"0\" width=\"55\" height=\"55\" style=\"fill:#5770db;stroke-width:2;stroke:rgb(255,255,255)\"/><rect x=\"330\" y=\"0\" width=\"55\" height=\"55\" style=\"fill:#a157db;stroke-width:2;stroke:rgb(255,255,255)\"/><rect x=\"385\" y=\"0\" width=\"55\" height=\"55\" style=\"fill:#db57b2;stroke-width:2;stroke:rgb(255,255,255)\"/></svg>"
      ],
      "text/plain": [
       "[(0.86, 0.3712, 0.33999999999999997),\n",
       " (0.86, 0.7612000000000001, 0.33999999999999997),\n",
       " (0.5688000000000001, 0.86, 0.33999999999999997),\n",
       " (0.33999999999999997, 0.86, 0.5012000000000001),\n",
       " (0.33999999999999997, 0.8287999999999999, 0.86),\n",
       " (0.33999999999999997, 0.43879999999999986, 0.86),\n",
       " (0.6311999999999998, 0.33999999999999997, 0.86),\n",
       " (0.86, 0.33999999999999997, 0.6987999999999996)]"
      ]
     },
     "execution_count": 6,
     "metadata": {},
     "output_type": "execute_result"
    }
   ],
   "source": [
    "sns.color_palette(\"hls\", 8)"
   ]
  },
  {
   "cell_type": "markdown",
   "id": "e57c247d",
   "metadata": {
    "slideshow": {
     "slide_type": "fragment"
    }
   },
   "source": [
    "2. Saturation"
   ]
  },
  {
   "cell_type": "code",
   "execution_count": 7,
   "id": "f0477e3a",
   "metadata": {
    "slideshow": {
     "slide_type": "fragment"
    }
   },
   "outputs": [
    {
     "data": {
      "text/html": [
       "<svg  width=\"440\" height=\"55\"><rect x=\"0\" y=\"0\" width=\"55\" height=\"55\" style=\"fill:#808080;stroke-width:2;stroke:rgb(255,255,255)\"/><rect x=\"55\" y=\"0\" width=\"55\" height=\"55\" style=\"fill:#6e6e92;stroke-width:2;stroke:rgb(255,255,255)\"/><rect x=\"110\" y=\"0\" width=\"55\" height=\"55\" style=\"fill:#5b5ba4;stroke-width:2;stroke:rgb(255,255,255)\"/><rect x=\"165\" y=\"0\" width=\"55\" height=\"55\" style=\"fill:#4949b6;stroke-width:2;stroke:rgb(255,255,255)\"/><rect x=\"220\" y=\"0\" width=\"55\" height=\"55\" style=\"fill:#3737c9;stroke-width:2;stroke:rgb(255,255,255)\"/><rect x=\"275\" y=\"0\" width=\"55\" height=\"55\" style=\"fill:#2525db;stroke-width:2;stroke:rgb(255,255,255)\"/><rect x=\"330\" y=\"0\" width=\"55\" height=\"55\" style=\"fill:#1212ed;stroke-width:2;stroke:rgb(255,255,255)\"/><rect x=\"385\" y=\"0\" width=\"55\" height=\"55\" style=\"fill:#0000ff;stroke-width:2;stroke:rgb(255,255,255)\"/></svg>"
      ],
      "text/plain": [
       "[(0.5019607843137255, 0.5019607843137255, 0.5019607843137255),\n",
       " (0.4310957324106113, 0.4310957324106113, 0.5722722029988466),\n",
       " (0.3582622068435217, 0.3582622068435217, 0.6445367166474433),\n",
       " (0.2873971549404075, 0.2873971549404075, 0.7148481353325644),\n",
       " (0.21456362937331797, 0.21456362937331797, 0.7871126489811611),\n",
       " (0.14369857747020376, 0.14369857747020376, 0.8574240676662822),\n",
       " (0.0708650519031142, 0.0708650519031142, 0.9296885813148789),\n",
       " (0.0, 0.0, 1.0)]"
      ]
     },
     "execution_count": 7,
     "metadata": {},
     "output_type": "execute_result"
    }
   ],
   "source": [
    "sns.color_palette(\"blend:grey,b\", 8)"
   ]
  },
  {
   "cell_type": "markdown",
   "id": "9d75ec63",
   "metadata": {
    "slideshow": {
     "slide_type": "fragment"
    }
   },
   "source": [
    "3. Lightness"
   ]
  },
  {
   "cell_type": "code",
   "execution_count": 8,
   "id": "c0952af9",
   "metadata": {
    "slideshow": {
     "slide_type": "fragment"
    }
   },
   "outputs": [
    {
     "data": {
      "text/html": [
       "<svg  width=\"440\" height=\"55\"><rect x=\"0\" y=\"0\" width=\"55\" height=\"55\" style=\"fill:#2b1f3e;stroke-width:2;stroke:rgb(255,255,255)\"/><rect x=\"55\" y=\"0\" width=\"55\" height=\"55\" style=\"fill:#423866;stroke-width:2;stroke:rgb(255,255,255)\"/><rect x=\"110\" y=\"0\" width=\"55\" height=\"55\" style=\"fill:#555387;stroke-width:2;stroke:rgb(255,255,255)\"/><rect x=\"165\" y=\"0\" width=\"55\" height=\"55\" style=\"fill:#6770a4;stroke-width:2;stroke:rgb(255,255,255)\"/><rect x=\"220\" y=\"0\" width=\"55\" height=\"55\" style=\"fill:#798dbb;stroke-width:2;stroke:rgb(255,255,255)\"/><rect x=\"275\" y=\"0\" width=\"55\" height=\"55\" style=\"fill:#8faace;stroke-width:2;stroke:rgb(255,255,255)\"/><rect x=\"330\" y=\"0\" width=\"55\" height=\"55\" style=\"fill:#a9c6de;stroke-width:2;stroke:rgb(255,255,255)\"/><rect x=\"385\" y=\"0\" width=\"55\" height=\"55\" style=\"fill:#c7dfeb;stroke-width:2;stroke:rgb(255,255,255)\"/></svg>"
      ],
      "text/plain": [
       "[[0.1676124288206785, 0.12168378009569247, 0.24493209028077442],\n",
       " [0.25719212909752504, 0.22039345367928442, 0.3980974201030203],\n",
       " [0.3315259381236118, 0.3244953194332093, 0.5282698511453637],\n",
       " [0.4040693859926358, 0.43902378590530383, 0.6430510471441738],\n",
       " [0.4764563969141741, 0.5515570377266595, 0.7333097883591035],\n",
       " [0.5615918212430975, 0.6670782376100594, 0.8084244613507879],\n",
       " [0.6629603011558388, 0.7770571967906177, 0.8689938012762111],\n",
       " [0.7801075672866592, 0.8741945391838343, 0.9197573835143085]]"
      ]
     },
     "execution_count": 8,
     "metadata": {},
     "output_type": "execute_result"
    }
   ],
   "source": [
    "sns.cubehelix_palette(8, start=.25, rot=-.25, reverse=True)"
   ]
  },
  {
   "cell_type": "markdown",
   "id": "ebe230b7",
   "metadata": {
    "slideshow": {
     "slide_type": "slide"
    }
   },
   "source": [
    "#### 3.4.4.2. Color Palettes"
   ]
  },
  {
   "cell_type": "markdown",
   "id": "4d83a523",
   "metadata": {
    "slideshow": {
     "slide_type": "fragment"
    }
   },
   "source": [
    "Categorical/Qualitative"
   ]
  },
  {
   "cell_type": "markdown",
   "id": "110028db",
   "metadata": {
    "slideshow": {
     "slide_type": "fragment"
    }
   },
   "source": [
    "<center><img src=\"https://seaborn.pydata.org/_images/color_palettes_22_0.png\" width=500></center>"
   ]
  },
  {
   "cell_type": "code",
   "execution_count": 9,
   "id": "32d40dad",
   "metadata": {
    "slideshow": {
     "slide_type": "fragment"
    }
   },
   "outputs": [
    {
     "data": {
      "text/html": [
       "<svg  width=\"385\" height=\"55\"><rect x=\"0\" y=\"0\" width=\"55\" height=\"55\" style=\"fill:#a1c9f4;stroke-width:2;stroke:rgb(255,255,255)\"/><rect x=\"55\" y=\"0\" width=\"55\" height=\"55\" style=\"fill:#ffb482;stroke-width:2;stroke:rgb(255,255,255)\"/><rect x=\"110\" y=\"0\" width=\"55\" height=\"55\" style=\"fill:#8de5a1;stroke-width:2;stroke:rgb(255,255,255)\"/><rect x=\"165\" y=\"0\" width=\"55\" height=\"55\" style=\"fill:#ff9f9b;stroke-width:2;stroke:rgb(255,255,255)\"/><rect x=\"220\" y=\"0\" width=\"55\" height=\"55\" style=\"fill:#d0bbff;stroke-width:2;stroke:rgb(255,255,255)\"/><rect x=\"275\" y=\"0\" width=\"55\" height=\"55\" style=\"fill:#debb9b;stroke-width:2;stroke:rgb(255,255,255)\"/><rect x=\"330\" y=\"0\" width=\"55\" height=\"55\" style=\"fill:#fab0e4;stroke-width:2;stroke:rgb(255,255,255)\"/></svg>"
      ],
      "text/plain": [
       "[(0.6313725490196078, 0.788235294117647, 0.9568627450980393),\n",
       " (1.0, 0.7058823529411765, 0.5098039215686274),\n",
       " (0.5529411764705883, 0.8980392156862745, 0.6313725490196078),\n",
       " (1.0, 0.6235294117647059, 0.6078431372549019),\n",
       " (0.8156862745098039, 0.7333333333333333, 1.0),\n",
       " (0.8705882352941177, 0.7333333333333333, 0.6078431372549019),\n",
       " (0.9803921568627451, 0.6901960784313725, 0.8941176470588236)]"
      ]
     },
     "execution_count": 9,
     "metadata": {},
     "output_type": "execute_result"
    }
   ],
   "source": [
    "sns.color_palette(\"pastel\", 7)"
   ]
  },
  {
   "cell_type": "markdown",
   "id": "e52347eb",
   "metadata": {
    "slideshow": {
     "slide_type": "slide"
    }
   },
   "source": [
    "Circular color systems"
   ]
  },
  {
   "cell_type": "code",
   "execution_count": 10,
   "id": "80f9f0ba",
   "metadata": {
    "slideshow": {
     "slide_type": "fragment"
    }
   },
   "outputs": [
    {
     "data": {
      "text/html": [
       "<svg  width=\"385\" height=\"55\"><rect x=\"0\" y=\"0\" width=\"55\" height=\"55\" style=\"fill:#db5f57;stroke-width:2;stroke:rgb(255,255,255)\"/><rect x=\"55\" y=\"0\" width=\"55\" height=\"55\" style=\"fill:#dbd057;stroke-width:2;stroke:rgb(255,255,255)\"/><rect x=\"110\" y=\"0\" width=\"55\" height=\"55\" style=\"fill:#75db57;stroke-width:2;stroke:rgb(255,255,255)\"/><rect x=\"165\" y=\"0\" width=\"55\" height=\"55\" style=\"fill:#57dbaa;stroke-width:2;stroke:rgb(255,255,255)\"/><rect x=\"220\" y=\"0\" width=\"55\" height=\"55\" style=\"fill:#579bdb;stroke-width:2;stroke:rgb(255,255,255)\"/><rect x=\"275\" y=\"0\" width=\"55\" height=\"55\" style=\"fill:#8557db;stroke-width:2;stroke:rgb(255,255,255)\"/><rect x=\"330\" y=\"0\" width=\"55\" height=\"55\" style=\"fill:#db57c0;stroke-width:2;stroke:rgb(255,255,255)\"/></svg>"
      ],
      "text/plain": [
       "[(0.86, 0.3712, 0.33999999999999997),\n",
       " (0.86, 0.8169142857142857, 0.33999999999999997),\n",
       " (0.4573714285714283, 0.86, 0.33999999999999997),\n",
       " (0.33999999999999997, 0.86, 0.6683428571428571),\n",
       " (0.33999999999999997, 0.6059428571428571, 0.86),\n",
       " (0.5197714285714281, 0.33999999999999997, 0.86),\n",
       " (0.86, 0.33999999999999997, 0.7545142857142858)]"
      ]
     },
     "execution_count": 10,
     "metadata": {},
     "output_type": "execute_result"
    }
   ],
   "source": [
    "# HLS\n",
    "sns.color_palette(\"hls\", 7)"
   ]
  },
  {
   "cell_type": "code",
   "execution_count": 11,
   "id": "c003d3ef",
   "metadata": {
    "slideshow": {
     "slide_type": "fragment"
    }
   },
   "outputs": [
    {
     "data": {
      "text/html": [
       "<svg  width=\"385\" height=\"55\"><rect x=\"0\" y=\"0\" width=\"55\" height=\"55\" style=\"fill:#f77189;stroke-width:2;stroke:rgb(255,255,255)\"/><rect x=\"55\" y=\"0\" width=\"55\" height=\"55\" style=\"fill:#c69432;stroke-width:2;stroke:rgb(255,255,255)\"/><rect x=\"110\" y=\"0\" width=\"55\" height=\"55\" style=\"fill:#82a931;stroke-width:2;stroke:rgb(255,255,255)\"/><rect x=\"165\" y=\"0\" width=\"55\" height=\"55\" style=\"fill:#34af8a;stroke-width:2;stroke:rgb(255,255,255)\"/><rect x=\"220\" y=\"0\" width=\"55\" height=\"55\" style=\"fill:#37aabb;stroke-width:2;stroke:rgb(255,255,255)\"/><rect x=\"275\" y=\"0\" width=\"55\" height=\"55\" style=\"fill:#8197f4;stroke-width:2;stroke:rgb(255,255,255)\"/><rect x=\"330\" y=\"0\" width=\"55\" height=\"55\" style=\"fill:#f45deb;stroke-width:2;stroke:rgb(255,255,255)\"/></svg>"
      ],
      "text/plain": [
       "[(0.9677975592919913, 0.44127456009157356, 0.5358103155058701),\n",
       " (0.775731904186273, 0.5784925270759935, 0.19475566538551872),\n",
       " (0.5105309046900421, 0.6614299289084904, 0.1930849118538962),\n",
       " (0.20433460114757862, 0.6863857739476534, 0.5407103379425205),\n",
       " (0.21662978923073606, 0.6676586160122123, 0.7318695594345369),\n",
       " (0.5049017849530067, 0.5909119231215284, 0.9584657252128558),\n",
       " (0.9587050080494405, 0.36622595657917456, 0.9231469575614251)]"
      ]
     },
     "execution_count": 11,
     "metadata": {},
     "output_type": "execute_result"
    }
   ],
   "source": [
    "# HUSL\n",
    "sns.color_palette(\"husl\", 7)"
   ]
  },
  {
   "cell_type": "code",
   "execution_count": 12,
   "id": "2254e65b",
   "metadata": {
    "slideshow": {
     "slide_type": "fragment"
    }
   },
   "outputs": [
    {
     "data": {
      "text/html": [
       "<svg  width=\"385\" height=\"55\"><rect x=\"0\" y=\"0\" width=\"55\" height=\"55\" style=\"fill:#66c2a5;stroke-width:2;stroke:rgb(255,255,255)\"/><rect x=\"55\" y=\"0\" width=\"55\" height=\"55\" style=\"fill:#fc8d62;stroke-width:2;stroke:rgb(255,255,255)\"/><rect x=\"110\" y=\"0\" width=\"55\" height=\"55\" style=\"fill:#8da0cb;stroke-width:2;stroke:rgb(255,255,255)\"/><rect x=\"165\" y=\"0\" width=\"55\" height=\"55\" style=\"fill:#e78ac3;stroke-width:2;stroke:rgb(255,255,255)\"/><rect x=\"220\" y=\"0\" width=\"55\" height=\"55\" style=\"fill:#a6d854;stroke-width:2;stroke:rgb(255,255,255)\"/><rect x=\"275\" y=\"0\" width=\"55\" height=\"55\" style=\"fill:#ffd92f;stroke-width:2;stroke:rgb(255,255,255)\"/><rect x=\"330\" y=\"0\" width=\"55\" height=\"55\" style=\"fill:#e5c494;stroke-width:2;stroke:rgb(255,255,255)\"/></svg>"
      ],
      "text/plain": [
       "[(0.4, 0.7607843137254902, 0.6470588235294118),\n",
       " (0.9882352941176471, 0.5529411764705883, 0.3843137254901961),\n",
       " (0.5529411764705883, 0.6274509803921569, 0.796078431372549),\n",
       " (0.9058823529411765, 0.5411764705882353, 0.7647058823529411),\n",
       " (0.6509803921568628, 0.8470588235294118, 0.32941176470588235),\n",
       " (1.0, 0.8509803921568627, 0.1843137254901961),\n",
       " (0.8980392156862745, 0.7686274509803922, 0.5803921568627451)]"
      ]
     },
     "execution_count": 12,
     "metadata": {},
     "output_type": "execute_result"
    }
   ],
   "source": [
    "# colorbrewer palettes\n",
    "sns.color_palette(\"Set2\", 7)"
   ]
  },
  {
   "cell_type": "markdown",
   "id": "efc59c0f",
   "metadata": {
    "slideshow": {
     "slide_type": "slide"
    }
   },
   "source": [
    "Sequential"
   ]
  },
  {
   "cell_type": "code",
   "execution_count": 13,
   "id": "25a1dbf9",
   "metadata": {
    "slideshow": {
     "slide_type": "fragment"
    }
   },
   "outputs": [
    {
     "data": {
      "text/html": [
       "<svg  width=\"550\" height=\"55\"><rect x=\"0\" y=\"0\" width=\"55\" height=\"55\" style=\"fill:#f7c9aa;stroke-width:2;stroke:rgb(255,255,255)\"/><rect x=\"55\" y=\"0\" width=\"55\" height=\"55\" style=\"fill:#f6a47c;stroke-width:2;stroke:rgb(255,255,255)\"/><rect x=\"110\" y=\"0\" width=\"55\" height=\"55\" style=\"fill:#f47d57;stroke-width:2;stroke:rgb(255,255,255)\"/><rect x=\"165\" y=\"0\" width=\"55\" height=\"55\" style=\"fill:#ed503e;stroke-width:2;stroke:rgb(255,255,255)\"/><rect x=\"220\" y=\"0\" width=\"55\" height=\"55\" style=\"fill:#d92847;stroke-width:2;stroke:rgb(255,255,255)\"/><rect x=\"275\" y=\"0\" width=\"55\" height=\"55\" style=\"fill:#b91657;stroke-width:2;stroke:rgb(255,255,255)\"/><rect x=\"330\" y=\"0\" width=\"55\" height=\"55\" style=\"fill:#921c5b;stroke-width:2;stroke:rgb(255,255,255)\"/><rect x=\"385\" y=\"0\" width=\"55\" height=\"55\" style=\"fill:#691f55;stroke-width:2;stroke:rgb(255,255,255)\"/><rect x=\"440\" y=\"0\" width=\"55\" height=\"55\" style=\"fill:#451c47;stroke-width:2;stroke:rgb(255,255,255)\"/><rect x=\"495\" y=\"0\" width=\"55\" height=\"55\" style=\"fill:#221331;stroke-width:2;stroke:rgb(255,255,255)\"/></svg>"
      ],
      "text/plain": [
       "[(0.96810471, 0.78634563, 0.66773889),\n",
       " (0.96388426, 0.64484214, 0.4861196),\n",
       " (0.95626788, 0.49187351, 0.33985601),\n",
       " (0.93078135, 0.31373977, 0.24468803),\n",
       " (0.85281737, 0.15657772, 0.27909826),\n",
       " (0.72398193, 0.08688725, 0.33943958),\n",
       " (0.57077365, 0.11135597, 0.35827146),\n",
       " (0.41282936, 0.12164769, 0.33467689),\n",
       " (0.26930915, 0.1091727, 0.2772502),\n",
       " (0.13501631, 0.07585609, 0.19044109)]"
      ]
     },
     "execution_count": 13,
     "metadata": {},
     "output_type": "execute_result"
    }
   ],
   "source": [
    "# perceptually uniform\n",
    "sns.color_palette(\"rocket_r\", 10)"
   ]
  },
  {
   "cell_type": "code",
   "execution_count": 14,
   "id": "231170d4",
   "metadata": {
    "slideshow": {
     "slide_type": "fragment"
    }
   },
   "outputs": [
    {
     "data": {
      "text/html": [
       "<svg  width=\"550\" height=\"55\"><rect x=\"0\" y=\"0\" width=\"55\" height=\"55\" style=\"fill:#c2e5d8;stroke-width:2;stroke:rgb(255,255,255)\"/><rect x=\"55\" y=\"0\" width=\"55\" height=\"55\" style=\"fill:#a5d4cc;stroke-width:2;stroke:rgb(255,255,255)\"/><rect x=\"110\" y=\"0\" width=\"55\" height=\"55\" style=\"fill:#8dc0c3;stroke-width:2;stroke:rgb(255,255,255)\"/><rect x=\"165\" y=\"0\" width=\"55\" height=\"55\" style=\"fill:#79aabb;stroke-width:2;stroke:rgb(255,255,255)\"/><rect x=\"220\" y=\"0\" width=\"55\" height=\"55\" style=\"fill:#6b91b1;stroke-width:2;stroke:rgb(255,255,255)\"/><rect x=\"275\" y=\"0\" width=\"55\" height=\"55\" style=\"fill:#6178a4;stroke-width:2;stroke:rgb(255,255,255)\"/><rect x=\"330\" y=\"0\" width=\"55\" height=\"55\" style=\"fill:#585f91;stroke-width:2;stroke:rgb(255,255,255)\"/><rect x=\"385\" y=\"0\" width=\"55\" height=\"55\" style=\"fill:#4e4679;stroke-width:2;stroke:rgb(255,255,255)\"/><rect x=\"440\" y=\"0\" width=\"55\" height=\"55\" style=\"fill:#42305b;stroke-width:2;stroke:rgb(255,255,255)\"/><rect x=\"495\" y=\"0\" width=\"55\" height=\"55\" style=\"fill:#311c3b;stroke-width:2;stroke:rgb(255,255,255)\"/></svg>"
      ],
      "text/plain": [
       "[(0.7611058395410276, 0.897713045748989, 0.8454349452836011),\n",
       " (0.6475389924250959, 0.8312061179534195, 0.7988690531356617),\n",
       " (0.5516174331469553, 0.7533438201390327, 0.765085969337711),\n",
       " (0.47599829224141754, 0.6647212472467017, 0.7336470666017856),\n",
       " (0.41944085427823424, 0.5678340676140039, 0.6945501868189554),\n",
       " (0.3790627817754598, 0.4716977553188698, 0.6429510329318763),\n",
       " (0.34351942619215814, 0.3706877966569698, 0.5686561064138482),\n",
       " (0.306349241555757, 0.27452187508371506, 0.47281619224112104),\n",
       " (0.258495235421288, 0.18722914407204005, 0.3585211949837789),\n",
       " (0.19219588654040817, 0.11144874684946916, 0.2327834607416993)]"
      ]
     },
     "execution_count": 14,
     "metadata": {},
     "output_type": "execute_result"
    }
   ],
   "source": [
    "# cubehelix\n",
    "sns.color_palette(\"ch:start=.5,rot=-.5\", 10)"
   ]
  },
  {
   "cell_type": "markdown",
   "id": "c74f5052",
   "metadata": {
    "slideshow": {
     "slide_type": "slide"
    }
   },
   "source": [
    "Divergent"
   ]
  },
  {
   "cell_type": "code",
   "execution_count": 15,
   "id": "d7de0105",
   "metadata": {
    "slideshow": {
     "slide_type": "fragment"
    }
   },
   "outputs": [
    {
     "data": {
      "text/html": [
       "<svg  width=\"550\" height=\"55\"><rect x=\"0\" y=\"0\" width=\"55\" height=\"55\" style=\"fill:#d0384e;stroke-width:2;stroke:rgb(255,255,255)\"/><rect x=\"55\" y=\"0\" width=\"55\" height=\"55\" style=\"fill:#ee6445;stroke-width:2;stroke:rgb(255,255,255)\"/><rect x=\"110\" y=\"0\" width=\"55\" height=\"55\" style=\"fill:#fa9b58;stroke-width:2;stroke:rgb(255,255,255)\"/><rect x=\"165\" y=\"0\" width=\"55\" height=\"55\" style=\"fill:#fece7c;stroke-width:2;stroke:rgb(255,255,255)\"/><rect x=\"220\" y=\"0\" width=\"55\" height=\"55\" style=\"fill:#fff1a8;stroke-width:2;stroke:rgb(255,255,255)\"/><rect x=\"275\" y=\"0\" width=\"55\" height=\"55\" style=\"fill:#f4faad;stroke-width:2;stroke:rgb(255,255,255)\"/><rect x=\"330\" y=\"0\" width=\"55\" height=\"55\" style=\"fill:#d1ed9c;stroke-width:2;stroke:rgb(255,255,255)\"/><rect x=\"385\" y=\"0\" width=\"55\" height=\"55\" style=\"fill:#97d5a4;stroke-width:2;stroke:rgb(255,255,255)\"/><rect x=\"440\" y=\"0\" width=\"55\" height=\"55\" style=\"fill:#5cb7aa;stroke-width:2;stroke:rgb(255,255,255)\"/><rect x=\"495\" y=\"0\" width=\"55\" height=\"55\" style=\"fill:#3682ba;stroke-width:2;stroke:rgb(255,255,255)\"/></svg>"
      ],
      "text/plain": [
       "[(0.8141484044598232, 0.2196847366397539, 0.3048058439061899),\n",
       " (0.9330257593233372, 0.3913110342176086, 0.27197231833910035),\n",
       " (0.9817762399077278, 0.6073817762399076, 0.3457900807381776),\n",
       " (0.9946943483275663, 0.8092272202998846, 0.48696655132641287),\n",
       " (0.9982314494425221, 0.9451749327181853, 0.6570549788542868),\n",
       " (0.9557862360630527, 0.9823144944252211, 0.6800461361014996),\n",
       " (0.8202998846597465, 0.9275663206459055, 0.6126874279123413),\n",
       " (0.5910034602076126, 0.835524798154556, 0.6442906574394464),\n",
       " (0.3600153787004998, 0.7161860822760476, 0.6655132641291811),\n",
       " (0.21299500192233756, 0.5114186851211072, 0.730795847750865)]"
      ]
     },
     "execution_count": 15,
     "metadata": {},
     "output_type": "execute_result"
    }
   ],
   "source": [
    "sns.color_palette(\"Spectral\", 10)"
   ]
  },
  {
   "cell_type": "code",
   "execution_count": 16,
   "id": "bfae1940",
   "metadata": {
    "slideshow": {
     "slide_type": "fragment"
    }
   },
   "outputs": [
    {
     "data": {
      "text/html": [
       "<svg  width=\"550\" height=\"55\"><rect x=\"0\" y=\"0\" width=\"55\" height=\"55\" style=\"fill:#5673e0;stroke-width:2;stroke:rgb(255,255,255)\"/><rect x=\"55\" y=\"0\" width=\"55\" height=\"55\" style=\"fill:#7597f6;stroke-width:2;stroke:rgb(255,255,255)\"/><rect x=\"110\" y=\"0\" width=\"55\" height=\"55\" style=\"fill:#94b6ff;stroke-width:2;stroke:rgb(255,255,255)\"/><rect x=\"165\" y=\"0\" width=\"55\" height=\"55\" style=\"fill:#b5cdfa;stroke-width:2;stroke:rgb(255,255,255)\"/><rect x=\"220\" y=\"0\" width=\"55\" height=\"55\" style=\"fill:#d1dae9;stroke-width:2;stroke:rgb(255,255,255)\"/><rect x=\"275\" y=\"0\" width=\"55\" height=\"55\" style=\"fill:#e8d6cc;stroke-width:2;stroke:rgb(255,255,255)\"/><rect x=\"330\" y=\"0\" width=\"55\" height=\"55\" style=\"fill:#f5c1a9;stroke-width:2;stroke:rgb(255,255,255)\"/><rect x=\"385\" y=\"0\" width=\"55\" height=\"55\" style=\"fill:#f6a283;stroke-width:2;stroke:rgb(255,255,255)\"/><rect x=\"440\" y=\"0\" width=\"55\" height=\"55\" style=\"fill:#ea7b60;stroke-width:2;stroke:rgb(255,255,255)\"/><rect x=\"495\" y=\"0\" width=\"55\" height=\"55\" style=\"fill:#d44e41;stroke-width:2;stroke:rgb(255,255,255)\"/></svg>"
      ],
      "text/plain": [
       "[(0.3383765114431373, 0.45281860883137254, 0.8793170768784313),\n",
       " (0.4570464785254902, 0.5940055499294118, 0.963029229690196),\n",
       " (0.5814861481882353, 0.7134505955294117, 0.9983143529411764),\n",
       " (0.7087196897176471, 0.8057213889294117, 0.9811168090470588),\n",
       " (0.8180564934117647, 0.8555896775450981, 0.9146376165490196),\n",
       " (0.9094595977529412, 0.8393864797647058, 0.8003313524235294),\n",
       " (0.9616447383764706, 0.7580291825411765, 0.6617823791647058),\n",
       " (0.963806056435294, 0.6341884145294118, 0.5137208491529413),\n",
       " (0.9182816725843137, 0.48417347218039214, 0.37779392507058823),\n",
       " (0.8301865219490197, 0.30473276355294115, 0.25489142806666665)]"
      ]
     },
     "execution_count": 16,
     "metadata": {},
     "output_type": "execute_result"
    }
   ],
   "source": [
    "sns.color_palette(\"coolwarm\", 10)"
   ]
  },
  {
   "cell_type": "code",
   "execution_count": 17,
   "id": "26b73e65",
   "metadata": {
    "slideshow": {
     "slide_type": "fragment"
    }
   },
   "outputs": [
    {
     "data": {
      "text/html": [
       "<svg  width=\"550\" height=\"55\"><rect x=\"0\" y=\"0\" width=\"55\" height=\"55\" style=\"fill:#5782bc;stroke-width:2;stroke:rgb(255,255,255)\"/><rect x=\"55\" y=\"0\" width=\"55\" height=\"55\" style=\"fill:#7e9ac2;stroke-width:2;stroke:rgb(255,255,255)\"/><rect x=\"110\" y=\"0\" width=\"55\" height=\"55\" style=\"fill:#a3b4cd;stroke-width:2;stroke:rgb(255,255,255)\"/><rect x=\"165\" y=\"0\" width=\"55\" height=\"55\" style=\"fill:#cad0dd;stroke-width:2;stroke:rgb(255,255,255)\"/><rect x=\"220\" y=\"0\" width=\"55\" height=\"55\" style=\"fill:#efeef1;stroke-width:2;stroke:rgb(255,255,255)\"/><rect x=\"275\" y=\"0\" width=\"55\" height=\"55\" style=\"fill:#f7eae8;stroke-width:2;stroke:rgb(255,255,255)\"/><rect x=\"330\" y=\"0\" width=\"55\" height=\"55\" style=\"fill:#e6c5c3;stroke-width:2;stroke:rgb(255,255,255)\"/><rect x=\"385\" y=\"0\" width=\"55\" height=\"55\" style=\"fill:#d7a09d;stroke-width:2;stroke:rgb(255,255,255)\"/><rect x=\"440\" y=\"0\" width=\"55\" height=\"55\" style=\"fill:#c87e7b;stroke-width:2;stroke:rgb(255,255,255)\"/><rect x=\"495\" y=\"0\" width=\"55\" height=\"55\" style=\"fill:#b95b5a;stroke-width:2;stroke:rgb(255,255,255)\"/></svg>"
      ],
      "text/plain": [
       "[(0.34125337, 0.50923419, 0.73874905),\n",
       " (0.49566225, 0.60454154, 0.76238852),\n",
       " (0.64061445, 0.70437326, 0.80497621),\n",
       " (0.79159841, 0.81658489, 0.86776906),\n",
       " (0.93827772, 0.9322888, 0.94432312),\n",
       " (0.96784372, 0.91616744, 0.91126063),\n",
       " (0.90235365, 0.77267117, 0.76467793),\n",
       " (0.84190106, 0.62760645, 0.61740899),\n",
       " (0.7862306, 0.49245398, 0.48267247),\n",
       " (0.72743485, 0.35773314, 0.35378465)]"
      ]
     },
     "execution_count": 17,
     "metadata": {},
     "output_type": "execute_result"
    }
   ],
   "source": [
    "# perceptually uniform\n",
    "sns.color_palette(\"vlag\", 10)"
   ]
  },
  {
   "cell_type": "code",
   "execution_count": 18,
   "id": "0eb187cf",
   "metadata": {
    "slideshow": {
     "slide_type": "fragment"
    }
   },
   "outputs": [
    {
     "data": {
      "text/html": [
       "<svg  width=\"550\" height=\"55\"><rect x=\"0\" y=\"0\" width=\"55\" height=\"55\" style=\"fill:#4da0fe;stroke-width:2;stroke:rgb(255,255,255)\"/><rect x=\"55\" y=\"0\" width=\"55\" height=\"55\" style=\"fill:#4485d0;stroke-width:2;stroke:rgb(255,255,255)\"/><rect x=\"110\" y=\"0\" width=\"55\" height=\"55\" style=\"fill:#3b6aa1;stroke-width:2;stroke:rgb(255,255,255)\"/><rect x=\"165\" y=\"0\" width=\"55\" height=\"55\" style=\"fill:#314e70;stroke-width:2;stroke:rgb(255,255,255)\"/><rect x=\"220\" y=\"0\" width=\"55\" height=\"55\" style=\"fill:#283342;stroke-width:2;stroke:rgb(255,255,255)\"/><rect x=\"275\" y=\"0\" width=\"55\" height=\"55\" style=\"fill:#412d1f;stroke-width:2;stroke:rgb(255,255,255)\"/><rect x=\"330\" y=\"0\" width=\"55\" height=\"55\" style=\"fill:#6e411a;stroke-width:2;stroke:rgb(255,255,255)\"/><rect x=\"385\" y=\"0\" width=\"55\" height=\"55\" style=\"fill:#9d5514;stroke-width:2;stroke:rgb(255,255,255)\"/><rect x=\"440\" y=\"0\" width=\"55\" height=\"55\" style=\"fill:#ca680f;stroke-width:2;stroke:rgb(255,255,255)\"/><rect x=\"495\" y=\"0\" width=\"55\" height=\"55\" style=\"fill:#f67c0a;stroke-width:2;stroke:rgb(255,255,255)\"/></svg>"
      ],
      "text/plain": [
       "[(0.30333210366809527, 0.629208174731071, 0.99625585181397),\n",
       " (0.2668380379908195, 0.5231597318535448, 0.8139828559389387),\n",
       " (0.23034397231354375, 0.41711128897601857, 0.6317098600639073),\n",
       " (0.19189741302755772, 0.30538907686808897, 0.43968495376503736),\n",
       " (0.15540334735028197, 0.1993406339905627, 0.2574119578900059),\n",
       " (0.25495361887621426, 0.17832084102122892, 0.12275049800980606),\n",
       " (0.4303894069785794, 0.25412340524029225, 0.10186171314876666),\n",
       " (0.6152113034427272, 0.3339815335466897, 0.07985534332759771),\n",
       " (0.7906470915450924, 0.409784097765753, 0.058966558466558294),\n",
       " (0.9660828796474575, 0.4855866619848163, 0.0380777736055189)]"
      ]
     },
     "execution_count": 18,
     "metadata": {},
     "output_type": "execute_result"
    }
   ],
   "source": [
    "# custom\n",
    "sns.diverging_palette(250, 30, s=99, l=65, center=\"dark\", n=10)"
   ]
  },
  {
   "cell_type": "markdown",
   "id": "4b5cc0cf",
   "metadata": {
    "slideshow": {
     "slide_type": "slide"
    }
   },
   "source": [
    "Matplotlib colormaps"
   ]
  },
  {
   "cell_type": "code",
   "execution_count": 19,
   "id": "2b69916b",
   "metadata": {
    "scrolled": false,
    "slideshow": {
     "slide_type": "fragment"
    }
   },
   "outputs": [],
   "source": [
    "cmaps = [('Perceptually Uniform Sequential', [\n",
    "            'viridis', 'plasma', 'inferno', 'magma']),\n",
    "         ('Sequential', [\n",
    "            'Greys', 'Purples', 'Blues', 'Greens', 'Oranges', 'Reds',\n",
    "            'YlOrBr', 'YlOrRd', 'OrRd', 'PuRd', 'RdPu', 'BuPu',\n",
    "            'GnBu', 'PuBu', 'YlGnBu', 'PuBuGn', 'BuGn', 'YlGn']),\n",
    "         ('Sequential (2)', [\n",
    "            'binary', 'gist_yarg', 'gist_gray', 'gray', 'bone', 'pink',\n",
    "            'spring', 'summer', 'autumn', 'winter', 'cool', 'Wistia',\n",
    "            'hot', 'afmhot', 'gist_heat', 'copper']),\n",
    "         ('Diverging', [\n",
    "            'PiYG', 'PRGn', 'BrBG', 'PuOr', 'RdGy', 'RdBu',\n",
    "            'RdYlBu', 'RdYlGn', 'Spectral', 'coolwarm', 'bwr', 'seismic']),\n",
    "         ('Qualitative', [\n",
    "            'Pastel1', 'Pastel2', 'Paired', 'Accent',\n",
    "            'Dark2', 'Set1', 'Set2', 'Set3',\n",
    "            'tab10', 'tab20', 'tab20b', 'tab20c']),\n",
    "         ('Miscellaneous', [\n",
    "            'flag', 'prism', 'ocean', 'gist_earth', 'terrain', 'gist_stern',\n",
    "            'gnuplot', 'gnuplot2', 'CMRmap', 'cubehelix', 'brg', 'hsv',\n",
    "            'gist_rainbow', 'rainbow', 'jet',  'turbo', 'nipy_spectral', 'gist_ncar'])]\n",
    "\n",
    "nrows = [len(cmap_list) for cmap_category, cmap_list in cmaps]\n",
    "gradient = np.linspace(0, 1, 256)\n",
    "gradient = np.vstack((gradient, gradient))\n",
    "\n",
    "\n",
    "def plot_color_gradients(cmap_category, cmap_list, nrows):\n",
    "    fig, axes = plt.subplots(nrows=nrows, figsize=(10, nrows / 3))\n",
    "    fig.subplots_adjust(top=0.95, bottom=0.01, left=0.2, right=0.99)\n",
    "    axes[0].set_title(cmap_category + ' colormaps', fontsize=14)\n",
    "\n",
    "    for ax, name in zip(axes, cmap_list):\n",
    "        ax.imshow(gradient, aspect='auto', cmap=plt.get_cmap(name))\n",
    "        pos = list(ax.get_position().bounds)\n",
    "        x_text = pos[0] - 0.01\n",
    "        y_text = pos[1] + pos[3]/2.\n",
    "        fig.text(x_text, y_text, name, va='center', ha='right', fontsize=10)\n",
    "\n",
    "    # Turn off *all* ticks & spines, not just the ones with colormaps.\n",
    "    for ax in axes:\n",
    "        ax.set_axis_off()"
   ]
  },
  {
   "cell_type": "code",
   "execution_count": 20,
   "id": "4742a3da",
   "metadata": {
    "slideshow": {
     "slide_type": "fragment"
    }
   },
   "outputs": [
    {
     "data": {
      "image/png": "[encoded data removed]",
      "text/plain": [
       "<Figure size 720x96 with 4 Axes>"
      ]
     },
     "metadata": {
      "needs_background": "light"
     },
     "output_type": "display_data"
    },
    {
     "data": {
      "image/png": "[encoded data removed]",
      "text/plain": [
       "<Figure size 720x432 with 18 Axes>"
      ]
     },
     "metadata": {
      "needs_background": "light"
     },
     "output_type": "display_data"
    },
    {
     "data": {
      "image/png": "[encoded data removed]",
      "text/plain": [
       "<Figure size 720x384 with 16 Axes>"
      ]
     },
     "metadata": {
      "needs_background": "light"
     },
     "output_type": "display_data"
    },
    {
     "data": {
      "image/png": "[encoded data removed]",
      "text/plain": [
       "<Figure size 720x288 with 12 Axes>"
      ]
     },
     "metadata": {
      "needs_background": "light"
     },
     "output_type": "display_data"
    },
    {
     "data": {
      "image/png": "[encoded data removed]",
      "text/plain": [
       "<Figure size 720x288 with 12 Axes>"
      ]
     },
     "metadata": {
      "needs_background": "light"
     },
     "output_type": "display_data"
    },
    {
     "data": {
      "image/png": "[encoded data removed]",
      "text/plain": [
       "<Figure size 720x432 with 18 Axes>"
      ]
     },
     "metadata": {
      "needs_background": "light"
     },
     "output_type": "display_data"
    }
   ],
   "source": [
    "for i, cmap in enumerate(cmaps):\n",
    "    cmap_category, cmap_list = cmap\n",
    "    plot_color_gradients(cmap_category, cmap_list, nrows[i])"
   ]
  },
  {
   "cell_type": "markdown",
   "id": "9a17cbfe",
   "metadata": {
    "slideshow": {
     "slide_type": "slide"
    }
   },
   "source": [
    "#### 3.4.4.3 More on Color\n",
    "- https://www.boronine.com/2012/03/26/Color-Spaces-for-Human-Beings/\n",
    "- https://colorbrewer2.org/\n",
    "- https://earthobservatory.nasa.gov/blogs/elegantfigures/2013/08/05/subtleties-of-color-part-1-of-6/\n",
    "- https://matplotlib.org/2.0.2/users/colormaps.html"
   ]
  },
  {
   "cell_type": "markdown",
   "id": "4144ba9e",
   "metadata": {
    "slideshow": {
     "slide_type": "slide"
    }
   },
   "source": [
    "# 4. For next time\n",
    "\n",
    "- Data viz. examples\n",
    "- HW3\n",
    "- GitHub pages"
   ]
  },
  {
   "cell_type": "markdown",
   "id": "8764a410",
   "metadata": {
    "slideshow": {
     "slide_type": "slide"
    }
   },
   "source": [
    "# 5. Questions?"
   ]
  }
 ],
 "metadata": {
  "celltoolbar": "Slideshow",
  "kernelspec": {
   "display_name": "Python 3",
   "language": "python",
   "name": "python3"
  },
  "language_info": {
   "codemirror_mode": {
    "name": "ipython",
    "version": 3
   },
   "file_extension": ".py",
   "mimetype": "text/x-python",
   "name": "python",
   "nbconvert_exporter": "python",
   "pygments_lexer": "ipython3",
   "version": "3.8.8"
  },
  "toc": {
   "base_numbering": 1,
   "nav_menu": {},
   "number_sections": false,
   "sideBar": false,
   "skip_h1_title": true,
   "title_cell": "Table of Contents",
   "title_sidebar": "Contents",
   "toc_cell": false,
   "toc_position": {},
   "toc_section_display": true,
   "toc_window_display": false
  }
 },
 "nbformat": 4,
 "nbformat_minor": 5
}
