{
 "cells": [
  {
   "cell_type": "markdown",
   "id": "f96bdfc7",
   "metadata": {},
   "source": [
    "# Assignment 2 | Programming Logic\n",
    "\n",
    "Reminder: in all of the assignments this semester, the answer is not the only consideration, but also how you get to it. It's OK (suggested even!) to use the internet for help. But you _should_ be able to answer all of these questions using only the programming techniques you have learned in class and from the readings.\n",
    "\n",
    "A few keys for success:\n",
    "- Avoid manual data entry\n",
    "- Emphasize logic and clarity\n",
    "- Use comments, docstrings, and descriptive variable names\n",
    "- In general, less code is better. But if more lines of code makes your program easier to read or understand what its doing, then go for it."
   ]
  },
  {
   "cell_type": "markdown",
   "id": "078a9000",
   "metadata": {},
   "source": [
    "## Problem 1 \n",
    "Write a Python program to count the number of even and odd numbers from a list of numbers. Test your code by running it on a list of integers from 1 to 9. No need to make this a function unless you want to."
   ]
  },
  {
   "cell_type": "code",
   "execution_count": 1,
   "id": "8eb937c5",
   "metadata": {
    "scrolled": true
   },
   "outputs": [],
   "source": [
    "#creates a list from 1-9\n",
    "test_list = [1,2,3,4,5,6,7,8,9]"
   ]
  },
  {
   "cell_type": "code",
   "execution_count": 2,
   "id": "8ee97500",
   "metadata": {},
   "outputs": [],
   "source": [
    "#have even and odd count start at 0\n",
    "even_num, odd_num = 0,0"
   ]
  },
  {
   "cell_type": "code",
   "execution_count": 3,
   "id": "c5f16bf6",
   "metadata": {},
   "outputs": [
    {
     "name": "stdout",
     "output_type": "stream",
     "text": [
      "Even count:  4\n",
      "Odd count:  5\n"
     ]
    }
   ],
   "source": [
    "for i in test_list: \n",
    "    if i % 2 == 0: #no remainder therefore even number\n",
    "        even_num += 1 #if true, assigns value as even and adds one number to the number that ran through function\n",
    "        \n",
    "    else:\n",
    "        odd_num += 1 #other values are assigned odd and adds one number to the number that ran through function\n",
    "        \n",
    "print(\"Even count: \", even_num)\n",
    "print(\"Odd count: \",odd_num)"
   ]
  },
  {
   "cell_type": "markdown",
   "id": "db9df1a9",
   "metadata": {
    "collapsed": true
   },
   "source": [
    "## Problem 2\n",
    "Write a Python function that takes a list of numbers and returns a list containing only the even numbers from the original list. Test your function by running it on a list of integers from 1 to 9."
   ]
  },
  {
   "cell_type": "code",
   "execution_count": 4,
   "id": "e2e0002d",
   "metadata": {},
   "outputs": [
    {
     "data": {
      "text/plain": [
       "[2, 4, 6, 8]"
      ]
     },
     "execution_count": 4,
     "metadata": {},
     "output_type": "execute_result"
    }
   ],
   "source": [
    "def get_even(number): #create new function\n",
    "    even_number=[] #create empty list\n",
    "    for x in (number): \n",
    "        if x % 2 == 0: #if returns no remainder then its even and append to even number list\n",
    "            even_number.append(x)\n",
    "    return even_number #return list\n",
    "    \n",
    "get_even(test_list) #test function\n"
   ]
  },
  {
   "cell_type": "markdown",
   "id": "6a6f4ef0",
   "metadata": {},
   "source": [
    "## Problem 3\n",
    "\n",
    "1. Create a function that accepts a list of integers as an argument and returns a list of floats which equals each number as a fraction of the sum of all the items in the original list.\n",
    "\n",
    "2. Next, create a second function which is the same as the first, but limit each number in the output list to two decimals.\n",
    "\n",
    "3. Create another function which builds on the previous one by allowing a \"user\" pass in an argument that defines the number of decimal places to use in the output list.\n",
    "\n",
    "4. Test each of these functions with a list of integers"
   ]
  },
  {
   "cell_type": "markdown",
   "id": "cb6b4e8e",
   "metadata": {},
   "source": [
    "### P3 Part 1"
   ]
  },
  {
   "cell_type": "code",
   "execution_count": 5,
   "id": "4cb88aad",
   "metadata": {},
   "outputs": [
    {
     "name": "stdout",
     "output_type": "stream",
     "text": [
      "[0.06666666666666667, 0.13333333333333333, 0.2, 0.26666666666666666, 0.3333333333333333]\n"
     ]
    }
   ],
   "source": [
    "#Create a function that accepts a list of integers as an argument and returns a list of floats which equals each \n",
    "#number as a fraction of the sum of all the items in the original list.\n",
    "\n",
    "new_list = [1,2,3,4,5] #creates list\n",
    "sum_list = sum(new_list) #create new list which sums all items in new list\n",
    "\n",
    "\n",
    "fraction = [] #create empty fraction list\n",
    "def frac_func(x): #define a function called frac_func\n",
    "    for x in new_list: \n",
    "        fraction.append(x / sum_list) #divide each item in new list by sum list and append to the fraction list\n",
    "    print(fraction)\n",
    "    \n",
    "frac_func(1)\n",
    "\n"
   ]
  },
  {
   "cell_type": "markdown",
   "id": "a2a34acb",
   "metadata": {},
   "source": [
    "### P3 Part 2"
   ]
  },
  {
   "cell_type": "code",
   "execution_count": 6,
   "id": "097a1f0c",
   "metadata": {},
   "outputs": [
    {
     "name": "stdout",
     "output_type": "stream",
     "text": [
      "['0.07', '0.13', '0.20', '0.27', '0.33']\n"
     ]
    }
   ],
   "source": [
    "#Next, create a second function which is the same as the first, \n",
    "#but limit each number in the output list to two decimals.\n",
    "\n",
    "fraction = [] #create empty fraction list\n",
    "def frac_func(x): #define a function called frac_func\n",
    "    for x in new_list: \n",
    "        fraction.append(x / sum_list) #divide each item in new list by sum list and append to the fraction list\n",
    "    two_dec = [ '%.2f' % x for x in fraction]\n",
    "    print(two_dec)\n",
    "   \n",
    "    \n",
    "frac_func(1)"
   ]
  },
  {
   "cell_type": "markdown",
   "id": "43f417d1",
   "metadata": {},
   "source": [
    "### P3 Part 3"
   ]
  },
  {
   "cell_type": "code",
   "execution_count": 7,
   "id": "ef963b63",
   "metadata": {},
   "outputs": [],
   "source": [
    "import numpy as np"
   ]
  },
  {
   "cell_type": "code",
   "execution_count": 8,
   "id": "8b1bf139",
   "metadata": {},
   "outputs": [
    {
     "name": "stdout",
     "output_type": "stream",
     "text": [
      "How many decimals would you like to display?5\n"
     ]
    },
    {
     "ename": "TypeError",
     "evalue": "an integer is required (got type str)",
     "output_type": "error",
     "traceback": [
      "\u001b[0;31m---------------------------------------------------------------------------\u001b[0m",
      "\u001b[0;31mTypeError\u001b[0m                                 Traceback (most recent call last)",
      "\u001b[0;32m~/opt/anaconda3/lib/python3.9/site-packages/numpy/core/fromnumeric.py\u001b[0m in \u001b[0;36m_wrapfunc\u001b[0;34m(obj, method, *args, **kwds)\u001b[0m\n\u001b[1;32m     57\u001b[0m     \u001b[0;32mtry\u001b[0m\u001b[0;34m:\u001b[0m\u001b[0;34m\u001b[0m\u001b[0;34m\u001b[0m\u001b[0m\n\u001b[0;32m---> 58\u001b[0;31m         \u001b[0;32mreturn\u001b[0m \u001b[0mbound\u001b[0m\u001b[0;34m(\u001b[0m\u001b[0;34m*\u001b[0m\u001b[0margs\u001b[0m\u001b[0;34m,\u001b[0m \u001b[0;34m**\u001b[0m\u001b[0mkwds\u001b[0m\u001b[0;34m)\u001b[0m\u001b[0;34m\u001b[0m\u001b[0;34m\u001b[0m\u001b[0m\n\u001b[0m\u001b[1;32m     59\u001b[0m     \u001b[0;32mexcept\u001b[0m \u001b[0mTypeError\u001b[0m\u001b[0;34m:\u001b[0m\u001b[0;34m\u001b[0m\u001b[0;34m\u001b[0m\u001b[0m\n",
      "\u001b[0;31mTypeError\u001b[0m: an integer is required (got type str)",
      "\nDuring handling of the above exception, another exception occurred:\n",
      "\u001b[0;31mTypeError\u001b[0m                                 Traceback (most recent call last)",
      "\u001b[0;32m/var/folders/l1/5dp5j9v50g32m73d0hgrnvch0000gn/T/ipykernel_90295/273233568.py\u001b[0m in \u001b[0;36m<module>\u001b[0;34m\u001b[0m\n\u001b[1;32m     17\u001b[0m \u001b[0;34m\u001b[0m\u001b[0m\n\u001b[1;32m     18\u001b[0m \u001b[0;34m\u001b[0m\u001b[0m\n\u001b[0;32m---> 19\u001b[0;31m \u001b[0mfrac_func\u001b[0m\u001b[0;34m(\u001b[0m\u001b[0;36m1\u001b[0m\u001b[0;34m)\u001b[0m\u001b[0;34m\u001b[0m\u001b[0;34m\u001b[0m\u001b[0m\n\u001b[0m",
      "\u001b[0;32m/var/folders/l1/5dp5j9v50g32m73d0hgrnvch0000gn/T/ipykernel_90295/273233568.py\u001b[0m in \u001b[0;36mfrac_func\u001b[0;34m(x)\u001b[0m\n\u001b[1;32m     11\u001b[0m     \u001b[0;31m#two_dec = [ '%.2f' % x for x in fraction]\u001b[0m\u001b[0;34m\u001b[0m\u001b[0;34m\u001b[0m\u001b[0m\n\u001b[1;32m     12\u001b[0m     \u001b[0mfraction_array\u001b[0m \u001b[0;34m=\u001b[0m \u001b[0mnp\u001b[0m\u001b[0;34m.\u001b[0m\u001b[0marray\u001b[0m\u001b[0;34m(\u001b[0m\u001b[0mfraction\u001b[0m\u001b[0;34m)\u001b[0m\u001b[0;34m\u001b[0m\u001b[0;34m\u001b[0m\u001b[0m\n\u001b[0;32m---> 13\u001b[0;31m     \u001b[0mprint\u001b[0m\u001b[0;34m(\u001b[0m\u001b[0mnp\u001b[0m\u001b[0;34m.\u001b[0m\u001b[0mround\u001b[0m\u001b[0;34m(\u001b[0m\u001b[0mfraction_array\u001b[0m\u001b[0;34m,\u001b[0m\u001b[0muser\u001b[0m\u001b[0;34m)\u001b[0m\u001b[0;34m)\u001b[0m\u001b[0;34m\u001b[0m\u001b[0;34m\u001b[0m\u001b[0m\n\u001b[0m\u001b[1;32m     14\u001b[0m     \u001b[0;31m#print(round(fraction,user))\u001b[0m\u001b[0;34m\u001b[0m\u001b[0;34m\u001b[0m\u001b[0m\n\u001b[1;32m     15\u001b[0m     \u001b[0;31m#user_select = round(fraction, user)\u001b[0m\u001b[0;34m\u001b[0m\u001b[0;34m\u001b[0m\u001b[0m\n",
      "\u001b[0;32m<__array_function__ internals>\u001b[0m in \u001b[0;36mround_\u001b[0;34m(*args, **kwargs)\u001b[0m\n",
      "\u001b[0;32m~/opt/anaconda3/lib/python3.9/site-packages/numpy/core/fromnumeric.py\u001b[0m in \u001b[0;36mround_\u001b[0;34m(a, decimals, out)\u001b[0m\n\u001b[1;32m   3716\u001b[0m     \u001b[0maround\u001b[0m \u001b[0;34m:\u001b[0m \u001b[0mequivalent\u001b[0m \u001b[0mfunction\u001b[0m\u001b[0;34m;\u001b[0m \u001b[0msee\u001b[0m \u001b[0;32mfor\u001b[0m \u001b[0mdetails\u001b[0m\u001b[0;34m.\u001b[0m\u001b[0;34m\u001b[0m\u001b[0;34m\u001b[0m\u001b[0m\n\u001b[1;32m   3717\u001b[0m     \"\"\"\n\u001b[0;32m-> 3718\u001b[0;31m     \u001b[0;32mreturn\u001b[0m \u001b[0maround\u001b[0m\u001b[0;34m(\u001b[0m\u001b[0ma\u001b[0m\u001b[0;34m,\u001b[0m \u001b[0mdecimals\u001b[0m\u001b[0;34m=\u001b[0m\u001b[0mdecimals\u001b[0m\u001b[0;34m,\u001b[0m \u001b[0mout\u001b[0m\u001b[0;34m=\u001b[0m\u001b[0mout\u001b[0m\u001b[0;34m)\u001b[0m\u001b[0;34m\u001b[0m\u001b[0;34m\u001b[0m\u001b[0m\n\u001b[0m\u001b[1;32m   3719\u001b[0m \u001b[0;34m\u001b[0m\u001b[0m\n\u001b[1;32m   3720\u001b[0m \u001b[0;34m\u001b[0m\u001b[0m\n",
      "\u001b[0;32m<__array_function__ internals>\u001b[0m in \u001b[0;36maround\u001b[0;34m(*args, **kwargs)\u001b[0m\n",
      "\u001b[0;32m~/opt/anaconda3/lib/python3.9/site-packages/numpy/core/fromnumeric.py\u001b[0m in \u001b[0;36maround\u001b[0;34m(a, decimals, out)\u001b[0m\n\u001b[1;32m   3291\u001b[0m \u001b[0;34m\u001b[0m\u001b[0m\n\u001b[1;32m   3292\u001b[0m     \"\"\"\n\u001b[0;32m-> 3293\u001b[0;31m     \u001b[0;32mreturn\u001b[0m \u001b[0m_wrapfunc\u001b[0m\u001b[0;34m(\u001b[0m\u001b[0ma\u001b[0m\u001b[0;34m,\u001b[0m \u001b[0;34m'round'\u001b[0m\u001b[0;34m,\u001b[0m \u001b[0mdecimals\u001b[0m\u001b[0;34m=\u001b[0m\u001b[0mdecimals\u001b[0m\u001b[0;34m,\u001b[0m \u001b[0mout\u001b[0m\u001b[0;34m=\u001b[0m\u001b[0mout\u001b[0m\u001b[0;34m)\u001b[0m\u001b[0;34m\u001b[0m\u001b[0;34m\u001b[0m\u001b[0m\n\u001b[0m\u001b[1;32m   3294\u001b[0m \u001b[0;34m\u001b[0m\u001b[0m\n\u001b[1;32m   3295\u001b[0m \u001b[0;34m\u001b[0m\u001b[0m\n",
      "\u001b[0;32m~/opt/anaconda3/lib/python3.9/site-packages/numpy/core/fromnumeric.py\u001b[0m in \u001b[0;36m_wrapfunc\u001b[0;34m(obj, method, *args, **kwds)\u001b[0m\n\u001b[1;32m     65\u001b[0m         \u001b[0;31m# Call _wrapit from within the except clause to ensure a potential\u001b[0m\u001b[0;34m\u001b[0m\u001b[0;34m\u001b[0m\u001b[0m\n\u001b[1;32m     66\u001b[0m         \u001b[0;31m# exception has a traceback chain.\u001b[0m\u001b[0;34m\u001b[0m\u001b[0;34m\u001b[0m\u001b[0m\n\u001b[0;32m---> 67\u001b[0;31m         \u001b[0;32mreturn\u001b[0m \u001b[0m_wrapit\u001b[0m\u001b[0;34m(\u001b[0m\u001b[0mobj\u001b[0m\u001b[0;34m,\u001b[0m \u001b[0mmethod\u001b[0m\u001b[0;34m,\u001b[0m \u001b[0;34m*\u001b[0m\u001b[0margs\u001b[0m\u001b[0;34m,\u001b[0m \u001b[0;34m**\u001b[0m\u001b[0mkwds\u001b[0m\u001b[0;34m)\u001b[0m\u001b[0;34m\u001b[0m\u001b[0;34m\u001b[0m\u001b[0m\n\u001b[0m\u001b[1;32m     68\u001b[0m \u001b[0;34m\u001b[0m\u001b[0m\n\u001b[1;32m     69\u001b[0m \u001b[0;34m\u001b[0m\u001b[0m\n",
      "\u001b[0;32m~/opt/anaconda3/lib/python3.9/site-packages/numpy/core/fromnumeric.py\u001b[0m in \u001b[0;36m_wrapit\u001b[0;34m(obj, method, *args, **kwds)\u001b[0m\n\u001b[1;32m     42\u001b[0m     \u001b[0;32mexcept\u001b[0m \u001b[0mAttributeError\u001b[0m\u001b[0;34m:\u001b[0m\u001b[0;34m\u001b[0m\u001b[0;34m\u001b[0m\u001b[0m\n\u001b[1;32m     43\u001b[0m         \u001b[0mwrap\u001b[0m \u001b[0;34m=\u001b[0m \u001b[0;32mNone\u001b[0m\u001b[0;34m\u001b[0m\u001b[0;34m\u001b[0m\u001b[0m\n\u001b[0;32m---> 44\u001b[0;31m     \u001b[0mresult\u001b[0m \u001b[0;34m=\u001b[0m \u001b[0mgetattr\u001b[0m\u001b[0;34m(\u001b[0m\u001b[0masarray\u001b[0m\u001b[0;34m(\u001b[0m\u001b[0mobj\u001b[0m\u001b[0;34m)\u001b[0m\u001b[0;34m,\u001b[0m \u001b[0mmethod\u001b[0m\u001b[0;34m)\u001b[0m\u001b[0;34m(\u001b[0m\u001b[0;34m*\u001b[0m\u001b[0margs\u001b[0m\u001b[0;34m,\u001b[0m \u001b[0;34m**\u001b[0m\u001b[0mkwds\u001b[0m\u001b[0;34m)\u001b[0m\u001b[0;34m\u001b[0m\u001b[0;34m\u001b[0m\u001b[0m\n\u001b[0m\u001b[1;32m     45\u001b[0m     \u001b[0;32mif\u001b[0m \u001b[0mwrap\u001b[0m\u001b[0;34m:\u001b[0m\u001b[0;34m\u001b[0m\u001b[0;34m\u001b[0m\u001b[0m\n\u001b[1;32m     46\u001b[0m         \u001b[0;32mif\u001b[0m \u001b[0;32mnot\u001b[0m \u001b[0misinstance\u001b[0m\u001b[0;34m(\u001b[0m\u001b[0mresult\u001b[0m\u001b[0;34m,\u001b[0m \u001b[0mmu\u001b[0m\u001b[0;34m.\u001b[0m\u001b[0mndarray\u001b[0m\u001b[0;34m)\u001b[0m\u001b[0;34m:\u001b[0m\u001b[0;34m\u001b[0m\u001b[0;34m\u001b[0m\u001b[0m\n",
      "\u001b[0;31mTypeError\u001b[0m: an integer is required (got type str)"
     ]
    }
   ],
   "source": [
    "#Create another function which builds on the previous one by allowing a \"user\" pass in an argument that defines the \n",
    "#number of decimal places to use in the output list. galaxy prompt \n",
    "\n",
    "prompt = \"How many decimals would you like to display?\"\n",
    "user = input(prompt)\n",
    "\n",
    "fraction = [] #create empty fraction list\n",
    "def frac_func(x): #define a function called frac_func\n",
    "    for x in new_list: \n",
    "        fraction.append(x / sum_list) #divide each item in new list by sum list and append to the fraction list\n",
    "    #two_dec = [ '%.2f' % x for x in fraction]\n",
    "    fraction_array = np.array(fraction)\n",
    "    print(np.round(fraction_array,user))\n",
    "    #print(round(fraction,user))\n",
    "    #user_select = round(fraction, user)\n",
    "    #print(user_select)\n",
    "   \n",
    "    \n",
    "frac_func(1)"
   ]
  },
  {
   "cell_type": "code",
   "execution_count": null,
   "id": "50557251",
   "metadata": {},
   "outputs": [],
   "source": [
    "print('Enter your name:')\n",
    "x = input()\n",
    "print('Hello, ' + x)"
   ]
  },
  {
   "cell_type": "code",
   "execution_count": null,
   "id": "bdc09b2c",
   "metadata": {},
   "outputs": [],
   "source": [
    "b = 1/3\n",
    "print(b)\n",
    "print(round(b, 2))"
   ]
  },
  {
   "cell_type": "markdown",
   "id": "17e43098",
   "metadata": {},
   "source": [
    "## Problem 4\n",
    "A prime number is any whole number greater than 1 that has no positive divisors besides 1 and itself. In other words, a prime number must be:\n",
    "1. an integer\n",
    "2. greater than 1\n",
    "3. divisible only by 1 and itself.\n",
    "\n",
    "Write a function is_prime(n) that accepts an argument `n` and returns `True` (boolean) if `n` is a prime number and `False` if n is not prime. For example, `is_prime(11)` should return `True` and `is_prime(12)` should return `False`.\n"
   ]
  },
  {
   "cell_type": "code",
   "execution_count": null,
   "id": "7b43bc6c",
   "metadata": {},
   "outputs": [],
   "source": [
    "def is_prime(n):\n",
    "    if n <= 1: #n is not prime if less than or equal to 1\n",
    "        return False #return that its not prime\n",
    "    \n",
    "    for i in range(2,n): # for all numbers i in the range running from 2 to n, do the following\n",
    "        if n % i ==0: # if number i divides n evenly, then it is false\n",
    "            return False #return false boolean\n",
    "    return True #for everything else, it must be true \n",
    "            \n",
    "#is_prime(24) #checking a non-prime and it works! \n",
    "is_prime(23) #checking a prime and it works also! \n",
    "    "
   ]
  },
  {
   "cell_type": "markdown",
   "id": "e556b42f",
   "metadata": {},
   "source": [
    "## Problem 5"
   ]
  },
  {
   "cell_type": "markdown",
   "id": "fd5f4463",
   "metadata": {},
   "source": [
    "1. Create a class called `Housing`, and add the following attributes to it:\n",
    "  - type\n",
    "  - area\n",
    "  - number of bedrooms\n",
    "  - value (price)\n",
    "  - year built.\n",
    "2. Create two instances of your class and populate their attributes (make 'em up)\n",
    "3. Create a method called `rent()` that calculates the estimated monthly rent for each house (assume that monthly rent is 0.4% of the value of the house)\n",
    "4. Print the rent for both instances."
   ]
  },
  {
   "cell_type": "markdown",
   "id": "38a1eda5",
   "metadata": {},
   "source": [
    "### P5 Part 1"
   ]
  },
  {
   "cell_type": "code",
   "execution_count": null,
   "id": "efa713df",
   "metadata": {},
   "outputs": [],
   "source": [
    "#create class called housing\n",
    "class Housing: #creates class called housing\n",
    "    \n",
    "    def __init__(self, type_house, area, number_bedrooms, value, year_built):\n",
    "        self.type_house = type_house #add the attributes \n",
    "        self.area = area\n",
    "        self.number_bedrooms = number_bedrooms\n",
    "        self.value = value\n",
    "        self.year_built = year_built\n",
    "    \n",
    "\n",
    "        "
   ]
  },
  {
   "cell_type": "markdown",
   "id": "f225c178",
   "metadata": {},
   "source": [
    "### P5 Part 2"
   ]
  },
  {
   "cell_type": "code",
   "execution_count": null,
   "id": "37cab5a9",
   "metadata": {},
   "outputs": [],
   "source": [
    "#Create two instances of your class and populate their attributes\n",
    "\n",
    "unit_1 = Housing('Apartment', 2300, 3, 500000, 1995) #assign these values to each of the five attributes\n",
    "unit_2 = Housing('Duplex', 4500, 4, 950000, 2009)\n",
    "\n",
    "print(\"The {0} is {1} square feet, {2} bedrooms, ${3} to buy, and was built in {4}\".format(unit_1.type_house, unit_1.area, unit_1.number_bedrooms, unit_1.value, unit_1.year_built)) #test to see if attribute prints\n"
   ]
  },
  {
   "cell_type": "markdown",
   "id": "9c8c408b",
   "metadata": {},
   "source": [
    "### P5 Part 3"
   ]
  },
  {
   "cell_type": "code",
   "execution_count": null,
   "id": "c861d09d",
   "metadata": {},
   "outputs": [],
   "source": [
    "#Create a method called rent() that calculates the estimated monthly rent for each house \n",
    "\n",
    "class Housing: #creates class called housing\n",
    "    \n",
    "    def __init__(self, type_house, area, number_bedrooms, value, year_built):\n",
    "        self.type_house = type_house #add the attributes \n",
    "        self.area = area\n",
    "        self.number_bedrooms = number_bedrooms\n",
    "        self.value = value\n",
    "        self.year_built = year_built\n",
    "        \n",
    "    def rent(self, price_rent = 0.004): #create method that takes value and multiplies by specified percent of price of property\n",
    "        return round (self.value * price_rent)"
   ]
  },
  {
   "cell_type": "code",
   "execution_count": null,
   "id": "86c02dae",
   "metadata": {},
   "outputs": [],
   "source": [
    "unit_1 = Housing('Apartment', 2300, 3, 500000, 1995) #assign these values to each of the five attributes\n",
    "unit_2 = Housing('Duplex', 4500, 4, 950000, 2009)"
   ]
  },
  {
   "cell_type": "markdown",
   "id": "d3018667",
   "metadata": {},
   "source": [
    "### P5 Part 4"
   ]
  },
  {
   "cell_type": "code",
   "execution_count": null,
   "id": "331cb71d",
   "metadata": {
    "scrolled": true
   },
   "outputs": [],
   "source": [
    "#print rent \n",
    "print(unit_1.rent())\n",
    "print(unit_2.rent())"
   ]
  },
  {
   "cell_type": "code",
   "execution_count": null,
   "id": "1a0f62e9",
   "metadata": {},
   "outputs": [],
   "source": []
  }
 ],
 "metadata": {
  "kernelspec": {
   "display_name": "Python 3 (ipykernel)",
   "language": "python",
   "name": "python3"
  },
  "language_info": {
   "codemirror_mode": {
    "name": "ipython",
    "version": 3
   },
   "file_extension": ".py",
   "mimetype": "text/x-python",
   "name": "python",
   "nbconvert_exporter": "python",
   "pygments_lexer": "ipython3",
   "version": "3.9.7"
  },
  "toc": {
   "base_numbering": 1,
   "nav_menu": {},
   "number_sections": false,
   "sideBar": false,
   "skip_h1_title": true,
   "title_cell": "Table of Contents",
   "title_sidebar": "Contents",
   "toc_cell": false,
   "toc_position": {},
   "toc_section_display": true,
   "toc_window_display": false
  }
 },
 "nbformat": 4,
 "nbformat_minor": 5
}
