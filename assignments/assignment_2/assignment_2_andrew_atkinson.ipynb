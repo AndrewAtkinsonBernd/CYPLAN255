{
 "cells": [
  {
   "cell_type": "markdown",
   "id": "f96bdfc7",
   "metadata": {},
   "source": [
    "# Assignment 2 | Programming Logic\n",
    "\n",
    "Reminder: in all of the assignments this semester, the answer is not the only consideration, but also how you get to it. It's OK (suggested even!) to use the internet for help. But you _should_ be able to answer all of these questions using only the programming techniques you have learned in class and from the readings.\n",
    "\n",
    "A few keys for success:\n",
    "- Avoid manual data entry\n",
    "- Emphasize logic and clarity\n",
    "- Use comments, docstrings, and descriptive variable names\n",
    "- In general, less code is better. But if more lines of code makes your program easier to read or understand what its doing, then go for it."
   ]
  },
  {
   "cell_type": "markdown",
   "id": "078a9000",
   "metadata": {},
   "source": [
    "## Problem 1 \n",
    "Write a Python program to count the number of even and odd numbers from a list of numbers. Test your code by running it on a list of integers from 1 to 9. No need to make this a function unless you want to."
   ]
  },
  {
   "cell_type": "code",
   "execution_count": 76,
   "id": "8eb937c5",
   "metadata": {},
   "outputs": [
    {
     "name": "stdout",
     "output_type": "stream",
     "text": [
      "There are 4 even numbers and 5 odd numbers in your list\n",
      "There are 9 even numbers and 10 odd numbers in your list\n"
     ]
    }
   ],
   "source": [
    "def evenoddcount(numbers):\n",
    "    \"\"\"Prints the number of even and odd numbers from a list of numbers\"\"\"\n",
    "    #ls = (list)\n",
    "    ls = map(lambda x: x, numbers)\n",
    "    ls1 = map(lambda x: x % 2 == 0, ls)\n",
    "    ls2 = list(ls1)\n",
    "    counteven = 0\n",
    "    for even in ls2:\n",
    "        if (even == True):\n",
    "            counteven = counteven + 1\n",
    "    countodd = 0\n",
    "    for odd in ls2:\n",
    "        if (odd == False):\n",
    "            countodd = countodd + 1\n",
    "    estr = str(counteven)\n",
    "    ostr = str(countodd)\n",
    "    w = 'There are even numbers and odd numbers in your list'\n",
    "    result = w[:10]+estr+w[9:27]+ostr+w[26:]\n",
    "    print(result)\n",
    "\n",
    "foo = [1,2,3,4,5,6,7,8,9]\n",
    "evenoddcount(foo)\n",
    "\n",
    "foo2 = [1,2,3,4,5,6,7,8,9,10,11,12,13,14,15,16,17,18,19]\n",
    "evenoddcount(foo2)"
   ]
  },
  {
   "cell_type": "markdown",
   "id": "db9df1a9",
   "metadata": {
    "collapsed": true
   },
   "source": [
    "## Problem 2\n",
    "Write a Python function that takes a list of numbers and returns a list containing only the even numbers from the original list. Test your function by running it on a list of integers from 1 to 9."
   ]
  },
  {
   "cell_type": "code",
   "execution_count": 78,
   "id": "45fcfd00",
   "metadata": {},
   "outputs": [
    {
     "name": "stdout",
     "output_type": "stream",
     "text": [
      "[2, 4, 6, 8]\n",
      "[8, 16, 50, 24, 102]\n"
     ]
    }
   ],
   "source": [
    "def evenreturn(numbers):\n",
    "    \"\"\"Returns just the even numbers from a list numbers\"\"\"\n",
    "    ls = map(lambda x: x, numbers)\n",
    "    result=[]\n",
    "    for even in ls:\n",
    "        if even % 2 == 0:\n",
    "            result.append(even)\n",
    "        final=result\n",
    "    print(final)\n",
    "    \n",
    "foo = [1,2,3,4,5,6,7,8,9]\n",
    "evenreturn(foo)\n",
    "\n",
    "foo2 = [8,3,16,50,24,5,1,102,103]\n",
    "evenreturn(foo2)"
   ]
  },
  {
   "cell_type": "markdown",
   "id": "6a6f4ef0",
   "metadata": {},
   "source": [
    "## Problem 3\n",
    "\n",
    "1. Create a function that accepts a list of integers as an argument and returns a list of floats which equals each number as a fraction of the sum of all the items in the original list.\n",
    "\n",
    "2. Next, create a second function which is the same as the first, but limit each number in the output list to two decimals.\n",
    "\n",
    "3. Create another function which builds on the previous one by allowing a \"user\" pass in an argument that defines the number of decimal places to use in the output list.\n",
    "\n",
    "4. Test each of these functions with a list of integers"
   ]
  },
  {
   "cell_type": "code",
   "execution_count": 136,
   "id": "6856ee58",
   "metadata": {},
   "outputs": [
    {
     "name": "stdout",
     "output_type": "stream",
     "text": [
      "1.\n",
      "[0.07142857142857142, 0.09523809523809523, 0.11904761904761904, 0.14285714285714285, 0.16666666666666666, 0.19047619047619047, 0.21428571428571427]\n",
      "2.\n",
      "[0.07, 0.1, 0.12, 0.14, 0.17, 0.19, 0.21]\n",
      "3.\n",
      "[0.0714, 0.0952, 0.119, 0.1429, 0.1667, 0.1905, 0.2143]\n"
     ]
    }
   ],
   "source": [
    "print('1.')\n",
    "\n",
    "def fracsum(numbers):\n",
    "    \"\"\"accepts a list of integers as an argument and returns a list of \n",
    "    floats which equals each number as a fraction of the sum of all the items in the original list.\"\"\"\n",
    "    #ls = map(lambda x: x, numbers)\n",
    "    ls2 = [int(x) for x in numbers]\n",
    "    tot = sum(ls2)\n",
    "    result = [x/tot for x in ls2]\n",
    "    print(result)\n",
    "    \n",
    "foo = [3,4,5,6,7,8,9]\n",
    "fracofsum(foo)\n",
    "\n",
    "\n",
    "print('2.')\n",
    "\n",
    "def fracsumrd(numbers):\n",
    "    \"\"\"accepts a list of integers as an argument and returns a list of \n",
    "    floats which equals each number as a fraction of the sum of all the items in the original list\n",
    "    rounded to two decimal places.\"\"\"\n",
    "    #ls = map(lambda x: x, numbers)\n",
    "    ls2 = [int(x) for x in numbers]\n",
    "    tot = sum(ls2)\n",
    "    result = [round(x/tot,2) for x in ls2]\n",
    "    print(result)\n",
    "    \n",
    "foo2 = [3,4,5,6,7,8,9]\n",
    "fracsumrd(foo2)\n",
    "\n",
    "print('3.')\n",
    "\n",
    "def fracsumrd(numbers,z):\n",
    "    \"\"\"accepts a list of integers as an argument and returns a list of \n",
    "    floats which equals each number as a fraction of the sum of all the items in the original list\n",
    "    rounded to user defined decimal places.\"\"\"\n",
    "    #ls = map(lambda x: x, numbers)\n",
    "    ls2 = [int(x) for x in numbers]\n",
    "    tot = sum(ls2)\n",
    "    result = [round(x/tot,z) for x in ls2]\n",
    "    print(result)\n",
    "    \n",
    "foo3 = [3,4,5,6,7,8,9]\n",
    "fracsumrd(foo3,4)"
   ]
  },
  {
   "cell_type": "markdown",
   "id": "17e43098",
   "metadata": {},
   "source": [
    "## Problem 4\n",
    "A prime number is any whole number greater than 1 that has no positive divisors besides 1 and itself. In other words, a prime number must be:\n",
    "1. an integer\n",
    "2. greater than 1\n",
    "3. divisible only by 1 and itself.\n",
    "\n",
    "Write a function is_prime(n) that accepts an argument `n` and returns `True` (boolean) if `n` is a prime number and `False` if n is not prime. For example, `is_prime(11)` should return `True` and `is_prime(12)` should return `False`.\n"
   ]
  },
  {
   "cell_type": "code",
   "execution_count": 33,
   "id": "7b43bc6c",
   "metadata": {},
   "outputs": [
    {
     "data": {
      "text/plain": [
       "True"
      ]
     },
     "execution_count": 33,
     "metadata": {},
     "output_type": "execute_result"
    }
   ],
   "source": [
    "def is_prime(n):\n",
    "    \"\"\"accepts an argument n and returns True if n is a prime number and False if n is not prime.\"\"\"\n",
    "    if n==2 or n==3:\n",
    "        return True\n",
    "    if not isinstance(n, int) :\n",
    "        return False\n",
    "    if n<=1 :\n",
    "        return False\n",
    "    for i in range(3,n):\n",
    "        if n%i == 0:\n",
    "            return False\n",
    "        else:\n",
    "            return True\n",
    "    \n",
    "        \n",
    "is_prime(17)"
   ]
  },
  {
   "cell_type": "markdown",
   "id": "e556b42f",
   "metadata": {},
   "source": [
    "## Problem 5"
   ]
  },
  {
   "cell_type": "markdown",
   "id": "fd5f4463",
   "metadata": {},
   "source": [
    "1. Create a class called `Housing`, and add the following attributes to it:\n",
    "  - type\n",
    "  - area\n",
    "  - number of bedrooms\n",
    "  - value (price)\n",
    "  - year built.\n",
    "2. Create two instances of your class and populate their attributes (make 'em up)\n",
    "3. Create a method called `rent()` that calculates the estimated monthly rent for each house (assume that monthly rent is 0.4% of the value of the house)\n",
    "4. Print the rent for both instances."
   ]
  },
  {
   "cell_type": "code",
   "execution_count": 63,
   "id": "efa713df",
   "metadata": {},
   "outputs": [
    {
     "name": "stdout",
     "output_type": "stream",
     "text": [
      "1200.0\n",
      "2800.0\n"
     ]
    }
   ],
   "source": [
    "class Housing:\n",
    "    pass\n",
    "\n",
    "    def __init__(self, typ, area, bdrms, value, yearb):\n",
    "        self.typ = typ\n",
    "        self.area = area\n",
    "        self.bdrms = bdrms\n",
    "        self.value = value\n",
    "        self.yearb = yearb\n",
    "    def rent(self):\n",
    "        v=int(self.value)\n",
    "        r=v*.004\n",
    "        return r\n",
    "\n",
    "place1 = Housing('apartment',700,1,300000,1986)\n",
    "place2 = Housing('house',1800,2,700000,1975)\n",
    "\n",
    "print(place1.rent())\n",
    "print(place2.rent())"
   ]
  },
  {
   "cell_type": "code",
   "execution_count": null,
   "id": "5fee4c0f",
   "metadata": {},
   "outputs": [],
   "source": []
  }
 ],
 "metadata": {
  "kernelspec": {
   "display_name": "Python 3",
   "language": "python",
   "name": "python3"
  },
  "language_info": {
   "codemirror_mode": {
    "name": "ipython",
    "version": 3
   },
   "file_extension": ".py",
   "mimetype": "text/x-python",
   "name": "python",
   "nbconvert_exporter": "python",
   "pygments_lexer": "ipython3",
   "version": "3.8.8"
  },
  "toc": {
   "base_numbering": 1,
   "nav_menu": {},
   "number_sections": false,
   "sideBar": false,
   "skip_h1_title": true,
   "title_cell": "Table of Contents",
   "title_sidebar": "Contents",
   "toc_cell": false,
   "toc_position": {},
   "toc_section_display": true,
   "toc_window_display": false
  }
 },
 "nbformat": 4,
 "nbformat_minor": 5
}
