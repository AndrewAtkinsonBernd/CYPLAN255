{
 "cells": [
  {
   "cell_type": "markdown",
   "id": "f96bdfc7",
   "metadata": {},
   "source": [
    "# Assignment 2 | Programming Logic\n",
    "\n",
    "Reminder: in all of the assignments this semester, the answer is not the only consideration, but also how you get to it. It's OK (suggested even!) to use the internet for help. But you _should_ be able to answer all of these questions using only the programming techniques you have learned in class and from the readings.\n",
    "\n",
    "A few keys for success:\n",
    "- Avoid manual data entry\n",
    "- Emphasize logic and clarity\n",
    "- Use comments, docstrings, and descriptive variable names\n",
    "- In general, less code is better. But if more lines of code makes your program easier to read or understand what its doing, then go for it."
   ]
  },
  {
   "cell_type": "markdown",
   "id": "078a9000",
   "metadata": {},
   "source": [
    "## Problem 1 \n",
    "Write a Python program to count the number of even and odd numbers from a list of numbers. Test your code by running it on a list of integers from 1 to 9. No need to make this a function unless you want to."
   ]
  },
  {
   "cell_type": "code",
   "execution_count": 9,
   "id": "8eb937c5",
   "metadata": {},
   "outputs": [
    {
     "name": "stdout",
     "output_type": "stream",
     "text": [
      "even_count: 5 /odd_count: 5\n"
     ]
    }
   ],
   "source": [
    "a = list(range(10))\n",
    "  \n",
    "even_count, odd_count = 0, 0\n",
    "  \n",
    "# iterating \n",
    "for num in a:\n",
    "    if num % 2 == 0:\n",
    "        even_count += 1 \n",
    "    else:\n",
    "        odd_count += 1\n",
    "print(\"even_count:\", even_count,\"/odd_count:\",odd_count)"
   ]
  },
  {
   "cell_type": "markdown",
   "id": "db9df1a9",
   "metadata": {
    "collapsed": true
   },
   "source": [
    "## Problem 2\n",
    "Write a Python function that takes a list of numbers and returns a list containing only the even numbers from the original list. Test your function by running it on a list of integers from 1 to 9."
   ]
  },
  {
   "cell_type": "code",
   "execution_count": 152,
   "id": "941c150e",
   "metadata": {},
   "outputs": [
    {
     "data": {
      "text/plain": [
       "[0, 2, 4, 6, 8]"
      ]
     },
     "execution_count": 152,
     "metadata": {},
     "output_type": "execute_result"
    }
   ],
   "source": [
    "def list_even(lst=[]):\n",
    "    result = []\n",
    "    for num in lst:\n",
    "        if num % 2 == 0:\n",
    "            result.append(num)\n",
    "    return result\n",
    "            \n",
    "\n",
    "list_even(range(10))"
   ]
  },
  {
   "cell_type": "markdown",
   "id": "6a6f4ef0",
   "metadata": {},
   "source": [
    "## Problem 3\n",
    "\n",
    "1. Create a function that accepts a list of integers as an argument and returns a list of floats which equals each number as a fraction of the sum of all the items in the original list.\n",
    "\n",
    "2. Next, create a second function which is the same as the first, but limit each number in the output list to two decimals.\n",
    "\n",
    "3. Create another function which builds on the previous one by allowing a \"user\" pass in an argument that defines the number of decimal places to use in the output list.\n",
    "\n",
    "4. Test each of these functions with a list of integers"
   ]
  },
  {
   "cell_type": "code",
   "execution_count": 38,
   "id": "6856ee58",
   "metadata": {},
   "outputs": [
    {
     "data": {
      "text/plain": [
       "[0.3333333333333333, 0.6666666666666666]"
      ]
     },
     "execution_count": 38,
     "metadata": {},
     "output_type": "execute_result"
    }
   ],
   "source": [
    " #Task 1\n",
    "def function_1(lst=[]):\n",
    "    result = []\n",
    "    for num in lst:\n",
    "        result.append(num/sum(lst))\n",
    "    return result\n",
    "        \n",
    "function_1([1,2])\n",
    "        "
   ]
  },
  {
   "cell_type": "code",
   "execution_count": 40,
   "id": "d161b7ae",
   "metadata": {},
   "outputs": [
    {
     "data": {
      "text/plain": [
       "[0.33, 0.67]"
      ]
     },
     "execution_count": 40,
     "metadata": {},
     "output_type": "execute_result"
    }
   ],
   "source": [
    "#Task 2\n",
    "import numpy as np\n",
    "\n",
    "def function_2(lst=[]):\n",
    "    result = []\n",
    "    for num in lst:\n",
    "        result.append(num/sum(lst))\n",
    "    return list(np.around(np.array(result),2))\n",
    "        \n",
    "function_2([1,2])"
   ]
  },
  {
   "cell_type": "code",
   "execution_count": 54,
   "id": "1da87ebb",
   "metadata": {},
   "outputs": [
    {
     "data": {
      "text/plain": [
       "[0.33, 0.67]"
      ]
     },
     "execution_count": 54,
     "metadata": {},
     "output_type": "execute_result"
    }
   ],
   "source": [
    "#Task 3\n",
    "\n",
    "import numpy as np\n",
    "\n",
    "def function_3(lst=[], z =0):\n",
    "    result = []\n",
    "    for num in lst:\n",
    "        result.append(num/sum(lst))\n",
    "    return list(np.around(np.array(result),z))\n",
    "        \n",
    "function_3([1,2],2)"
   ]
  },
  {
   "cell_type": "code",
   "execution_count": 155,
   "id": "05117b33",
   "metadata": {},
   "outputs": [
    {
     "name": "stdout",
     "output_type": "stream",
     "text": [
      "[0.0, 0.06666666666666667, 0.13333333333333333, 0.2, 0.26666666666666666, 0.3333333333333333] [0.0, 0.07, 0.13, 0.2, 0.27, 0.33] [0.0, 0.067, 0.133, 0.2, 0.267, 0.333]\n"
     ]
    }
   ],
   "source": [
    "#Task 4 - tested above\n",
    "list_test = list(range(6))\n",
    "print(function_1(list_test), function_2(list_test), function_3(list_test,3))\n"
   ]
  },
  {
   "cell_type": "markdown",
   "id": "17e43098",
   "metadata": {},
   "source": [
    "## Problem 4\n",
    "A prime number is any whole number greater than 1 that has no positive divisors besides 1 and itself. In other words, a prime number must be:\n",
    "1. an integer\n",
    "2. greater than 1\n",
    "3. divisible only by 1 and itself.\n",
    "\n",
    "Write a function is_prime(n) that accepts an argument `n` and returns `True` (boolean) if `n` is a prime number and `False` if n is not prime. For example, `is_prime(11)` should return `True` and `is_prime(12)` should return `False`.\n"
   ]
  },
  {
   "cell_type": "code",
   "execution_count": 156,
   "id": "7b43bc6c",
   "metadata": {},
   "outputs": [
    {
     "name": "stdout",
     "output_type": "stream",
     "text": [
      "True False\n"
     ]
    }
   ],
   "source": [
    "def is_prime(n):\n",
    "    if (n > 1) and (type(n) == int):\n",
    "        for num in range(2,n):\n",
    "            if (n % num) == 0:\n",
    "                return False\n",
    "        return True\n",
    "    \n",
    "print(is_prime(11), is_prime(12))"
   ]
  },
  {
   "cell_type": "markdown",
   "id": "e556b42f",
   "metadata": {},
   "source": [
    "## Problem 5"
   ]
  },
  {
   "cell_type": "markdown",
   "id": "fd5f4463",
   "metadata": {},
   "source": [
    "1. Create a class called `Housing`, and add the following attributes to it:\n",
    "  - type\n",
    "  - area\n",
    "  - number of bedrooms\n",
    "  - value (price)\n",
    "  - year built.\n",
    "2. Create two instances of your class and populate their attributes (make 'em up)\n",
    "3. Create a method called `rent()` that calculates the estimated monthly rent for each house (assume that monthly rent is 0.4% of the value of the house)\n",
    "4. Print the rent for both instances."
   ]
  },
  {
   "cell_type": "code",
   "execution_count": 193,
   "id": "efa713df",
   "metadata": {},
   "outputs": [],
   "source": [
    "class Housing:\n",
    "    pass\n",
    "    \n",
    "hou_1 = Housing()\n",
    "hou_2 = Housing()\n",
    "    \n",
    "hou_1.type= \"Single-family\"\n",
    "hou_1.area= 2000\n",
    "hou_1.bed = 3\n",
    "hou_1.price= 750000\n",
    "hou_1.year= 1970\n",
    "\n",
    "hou_2.type= \"Apartment\"\n",
    "hou_2.area= 1000\n",
    "hou_2.bed= 2\n",
    "hou_2.price= 500000\n",
    "hou_2.year= 1990"
   ]
  },
  {
   "cell_type": "code",
   "execution_count": 206,
   "id": "6e22e308",
   "metadata": {},
   "outputs": [],
   "source": [
    "# Method\n",
    "class Housing:\n",
    "    def __init__(self, price):\n",
    "        self.price= price\n",
    "        \n",
    "    def rent(self):\n",
    "        return self.price * 0.004\n",
    "        "
   ]
  },
  {
   "cell_type": "code",
   "execution_count": 208,
   "id": "2dab86ae",
   "metadata": {},
   "outputs": [
    {
     "name": "stdout",
     "output_type": "stream",
     "text": [
      "House 1 rent ($): 3000.0 /House 2 rent ($): 2000.0\n"
     ]
    }
   ],
   "source": [
    "print(\"House 1 rent ($):\", Housing.rent(hou_1), \"/House 2 rent ($):\", Housing.rent(hou_2))"
   ]
  }
 ],
 "metadata": {
  "kernelspec": {
   "display_name": "Python 3 (ipykernel)",
   "language": "python",
   "name": "python3"
  },
  "language_info": {
   "codemirror_mode": {
    "name": "ipython",
    "version": 3
   },
   "file_extension": ".py",
   "mimetype": "text/x-python",
   "name": "python",
   "nbconvert_exporter": "python",
   "pygments_lexer": "ipython3",
   "version": "3.9.7"
  },
  "toc": {
   "base_numbering": 1,
   "nav_menu": {},
   "number_sections": false,
   "sideBar": false,
   "skip_h1_title": true,
   "title_cell": "Table of Contents",
   "title_sidebar": "Contents",
   "toc_cell": false,
   "toc_position": {},
   "toc_section_display": true,
   "toc_window_display": false
  }
 },
 "nbformat": 4,
 "nbformat_minor": 5
}
