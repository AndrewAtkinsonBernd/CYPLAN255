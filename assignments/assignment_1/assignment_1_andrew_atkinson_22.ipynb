{
 "cells": [
  {
   "cell_type": "markdown",
   "metadata": {},
   "source": [
    "## Assignment 1 | Data Types\n",
    "\n",
    "Add code cells as needed for your answers. "
   ]
  },
  {
   "cell_type": "markdown",
   "metadata": {},
   "source": [
    "### Exercise 1: Manipulating Lists"
   ]
  },
  {
   "cell_type": "markdown",
   "metadata": {},
   "source": [
    "Create a list containing the numbers 10, 20, and 30. Store your list as a variable named `a`. Then create a second list containing the numbers 30, 60, and 90. Call this this `b`."
   ]
  },
  {
   "cell_type": "code",
   "execution_count": 27,
   "metadata": {},
   "outputs": [],
   "source": [
    "a = [10,20,30]\n",
    "b = [30,60,90]"
   ]
  },
  {
   "cell_type": "markdown",
   "metadata": {},
   "source": [
    "In the cells below, write Python expressions to create the following four outputs by combining `a` and `b` in creative ways:\n",
    "\n",
    "1. [[10, 20, 30], [30, 60, 90]]\n",
    "\n",
    "2. [10, 20, 30, 30, 60, 90]\n",
    "\n",
    "3. [10, 20, 60, 90]\n",
    "\n",
    "4. [20, 40, 60]"
   ]
  },
  {
   "cell_type": "code",
   "execution_count": 28,
   "metadata": {},
   "outputs": [
    {
     "data": {
      "text/plain": [
       "[[10, 20, 30], [30, 60, 90]]"
      ]
     },
     "execution_count": 28,
     "metadata": {},
     "output_type": "execute_result"
    }
   ],
   "source": [
    "[a,b]"
   ]
  },
  {
   "cell_type": "code",
   "execution_count": 29,
   "metadata": {},
   "outputs": [
    {
     "data": {
      "text/plain": [
       "[10, 20, 30, 30, 60, 90]"
      ]
     },
     "execution_count": 29,
     "metadata": {},
     "output_type": "execute_result"
    }
   ],
   "source": [
    "a+b"
   ]
  },
  {
   "cell_type": "code",
   "execution_count": 30,
   "metadata": {},
   "outputs": [
    {
     "data": {
      "text/plain": [
       "[10, 20, 60, 90]"
      ]
     },
     "execution_count": 30,
     "metadata": {},
     "output_type": "execute_result"
    }
   ],
   "source": [
    "a[0:2]+b[1:3]"
   ]
  },
  {
   "cell_type": "code",
   "execution_count": 31,
   "metadata": {},
   "outputs": [
    {
     "name": "stdout",
     "output_type": "stream",
     "text": [
      "[20, 40, 60]\n"
     ]
    }
   ],
   "source": [
    "zipped=zip(b,a)\n",
    "subtracted = list()\n",
    "for bb,aa in zip(b,a):\n",
    "    c=bb-aa\n",
    "    subtracted.append(c)\n",
    "print(subtracted)"
   ]
  },
  {
   "cell_type": "markdown",
   "metadata": {},
   "source": [
    "### Exercise 2. Working with Lists\n",
    "\n",
    "Create a list that contains the sums of each of the lists in G. \n",
    "\n",
    "`G = [[13, 9, 8], [14, 6, 12], [10, 13, 11], [7, 18, 9]]`\n",
    "\n",
    "Your output should look like:\n",
    "\n",
    "- `[30, 32, 34, 34]`\n",
    "\n",
    "Hint: try computing the sum for just one list first."
   ]
  },
  {
   "cell_type": "code",
   "execution_count": 32,
   "metadata": {},
   "outputs": [
    {
     "name": "stdout",
     "output_type": "stream",
     "text": [
      "[30, 32, 34, 34]\n"
     ]
    }
   ],
   "source": [
    "w=[13,9,8]\n",
    "x=[14,6,12]\n",
    "y=[10,13,11]\n",
    "z=[7,18,9]\n",
    "G=[sum(w),sum(x),sum(y),sum(z)]\n",
    "print(G)"
   ]
  },
  {
   "cell_type": "markdown",
   "metadata": {},
   "source": [
    "### Exercise 3: String Manipulation\n",
    "\n",
    "Turn the string below into 'all good countrymen' using the minimum amount of code, using only the methods we've covered so far. A couple of lines of code should do the trick.  Note: this requires string and list methods."
   ]
  },
  {
   "cell_type": "code",
   "execution_count": 34,
   "metadata": {},
   "outputs": [],
   "source": [
    "s = 'Now is the time for all good men to come to the aid of their country!'"
   ]
  },
  {
   "cell_type": "code",
   "execution_count": 35,
   "metadata": {},
   "outputs": [
    {
     "name": "stdout",
     "output_type": "stream",
     "text": [
      "all good countrymen\n",
      "all good countrymen\n"
     ]
    }
   ],
   "source": [
    "i = s[20:28]+s[60:68]+s[29:32]\n",
    "print(i)\n",
    "\n",
    "# or\n",
    "\n",
    "strippy=s.strip('!')\n",
    "splitty=strippy.split()\n",
    "new=splitty[5]+\" \"+splitty[6]+\" \"+splitty[15]+splitty[7]\n",
    "print(new)"
   ]
  },
  {
   "cell_type": "markdown",
   "metadata": {},
   "source": [
    "### Exercise 4: String Manipulation and Type Conversion\n",
    "\n",
    "Define a variable `a = \"Sarah earns $96500 in a year\"`. Then maniuplate the value of `a` in order to print the following string: `Sarah earns $8041.67 monthly`\n",
    "\n",
    "Start by doing it in several steps and then combine them one step at a time until you can do it in one line."
   ]
  },
  {
   "cell_type": "code",
   "execution_count": 37,
   "metadata": {},
   "outputs": [
    {
     "name": "stdout",
     "output_type": "stream",
     "text": [
      "Sarah earns $8041.67 monthly\n",
      "Sarah earns $8041.67 monthly\n"
     ]
    }
   ],
   "source": [
    "# Step by Step\n",
    "\n",
    "a = \"Sarah earns $96500 in a year\"\n",
    "b = a [:13]\n",
    "c = int(a[13:18])\n",
    "d = round((c/12),2)\n",
    "e = ' monthly'\n",
    "f = b+str(d)+e\n",
    "print(f)\n",
    "\n",
    "# one line\n",
    "g = a[:13]+str(round((int(a[13:18])/12),2))+' monthly'\n",
    "print(g)"
   ]
  },
  {
   "cell_type": "markdown",
   "metadata": {},
   "source": [
    "### Exercise 5: Create and Query a Dictionary on State Demographics\n",
    "\n",
    "Create two dictionaries, one for California and one for New York state, based on the data in the following table:\n",
    "\n",
    "| States | Pop Density | Prop White | Prop Afr Amer | Prop Asian | Prop Other | Owners | Renters |\n",
    "| --- | ---: | ---: | ---: | ---: | ---: | ---: | ---: |\n",
    "| CA | 239.1 | 0.57  | 0.06 | 0.13 | 0.22 | 7035371 | 5542127 |\n",
    "| NY | 411.2 | 0.65  | 0.15 | 0.07 | 0.22 | 3897837 | 3419918 |\n",
    "\n",
    "Each dictionary should have the following keys and value types: `name: (string)` , `population density: (float)`, `race (dict)`, `tenure: (dict)`. \n",
    "\n",
    "1.  Create one dictionary called CA and one called NY that contain dictionaries containing name, pop_density, race as a dictionary, and tenure for California and New York.  Now combine these into a dictionary called \"states\", making it a dictionary of dictionaries, or a nested dictionary.\n",
    "\n",
    "1.  Check if Texas is in our state dictionary (we know it isn't but show us).\n",
    "\n",
    "1. Print the White population in New York as a percentage\n",
    "\n",
    "1. Assume there was a typo in the data, and update the White population fraction of NY to 0.64. Verify that it was updated by printing the percentage again.\n",
    "\n",
    "1. Print the percentage of households that are renters in California, with two decimal places"
   ]
  },
  {
   "cell_type": "code",
   "execution_count": 102,
   "metadata": {},
   "outputs": [
    {
     "name": "stdout",
     "output_type": "stream",
     "text": [
      "1.\n",
      "{'CA': {'name': 'CA', 'Pop Density': 239.1, 'race': {'Prop White': 0.57, 'Prop Afr Amer': 0.06, 'Prop Asian': 0.13, 'Prop Other': 0.22}, 'tenure': {'Owners': 7035371, 'Renters': 5542127}}, 'NY': {'name': 'NY', 'Pop Density': 411.2, 'race': {'Prop White': 0.65, 'Prop Afr Amer': 0.15, 'Prop Asian': 0.07, 'Prop Other': 0.22}, 'tenure': {'Owners': 3897837, 'Renters': 3419918}}}\n",
      "2.\n",
      "['CA', 'NY']\n",
      "          ^see not TX\n",
      "3.\n",
      "65%\n",
      "4.\n",
      "64%\n",
      "5.\n",
      "44.06%\n"
     ]
    }
   ],
   "source": [
    "CA = {'name':'CA','Pop Density':239.1,\n",
    "      'race':{'Prop White':0.57,'Prop Afr Amer':0.06,'Prop Asian':0.13,'Prop Other':0.22},\n",
    "     'tenure':{'Owners':7035371,'Renters':5542127}}\n",
    "NY = {'name':'NY','Pop Density':411.2,\n",
    "     'race':{'Prop White':0.65,'Prop Afr Amer':0.15,'Prop Asian':0.07,'Prop Other':0.22},\n",
    "     'tenure':{'Owners':3897837,'Renters':3419918}}\n",
    "states = {'CA':CA,'NY':NY}\n",
    "print('1.')\n",
    "print(states)\n",
    "\n",
    "print('2.')\n",
    "names=list(states.keys())\n",
    "print(names)\n",
    "print('          ^see not TX')\n",
    "\n",
    "\n",
    "print('3.')\n",
    "NYRACE=(NY.get('race'))\n",
    "NYwhite=(NYRACE.get('Prop White'))\n",
    "NYwhiteperc=\"{0:.0%}\".format(NYwhite)\n",
    "print(NYwhiteperc)\n",
    "\n",
    "print('4.')\n",
    "NYup = {'Prop White':.64}\n",
    "NYRACE.update(NYup)\n",
    "NYwhite=(NYRACE.get('Prop White'))\n",
    "NYwhiteperc=\"{0:.0%}\".format(NYwhite)\n",
    "print(NYwhiteperc)\n",
    "\n",
    "print('5.')\n",
    "tenure=(CA.get('tenure'))\n",
    "rent= int(tenure.get('Renters'))\n",
    "owners= int(tenure.get('Owners'))\n",
    "PerRent=(rent/(rent+owners))\n",
    "PerRound=\"{0:.2%}\".format(PerRent)\n",
    "print(PerRound)"
   ]
  },
  {
   "cell_type": "markdown",
   "metadata": {
    "collapsed": true
   },
   "source": [
    "### Exercise 6: Working with Numpy Arrays\n",
    "\n",
    "1. Create and print a 4 x 4 array named `a` with value 3 everywhere.\n",
    "\n",
    "1. Create and print a 4 x 4 array named `b` with elements drawn from a uniform random distribution \n",
    "\n",
    "1. Create and print array `c` by dividing a by b\n",
    "\n",
    "1. Compute and print the min, mean, max, median, and 90th percentile values of `c`\n",
    "\n",
    "1. Compute and print the sum of the second column in `c`"
   ]
  },
  {
   "cell_type": "code",
   "execution_count": 86,
   "metadata": {},
   "outputs": [
    {
     "name": "stdout",
     "output_type": "stream",
     "text": [
      "[[3 3 3 3]\n",
      " [3 3 3 3]\n",
      " [3 3 3 3]\n",
      " [3 3 3 3]]\n"
     ]
    }
   ],
   "source": [
    "import numpy\n",
    "a = numpy.array([[3,3,3,3],[3,3,3,3],[3,3,3,3],[3,3,3,3]])\n",
    "print(a)"
   ]
  },
  {
   "cell_type": "code",
   "execution_count": 87,
   "metadata": {},
   "outputs": [
    {
     "name": "stdout",
     "output_type": "stream",
     "text": [
      "[[0.82892542 0.47530163 0.01266977 0.96281749]\n",
      " [0.79535108 0.30233841 0.13463129 0.20424132]\n",
      " [0.30978024 0.09382222 0.97673418 0.5054512 ]\n",
      " [0.28032794 0.82880861 0.55484211 0.77768639]]\n"
     ]
    }
   ],
   "source": [
    "b = numpy.random.rand(4,4)\n",
    "print(b)"
   ]
  },
  {
   "cell_type": "code",
   "execution_count": 88,
   "metadata": {},
   "outputs": [
    {
     "name": "stdout",
     "output_type": "stream",
     "text": [
      "[[  3.61914343   6.31178142 236.78407436   3.11585532]\n",
      " [  3.77191919   9.92265597  22.28308213  14.68850702]\n",
      " [  9.68428465  31.9753662    3.07146003   5.93529114]\n",
      " [ 10.70175177   3.61965354   5.40694357   3.8575961 ]]\n"
     ]
    }
   ],
   "source": [
    "c = a/b\n",
    "print(c)"
   ]
  },
  {
   "cell_type": "code",
   "execution_count": 89,
   "metadata": {},
   "outputs": [
    {
     "name": "stdout",
     "output_type": "stream",
     "text": [
      "3.071460034419048\n",
      "236.78407435855502\n",
      "6.123536279838612\n",
      "27.129224161980822\n"
     ]
    }
   ],
   "source": [
    "print(numpy.min(c))\n",
    "print(numpy.max(c))\n",
    "print(numpy.median(c))\n",
    "print(numpy.percentile(c,90))"
   ]
  },
  {
   "cell_type": "code",
   "execution_count": null,
   "metadata": {},
   "outputs": [],
   "source": []
  }
 ],
 "metadata": {
  "kernelspec": {
   "display_name": "Python 3",
   "language": "python",
   "name": "python3"
  },
  "language_info": {
   "codemirror_mode": {
    "name": "ipython",
    "version": 3
   },
   "file_extension": ".py",
   "mimetype": "text/x-python",
   "name": "python",
   "nbconvert_exporter": "python",
   "pygments_lexer": "ipython3",
   "version": "3.8.8"
  },
  "toc": {
   "base_numbering": 1,
   "nav_menu": {},
   "number_sections": true,
   "sideBar": true,
   "skip_h1_title": false,
   "title_cell": "Table of Contents",
   "title_sidebar": "Contents",
   "toc_cell": false,
   "toc_position": {},
   "toc_section_display": true,
   "toc_window_display": false
  }
 },
 "nbformat": 4,
 "nbformat_minor": 2
}
