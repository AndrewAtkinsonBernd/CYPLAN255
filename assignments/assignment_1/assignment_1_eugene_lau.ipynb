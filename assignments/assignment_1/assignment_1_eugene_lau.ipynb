{
 "cells": [
  {
   "cell_type": "markdown",
   "metadata": {},
   "source": [
    "## Assignment 1 | Data Types\n",
    "\n",
    "Add code cells as needed for your answers. "
   ]
  },
  {
   "cell_type": "markdown",
   "metadata": {},
   "source": []
  },
  {
   "cell_type": "markdown",
   "metadata": {},
   "source": [
    "### Exercise 1: Manipulating Lists"
   ]
  },
  {
   "cell_type": "markdown",
   "metadata": {},
   "source": [
    "Create a list containing the numbers 10, 20, and 30. Store your list as a variable named `a`. Then create a second list containing the numbers 30, 60, and 90. Call this this `b`."
   ]
  },
  {
   "cell_type": "code",
   "execution_count": 1,
   "metadata": {},
   "outputs": [],
   "source": [
    "a= [10,20,30]\n",
    "b= [30,60,90]"
   ]
  },
  {
   "cell_type": "markdown",
   "metadata": {},
   "source": [
    "In the cells below, write Python expressions to create the following four outputs by combining `a` and `b` in creative ways:\n",
    "\n",
    "1. [[10, 20, 30], [30, 60, 90]]\n",
    "\n",
    "2. [10, 20, 30, 30, 60, 90]\n",
    "\n",
    "3. [10, 20, 60, 90]\n",
    "\n",
    "4. [20, 40, 60]"
   ]
  },
  {
   "cell_type": "code",
   "execution_count": 2,
   "metadata": {},
   "outputs": [
    {
     "data": {
      "text/plain": [
       "40"
      ]
     },
     "execution_count": 2,
     "metadata": {},
     "output_type": "execute_result"
    }
   ],
   "source": [
    "a[1]*2"
   ]
  },
  {
   "cell_type": "code",
   "execution_count": 3,
   "metadata": {},
   "outputs": [
    {
     "name": "stdout",
     "output_type": "stream",
     "text": [
      "[10, 20, 30] [30, 60, 90]\n",
      "[10, 20, 30, 30, 60, 90]\n",
      "[10, 20, 30, 60]\n",
      "[10, 20, 30, 60]\n",
      "[20, 40, 60]\n"
     ]
    }
   ],
   "source": [
    "print (a,b)\n",
    "print  (a + b)\n",
    "c=a[:2] \n",
    "d=b[:2]\n",
    "print (c+d)\n",
    "print (a[:2]+b[:2])\n",
    "e= [a[0]*2,a[1]*2, a[2]*2]\n",
    "print (e)"
   ]
  },
  {
   "cell_type": "markdown",
   "metadata": {},
   "source": [
    "### Exercise 2. Working with Lists\n",
    "\n",
    "Create a list that contains the sums of each of the lists in G. \n",
    "\n",
    "`G = [[13, 9, 8], [14, 6, 12], [10, 13, 11], [7, 18, 9]]`\n",
    "\n",
    "Your output should look like:\n",
    "\n",
    "- `[30, 32, 34, 34]`\n",
    "\n",
    "Hint: try computing the sum for just one list first."
   ]
  },
  {
   "cell_type": "code",
   "execution_count": 4,
   "metadata": {},
   "outputs": [
    {
     "data": {
      "text/plain": [
       "[[13, 9, 8], [14, 6, 12], [10, 13, 11], [7, 18, 9]]"
      ]
     },
     "execution_count": 4,
     "metadata": {},
     "output_type": "execute_result"
    }
   ],
   "source": [
    "G = [[13, 9, 8], [14, 6, 12], [10, 13, 11], [7, 18, 9]]\n",
    "G"
   ]
  },
  {
   "cell_type": "code",
   "execution_count": 5,
   "metadata": {},
   "outputs": [
    {
     "data": {
      "text/plain": [
       "[30, 32, 34, 34]"
      ]
     },
     "execution_count": 5,
     "metadata": {},
     "output_type": "execute_result"
    }
   ],
   "source": [
    "x= G[0][0]+G[2][0]+G[3][0]\n",
    "x\n",
    "y=G[2][0]+G[2][0]+G[1][2]\n",
    "y\n",
    "z=G[1][0]+G[2][0]*2\n",
    "z\n",
    "list= [x,y,z,z]\n",
    "list"
   ]
  },
  {
   "cell_type": "markdown",
   "metadata": {},
   "source": [
    "### Exercise 3: String Manipulation\n",
    "\n",
    "Turn the string below into 'all good countrymen' using the minimum amount of code, using only the methods we've covered so far. A couple of lines of code should do the trick.  Note: this requires string and list methods."
   ]
  },
  {
   "cell_type": "code",
   "execution_count": 6,
   "metadata": {},
   "outputs": [
    {
     "data": {
      "text/plain": [
       "'all good countrymen'"
      ]
     },
     "execution_count": 6,
     "metadata": {},
     "output_type": "execute_result"
    }
   ],
   "source": [
    "s = 'Now is the time for all good men to come to the aid of their country!'\n",
    "string=s[20:28]+s[60:68]+s[29:32]\n",
    "string"
   ]
  },
  {
   "cell_type": "markdown",
   "metadata": {},
   "source": [
    "### Exercise 4: String Manipulation and Type Conversion\n",
    "\n",
    "Define a variable `a = \"Sarah earns $96500 in a year\"`. Then maniuplate the value of `a` in order to print the following string: `Sarah earns $8041.67 monthly`\n",
    "\n",
    "Start by doing it in several steps and then combine them one step at a time until you can do it in one line."
   ]
  },
  {
   "cell_type": "code",
   "execution_count": 7,
   "metadata": {},
   "outputs": [
    {
     "data": {
      "text/plain": [
       "'Sarah earns $96500 in a year'"
      ]
     },
     "execution_count": 7,
     "metadata": {},
     "output_type": "execute_result"
    }
   ],
   "source": [
    "a = \"Sarah earns $96500 in a year\"\n",
    "a"
   ]
  },
  {
   "cell_type": "code",
   "execution_count": 8,
   "metadata": {},
   "outputs": [
    {
     "data": {
      "text/plain": [
       "'Sarah earns $'"
      ]
     },
     "execution_count": 8,
     "metadata": {},
     "output_type": "execute_result"
    }
   ],
   "source": [
    "a[0:13]"
   ]
  },
  {
   "cell_type": "code",
   "execution_count": 9,
   "metadata": {},
   "outputs": [
    {
     "data": {
      "text/plain": [
       "'Sarah earns $8041.67 a year'"
      ]
     },
     "execution_count": 9,
     "metadata": {},
     "output_type": "execute_result"
    }
   ],
   "source": [
    "a[0:13] + str(round(float(a[13:18])-88458.33,2)) + a[21:]"
   ]
  },
  {
   "cell_type": "code",
   "execution_count": 10,
   "metadata": {},
   "outputs": [
    {
     "data": {
      "text/plain": [
       "28"
      ]
     },
     "execution_count": 10,
     "metadata": {},
     "output_type": "execute_result"
    }
   ],
   "source": [
    "len(a)"
   ]
  },
  {
   "cell_type": "code",
   "execution_count": 11,
   "metadata": {},
   "outputs": [
    {
     "data": {
      "text/plain": [
       "str"
      ]
     },
     "execution_count": 11,
     "metadata": {},
     "output_type": "execute_result"
    }
   ],
   "source": [
    "type(a)"
   ]
  },
  {
   "cell_type": "code",
   "execution_count": 12,
   "metadata": {},
   "outputs": [
    {
     "data": {
      "text/plain": [
       "str"
      ]
     },
     "execution_count": 12,
     "metadata": {},
     "output_type": "execute_result"
    }
   ],
   "source": [
    "type(a[13:18])"
   ]
  },
  {
   "cell_type": "code",
   "execution_count": 13,
   "metadata": {},
   "outputs": [
    {
     "data": {
      "text/plain": [
       "'8041.67'"
      ]
     },
     "execution_count": 13,
     "metadata": {},
     "output_type": "execute_result"
    }
   ],
   "source": [
    "num_float=float(a[13:18])-88458.33\n",
    "num_float\n",
    "j=round(num_float,2)\n",
    "j\n",
    "j_str=str(j)\n",
    "j_str"
   ]
  },
  {
   "cell_type": "code",
   "execution_count": 14,
   "metadata": {},
   "outputs": [
    {
     "data": {
      "text/plain": [
       "'Sarah earns $8041.67 a year'"
      ]
     },
     "execution_count": 14,
     "metadata": {},
     "output_type": "execute_result"
    }
   ],
   "source": [
    "a[0:13] + j_str + a[21:]"
   ]
  },
  {
   "cell_type": "markdown",
   "metadata": {},
   "source": [
    "### Exercise 5: Create and Query a Dictionary on State Demographics\n",
    "\n",
    "Create two dictionaries, one for California and one for New York state, based on the data in the following table:\n",
    "\n",
    "| States | Pop Density | Prop White | Prop Afr Amer | Prop Asian | Prop Other | Owners | Renters |\n",
    "| --- | ---: | ---: | ---: | ---: | ---: | ---: | ---: |\n",
    "| CA | 239.1 | 0.57  | 0.06 | 0.13 | 0.22 | 7035371 | 5542127 |\n",
    "| NY | 411.2 | 0.65  | 0.15 | 0.07 | 0.22 | 3897837 | 3419918 |\n",
    "\n",
    "Each dictionary should have the following keys and value types: `name: (string)` , `population density: (float)`, `race (dict)`, `tenure: (dict)`. \n",
    "\n",
    "1.  Create one dictionary called CA and one called NY that contain dictionaries containing name, pop_density, race as a dictionary, and tenure for California and New York.  Now combine these into a dictionary called \"states\", making it a dictionary of dictionaries, or a nested dictionary.\n",
    "\n",
    "1.  Check if Texas is in our state dictionary (we know it isn't but show us).\n",
    "\n",
    "1. Print the White population in New York as a percentage\n",
    "\n",
    "1. Assume there was a typo in the data, and update the White population fraction of NY to 0.64. Verify that it was updated by printing the percentage again.\n",
    "\n",
    "1. Print the percentage of households that are renters in California, with two decimal places"
   ]
  },
  {
   "cell_type": "code",
   "execution_count": 15,
   "metadata": {},
   "outputs": [],
   "source": [
    "CA_Race={'Prop_W':0.57,'Prop_AA':0.06,'Prop_As':.13,'Prop_O':.22}\n",
    "CA_Tenure={'Own':7035371,'Rent':55421127}"
   ]
  },
  {
   "cell_type": "code",
   "execution_count": 16,
   "metadata": {},
   "outputs": [],
   "source": [
    "\n",
    "CA={ 'Name':'California','Pop_Dens':239.1, 'CA_Race':{'Prop_W':0.57,'Prop_AA':0.06,'Prop_As':.13,'Prop_O':.22}, 'CA_Tenure':{'Own':7035371,'Rent':5542127}}"
   ]
  },
  {
   "cell_type": "code",
   "execution_count": 17,
   "metadata": {},
   "outputs": [],
   "source": [
    "NY={ 'Name':'New York','Pop_Dens':411.2, 'NY_Race':{'Prop_W':0.65,'Prop_AA':0.15,'Prop_As':.07,'Prop_O':.22}, 'CA_Tenure':{'Own':3897837,'Rent':3419918}}"
   ]
  },
  {
   "cell_type": "code",
   "execution_count": 18,
   "metadata": {},
   "outputs": [
    {
     "data": {
      "text/plain": [
       "{'CA': {'Name': 'California',\n",
       "  'Pop_Dens': 239.1,\n",
       "  'CA_Race': {'Prop_W': 0.57,\n",
       "   'Prop_AA': 0.06,\n",
       "   'Prop_As': 0.13,\n",
       "   'Prop_O': 0.22},\n",
       "  'CA_Tenure': {'Own': 7035371, 'Rent': 5542127}},\n",
       " 'NY': {'Name': 'New York',\n",
       "  'Pop_Dens': 411.2,\n",
       "  'NY_Race': {'Prop_W': 0.65,\n",
       "   'Prop_AA': 0.15,\n",
       "   'Prop_As': 0.07,\n",
       "   'Prop_O': 0.22},\n",
       "  'CA_Tenure': {'Own': 3897837, 'Rent': 3419918}}}"
      ]
     },
     "execution_count": 18,
     "metadata": {},
     "output_type": "execute_result"
    }
   ],
   "source": [
    "States= {'CA': CA, 'NY': NY}\n",
    "States"
   ]
  },
  {
   "cell_type": "code",
   "execution_count": 19,
   "metadata": {},
   "outputs": [
    {
     "data": {
      "text/plain": [
       "{'Name': 'California',\n",
       " 'Pop_Dens': 239.1,\n",
       " 'CA_Race': {'Prop_W': 0.57, 'Prop_AA': 0.06, 'Prop_As': 0.13, 'Prop_O': 0.22},\n",
       " 'CA_Tenure': {'Own': 7035371, 'Rent': 5542127}}"
      ]
     },
     "execution_count": 19,
     "metadata": {},
     "output_type": "execute_result"
    }
   ],
   "source": [
    "States['CA']"
   ]
  },
  {
   "cell_type": "code",
   "execution_count": 20,
   "metadata": {},
   "outputs": [
    {
     "ename": "KeyError",
     "evalue": "'Texas'",
     "output_type": "error",
     "traceback": [
      "\u001b[1;31m---------------------------------------------------------------------------\u001b[0m",
      "\u001b[1;31mKeyError\u001b[0m                                  Traceback (most recent call last)",
      "\u001b[1;32mc:\\Users\\eugen\\CYPLAN255\\assignments\\assignment_1\\assignment_1_eugene_lau.ipynb Cell 29'\u001b[0m in \u001b[0;36m<module>\u001b[1;34m\u001b[0m\n\u001b[1;32m----> <a href='vscode-notebook-cell:/c%3A/Users/eugen/CYPLAN255/assignments/assignment_1/assignment_1_eugene_lau.ipynb#ch0000028?line=0'>1</a>\u001b[0m States[\u001b[39m'\u001b[39;49m\u001b[39mTexas\u001b[39;49m\u001b[39m'\u001b[39;49m]\n",
      "\u001b[1;31mKeyError\u001b[0m: 'Texas'"
     ]
    }
   ],
   "source": [
    "States['Texas']"
   ]
  },
  {
   "cell_type": "code",
   "execution_count": 21,
   "metadata": {},
   "outputs": [
    {
     "name": "stdout",
     "output_type": "stream",
     "text": [
      "65%\n"
     ]
    }
   ],
   "source": [
    "print(\"{:.0%}\".format(NY['NY_Race']['Prop_W']))"
   ]
  },
  {
   "cell_type": "code",
   "execution_count": 22,
   "metadata": {},
   "outputs": [
    {
     "name": "stdout",
     "output_type": "stream",
     "text": [
      "64%\n"
     ]
    }
   ],
   "source": [
    "NY['NY_Race']['Prop_W']=.64\n",
    "print(\"{:.0%}\".format(NY['NY_Race']['Prop_W']))"
   ]
  },
  {
   "cell_type": "code",
   "execution_count": 23,
   "metadata": {},
   "outputs": [
    {
     "data": {
      "text/plain": [
       "5542127"
      ]
     },
     "execution_count": 23,
     "metadata": {},
     "output_type": "execute_result"
    }
   ],
   "source": [
    "X=CA['CA_Tenure']['Rent'] \n",
    "X\n"
   ]
  },
  {
   "cell_type": "code",
   "execution_count": 24,
   "metadata": {},
   "outputs": [
    {
     "data": {
      "text/plain": [
       "7035371"
      ]
     },
     "execution_count": 24,
     "metadata": {},
     "output_type": "execute_result"
    }
   ],
   "source": [
    "Y=CA['CA_Tenure']['Own']\n",
    "Y"
   ]
  },
  {
   "cell_type": "code",
   "execution_count": 25,
   "metadata": {},
   "outputs": [],
   "source": [
    "c=X + Y"
   ]
  },
  {
   "cell_type": "code",
   "execution_count": 26,
   "metadata": {},
   "outputs": [
    {
     "data": {
      "text/plain": [
       "0.4406382732082327"
      ]
     },
     "execution_count": 26,
     "metadata": {},
     "output_type": "execute_result"
    }
   ],
   "source": [
    "X/c"
   ]
  },
  {
   "cell_type": "code",
   "execution_count": 27,
   "metadata": {},
   "outputs": [],
   "source": [
    "CA_Renters=\"{:.0%}\".format(X/(X+Y))"
   ]
  },
  {
   "cell_type": "code",
   "execution_count": 28,
   "metadata": {},
   "outputs": [
    {
     "name": "stdout",
     "output_type": "stream",
     "text": [
      "44%\n"
     ]
    }
   ],
   "source": [
    "print(CA_Renters)"
   ]
  },
  {
   "cell_type": "markdown",
   "metadata": {
    "collapsed": true
   },
   "source": [
    "### Exercise 6: Working with Numpy Arrays\n",
    "\n",
    "1. Create and print a 4 x 4 array named `a` with value 3 everywhere.\n",
    "\n",
    "1. Create and print a 4 x 4 array named `b` with elements drawn from a uniform random distribution \n",
    "\n",
    "1. Create and print array `c` by dividing a by b\n",
    "\n",
    "1. Compute and print the min, mean, max, median, and 90th percentile values of `c`\n",
    "\n",
    "1. Compute and print the sum of the second column in `c`"
   ]
  },
  {
   "cell_type": "code",
   "execution_count": 29,
   "metadata": {},
   "outputs": [],
   "source": [
    "import numpy as np"
   ]
  },
  {
   "cell_type": "code",
   "execution_count": 30,
   "metadata": {},
   "outputs": [
    {
     "data": {
      "text/plain": [
       "array([[3, 3, 3, 3],\n",
       "       [3, 3, 3, 3],\n",
       "       [3, 3, 3, 3],\n",
       "       [3, 3, 3, 3]])"
      ]
     },
     "execution_count": 30,
     "metadata": {},
     "output_type": "execute_result"
    }
   ],
   "source": [
    "list= [3,3,3,3]\n",
    "a=np.array([list, list, list, list])\n",
    "a"
   ]
  },
  {
   "cell_type": "code",
   "execution_count": 31,
   "metadata": {},
   "outputs": [
    {
     "data": {
      "text/plain": [
       "array([[ 80.60423761, 230.24682274, 158.12935481, 109.07052562],\n",
       "       [  3.4358661 ,  38.69716514,  38.40072787, 188.14100967],\n",
       "       [ 62.3830636 ,  21.85266708,  81.65232456, 178.30642167],\n",
       "       [ 72.04988667, 284.64420587, 154.31047559, 169.27486503]])"
      ]
     },
     "execution_count": 31,
     "metadata": {},
     "output_type": "execute_result"
    }
   ],
   "source": [
    "list_r1=np.random.uniform(low=0.0, high=300, size=4)\n",
    "list_r2=np.random.uniform(low=0.0, high=300, size=4)\n",
    "list_r3=np.random.uniform(low=0.0, high=300, size=4)\n",
    "list_r4=np.random.uniform(low=0.0, high=300, size=4)\n",
    "b=np.array([list_r1, list_r2, list_r3, list_r4])\n",
    "b"
   ]
  },
  {
   "cell_type": "code",
   "execution_count": 32,
   "metadata": {},
   "outputs": [
    {
     "data": {
      "text/plain": [
       "array([[0.03721889, 0.0130295 , 0.01897181, 0.02750514],\n",
       "       [0.87314229, 0.07752506, 0.07812352, 0.01594549],\n",
       "       [0.04808998, 0.13728301, 0.03674115, 0.01682497],\n",
       "       [0.04163782, 0.01053947, 0.01944132, 0.01772265]])"
      ]
     },
     "execution_count": 32,
     "metadata": {},
     "output_type": "execute_result"
    }
   ],
   "source": [
    "c=np.array([list/list_r1, list/list_r2, list/list_r3, list/list_r4])\n",
    "c"
   ]
  },
  {
   "cell_type": "code",
   "execution_count": 33,
   "metadata": {},
   "outputs": [
    {
     "data": {
      "text/plain": [
       "0.010539473272837073"
      ]
     },
     "execution_count": 33,
     "metadata": {},
     "output_type": "execute_result"
    }
   ],
   "source": [
    "np.min(c)"
   ]
  },
  {
   "cell_type": "code",
   "execution_count": 34,
   "metadata": {},
   "outputs": [
    {
     "data": {
      "text/plain": [
       "0.8731422914571837"
      ]
     },
     "execution_count": 34,
     "metadata": {},
     "output_type": "execute_result"
    }
   ],
   "source": [
    "np.max(c)"
   ]
  },
  {
   "cell_type": "code",
   "execution_count": 35,
   "metadata": {},
   "outputs": [
    {
     "data": {
      "text/plain": [
       "0.03212314278326278"
      ]
     },
     "execution_count": 35,
     "metadata": {},
     "output_type": "execute_result"
    }
   ],
   "source": [
    "np.median(c)"
   ]
  },
  {
   "cell_type": "code",
   "execution_count": 36,
   "metadata": {},
   "outputs": [
    {
     "data": {
      "text/plain": [
       "0.10770326655933055"
      ]
     },
     "execution_count": 36,
     "metadata": {},
     "output_type": "execute_result"
    }
   ],
   "source": [
    "np.percentile(c,90)"
   ]
  },
  {
   "cell_type": "code",
   "execution_count": 37,
   "metadata": {},
   "outputs": [
    {
     "data": {
      "text/plain": [
       "0.2383770416988347"
      ]
     },
     "execution_count": 37,
     "metadata": {},
     "output_type": "execute_result"
    }
   ],
   "source": [
    "float((list/list_r1)[1:2])+float((list/list_r2)[1:2])+float((list/list_r3)[1:2])+float((list/list_r4)[1:2])"
   ]
  },
  {
   "cell_type": "code",
   "execution_count": 38,
   "metadata": {},
   "outputs": [
    {
     "name": "stdout",
     "output_type": "stream",
     "text": [
      "Min 0.010539473272837073\n",
      "Max 0.8731422914571837\n",
      "Median 0.03212314278326278\n",
      "90th Percential 0.10770326655933055\n"
     ]
    }
   ],
   "source": [
    "print('Min', np.min(c))\n",
    "print('Max', np.max(c))\n",
    "print('Median', np.median(c))\n",
    "print('90th Percential', np.percentile(c,90))"
   ]
  },
  {
   "cell_type": "code",
   "execution_count": 41,
   "metadata": {},
   "outputs": [
    {
     "name": "stdout",
     "output_type": "stream",
     "text": [
      "hello there\n"
     ]
    }
   ],
   "source": [
    "print(\"hello there\")\n"
   ]
  },
  {
   "cell_type": "code",
   "execution_count": null,
   "metadata": {},
   "outputs": [],
   "source": []
  }
 ],
 "metadata": {
  "kernelspec": {
   "display_name": "Python 3 (ipykernel)",
   "language": "python",
   "name": "python3"
  },
  "language_info": {
   "codemirror_mode": {
    "name": "ipython",
    "version": 3
   },
   "file_extension": ".py",
   "mimetype": "text/x-python",
   "name": "python",
   "nbconvert_exporter": "python",
   "pygments_lexer": "ipython3",
   "version": "3.10.2"
  },
  "toc": {
   "base_numbering": 1,
   "nav_menu": {},
   "number_sections": true,
   "sideBar": true,
   "skip_h1_title": false,
   "title_cell": "Table of Contents",
   "title_sidebar": "Contents",
   "toc_cell": false,
   "toc_position": {},
   "toc_section_display": true,
   "toc_window_display": false
  }
 },
 "nbformat": 4,
 "nbformat_minor": 2
}
