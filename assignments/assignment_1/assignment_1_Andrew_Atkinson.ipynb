{
 "cells": [
  {
   "cell_type": "markdown",
   "metadata": {},
   "source": [
    "## Assignment 1 | Data Types\n",
    "\n",
    "Add code cells as needed for your answers. "
   ]
  },
  {
   "cell_type": "markdown",
   "metadata": {},
   "source": [
    "### Exercise 1: Manipulating Lists"
   ]
  },
  {
   "cell_type": "markdown",
   "metadata": {},
   "source": [
    "Create a list containing the numbers 10, 20, and 30. Store your list as a variable named `a`. Then create a second list containing the numbers 30, 60, and 90. Call this this `b`."
   ]
  },
  {
   "cell_type": "code",
   "execution_count": 2,
   "metadata": {},
   "outputs": [],
   "source": [
    "a=[10,20,30]\n",
    "b=[30,60,90]"
   ]
  },
  {
   "cell_type": "markdown",
   "metadata": {},
   "source": [
    "In the cells below, write Python expressions to create the following four outputs by combining `a` and `b` in creative ways:\n",
    "\n",
    "1. [[10, 20, 30], [30, 60, 90]]\n",
    "\n",
    "2. [10, 20, 30, 30, 60, 90]\n",
    "\n",
    "3. [10, 20, 60, 90]\n",
    "\n",
    "4. [20, 40, 60]"
   ]
  },
  {
   "cell_type": "code",
   "execution_count": 3,
   "metadata": {},
   "outputs": [
    {
     "data": {
      "text/plain": [
       "[[10, 20, 30], [30, 60, 90]]"
      ]
     },
     "execution_count": 3,
     "metadata": {},
     "output_type": "execute_result"
    }
   ],
   "source": [
    "[a,b]"
   ]
  },
  {
   "cell_type": "code",
   "execution_count": 4,
   "metadata": {},
   "outputs": [
    {
     "data": {
      "text/plain": [
       "[10, 20, 30, 30, 60, 90]"
      ]
     },
     "execution_count": 4,
     "metadata": {},
     "output_type": "execute_result"
    }
   ],
   "source": [
    "a+b"
   ]
  },
  {
   "cell_type": "code",
   "execution_count": 5,
   "metadata": {},
   "outputs": [
    {
     "data": {
      "text/plain": [
       "[10, 20, 60, 90]"
      ]
     },
     "execution_count": 5,
     "metadata": {},
     "output_type": "execute_result"
    }
   ],
   "source": [
    "a[:2]+b[1:]"
   ]
  },
  {
   "cell_type": "code",
   "execution_count": 15,
   "metadata": {},
   "outputs": [
    {
     "name": "stdout",
     "output_type": "stream",
     "text": [
      "[20, 40, 60]\n"
     ]
    }
   ],
   "source": [
    "z = (b-a for a, b in zip(a,b))\n",
    "\n",
    "#or\n",
    "\n",
    "try2=[b[0]-a[0],b[1]-a[1],b[2]-a[2]]\n",
    "print(try2)"
   ]
  },
  {
   "cell_type": "markdown",
   "metadata": {},
   "source": [
    "### Exercise 2. Working with Lists\n",
    "\n",
    "Create a list that contains the sums of each of the lists in G. \n",
    "\n",
    "`G = [[13, 9, 8], [14, 6, 12], [10, 13, 11], [7, 18, 9]]`\n",
    "\n",
    "Your output should look like:\n",
    "\n",
    "- `[30, 32, 34, 34]`\n",
    "\n",
    "Hint: try computing the sum for just one list first."
   ]
  },
  {
   "cell_type": "code",
   "execution_count": 26,
   "metadata": {},
   "outputs": [
    {
     "name": "stdout",
     "output_type": "stream",
     "text": [
      "[30, 32, 34, 34]\n"
     ]
    }
   ],
   "source": [
    "G=[[13, 9, 8], [14, 6, 12], [10, 13, 11], [7, 18, 9]]\n",
    "new_list=[sum(G[0]),sum(G[1]),sum(G[2]),sum(G[3])]\n",
    "print(new_list)"
   ]
  },
  {
   "cell_type": "markdown",
   "metadata": {},
   "source": [
    "### Exercise 3: String Manipulation\n",
    "\n",
    "Turn the string below into 'all good countrymen' using the minimum amount of code, using only the methods we've covered so far. A couple of lines of code should do the trick.  Note: this requires string and list methods."
   ]
  },
  {
   "cell_type": "code",
   "execution_count": 27,
   "metadata": {},
   "outputs": [],
   "source": [
    "s = 'Now is the time for all good men to come to the aid of their country!'"
   ]
  },
  {
   "cell_type": "code",
   "execution_count": 48,
   "metadata": {},
   "outputs": [
    {
     "name": "stdout",
     "output_type": "stream",
     "text": [
      "all good countrymen\n",
      "all good countrymen\n"
     ]
    }
   ],
   "source": [
    "i = s[20:28]+s[60:68]+s[29:32]\n",
    "print(i)\n",
    "\n",
    "#or\n",
    "\n",
    "strippy=s.strip('!')\n",
    "splitty=strippy.split()\n",
    "new=splitty[5]+\" \"+splitty[6]+\" \"+splitty[15]+splitty[7]\n",
    "print(new)"
   ]
  },
  {
   "cell_type": "markdown",
   "metadata": {},
   "source": [
    "### Exercise 4: String Manipulation and Type Conversion\n",
    "\n",
    "Define a variable `a = \"Sarah earns $96500 in a year\"`. Then maniuplate the value of `a` in order to print the following string: `Sarah earns $8041.67 monthly`\n",
    "\n",
    "Start by doing it in several steps and then combine them one step at a time until you can do it in one line."
   ]
  },
  {
   "cell_type": "code",
   "execution_count": 11,
   "metadata": {},
   "outputs": [
    {
     "name": "stdout",
     "output_type": "stream",
     "text": [
      "Sarah earns $8041.67 monthly\n",
      "Sarah earns $8041.67 monthly\n"
     ]
    }
   ],
   "source": [
    "#step by step\n",
    "\n",
    "a = 'Sarah earns $96500 in a year'\n",
    "\n",
    "#way 1\n",
    "b = a[:13]\n",
    "c = int(a[13:18])\n",
    "d = round((c/12),2)\n",
    "e = ' monthly'\n",
    "f = b+str(d)+e\n",
    "print(f)\n",
    "\n",
    "#one line\n",
    "\n",
    "g = a[:13]+str(round((int(a[13:18])/12),2))+' monthly'\n",
    "print(g)\n",
    "\n",
    "#another way\n",
    "\n",
    "##splitty=a.split()\n",
    "##stripyear=splitty[2].strip('$')\n",
    "##yearly=int(strippy)\n",
    "##monthly=str(round((yearly/12),2))\n",
    "##new=splitty[:2]+monthly\n",
    "##print(new)"
   ]
  },
  {
   "cell_type": "markdown",
   "metadata": {},
   "source": [
    "### Exercise 5: Create and Query a Dictionary on State Demographics\n",
    "\n",
    "Create two dictionaries, one for California and one for New York state, based on the data in the following table:\n",
    "\n",
    "| States | Pop Density | Prop White | Prop Afr Amer | Prop Asian | Prop Other | Owners | Renters |\n",
    "| --- | ---: | ---: | ---: | ---: | ---: | ---: | ---: |\n",
    "| CA | 239.1 | 0.57  | 0.06 | 0.13 | 0.22 | 7035371 | 5542127 |\n",
    "| NY | 411.2 | 0.65  | 0.15 | 0.07 | 0.22 | 3897837 | 3419918 |\n",
    "\n",
    "Each dictionary should have the following keys and value types: `name: (string)` , `population density: (float)`, `race (dict)`, `tenure: (dict)`. \n",
    "\n",
    "1.  Create one dictionary called CA and one called NY that contain dictionaries containing name, pop_density, race as a dictionary, and tenure for California and New York.  Now combine these into a dictionary called \"states\", making it a dictionary of dictionaries, or a nested dictionary.\n",
    "\n",
    "1.  Check if Texas is in our state dictionary (we know it isn't but show us).\n",
    "\n",
    "1. Print the White population in New York as a percentage\n",
    "\n",
    "1. Assume there was a typo in the data, and update the White population fraction of NY to 0.64. Verify that it was updated by printing the percentage again.\n",
    "\n",
    "1. Print the percentage of households that are renters in California, with two decimal places"
   ]
  },
  {
   "cell_type": "code",
   "execution_count": 21,
   "metadata": {},
   "outputs": [
    {
     "name": "stdout",
     "output_type": "stream",
     "text": [
      "1.\n",
      "{'CA': {'name': 'CA', 'pop density': 239.1, 'race': {'Prop White': 0.57, 'Prop Afr Amer': 0.06, 'Prop Asian': 0.13, 'Prop Other': 0.22}, 'tenure': {'Owners': 7035371, 'Renters': 5542127}}, 'NY': {'name': 'NY', 'pop densiry': 411.2, 'race': {'Prop White': 0.65, 'Prop Afr Amer': 0.15, 'Prop Asian': 0.07, 'Prop Other': 0.22}, 'tenure': {'Owners': 3897837, 'Renters': 3419918}}}\n",
      "\n",
      "2.\n",
      "dict_keys(['CA', 'NY'])\n",
      "                     ^ see no TX\n",
      "\n",
      "3.\n",
      "65%\n",
      "\n",
      "4.\n",
      "64%\n",
      "\n",
      "5.\n",
      "44.06%\n"
     ]
    }
   ],
   "source": [
    "#CaRace = {'Prop White':0.57,'Prop Afr Amer': .06,'Prop Asian':.13,'Prop Other':.22}\n",
    "#CaTenure = {'Owners':7035371,'Renters':5542127}\n",
    "CA = {'name' : 'CA','pop density': 239.1,\n",
    "      'race':{'Prop White':0.57,'Prop Afr Amer': .06,'Prop Asian':.13,'Prop Other':.22},\n",
    "     'tenure':{'Owners':7035371,'Renters':5542127}} \n",
    "NY = {'name':'NY','pop densiry':411.2,\n",
    "     'race':{'Prop White':0.65,'Prop Afr Amer': .15,'Prop Asian':.07,'Prop Other':.22},\n",
    "     'tenure':{'Owners':3897837,'Renters':3419918}}\n",
    "#print(CA)\n",
    "#print(NY)\n",
    "\n",
    "states = {'CA':CA,'NY':NY}\n",
    "print(\"1.\")\n",
    "print(states)\n",
    "print()\n",
    "print('2.')\n",
    "print(states.keys())\n",
    "print('                     ^ see no TX')\n",
    "print()\n",
    "print('3.')\n",
    "NYRace=NY['race']\n",
    "##print(NYRace['Prop White'])\n",
    "print(\"{:.0%}\".format(NYRace['Prop White']))\n",
    "print()\n",
    "print('4.')\n",
    "PWup = {'Prop White':0.64}\n",
    "NYRace.update(PWup)\n",
    "print(\"{:.0%}\".format(NYRace['Prop White']))\n",
    "print()\n",
    "print('5.')\n",
    "CAten = (CA['tenure'])\n",
    "print(\"{:.2%}\".format(round(CAten['Renters']/(CAten['Renters']+CAten['Owners']),4)))\n"
   ]
  },
  {
   "cell_type": "markdown",
   "metadata": {
    "collapsed": true
   },
   "source": [
    "### Exercise 6: Working with Numpy Arrays\n",
    "\n",
    "1. Create and print a 4 x 4 array named `a` with value 3 everywhere.\n",
    "\n",
    "1. Create and print a 4 x 4 array named `b` with elements drawn from a uniform random distribution \n",
    "\n",
    "1. Create and print array `c` by dividing a by b\n",
    "\n",
    "1. Compute and print the min, mean, max, median, and 90th percentile values of `c`\n",
    "\n",
    "1. Compute and print the sum of the second column in `c`"
   ]
  },
  {
   "cell_type": "code",
   "execution_count": 12,
   "metadata": {},
   "outputs": [
    {
     "name": "stdout",
     "output_type": "stream",
     "text": [
      "[[3 3 3 3]\n",
      " [3 3 3 3]\n",
      " [3 3 3 3]\n",
      " [3 3 3 3]]\n"
     ]
    }
   ],
   "source": [
    "import numpy\n",
    "a = numpy.array([[3,3,3,3], [3,3,3,3],[3,3,3,3],[3,3,3,3]])\n",
    "print(a)"
   ]
  },
  {
   "cell_type": "code",
   "execution_count": 13,
   "metadata": {},
   "outputs": [
    {
     "name": "stdout",
     "output_type": "stream",
     "text": [
      "[[0.18858103 0.71580353 0.02461958 0.11431178]\n",
      " [0.04044898 0.58812874 0.38811882 0.03452634]\n",
      " [0.24518453 0.66457798 0.37590861 0.10385236]\n",
      " [0.16576291 0.72603629 0.10845072 0.70912144]]\n"
     ]
    }
   ],
   "source": [
    "b = numpy.random.rand(4,4)\n",
    "print(b)"
   ]
  },
  {
   "cell_type": "code",
   "execution_count": 14,
   "metadata": {},
   "outputs": [
    {
     "name": "stdout",
     "output_type": "stream",
     "text": [
      "[[ 15.9082806    4.19109419 121.8542297   26.24401356]\n",
      " [ 74.16750919   5.10092399   7.72959165  86.89019321]\n",
      " [ 12.23568219   4.51414296   7.98066308  28.88716257]\n",
      " [ 18.09813778   4.13202483  27.66233341   4.23058706]]\n"
     ]
    }
   ],
   "source": [
    "c = a/b\n",
    "print(c)"
   ]
  },
  {
   "cell_type": "code",
   "execution_count": 15,
   "metadata": {},
   "outputs": [
    {
     "name": "stdout",
     "output_type": "stream",
     "text": [
      "4.132024834390761\n",
      "121.85422969586138\n",
      "14.071981396877348\n",
      "80.52885120081237\n"
     ]
    }
   ],
   "source": [
    "print(numpy.min(c))\n",
    "print(numpy.max(c))\n",
    "print(numpy.median(c))\n",
    "print(numpy.percentile(c,90))"
   ]
  },
  {
   "cell_type": "code",
   "execution_count": 20,
   "metadata": {},
   "outputs": [
    {
     "name": "stdout",
     "output_type": "stream",
     "text": [
      "17.93818597861698\n"
     ]
    }
   ],
   "source": [
    "s=numpy.sum(c,axis=0)\n",
    "print(s[1])"
   ]
  },
  {
   "cell_type": "code",
   "execution_count": null,
   "metadata": {},
   "outputs": [],
   "source": []
  }
 ],
 "metadata": {
  "kernelspec": {
   "display_name": "Python 3",
   "language": "python",
   "name": "python3"
  },
  "language_info": {
   "codemirror_mode": {
    "name": "ipython",
    "version": 3
   },
   "file_extension": ".py",
   "mimetype": "text/x-python",
   "name": "python",
   "nbconvert_exporter": "python",
   "pygments_lexer": "ipython3",
   "version": "3.8.8"
  },
  "toc": {
   "base_numbering": 1,
   "nav_menu": {},
   "number_sections": true,
   "sideBar": true,
   "skip_h1_title": false,
   "title_cell": "Table of Contents",
   "title_sidebar": "Contents",
   "toc_cell": false,
   "toc_position": {},
   "toc_section_display": true,
   "toc_window_display": false
  }
 },
 "nbformat": 4,
 "nbformat_minor": 2
}
